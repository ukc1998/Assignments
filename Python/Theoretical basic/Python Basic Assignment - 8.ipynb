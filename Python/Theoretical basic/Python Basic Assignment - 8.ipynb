{
 "cells": [
  {
   "cell_type": "markdown",
   "id": "d1369228",
   "metadata": {},
   "source": [
    "# Python Basic Assignment - 15"
   ]
  },
  {
   "cell_type": "markdown",
   "id": "4f34b4ec",
   "metadata": {},
   "source": []
  },
  {
   "cell_type": "markdown",
   "id": "31e81368",
   "metadata": {},
   "source": []
  },
  {
   "cell_type": "markdown",
   "id": "efb22eb0",
   "metadata": {},
   "source": [
    "### Question1.\n",
    "How many seconds are in an hour? Use the interactive interpreter as a calculator and multiply the number of seconds in a minute (60) by the number of minutes in an hour (also 60).\n",
    "\n",
    "sol. 60\n",
    "\n",
    "Answer:\n"
   ]
  },
  {
   "cell_type": "code",
   "execution_count": 1,
   "id": "1518527c",
   "metadata": {},
   "outputs": [
    {
     "data": {
      "text/plain": [
       "3600"
      ]
     },
     "execution_count": 1,
     "metadata": {},
     "output_type": "execute_result"
    }
   ],
   "source": [
    "Minutes_Per_Hour = 60\n",
    "Seconds_Per_Minute = 60\n",
    "\n",
    "Minutes_Per_Hour * Seconds_Per_Minute"
   ]
  },
  {
   "cell_type": "markdown",
   "id": "0458ead4",
   "metadata": {},
   "source": []
  },
  {
   "cell_type": "markdown",
   "id": "a17ebc67",
   "metadata": {},
   "source": []
  },
  {
   "cell_type": "markdown",
   "id": "52773bcb",
   "metadata": {},
   "source": [
    "### Question2.\n",
    "Assign the result from the previous task (seconds in an hour) to a variable called seconds_per_hour.\n",
    "\n",
    "Answer:\n"
   ]
  },
  {
   "cell_type": "code",
   "execution_count": 2,
   "id": "080e32ff",
   "metadata": {},
   "outputs": [],
   "source": [
    "Seconds_Per_Hour = 3600"
   ]
  },
  {
   "cell_type": "markdown",
   "id": "d4586d29",
   "metadata": {},
   "source": []
  },
  {
   "cell_type": "markdown",
   "id": "8b8ffe0d",
   "metadata": {},
   "source": []
  },
  {
   "cell_type": "markdown",
   "id": "d4a09a16",
   "metadata": {},
   "source": [
    "### Question3.\n",
    "How many seconds do you think there are in a day? Make use of the variables seconds per hour and minutes per hour.\n",
    "\n",
    "Answer:\n"
   ]
  },
  {
   "cell_type": "code",
   "execution_count": 3,
   "id": "771e7ad6",
   "metadata": {},
   "outputs": [
    {
     "data": {
      "text/plain": [
       "86400"
      ]
     },
     "execution_count": 3,
     "metadata": {},
     "output_type": "execute_result"
    }
   ],
   "source": [
    "Hours_Per_Day = 24\n",
    "\n",
    "Seconds_Per_Hour * Hours_Per_Day"
   ]
  },
  {
   "cell_type": "markdown",
   "id": "0c47e9e9",
   "metadata": {},
   "source": []
  },
  {
   "cell_type": "markdown",
   "id": "38f7c9c1",
   "metadata": {},
   "source": []
  },
  {
   "cell_type": "markdown",
   "id": "6277c521",
   "metadata": {},
   "source": [
    "### Question4.\n",
    "Calculate seconds per day again, but this time save the result in a variable called seconds_per_day\n",
    "\n",
    "Answer:\n"
   ]
  },
  {
   "cell_type": "code",
   "execution_count": 4,
   "id": "7188db50",
   "metadata": {},
   "outputs": [
    {
     "data": {
      "text/plain": [
       "86400"
      ]
     },
     "execution_count": 4,
     "metadata": {},
     "output_type": "execute_result"
    }
   ],
   "source": [
    "Hours_Per_Day = 24\n",
    "\n",
    "Seconds_Per_Day = Seconds_Per_Hour * Hours_Per_Day\n",
    "Seconds_Per_Day"
   ]
  },
  {
   "cell_type": "markdown",
   "id": "4f7cc204",
   "metadata": {},
   "source": []
  },
  {
   "cell_type": "markdown",
   "id": "70624983",
   "metadata": {},
   "source": []
  },
  {
   "cell_type": "markdown",
   "id": "e7e8f46f",
   "metadata": {},
   "source": [
    "### Question5.\n",
    "Divide seconds_per_day by seconds_per_hour. Use floating-point (/) division.\n",
    "\n",
    "Answer:\n"
   ]
  },
  {
   "cell_type": "code",
   "execution_count": 5,
   "id": "53db5f1d",
   "metadata": {},
   "outputs": [
    {
     "data": {
      "text/plain": [
       "24.0"
      ]
     },
     "execution_count": 5,
     "metadata": {},
     "output_type": "execute_result"
    }
   ],
   "source": [
    "Seconds_Per_Day/Seconds_Per_Hour"
   ]
  },
  {
   "cell_type": "markdown",
   "id": "e8b14aa1",
   "metadata": {},
   "source": []
  },
  {
   "cell_type": "markdown",
   "id": "454112a6",
   "metadata": {},
   "source": []
  },
  {
   "cell_type": "markdown",
   "id": "3e7533cb",
   "metadata": {},
   "source": [
    "### Question6.\n",
    "Divide seconds_per_day by seconds_per_hour, using integer (//) division. Did this number agree with the floating-point value from the previous question, aside from the final .0?\n",
    "\n",
    "Answer:\n"
   ]
  },
  {
   "cell_type": "code",
   "execution_count": 6,
   "id": "7478b9f7",
   "metadata": {},
   "outputs": [
    {
     "data": {
      "text/plain": [
       "24"
      ]
     },
     "execution_count": 6,
     "metadata": {},
     "output_type": "execute_result"
    }
   ],
   "source": [
    "Seconds_Per_Day//Seconds_Per_Hour"
   ]
  },
  {
   "cell_type": "markdown",
   "id": "58858720",
   "metadata": {},
   "source": [
    "Yes, the number in the above result agreed with the floating-point value from the previous question, aside from the final .0"
   ]
  },
  {
   "cell_type": "markdown",
   "id": "4fdd7202",
   "metadata": {},
   "source": []
  },
  {
   "cell_type": "markdown",
   "id": "ecb08ac5",
   "metadata": {},
   "source": []
  },
  {
   "cell_type": "markdown",
   "id": "9ddccafc",
   "metadata": {},
   "source": [
    "### Question7.\n",
    "Write a generator, genPrimes, that returns the sequence of prime numbers on successive calls to\n",
    "its next() method: 2, 3, 5, 7, 11, ...\n",
    "\n",
    "Answer:\n"
   ]
  },
  {
   "cell_type": "code",
   "execution_count": 7,
   "id": "9085d640",
   "metadata": {},
   "outputs": [],
   "source": [
    "def genPrimes():\n",
    "    \n",
    "    \"\"\"\n",
    "    It is a function that returns the sequence of prime numbers on successive calls to its next() method.\n",
    "    \"\"\"\n",
    "    \n",
    "    Sequence_Of_Prime_Numbers = []\n",
    "    n = 2\n",
    "    Last_Number_Checked = n\n",
    "\n",
    "    while True:\n",
    "        for i in Sequence_Of_Prime_Numbers:\n",
    "            if n % i == 0:\n",
    "                n = n + 1\n",
    "                break\n",
    "\n",
    "        else:\n",
    "            Sequence_Of_Prime_Numbers.append(n)\n",
    "            Last_Number_Checked = n\n",
    "            n = n + 1\n",
    "            yield Sequence_Of_Prime_Numbers\n",
    "            \n",
    "p = genPrimes()"
   ]
  },
  {
   "cell_type": "markdown",
   "id": "db3c8f9b",
   "metadata": {},
   "source": [
    "#### Crosscheck by running the program and calling the function by next() method:"
   ]
  },
  {
   "cell_type": "code",
   "execution_count": 8,
   "id": "282e12c7",
   "metadata": {},
   "outputs": [
    {
     "data": {
      "text/plain": [
       "[2]"
      ]
     },
     "execution_count": 8,
     "metadata": {},
     "output_type": "execute_result"
    }
   ],
   "source": [
    "next(p)"
   ]
  },
  {
   "cell_type": "code",
   "execution_count": 9,
   "id": "6b6b4ff8",
   "metadata": {},
   "outputs": [
    {
     "data": {
      "text/plain": [
       "[2, 3]"
      ]
     },
     "execution_count": 9,
     "metadata": {},
     "output_type": "execute_result"
    }
   ],
   "source": [
    "next(p)"
   ]
  },
  {
   "cell_type": "code",
   "execution_count": 10,
   "id": "554841a9",
   "metadata": {},
   "outputs": [
    {
     "data": {
      "text/plain": [
       "[2, 3, 5]"
      ]
     },
     "execution_count": 10,
     "metadata": {},
     "output_type": "execute_result"
    }
   ],
   "source": [
    "next(p)"
   ]
  },
  {
   "cell_type": "code",
   "execution_count": 11,
   "id": "fa2a3b69",
   "metadata": {},
   "outputs": [
    {
     "data": {
      "text/plain": [
       "[2, 3, 5, 7]"
      ]
     },
     "execution_count": 11,
     "metadata": {},
     "output_type": "execute_result"
    }
   ],
   "source": [
    "next(p)"
   ]
  },
  {
   "cell_type": "code",
   "execution_count": 12,
   "id": "3bc07782",
   "metadata": {},
   "outputs": [
    {
     "data": {
      "text/plain": [
       "[2, 3, 5, 7, 11]"
      ]
     },
     "execution_count": 12,
     "metadata": {},
     "output_type": "execute_result"
    }
   ],
   "source": [
    "next(p)"
   ]
  }
 ],
 "metadata": {
  "kernelspec": {
   "display_name": "Python 3 (ipykernel)",
   "language": "python",
   "name": "python3"
  },
  "language_info": {
   "codemirror_mode": {
    "name": "ipython",
    "version": 3
   },
   "file_extension": ".py",
   "mimetype": "text/x-python",
   "name": "python",
   "nbconvert_exporter": "python",
   "pygments_lexer": "ipython3",
   "version": "3.9.7"
  }
 },
 "nbformat": 4,
 "nbformat_minor": 5
}
