{
 "cells": [
  {
   "cell_type": "markdown",
   "id": "fa7799f9",
   "metadata": {},
   "source": [
    "# Python Basic Assignment - 2"
   ]
  },
  {
   "cell_type": "markdown",
   "id": "e14c25f6",
   "metadata": {},
   "source": []
  },
  {
   "cell_type": "markdown",
   "id": "bbecf384",
   "metadata": {},
   "source": []
  },
  {
   "cell_type": "markdown",
   "id": "a2004328",
   "metadata": {},
   "source": [
    "### Question1.\n",
    "What are the two values of the Boolean data type? How do you write them?\n",
    "\n",
    "Answer:\n",
    "\n",
    "The two values of the Boolean data type are True and False. We write True by using T in uppercase and the rest in lowercase. Similarly, we write False by using F in uppercase and the rest in lowercase. "
   ]
  },
  {
   "cell_type": "markdown",
   "id": "b30ae32a",
   "metadata": {},
   "source": []
  },
  {
   "cell_type": "markdown",
   "id": "958dd030",
   "metadata": {},
   "source": []
  },
  {
   "cell_type": "markdown",
   "id": "7b3e758d",
   "metadata": {},
   "source": [
    "### Question2.\n",
    "What are the three different types of Boolean operators?\n",
    "\n",
    "Answer:\n",
    "\n",
    "The three different types of Boolean operators are as follows:\n",
    "<br>\n",
    "a) and\n",
    "<br>\n",
    "b) or\n",
    "<br>\n",
    "c) not"
   ]
  },
  {
   "cell_type": "markdown",
   "id": "31113a2b",
   "metadata": {},
   "source": []
  },
  {
   "cell_type": "markdown",
   "id": "0ac1254f",
   "metadata": {},
   "source": []
  },
  {
   "cell_type": "code",
   "execution_count": null,
   "id": "4edae11d",
   "metadata": {},
   "outputs": [],
   "source": [
    "### Question 3.\n",
    "Make a list of each Boolean operator's truth tables \n",
    "(i.e. every possible combination of Boolean values for the operator and what it evaluate ).\n",
    "\n",
    "Answer:\n",
    "\n",
    "    (Boolean_values)        Operator               Evaluated_result\n",
    "      x       y \n",
    "    \n",
    "    \n",
    "    True    True              and                        True\n",
    "    True    False             and                        False\n",
    "    False   True              and                        False\n",
    "    False   False             and                        False\n",
    "  \n",
    "    True    True              or                         True\n",
    "    True    False             or                         True\n",
    "    False   True              or                         True\n",
    "    False   False             or                         False\n"
   ]
  },
  {
   "cell_type": "markdown",
   "id": "66d6cb36",
   "metadata": {},
   "source": [
    "For not Boolean operator:\n",
    "\n",
    "not True is False\n",
    "<br>\n",
    "not False is true"
   ]
  },
  {
   "cell_type": "markdown",
   "id": "18274887",
   "metadata": {},
   "source": []
  },
  {
   "cell_type": "markdown",
   "id": "1f885214",
   "metadata": {},
   "source": []
  },
  {
   "cell_type": "markdown",
   "id": "8674e737",
   "metadata": {},
   "source": [
    "### Question4.\n",
    "What are the values of the following expressions?\n",
    "<br>\n",
    "a.) (5 > 4) and (3 == 5)\n",
    "<br>\n",
    "b.) not (5 > 4)\n",
    "<br>\n",
    "c.) (5 > 4) or (3 == 5)\n",
    "<br>\n",
    "d.) not ((5 > 4) or (3 == 5))\n",
    "<br>\n",
    "e.) (True and True) and (True == False)\n",
    "<br>\n",
    "f.) (not False) or (not True)\n",
    "\n",
    "Answer:\n",
    "\n",
    "a.) False\n",
    "<br>\n",
    "b.) False\n",
    "<br>\n",
    "c.) True\n",
    "<br>\n",
    "d.) False\n",
    "<br>\n",
    "e.) False\n",
    "<br>\n",
    "f.) True\n",
    "<br>\n",
    "\n",
    "Explaination:\n",
    "\n",
    "Since,\n",
    "<br>\n",
    "(5 > 4) is True\n",
    "<br>\n",
    "(3 == 5) is False\n",
    "<br>\n",
    "(True == False) is False\n",
    "\n",
    "therefore,\n",
    "\n",
    "a.) True and False is False\n",
    "<br>\n",
    "b.) not True is False\n",
    "<br>\n",
    "c.) True or False is True\n",
    "<br>\n",
    "d.) not (True or False) is not True i.e. False\n",
    "<br>\n",
    "e.) True and False is False\n",
    "<br>\n",
    "f.) True or False is True\n",
    "\n",
    "Crosscheck by running the code:\n"
   ]
  },
  {
   "cell_type": "code",
   "execution_count": 1,
   "id": "4169bc51",
   "metadata": {},
   "outputs": [
    {
     "data": {
      "text/plain": [
       "False"
      ]
     },
     "execution_count": 1,
     "metadata": {},
     "output_type": "execute_result"
    }
   ],
   "source": [
    "(5 > 4) and (3 == 5)"
   ]
  },
  {
   "cell_type": "code",
   "execution_count": 2,
   "id": "a35c4e2f",
   "metadata": {},
   "outputs": [
    {
     "data": {
      "text/plain": [
       "False"
      ]
     },
     "execution_count": 2,
     "metadata": {},
     "output_type": "execute_result"
    }
   ],
   "source": [
    "not (5 > 4)"
   ]
  },
  {
   "cell_type": "code",
   "execution_count": 3,
   "id": "cd74dc7d",
   "metadata": {},
   "outputs": [
    {
     "data": {
      "text/plain": [
       "True"
      ]
     },
     "execution_count": 3,
     "metadata": {},
     "output_type": "execute_result"
    }
   ],
   "source": [
    "(5 > 4) or (3 == 5)"
   ]
  },
  {
   "cell_type": "code",
   "execution_count": 4,
   "id": "86568726",
   "metadata": {},
   "outputs": [
    {
     "data": {
      "text/plain": [
       "False"
      ]
     },
     "execution_count": 4,
     "metadata": {},
     "output_type": "execute_result"
    }
   ],
   "source": [
    "not ((5 > 4) or (3 == 5))"
   ]
  },
  {
   "cell_type": "code",
   "execution_count": 5,
   "id": "aaf314f1",
   "metadata": {},
   "outputs": [
    {
     "data": {
      "text/plain": [
       "False"
      ]
     },
     "execution_count": 5,
     "metadata": {},
     "output_type": "execute_result"
    }
   ],
   "source": [
    "(True and True) and (True == False)"
   ]
  },
  {
   "cell_type": "code",
   "execution_count": 6,
   "id": "6e4189bc",
   "metadata": {},
   "outputs": [
    {
     "data": {
      "text/plain": [
       "True"
      ]
     },
     "execution_count": 6,
     "metadata": {},
     "output_type": "execute_result"
    }
   ],
   "source": [
    "(not False) or (not True)"
   ]
  },
  {
   "cell_type": "markdown",
   "id": "2bedf3c5",
   "metadata": {},
   "source": []
  },
  {
   "cell_type": "markdown",
   "id": "39a8ab7c",
   "metadata": {},
   "source": []
  },
  {
   "cell_type": "markdown",
   "id": "99f33cc2",
   "metadata": {},
   "source": [
    "### Question5.\n",
    "What are the six comparison operators?\n",
    "\n",
    "Answer:\n",
    "\n",
    "a) <  (less than)\n",
    "<br>\n",
    "b) <= (less than or equal to)\n",
    "<br>\n",
    "c) == (equal to)\n",
    "<br>\n",
    "d) >  (greater than)\n",
    "<br>\n",
    "e) >= (greater than or equal to)\n",
    "<br>\n",
    "f) != (not equal to)"
   ]
  },
  {
   "cell_type": "markdown",
   "id": "c05ed389",
   "metadata": {},
   "source": []
  },
  {
   "cell_type": "markdown",
   "id": "719daef9",
   "metadata": {},
   "source": []
  },
  {
   "cell_type": "markdown",
   "id": "28db7d7e",
   "metadata": {},
   "source": [
    "### Question6.\n",
    "How do you tell the difference between the equal to and assignment operators? Describe a condition and when you would use one.\n",
    "\n",
    "Answer:\n",
    "\n",
    "== is the equal to operator that compares two values and checks whether the two given values are equal or not and then evaluates to a Boolean value. If the compared values are equal, it returns True. Otherwise it returns False. On the other hand, = is the assignment operator that assigns a value to a variable.\n",
    "\n",
    "The use of both, the equal to operator and the assignment operator, can be seen in control flow statements."
   ]
  },
  {
   "cell_type": "markdown",
   "id": "09ab7e9f",
   "metadata": {},
   "source": []
  },
  {
   "cell_type": "markdown",
   "id": "385ac5ba",
   "metadata": {},
   "source": []
  },
  {
   "cell_type": "code",
   "execution_count": null,
   "id": "1e6a174d",
   "metadata": {},
   "outputs": [],
   "source": [
    "### Question7.\n",
    "Identify the three blocks in this code:\n",
    "\n",
    "spam = 0\n",
    "if spam == 10:\n",
    "    print('eggs')\n",
    "    if spam > 5:\n",
    "        print('bacon')\n",
    "    else:\n",
    "        print('ham')\n",
    "    print('spam')\n",
    "print('spam')\n",
    "\n",
    "\n",
    "\n",
    "\n",
    "Answer:\n",
    "\n",
    "The three blocks are everything inside the if statement and the lines print('bacon') and print('ham'), i.e. \n",
    "\n",
    "print('eggs')\n",
    "if spam > 5:\n",
    "    print('bacon')\n",
    "else:\n",
    "    print('ham')\n",
    "print('spam')\n",
    "\n",
    "\n",
    "\n",
    "Explaination:\n",
    "\n",
    "There are 3 rules for blocks of code:\n",
    "1. Blocks begin when indentation starts.\n",
    "2. Blocks can contain other blocks.\n",
    "3. Blocks end when indentation decreases to zero or to a container block’s indentation.\n",
    "\n",
    "\n",
    "spam = 0\n",
    "if spam == 10:\n",
    "    print('eggs')                                     # indent increased, block-1\n",
    "    if spam > 5:                                      # still block-1\n",
    "        print('bacon')                                # still block-1, indent increased, block-2 inside block-1\n",
    "    else:                                             # still block-1, indent decreased, block-2 ended in line above\n",
    "        print('ham')                                  # still block-1, indent increased, block-3 inside block-1\n",
    "    print('spam')                                     # still block-1, indent decreased, block-3 ended in line above\n",
    "print('spam')                                         # indent decreased, block-1 ended in line above\n"
   ]
  },
  {
   "cell_type": "markdown",
   "id": "eb59d726",
   "metadata": {},
   "source": []
  },
  {
   "cell_type": "markdown",
   "id": "25b11031",
   "metadata": {},
   "source": []
  },
  {
   "cell_type": "markdown",
   "id": "28e0ab9e",
   "metadata": {},
   "source": [
    "### Question8.\n",
    "Write code that prints Hello if 1 is stored in spam, prints Howdy if 2 is stored in spam, and prints Greetings! if anything else is stored in spam.\n",
    "\n",
    "Answer:\n"
   ]
  },
  {
   "cell_type": "markdown",
   "id": "87b1abc3",
   "metadata": {},
   "source": []
  },
  {
   "cell_type": "markdown",
   "id": "e34ddbb9",
   "metadata": {},
   "source": []
  },
  {
   "cell_type": "code",
   "execution_count": 7,
   "id": "507de8c6",
   "metadata": {},
   "outputs": [
    {
     "name": "stdout",
     "output_type": "stream",
     "text": [
      "Input any integer\n",
      "2\n",
      "Howdy\n"
     ]
    }
   ],
   "source": [
    "spam=int(input(\"Input any integer: \"))\n",
    "if spam == 1:\n",
    "    print('Hello')\n",
    "elif spam == 2:\n",
    "     print('Howdy')\n",
    "else:\n",
    "     print('Greetings!')"
   ]
  },
  {
   "cell_type": "markdown",
   "id": "da0c211a",
   "metadata": {},
   "source": [
    "### Question9.\n",
    "If your programme is stuck in an endless loop, what keys you’ll press?\n",
    "\n",
    "Answer:\n",
    "\n",
    "If our program is stuck in an endless loop, we press CTRL-C to stop or interrupt the program."
   ]
  },
  {
   "cell_type": "markdown",
   "id": "74cb4caf",
   "metadata": {},
   "source": []
  },
  {
   "cell_type": "markdown",
   "id": "766b503a",
   "metadata": {},
   "source": []
  },
  {
   "cell_type": "markdown",
   "id": "4599a0ad",
   "metadata": {},
   "source": [
    "### Question10.\n",
    "How can you tell the difference between break and continue?\n",
    "\n",
    "Answer:\n",
    "\n",
    "The break statement moves the execution outside and ends the execution to the end of the loop, whereas the continue statement moves the execution to the start of the loop."
   ]
  },
  {
   "cell_type": "markdown",
   "id": "ce310086",
   "metadata": {},
   "source": []
  },
  {
   "cell_type": "markdown",
   "id": "9470ea70",
   "metadata": {},
   "source": []
  },
  {
   "cell_type": "markdown",
   "id": "0e2b59a3",
   "metadata": {},
   "source": [
    "### Question11.\n",
    "In a for loop, what is the difference between range(10), range(0, 10), and range(0, 10, 1)?\n",
    "\n",
    "Answer:\n",
    "\n",
    "They all return the same output. They return an object that produces a sequence of integers from 0 (lowerbound/start (inclusive)) to 10 (upperbound/stop (exclusive)) with step/jump size of +1. The only differences between them are as follows:\n",
    "\n",
    "range(10)       -  Upperbound is explicitly mentioned, but lowerbound=0 and step size = +1 by default.\n",
    "<br>\n",
    "range(0, 10)    -  Both lowerbound and upperbound are clearly mentioned, but step size = +1 by default.\n",
    "<br>\n",
    "range(0, 10, 1) -  Lowerbound, upperbound, and step size are explicitly mentioned."
   ]
  },
  {
   "cell_type": "markdown",
   "id": "844eeae9",
   "metadata": {},
   "source": []
  },
  {
   "cell_type": "markdown",
   "id": "8418fe5f",
   "metadata": {},
   "source": []
  },
  {
   "cell_type": "markdown",
   "id": "23536fb2",
   "metadata": {},
   "source": [
    "### Question12.\n",
    "Write a short program that prints the numbers 1 to 10 using a for loop. Then write an equivalent program that prints the numbers 1 to 10 using a while loop.\n",
    "\n",
    "Answer:\n"
   ]
  },
  {
   "cell_type": "markdown",
   "id": "10fbb464",
   "metadata": {},
   "source": [
    "Using for loop:"
   ]
  },
  {
   "cell_type": "code",
   "execution_count": 8,
   "id": "e253f8ae",
   "metadata": {},
   "outputs": [
    {
     "name": "stdout",
     "output_type": "stream",
     "text": [
      "1\n",
      "2\n",
      "3\n",
      "4\n",
      "5\n",
      "6\n",
      "7\n",
      "8\n",
      "9\n",
      "10\n"
     ]
    }
   ],
   "source": [
    "for i in range(1,11):\n",
    "    print(i)"
   ]
  },
  {
   "cell_type": "markdown",
   "id": "a7a8f1ff",
   "metadata": {},
   "source": [
    "Using while loop:"
   ]
  },
  {
   "cell_type": "code",
   "execution_count": 9,
   "id": "23e68558",
   "metadata": {},
   "outputs": [
    {
     "name": "stdout",
     "output_type": "stream",
     "text": [
      "1\n",
      "2\n",
      "3\n",
      "4\n",
      "5\n",
      "6\n",
      "7\n",
      "8\n",
      "9\n",
      "10\n"
     ]
    }
   ],
   "source": [
    "i=1\n",
    "while i<11:\n",
    "    print(i)\n",
    "    i=i+1"
   ]
  },
  {
   "cell_type": "markdown",
   "id": "f3c19390",
   "metadata": {},
   "source": []
  },
  {
   "cell_type": "markdown",
   "id": "e53a7d21",
   "metadata": {},
   "source": []
  },
  {
   "cell_type": "markdown",
   "id": "55e4ab35",
   "metadata": {},
   "source": [
    "### Question13.\n",
    "If you had a function named bacon() inside a module named spam, how would you call it after importing spam?\n",
    "\n",
    "Answer:\n",
    "\n",
    "This function could be called with spam.bacon()"
   ]
  }
 ],
 "metadata": {
  "kernelspec": {
   "display_name": "Python 3 (ipykernel)",
   "language": "python",
   "name": "python3"
  },
  "language_info": {
   "codemirror_mode": {
    "name": "ipython",
    "version": 3
   },
   "file_extension": ".py",
   "mimetype": "text/x-python",
   "name": "python",
   "nbconvert_exporter": "python",
   "pygments_lexer": "ipython3",
   "version": "3.9.7"
  }
 },
 "nbformat": 4,
 "nbformat_minor": 5
}
