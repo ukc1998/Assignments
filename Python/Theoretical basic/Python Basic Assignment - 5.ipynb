{
 "cells": [
  {
   "cell_type": "markdown",
   "id": "c72fbcb3",
   "metadata": {},
   "source": [
    "# Python Basic Assignment - 12"
   ]
  },
  {
   "cell_type": "markdown",
   "id": "9f553c81",
   "metadata": {},
   "source": []
  },
  {
   "cell_type": "markdown",
   "id": "a74d7540",
   "metadata": {},
   "source": []
  },
  {
   "cell_type": "markdown",
   "id": "4e15c20d",
   "metadata": {},
   "source": [
    "### Question 1. In what modes should the PdfFileReader() and PdfFileWriter() File objects will be opened?\n",
    "\n",
    "### Answer:\n",
    "\n"
   ]
  },
  {
   "cell_type": "markdown",
   "id": "0431f608",
   "metadata": {},
   "source": [
    "For `PdfFileReader()`, file objects should be opened in `rb` i.e. read binary mode; whereas for `PdfFileWriter()`, file objects should be opened in `wb` i.e. write binary mode."
   ]
  },
  {
   "cell_type": "markdown",
   "id": "09f2be21",
   "metadata": {},
   "source": []
  },
  {
   "cell_type": "markdown",
   "id": "11481029",
   "metadata": {},
   "source": []
  },
  {
   "cell_type": "markdown",
   "id": "0f5e64b3",
   "metadata": {},
   "source": [
    "### Question 2. From a PdfFileReader object, how do you get a Page object for page 5?\n",
    "\n",
    "### Answer:\n",
    "\n"
   ]
  },
  {
   "cell_type": "markdown",
   "id": "eec9fd86",
   "metadata": {},
   "source": [
    "`PdfFileReader` class provides a method called `getPage(page_no)` to get a page object."
   ]
  },
  {
   "cell_type": "code",
   "execution_count": null,
   "id": "2f5e9d08",
   "metadata": {},
   "outputs": [],
   "source": [
    "# Example Code:\n",
    "from PyPDF2 import PdfFileReader\n",
    "pdf_reader = PdfFileReader(file_path)\n",
    "for page in pdf_reader.getNumPages():\n",
    "    pdf_reader.getPage(page_no) # put page_no = 5 to get a Page object for page 5"
   ]
  },
  {
   "cell_type": "markdown",
   "id": "5aadcd7b",
   "metadata": {},
   "source": []
  },
  {
   "cell_type": "markdown",
   "id": "663ebc42",
   "metadata": {},
   "source": []
  },
  {
   "cell_type": "markdown",
   "id": "67eeb9e4",
   "metadata": {},
   "source": [
    "### Question 3. What PdfFileReader variable stores the number of pages in the PDF document?\n",
    "\n",
    "### Answer:\n",
    "\n"
   ]
  },
  {
   "cell_type": "markdown",
   "id": "dc422715",
   "metadata": {},
   "source": [
    "`getNumPages()` method of `PdfFileReader` class stores the number of pages in a PDF document."
   ]
  },
  {
   "cell_type": "code",
   "execution_count": null,
   "id": "8930b0f3",
   "metadata": {},
   "outputs": [],
   "source": [
    "#Example Code:\n",
    "from PyPDF2 import PdfFileReader\n",
    "pdf_reader = PdfFileReader(file_path)\n",
    "print(pdf_reader.getNumPages()) # Prints the number of pages in an input PDF document"
   ]
  },
  {
   "cell_type": "markdown",
   "id": "ce28215b",
   "metadata": {},
   "source": []
  },
  {
   "cell_type": "markdown",
   "id": "04434195",
   "metadata": {},
   "source": []
  },
  {
   "cell_type": "markdown",
   "id": "9a561d17",
   "metadata": {},
   "source": [
    "### Question 4. If a PdfFileReader object’s PDF is encrypted with the password swordfish, what must you do before you can obtain Page objects from it?\n",
    "\n",
    "### Answer:\n",
    "\n"
   ]
  },
  {
   "cell_type": "markdown",
   "id": "722c752d",
   "metadata": {},
   "source": [
    "If a `PdfFileReader` object’s PDF is encrypted with the password `swordfish` and we're not aware of it, then at first we should read the Pdf using the `PdfFileReader` Class. `PdfFileReader` class provides a attribute called `isEncrypted` to check whether a pdf is encrypted or not. The method returns `True` if a pdf is encrypted and `False` if the PDF file is not encrypted.\n",
    "\n",
    "If pdf is encrypted, we use the `decrypt()` method provided by `PdfFileReader` class first and then try to read the contents/pages of the pdf, otherwise `PyPDF2` will raise the following error:\n",
    "\n",
    "`PyPDF2.utils.PdfReadError: file has not been decrypted`"
   ]
  },
  {
   "cell_type": "code",
   "execution_count": null,
   "id": "b6a14706",
   "metadata": {},
   "outputs": [],
   "source": [
    "#Example Code:\n",
    "from PyPDF2 import PdfFileReader\n",
    "pdf_reader = PdfFileReader(file_path)\n",
    "if pdf_reader.isEncrypted: # to check whether the pdf is encrypted or not\n",
    "    pdf_reader.decrypt(\"swordfish\") \n",
    "for page in pdf_reader.pages:\n",
    "    print(page.extractText()) # to print the text data of a page from pdf"
   ]
  },
  {
   "cell_type": "markdown",
   "id": "0e43a1ad",
   "metadata": {},
   "source": []
  },
  {
   "cell_type": "markdown",
   "id": "7fe833d6",
   "metadata": {},
   "source": []
  },
  {
   "cell_type": "markdown",
   "id": "494f3567",
   "metadata": {},
   "source": [
    "### Question 5. What methods do you use to rotate a page?\n",
    "\n",
    "### Answer:\n",
    "\n"
   ]
  },
  {
   "cell_type": "markdown",
   "id": "0cf28624",
   "metadata": {},
   "source": [
    "`PyPDF2` Package provides 2 methods to rotate a page:\n",
    "\n",
    "**1. `rotateClockWise()`** -> *For Clockwise rotation*\n",
    "<br>\n",
    "**2. `rotateCounterClockWise()`** -> *For Counter Clockwise rotation*\n",
    "\n",
    "The `PyPDF2` package only allows to rotate a page in increments of 90 degrees, otherwise we receive an AssertionError."
   ]
  },
  {
   "cell_type": "markdown",
   "id": "0baad027",
   "metadata": {},
   "source": []
  },
  {
   "cell_type": "markdown",
   "id": "3a9f0c28",
   "metadata": {},
   "source": []
  },
  {
   "cell_type": "markdown",
   "id": "6a247851",
   "metadata": {},
   "source": [
    "### Question . What is the difference between a Run object and a Paragraph object?\n",
    "\n",
    "### Answer:\n",
    "\n"
   ]
  },
  {
   "cell_type": "markdown",
   "id": "d3e9136a",
   "metadata": {},
   "source": [
    "The structure of a document is represented by three different data types in `python-Docx`. At the highest level, a `Document` object represents the entire document. The `Document` object contains a list of `Paragraph` objects for the paragraphs in the document. (A new paragraph begins whenever the user presses `ENTER` or `RETURN` while typing in a Word document.) Each of these Paragraph objects contain a list of one or more `Run` objects.\n",
    "\n",
    "The text in a Word document is more than just a string. It has font, size, color, and other styling information associated with it. A `style` in Word is a collection of these attributes. A `Run` object is a contiguous groups of characters within a paragraph with the same style. A new Run object is needed whenever the text style changes."
   ]
  },
  {
   "cell_type": "markdown",
   "id": "01336bd9",
   "metadata": {},
   "source": []
  },
  {
   "cell_type": "markdown",
   "id": "a7fdf684",
   "metadata": {},
   "source": []
  },
  {
   "cell_type": "markdown",
   "id": "8ffbbf80",
   "metadata": {},
   "source": [
    "### Question 7. How do you obtain a list of Paragraph objects for a Document object that’s stored in a variable named doc?\n",
    "\n",
    "### Answer:\n",
    "\n"
   ]
  },
  {
   "cell_type": "markdown",
   "id": "729e3179",
   "metadata": {},
   "source": [
    "We obtain a list of Paragraph objects for a Document object that’s stored in a variable named doc by using `doc.paragraphs`."
   ]
  },
  {
   "cell_type": "code",
   "execution_count": null,
   "id": "52c8fd04",
   "metadata": {},
   "outputs": [],
   "source": [
    "# Example Program\n",
    "#!pip install python-docx (if docx module is not installed)\n",
    "from docx import Document\n",
    "doc = Document(\"sample_file.docx\") # Path of the Docx file (NOTE: the extension may be .doc in case of a document file)\n",
    "print(doc.paragraphs) # Prints the list of Paragraph objects for a Document\n",
    "for paragraph in doc.paragraphs:\n",
    "    print(paragraph.text) # Prints the text in the paragraph"
   ]
  },
  {
   "cell_type": "markdown",
   "id": "645ff662",
   "metadata": {},
   "source": []
  },
  {
   "cell_type": "markdown",
   "id": "c9fa5d1b",
   "metadata": {},
   "source": []
  },
  {
   "cell_type": "markdown",
   "id": "b1ea5513",
   "metadata": {},
   "source": [
    "### Question 8. What type of object has bold, underline, italic, strike, and outline variables?\n",
    "\n",
    "### Answer:\n",
    "\n"
   ]
  },
  {
   "cell_type": "markdown",
   "id": "e3d982c8",
   "metadata": {},
   "source": [
    "A `Run` object has bold, underline, italic, strike, and outline variables."
   ]
  },
  {
   "cell_type": "markdown",
   "id": "a42eac04",
   "metadata": {},
   "source": []
  },
  {
   "cell_type": "markdown",
   "id": "de3942c7",
   "metadata": {},
   "source": []
  },
  {
   "cell_type": "markdown",
   "id": "fd1049cc",
   "metadata": {},
   "source": [
    "### Question 9. What is the difference between False, True, and None for the bold variable?\n",
    "\n",
    "### Answer:\n",
    "\n"
   ]
  },
  {
   "cell_type": "markdown",
   "id": "39f3ce68",
   "metadata": {},
   "source": [
    "Runs can be further styled using text attributes. Each attribute can be set to one of three values:\n",
    "\n",
    "1. True (the attribute is always enabled, no matter what other styles are applied to the run, i.e. style Set to Bold)\n",
    "\n",
    "2. False (the attribute is always disabled, i.e. Style Not Set to Bold)\n",
    "\n",
    "3. None (defaults to whatever the run’s style is set to, i.e. Style is Not Applicable)\n",
    "\n",
    "`True` always makes the `Run` object bolded and `False` makes it always not bolded, no matter what the style’s bold setting is. `None` will make the `Run` object just use the style’s bold setting."
   ]
  },
  {
   "cell_type": "markdown",
   "id": "a8810123",
   "metadata": {},
   "source": []
  },
  {
   "cell_type": "markdown",
   "id": "c8939c3c",
   "metadata": {},
   "source": []
  },
  {
   "cell_type": "markdown",
   "id": "bf147fae",
   "metadata": {},
   "source": [
    "### Question 10. How do you create a Document object for a new Word document?\n",
    "\n",
    "### Answer:\n",
    "\n"
   ]
  },
  {
   "cell_type": "markdown",
   "id": "7d06b075",
   "metadata": {},
   "source": [
    "We can create a Document object for a new Word document by calling the `docx.Document()` function."
   ]
  },
  {
   "cell_type": "code",
   "execution_count": null,
   "id": "55d589e2",
   "metadata": {},
   "outputs": [],
   "source": [
    "# Example Program\n",
    "from docx import Document\n",
    "document = Document()\n",
    "document.add_paragraph(\"iNeuron Full Stack DataScience Course\")\n",
    "document.save('myDocument.docx')"
   ]
  },
  {
   "cell_type": "markdown",
   "id": "b8d72358",
   "metadata": {},
   "source": []
  },
  {
   "cell_type": "markdown",
   "id": "4719d406",
   "metadata": {},
   "source": []
  },
  {
   "cell_type": "markdown",
   "id": "384cf788",
   "metadata": {},
   "source": [
    "### Question 11. How do you add a paragraph with the text 'Hello, there!' to a Document object stored in a variable named doc?\n",
    "\n",
    "### Answer:\n",
    "\n"
   ]
  },
  {
   "cell_type": "code",
   "execution_count": null,
   "id": "5c9ea6ce",
   "metadata": {},
   "outputs": [],
   "source": [
    "# Example Program\n",
    "from docx import Document\n",
    "doc = Document()\n",
    "doc.add_paragraph('Hello, there!')\n",
    "doc.save('hello.docx')"
   ]
  },
  {
   "cell_type": "markdown",
   "id": "d5cac3c9",
   "metadata": {},
   "source": []
  },
  {
   "cell_type": "markdown",
   "id": "481a8e4f",
   "metadata": {},
   "source": []
  },
  {
   "cell_type": "markdown",
   "id": "ec55f9de",
   "metadata": {},
   "source": [
    "### Question 12. What integers represent the levels of headings available in Word documents?\n",
    "\n",
    "### Answer:\n",
    "\n"
   ]
  },
  {
   "cell_type": "markdown",
   "id": "ab7b1aee",
   "metadata": {},
   "source": [
    "The levels for a heading in a word document can be specified by using the `level` attribute inside the `add_heading` method. There are a total of `5` levels statring for `0 t0 4`, where level 0 makes a headline with the horizontal line below the text, whereas the heading level 1 is the main heading. Similarly, the other headings are sub-heading with their's font-sizes in decreasing order."
   ]
  }
 ],
 "metadata": {
  "kernelspec": {
   "display_name": "Python 3 (ipykernel)",
   "language": "python",
   "name": "python3"
  },
  "language_info": {
   "codemirror_mode": {
    "name": "ipython",
    "version": 3
   },
   "file_extension": ".py",
   "mimetype": "text/x-python",
   "name": "python",
   "nbconvert_exporter": "python",
   "pygments_lexer": "ipython3",
   "version": "3.9.7"
  }
 },
 "nbformat": 4,
 "nbformat_minor": 5
}
