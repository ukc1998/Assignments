{
 "cells": [
  {
   "cell_type": "markdown",
   "id": "97c364c0",
   "metadata": {},
   "source": [
    "# Python Basic Assignment - 23"
   ]
  },
  {
   "cell_type": "markdown",
   "id": "4dc61832",
   "metadata": {},
   "source": []
  },
  {
   "cell_type": "markdown",
   "id": "f3d483f6",
   "metadata": {},
   "source": []
  },
  {
   "cell_type": "markdown",
   "id": "9d73aa7e",
   "metadata": {},
   "source": [
    "### Question 1. \n",
    "What is the result of the code, and why?\n",
    "\n",
    ">>> def func(a, b=6, c=8):\n",
    "<br>\n",
    "print(a, b, c)\n",
    "<br>\n",
    ">>> func(1, 2)\n",
    "\n",
    "Answer:\n"
   ]
  },
  {
   "cell_type": "code",
   "execution_count": 1,
   "id": "1c1dc18f",
   "metadata": {},
   "outputs": [
    {
     "name": "stdout",
     "output_type": "stream",
     "text": [
      "1 2 8\n"
     ]
    }
   ],
   "source": [
    "def func(a, b= 6,c = 8):\n",
    "    print(a,b,c)\n",
    "    \n",
    "func(1,2)"
   ]
  },
  {
   "cell_type": "markdown",
   "id": "a31e8cf7",
   "metadata": {},
   "source": [
    "##### Explaination:\n",
    "\n",
    "The result of the above code is 1 2 8 because the function uses the default value of c ie 8 which is provided at the time of declaration and the default value for b has been overwrittten while assigning the value of b during the function call. The value of a has been assigned during the function call. "
   ]
  },
  {
   "cell_type": "markdown",
   "id": "d2ed2aa7",
   "metadata": {},
   "source": []
  },
  {
   "cell_type": "markdown",
   "id": "9b96551a",
   "metadata": {},
   "source": []
  },
  {
   "cell_type": "markdown",
   "id": "3d47c514",
   "metadata": {},
   "source": [
    "### Question 2.\n",
    "What is the result of this code, and why?\n",
    "\n",
    ">>> def func(a, b, c=5):\n",
    "<br>\n",
    "print(a, b, c)\n",
    "<br>\n",
    ">>> func(1, c=3, b=2)\n",
    "\n",
    "Answer:\n"
   ]
  },
  {
   "cell_type": "code",
   "execution_count": 2,
   "id": "32fa11b2",
   "metadata": {},
   "outputs": [
    {
     "name": "stdout",
     "output_type": "stream",
     "text": [
      "1 2 3\n"
     ]
    }
   ],
   "source": [
    "def func(a,b,c=5):\n",
    "    print(a,b,c)\n",
    "    \n",
    "func(1,c=3,b=2)"
   ]
  },
  {
   "cell_type": "markdown",
   "id": "a3dd2b73",
   "metadata": {},
   "source": [
    "##### Explaination:\n",
    "\n",
    "The result of the above code is 1 2 3 because the function will use default values only when value for any argument is not provided during function call. \n",
    "\n",
    "If argument name is mentioned while doing a function call, the order of arguments is also ignored by the python interpreter."
   ]
  },
  {
   "cell_type": "markdown",
   "id": "47ada0ce",
   "metadata": {},
   "source": []
  },
  {
   "cell_type": "markdown",
   "id": "c896f7ea",
   "metadata": {},
   "source": []
  },
  {
   "cell_type": "markdown",
   "id": "9736251b",
   "metadata": {},
   "source": [
    "### Question 3.\n",
    "How about this code: what is its result, and why?\n",
    "\n",
    ">>> def func(a, *pargs):\n",
    "<br>\n",
    "print(a, pargs)\n",
    "<br>\n",
    ">>> func(1, 2, 3)\n",
    "\n",
    "Answer:\n"
   ]
  },
  {
   "cell_type": "code",
   "execution_count": 3,
   "id": "5eb72993",
   "metadata": {},
   "outputs": [
    {
     "name": "stdout",
     "output_type": "stream",
     "text": [
      "1 (2, 3)\n"
     ]
    }
   ],
   "source": [
    "def func(a, *pargs):\n",
    "    print(a,pargs)\n",
    "    \n",
    "func(1,2,3)"
   ]
  },
  {
   "cell_type": "markdown",
   "id": "5d2f03e1",
   "metadata": {},
   "source": [
    "##### Explaination:\n",
    "\n",
    "The result of the code is 1 (2,3). *pargs stands for variable length arguments. This format is used when we are not sure about the number of arguments to be passed to a function. All the values under this argument will be stored in a tuple. Since argument a is not a part of the *parg argument, hence, it is not stored in a tuple. And the rest arguments will automatically be considered as the values for the argument *parg, therefore, they have been stored separately in a tuple."
   ]
  },
  {
   "cell_type": "markdown",
   "id": "f5a210e3",
   "metadata": {},
   "source": []
  },
  {
   "cell_type": "markdown",
   "id": "ff892387",
   "metadata": {},
   "source": []
  },
  {
   "cell_type": "markdown",
   "id": "afadf014",
   "metadata": {},
   "source": [
    "### Question 4.\n",
    "What does this code print, and why?\n",
    "\n",
    ">>> def func(a, **kargs):\n",
    "<br>\n",
    "print(a, kargs)\n",
    "<br>\n",
    ">>> func(a=1, c=3, b=2)\n",
    "\n",
    "Answer:\n"
   ]
  },
  {
   "cell_type": "code",
   "execution_count": 4,
   "id": "abc6e96d",
   "metadata": {},
   "outputs": [
    {
     "name": "stdout",
     "output_type": "stream",
     "text": [
      "1 {'c': 3, 'b': 2}\n"
     ]
    }
   ],
   "source": [
    "def func(a, **kargs):\n",
    "    print(a, kargs)\n",
    "    \n",
    "func(a=1, c=3, b=2)"
   ]
  },
  {
   "cell_type": "markdown",
   "id": "d225949d",
   "metadata": {},
   "source": [
    "##### Explaination:\n",
    "\n",
    "The result of the above code is 1 {'c': 3, 'b': 2}. **args stands for variable length keyword arguments. This format is used when we want pass key value pairs as input to a function. All these key value pairs will be stored in a dictionary. Similarly, the values for keys 'b' and 'c' have been stored in the dictionary separately."
   ]
  },
  {
   "cell_type": "markdown",
   "id": "0cce3845",
   "metadata": {},
   "source": []
  },
  {
   "cell_type": "markdown",
   "id": "8c450831",
   "metadata": {},
   "source": []
  },
  {
   "cell_type": "markdown",
   "id": "8e211318",
   "metadata": {},
   "source": [
    "### Question 5.\n",
    "What gets printed by this, and explain?\n",
    "\n",
    ">>> def func(a, b, c=8, d=5): print(a, b, c, d)\n",
    "<br>\n",
    ">>> func(1, *(5, 6))\n",
    "\n",
    "Answer:\n"
   ]
  },
  {
   "cell_type": "code",
   "execution_count": 5,
   "id": "688d575a",
   "metadata": {},
   "outputs": [
    {
     "name": "stdout",
     "output_type": "stream",
     "text": [
      "1 5 6 5\n"
     ]
    }
   ],
   "source": [
    "def func(a, b, c=8, d=5): print(a, b, c, d)\n",
    "    \n",
    "func(1, *(5, 6))"
   ]
  },
  {
   "cell_type": "markdown",
   "id": "e00160d0",
   "metadata": {},
   "source": [
    "##### Explaination:\n",
    "\n",
    "The output of the above is 1 5 6 5. This is because the value for a is provided explicitly whereas for the values for arguments b and c, the function will expand the *(5,6) and consider the value of b as 5 and value of c as 6. Since the default value of d is provided explicitly while function declaration, therefore, value of d will be 5. However, it is not recommended to use the feature of positional arguments in between. It is recommended to use the feature of positional arguments at the end."
   ]
  },
  {
   "cell_type": "markdown",
   "id": "4444603a",
   "metadata": {},
   "source": []
  },
  {
   "cell_type": "markdown",
   "id": "aceb9b28",
   "metadata": {},
   "source": []
  },
  {
   "cell_type": "markdown",
   "id": "d48498f4",
   "metadata": {},
   "source": [
    "### Question 6.\n",
    "what is the result of this, and explain?\n",
    "\n",
    ">>> def func(a, b, c): a = 2; b[0] = 'x'; c['a'] = 'y'\n",
    "<br>\n",
    ">>> l = 1; m = [1]; n = {'a':0}\n",
    "<br>\n",
    ">>> func(l, m, n)\n",
    "\n",
    ">>> l, m, n\n",
    "\n",
    "Answer:\n"
   ]
  },
  {
   "cell_type": "code",
   "execution_count": 6,
   "id": "a1e8f787",
   "metadata": {},
   "outputs": [
    {
     "data": {
      "text/plain": [
       "(1, ['x'], {'a': 'y'})"
      ]
     },
     "execution_count": 6,
     "metadata": {},
     "output_type": "execute_result"
    }
   ],
   "source": [
    "def func(a, b, c): a = 2; b[0] = 'x'; c['a'] = 'y'\n",
    "l = 1; m = [1]; n = {'a':0}\n",
    "\n",
    "func(l, m, n)\n",
    "l, m, n"
   ]
  },
  {
   "cell_type": "markdown",
   "id": "7af14b8d",
   "metadata": {},
   "source": [
    "##### Explaination:\n",
    "\n",
    "The output of above code is 1, ['x'], {'a': 'y'}\n",
    "\n",
    "Eventhough Python gives importance to indentation. its provides a facility to declare an entire function in one single line. where statements in a function body are sepereated by ;\n",
    "\n",
    "Here in the code, an integer, a list and a dictionary are passed as argument, and list and dictionary are mutable. Here the list m and parameter b point to the same list in the memory location where as dict n and c point to the same memory location. Therefore, any updates to these list or dictionary will not be updated in the memory location. So, we will be able to see the value which has been declared while defining the function.\n",
    "\n",
    "l = 1 is an integer variable and immutable.\n",
    "<br>\n",
    "m is list and mutable.\n",
    "<br>\n",
    "n is dictionary and  mutable."
   ]
  }
 ],
 "metadata": {
  "kernelspec": {
   "display_name": "Python 3 (ipykernel)",
   "language": "python",
   "name": "python3"
  },
  "language_info": {
   "codemirror_mode": {
    "name": "ipython",
    "version": 3
   },
   "file_extension": ".py",
   "mimetype": "text/x-python",
   "name": "python",
   "nbconvert_exporter": "python",
   "pygments_lexer": "ipython3",
   "version": "3.9.7"
  }
 },
 "nbformat": 4,
 "nbformat_minor": 5
}
