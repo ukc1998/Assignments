{
 "cells": [
  {
   "cell_type": "markdown",
   "id": "c63cc7ec",
   "metadata": {},
   "source": [
    "# Python Basic Assignment - 1"
   ]
  },
  {
   "cell_type": "markdown",
   "id": "c911fb35",
   "metadata": {},
   "source": []
  },
  {
   "cell_type": "markdown",
   "id": "f52bc9cf",
   "metadata": {},
   "source": []
  },
  {
   "cell_type": "markdown",
   "id": "2f523b0e",
   "metadata": {},
   "source": [
    "### Question1. \n",
    "In the below elements which of them are values or an expression?\n",
    "<br> \n",
    "eg:- values can be integer or string and expressions will be mathematical operators.\n",
    "\n",
    "\n",
    "(a) *\n",
    "<br> \n",
    "(b) 'hello'\n",
    "<br> \n",
    "(c) -87.8\n",
    "<br> \n",
    "(d) -\n",
    "<br> \n",
    "(e) /\n",
    "<br> \n",
    "(f) +\n",
    "<br> \n",
    "(g) 6\n",
    "\n",
    "\n",
    "\n",
    "Answer:\n",
    "\n",
    "\n",
    "(a) expression\n",
    "<br> \n",
    "(b) value\n",
    "<br> \n",
    "(c) value\n",
    "<br> \n",
    "(d) expression\n",
    "<br> \n",
    "(e) expression\n",
    "<br> \n",
    "(f) expression\n",
    "<br> \n",
    "(g) value"
   ]
  },
  {
   "cell_type": "markdown",
   "id": "17999b23",
   "metadata": {},
   "source": []
  },
  {
   "cell_type": "markdown",
   "id": "7b709164",
   "metadata": {},
   "source": []
  },
  {
   "cell_type": "markdown",
   "id": "bb47622c",
   "metadata": {},
   "source": [
    "### Question2. \n",
    "What is the difference between string and variable?\n",
    "\n",
    "Answer:\n",
    "\n",
    "Variable is nothing but a kind of an entity  (reserved memory location) which helps us out to hold data and gives the data to the computer when it is required by the computer for processing.  Whereas string, which is a type of data that can be stored in a variable, is a sequence of characters that can be enclosed by single, double or triple quotation mark. "
   ]
  },
  {
   "cell_type": "markdown",
   "id": "8a5d6075",
   "metadata": {},
   "source": []
  },
  {
   "cell_type": "markdown",
   "id": "b3ec6f6f",
   "metadata": {},
   "source": []
  },
  {
   "cell_type": "markdown",
   "id": "7572d8e6",
   "metadata": {},
   "source": [
    "### Question3. \n",
    "Describe three different data types.\n",
    "\n",
    "Answer:\n",
    "\n",
    "(1) Integer data type: It is a data type used to store positive or negative counting numbers, along with zero, which have having no fractional component.\n",
    "\n",
    "(2) Float data type: It is a data type used to store integers having fractional component. Fractional component is separated by a decimal.\n",
    "\n",
    "(3) Boolean data type: It is a data type that represents one of two possible values, True or False."
   ]
  },
  {
   "cell_type": "markdown",
   "id": "6e8c8317",
   "metadata": {},
   "source": []
  },
  {
   "cell_type": "markdown",
   "id": "6b36e181",
   "metadata": {},
   "source": []
  },
  {
   "cell_type": "markdown",
   "id": "b2c8c280",
   "metadata": {},
   "source": [
    "### Question4.\n",
    "What is an expression made up of? What do all expressions do?\n",
    "\n",
    "Answer:\n",
    "\n",
    "An expression is a combination of constants, values ,variables, operands and operators, where operators include arithmetic and boolean operators, the function call operator (), the subscription operator [] etc. \n",
    "\n",
    "All expressions produces the result, which is always a single value, when reduced or evaluated down with the help of an interpreter."
   ]
  },
  {
   "cell_type": "markdown",
   "id": "a3813e70",
   "metadata": {},
   "source": []
  },
  {
   "cell_type": "markdown",
   "id": "70a0d6df",
   "metadata": {},
   "source": []
  },
  {
   "cell_type": "markdown",
   "id": "93411afe",
   "metadata": {},
   "source": [
    "### Question5.\n",
    "This assignment statements, spam = 10. What is the difference between an expression and a statement?\n",
    "\n",
    "Answer:\n",
    "\n",
    "An expression always evaluates to a single value, whereas a statement does not. The python executes a statement, but the interpreter does not display any results, whereas in case of an expresssion, the interpreter evaluates an expression and displays the result."
   ]
  },
  {
   "cell_type": "markdown",
   "id": "2dfbf85b",
   "metadata": {},
   "source": []
  },
  {
   "cell_type": "markdown",
   "id": "638dbcb3",
   "metadata": {},
   "source": []
  },
  {
   "cell_type": "markdown",
   "id": "e2dc0eb6",
   "metadata": {},
   "source": [
    "### Question6.\n",
    "After running the following code, what does the variable bacon contain?\n",
    " \n",
    "bacon = 22\n",
    "<br> \n",
    "bacon + 1\n",
    "\n",
    "Answer:\n",
    "\n",
    "<br>\n",
    "After running the given code, the variable bacon still contains 22 because the bacon variable is assigned to 22. The bacon + 1 expression does not reassign the value in bacon.\n",
    "\n",
    "If we want to reassign, we would need an assignment statement:\n",
    "<br>\n",
    "bacon = bacon + 1\n",
    "\n",
    "Crosscheck by running the program:"
   ]
  },
  {
   "cell_type": "code",
   "execution_count": 1,
   "id": "5a72b021",
   "metadata": {},
   "outputs": [
    {
     "data": {
      "text/plain": [
       "23"
      ]
     },
     "execution_count": 1,
     "metadata": {},
     "output_type": "execute_result"
    }
   ],
   "source": [
    "bacon = 22\n",
    "bacon + 1"
   ]
  },
  {
   "cell_type": "code",
   "execution_count": 2,
   "id": "bd09cbf0",
   "metadata": {},
   "outputs": [
    {
     "data": {
      "text/plain": [
       "22"
      ]
     },
     "execution_count": 2,
     "metadata": {},
     "output_type": "execute_result"
    }
   ],
   "source": [
    "bacon"
   ]
  },
  {
   "cell_type": "markdown",
   "id": "654e0a5c",
   "metadata": {},
   "source": []
  },
  {
   "cell_type": "markdown",
   "id": "ee30659e",
   "metadata": {},
   "source": []
  },
  {
   "cell_type": "markdown",
   "id": "aea900a9",
   "metadata": {},
   "source": [
    "### Question7.\n",
    "What should the values of the following two terms be?\n",
    "\n",
    "'spam' + 'spamspam'\n",
    "<br> \n",
    "'spam'*3\n",
    "\n",
    "Answer:\n",
    "\n",
    "Both of the terms would give 'spamspamspam' as output.\n",
    "\n",
    "Crosscheck by running the program:"
   ]
  },
  {
   "cell_type": "code",
   "execution_count": 3,
   "id": "b31f96f7",
   "metadata": {},
   "outputs": [
    {
     "data": {
      "text/plain": [
       "'spamspamspam'"
      ]
     },
     "execution_count": 3,
     "metadata": {},
     "output_type": "execute_result"
    }
   ],
   "source": [
    "'spam' + 'spamspam'"
   ]
  },
  {
   "cell_type": "code",
   "execution_count": 4,
   "id": "438b2c9d",
   "metadata": {},
   "outputs": [
    {
     "data": {
      "text/plain": [
       "'spamspamspam'"
      ]
     },
     "execution_count": 4,
     "metadata": {},
     "output_type": "execute_result"
    }
   ],
   "source": [
    "'spam'*3"
   ]
  },
  {
   "cell_type": "markdown",
   "id": "326dc6bf",
   "metadata": {},
   "source": []
  },
  {
   "cell_type": "markdown",
   "id": "0abd1fc1",
   "metadata": {},
   "source": []
  },
  {
   "cell_type": "markdown",
   "id": "57890d8a",
   "metadata": {},
   "source": [
    "### Question8.\n",
    "Why is eggs a valid variable name while 100 is invalid?\n",
    "\n",
    "Answer:\n",
    "\n",
    "A variable name cannot start with a number.\n",
    "<br> \n",
    "In the given example, 100 is an invalid variable because it starts with a number 1"
   ]
  },
  {
   "cell_type": "markdown",
   "id": "a36da93f",
   "metadata": {},
   "source": []
  },
  {
   "cell_type": "markdown",
   "id": "653cd25f",
   "metadata": {},
   "source": []
  },
  {
   "cell_type": "markdown",
   "id": "fa016d61",
   "metadata": {},
   "source": [
    "### Question9.\n",
    "What three functions can be used to get the integer, floating-point number, or string version of a value?\n",
    "\n",
    "Answer:\n",
    "\n",
    "The int(), float(), and str() functions will evaluate to the integer, floating-point number or string versions of the value we pass, respectively."
   ]
  },
  {
   "cell_type": "markdown",
   "id": "ada2e66f",
   "metadata": {},
   "source": []
  },
  {
   "cell_type": "markdown",
   "id": "69e0417d",
   "metadata": {},
   "source": []
  },
  {
   "cell_type": "markdown",
   "id": "fbd4fff3",
   "metadata": {},
   "source": [
    "### Question10.\n",
    "Why does this expression cause an error? How can you fix it?\n",
    "\n",
    "'I have eaten' + 99 + 'burritos.'"
   ]
  },
  {
   "cell_type": "code",
   "execution_count": 6,
   "id": "0713709c",
   "metadata": {},
   "outputs": [
    {
     "ename": "TypeError",
     "evalue": "can only concatenate str (not \"int\") to str",
     "output_type": "error",
     "traceback": [
      "\u001b[1;31m---------------------------------------------------------------------------\u001b[0m",
      "\u001b[1;31mTypeError\u001b[0m                                 Traceback (most recent call last)",
      "\u001b[1;32m~\\AppData\\Local\\Temp/ipykernel_12316/3116421743.py\u001b[0m in \u001b[0;36m<module>\u001b[1;34m\u001b[0m\n\u001b[1;32m----> 1\u001b[1;33m \u001b[1;34m'I have eaten'\u001b[0m \u001b[1;33m+\u001b[0m \u001b[1;36m99\u001b[0m \u001b[1;33m+\u001b[0m \u001b[1;34m'burritos.'\u001b[0m\u001b[1;33m\u001b[0m\u001b[1;33m\u001b[0m\u001b[0m\n\u001b[0m",
      "\u001b[1;31mTypeError\u001b[0m: can only concatenate str (not \"int\") to str"
     ]
    }
   ],
   "source": [
    "'I have eaten' + 99 + 'burritos.'"
   ]
  },
  {
   "cell_type": "markdown",
   "id": "fc15156c",
   "metadata": {},
   "source": [
    "Answer:\n",
    "\n",
    "The expression causes an error because 99 is an integer, and the + operator can only concatenate strings to other strings (not integers). The correct way is by concatenating the string version of the integer 99 in any one of the following ways:"
   ]
  },
  {
   "cell_type": "code",
   "execution_count": 7,
   "id": "8a9690bd",
   "metadata": {},
   "outputs": [
    {
     "data": {
      "text/plain": [
       "'I have eaten 99 burritos.'"
      ]
     },
     "execution_count": 7,
     "metadata": {},
     "output_type": "execute_result"
    }
   ],
   "source": [
    "'I have eaten ' + str(99)  + ' burritos.'"
   ]
  },
  {
   "cell_type": "code",
   "execution_count": 8,
   "id": "18f4bdfe",
   "metadata": {},
   "outputs": [
    {
     "data": {
      "text/plain": [
       "'I have eaten 99 burritos.'"
      ]
     },
     "execution_count": 8,
     "metadata": {},
     "output_type": "execute_result"
    }
   ],
   "source": [
    "'I have eaten ' + '99'  + ' burritos.'"
   ]
  },
  {
   "cell_type": "code",
   "execution_count": 9,
   "id": "0a3b8c63",
   "metadata": {},
   "outputs": [
    {
     "data": {
      "text/plain": [
       "'I have eaten 99 burritos.'"
      ]
     },
     "execution_count": 9,
     "metadata": {},
     "output_type": "execute_result"
    }
   ],
   "source": [
    "'I have eaten ' + \"99\"  + ' burritos.'"
   ]
  },
  {
   "cell_type": "code",
   "execution_count": 10,
   "id": "71b4b35e",
   "metadata": {},
   "outputs": [
    {
     "data": {
      "text/plain": [
       "'I have eaten 99 burritos.'"
      ]
     },
     "execution_count": 10,
     "metadata": {},
     "output_type": "execute_result"
    }
   ],
   "source": [
    "'I have eaten ' + '''99'''  + ' burritos.'"
   ]
  }
 ],
 "metadata": {
  "kernelspec": {
   "display_name": "Python 3 (ipykernel)",
   "language": "python",
   "name": "python3"
  },
  "language_info": {
   "codemirror_mode": {
    "name": "ipython",
    "version": 3
   },
   "file_extension": ".py",
   "mimetype": "text/x-python",
   "name": "python",
   "nbconvert_exporter": "python",
   "pygments_lexer": "ipython3",
   "version": "3.9.7"
  }
 },
 "nbformat": 4,
 "nbformat_minor": 5
}
