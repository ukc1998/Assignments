{
 "cells": [
  {
   "cell_type": "markdown",
   "id": "4970ea84",
   "metadata": {},
   "source": [
    "# Python Basic Assignment - 14"
   ]
  },
  {
   "cell_type": "markdown",
   "id": "6cc6a0af",
   "metadata": {},
   "source": []
  },
  {
   "cell_type": "markdown",
   "id": "3d1df640",
   "metadata": {},
   "source": []
  },
  {
   "cell_type": "markdown",
   "id": "458150c6",
   "metadata": {},
   "source": [
    "### Question 1. What does RGBA stand for?\n",
    "\n",
    "### Answer:\n",
    "\n"
   ]
  },
  {
   "cell_type": "markdown",
   "id": "5f50d755",
   "metadata": {},
   "source": [
    "RGBA stands for red, green, blue, and alpha.\n",
    "\n",
    "An RGBA value is a tuple of 4 integers, each ranging from 0 to 255. The four integers correspond to the amount of red, green, blue, and alpha (transparency) in the color .  "
   ]
  },
  {
   "cell_type": "markdown",
   "id": "793eace0",
   "metadata": {},
   "source": []
  },
  {
   "cell_type": "markdown",
   "id": "cb603217",
   "metadata": {},
   "source": []
  },
  {
   "cell_type": "markdown",
   "id": "ef5e592b",
   "metadata": {},
   "source": [
    "### Question 2. From the Pillow module, how do you get the RGBA value of any images?\n",
    "\n",
    "### Answer:\n",
    "\n"
   ]
  },
  {
   "cell_type": "markdown",
   "id": "d81bb4db",
   "metadata": {},
   "source": [
    "`ImageColor.getcolor()` gives rgba value of any image."
   ]
  },
  {
   "cell_type": "code",
   "execution_count": 1,
   "id": "7146c1b8",
   "metadata": {},
   "outputs": [
    {
     "data": {
      "text/plain": [
       "(0, 128, 0, 255)"
      ]
     },
     "execution_count": 1,
     "metadata": {},
     "output_type": "execute_result"
    }
   ],
   "source": [
    "#code example:\n",
    "\n",
    "from PIL import ImageColor\n",
    "ImageColor.getcolor('red', 'RGBA')\n",
    "ImageColor.getcolor('green', 'RGBA')"
   ]
  },
  {
   "cell_type": "markdown",
   "id": "bef38baf",
   "metadata": {},
   "source": []
  },
  {
   "cell_type": "markdown",
   "id": "79c00227",
   "metadata": {},
   "source": []
  },
  {
   "cell_type": "markdown",
   "id": "42d348ed",
   "metadata": {},
   "source": [
    "### Question 3. What is a box tuple, and how does it work?\n",
    "\n",
    "### Answer:\n",
    "\n"
   ]
  },
  {
   "cell_type": "markdown",
   "id": "329a4efd",
   "metadata": {},
   "source": [
    "A box tuple is a tuple value of four integers: the left-edge x-coordinate, the top-edge y-coordinate,the width, and the height, respectively."
   ]
  },
  {
   "cell_type": "markdown",
   "id": "b36cdb6c",
   "metadata": {},
   "source": []
  },
  {
   "cell_type": "markdown",
   "id": "f39e6ded",
   "metadata": {},
   "source": []
  },
  {
   "cell_type": "markdown",
   "id": "beb2d02d",
   "metadata": {},
   "source": [
    "### Question 4. Use your image and load in notebook then, How can you find out the width and height of an Image object?\n",
    "\n",
    "### Answer:\n",
    "\n"
   ]
  },
  {
   "cell_type": "code",
   "execution_count": 2,
   "id": "8ac8fda1",
   "metadata": {},
   "outputs": [
    {
     "name": "stdout",
     "output_type": "stream",
     "text": [
      "Width, Height -> (1000, 1000)\n",
      "Width, Height -> 1000,1000\n",
      "Width, Height -> 1000,1000\n"
     ]
    }
   ],
   "source": [
    "#Example Program:\n",
    "\n",
    "from PIL import Image\n",
    "pic = Image.open('ukcimage.jpg')\n",
    "print(f'Width, Height -> {pic.size}') # Approach 1\n",
    "print(f'Width, Height -> {pic.width},{pic.height}') # Approach 2\n",
    "width,height = pic.size\n",
    "print(f'Width, Height -> {width},{height}') # Approach 3"
   ]
  },
  {
   "cell_type": "markdown",
   "id": "c90e81f3",
   "metadata": {},
   "source": []
  },
  {
   "cell_type": "markdown",
   "id": "04468333",
   "metadata": {},
   "source": []
  },
  {
   "cell_type": "markdown",
   "id": "74dc1ff7",
   "metadata": {},
   "source": [
    "### Question 5. What method would you call to get Image object for a 100×100 image, excluding the lower-left quarter of it?\n",
    "\n",
    "### Answer:\n",
    "\n"
   ]
  },
  {
   "cell_type": "markdown",
   "id": "8125dbd3",
   "metadata": {},
   "source": [
    "`ImageObject.crop((0, 50, 50, 50))` method can be called to get Image object for a 100×100 image, excluding the lower-left quarter of it."
   ]
  },
  {
   "cell_type": "code",
   "execution_count": 3,
   "id": "7cbc9e67",
   "metadata": {},
   "outputs": [],
   "source": [
    "#example program:\n",
    "\n",
    "from PIL import Image\n",
    "img = Image.open('ukcimage.jpg')\n",
    "new_img = img.crop((0,50,50,50))"
   ]
  },
  {
   "cell_type": "markdown",
   "id": "fdbba761",
   "metadata": {},
   "source": []
  },
  {
   "cell_type": "markdown",
   "id": "3c1a2d33",
   "metadata": {},
   "source": []
  },
  {
   "cell_type": "markdown",
   "id": "76da6a48",
   "metadata": {},
   "source": [
    "### Question 6. After making changes to an Image object, how could you save it as an image file?\n",
    "\n",
    "### Answer:\n",
    "\n"
   ]
  },
  {
   "cell_type": "markdown",
   "id": "ec90dee4",
   "metadata": {},
   "source": [
    "By Calling the `imageObj.save('new_filename.png')` method of the Image object, one can save it as an image file."
   ]
  },
  {
   "cell_type": "code",
   "execution_count": 4,
   "id": "a68b4eb9",
   "metadata": {},
   "outputs": [],
   "source": [
    "#Example Program:\n",
    "\n",
    "from PIL import Image\n",
    "pic = Image.open('ukcimage.jpg')\n",
    "pic.save('new_pic.jpg')"
   ]
  },
  {
   "cell_type": "markdown",
   "id": "f9a680ed",
   "metadata": {},
   "source": []
  },
  {
   "cell_type": "markdown",
   "id": "f28e4968",
   "metadata": {},
   "source": []
  },
  {
   "cell_type": "markdown",
   "id": "0510b724",
   "metadata": {},
   "source": [
    "### Question 7. What module contains Pillow’s shape-drawing code?\n",
    "\n",
    "### Answer:\n",
    "\n"
   ]
  },
  {
   "cell_type": "markdown",
   "id": "ded4aac4",
   "metadata": {},
   "source": [
    "The `ImageDraw` module contains code to draw on images and Pillow’s shape-drawing code too."
   ]
  },
  {
   "cell_type": "markdown",
   "id": "3b02554c",
   "metadata": {},
   "source": []
  },
  {
   "cell_type": "markdown",
   "id": "ca17861c",
   "metadata": {},
   "source": []
  },
  {
   "cell_type": "markdown",
   "id": "7b4d22fb",
   "metadata": {},
   "source": [
    "### Question 8. Image objects do not have drawing methods. What kind of object does? How do you get this kind of object?\n",
    "\n",
    "### Answer:\n",
    "\n"
   ]
  },
  {
   "cell_type": "markdown",
   "id": "fdf31a9e",
   "metadata": {},
   "source": [
    "`ImageDraw` objects have shape-drawing methods such as `point()`, `line()`, or` rectangle()`.They are returned by passing the Image object to the `ImageDraw.Draw()` function."
   ]
  }
 ],
 "metadata": {
  "kernelspec": {
   "display_name": "Python 3 (ipykernel)",
   "language": "python",
   "name": "python3"
  },
  "language_info": {
   "codemirror_mode": {
    "name": "ipython",
    "version": 3
   },
   "file_extension": ".py",
   "mimetype": "text/x-python",
   "name": "python",
   "nbconvert_exporter": "python",
   "pygments_lexer": "ipython3",
   "version": "3.9.7"
  }
 },
 "nbformat": 4,
 "nbformat_minor": 5
}
