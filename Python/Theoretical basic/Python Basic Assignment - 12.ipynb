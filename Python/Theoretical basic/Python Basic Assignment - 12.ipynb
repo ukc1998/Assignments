{
 "cells": [
  {
   "cell_type": "markdown",
   "id": "c2730f64",
   "metadata": {},
   "source": [
    "# Python Basic Assignment - 25"
   ]
  },
  {
   "cell_type": "markdown",
   "id": "4ae0698b",
   "metadata": {},
   "source": []
  },
  {
   "cell_type": "markdown",
   "id": "697acbfd",
   "metadata": {},
   "source": []
  },
  {
   "cell_type": "markdown",
   "id": "c8712a12",
   "metadata": {},
   "source": [
    "### Question 1)  \n",
    "What is the difference between enclosing a list comprehension in square brackets and parentheses?\n",
    "\n",
    "Answer:\n"
   ]
  },
  {
   "cell_type": "markdown",
   "id": "581e46b4",
   "metadata": {},
   "source": [
    "Enclosing a list comprehension in square brackets returns a list, whereas enclosing a list comprehension in parentheses looks like it might create a tuple, but it returns a generator object."
   ]
  },
  {
   "cell_type": "code",
   "execution_count": 4,
   "id": "38a56800",
   "metadata": {},
   "outputs": [
    {
     "data": {
      "text/plain": [
       "[0, 1, 2, 3, 4, 5, 6, 7, 8, 9]"
      ]
     },
     "execution_count": 4,
     "metadata": {},
     "output_type": "execute_result"
    }
   ],
   "source": [
    "List = [i for i in range(10)]\n",
    "List"
   ]
  },
  {
   "cell_type": "markdown",
   "id": "0360af0e",
   "metadata": {},
   "source": []
  },
  {
   "cell_type": "code",
   "execution_count": 5,
   "id": "882555f7",
   "metadata": {},
   "outputs": [
    {
     "data": {
      "text/plain": [
       "<generator object <genexpr> at 0x00000236E1BE9270>"
      ]
     },
     "execution_count": 5,
     "metadata": {},
     "output_type": "execute_result"
    }
   ],
   "source": [
    "Generator = (i for i in range(10))\n",
    "Generator"
   ]
  },
  {
   "cell_type": "markdown",
   "id": "2eeefc1d",
   "metadata": {},
   "source": []
  },
  {
   "cell_type": "markdown",
   "id": "c89ba48c",
   "metadata": {},
   "source": [
    "### Question 2) \n",
    "What is the relationship between generators and iterators?\n",
    "\n",
    "Answer:\n"
   ]
  },
  {
   "cell_type": "markdown",
   "id": "a9ae04c6",
   "metadata": {},
   "source": [
    "An `iterator` is an object which contains a countable number of values and it is used to iterate over iterable objects like list, tuples etc. `Iterators` are implemented using a class. It follows lazy evaluation where the evaluation of the expression will be on hold and stored in the memory until the item is called specifically which helps us to avoid repeated evaluation. As lazy evaluation is implemented, it requires only 1 memory location to process the value and when we are using a large dataset then, wastage of RAM space will be reduced the need to load the entire dataset at the same time will not be there. For an iterator: `iter()` keyword is used to create an `iterator` containing an iterable object. `next()` keyword is used to call the next element in the iterable object.\n",
    "\n",
    "Similarly `Generators` are an another way of creating `iterators` in a simple way where it uses the keyword `yield` statement instead of `return` statement in a defined function. `Generators` are implemented using a function. Just as `iterators`, `generators` also follow lazy evaluation. Here, the `yield` function returns the data without affecting or exiting the function. It will return a sequence of data in an iterable format where we need to iterate over the sequence to use the data as they won’t store the entire sequence in the memory."
   ]
  },
  {
   "cell_type": "code",
   "execution_count": 6,
   "id": "d61727fc",
   "metadata": {},
   "outputs": [
    {
     "name": "stdout",
     "output_type": "stream",
     "text": [
      "<class 'list_iterator'>\n",
      "iNeuron\n",
      "Full\n",
      "Stack\n",
      "Data Science\n",
      "<list_iterator object at 0x00000236E1BED100>\n",
      "\n",
      "0\n",
      "1\n",
      "8\n",
      "27\n",
      "64\n"
     ]
    }
   ],
   "source": [
    "# Example of iterartor\n",
    "iter_str = iter(['iNeuron','Full','Stack','Data Science'])\n",
    "print(type(iter_str))\n",
    "print(next(iter_str))\n",
    "print(next(iter_str))\n",
    "print(next(iter_str))\n",
    "print(next(iter_str))\n",
    "print(iter_str) # After the iterable object is completed, to use them again we have reassign them to the same object.\n",
    "\n",
    "\n",
    "print()\n",
    "# Example of Generator\n",
    "def cube_numbers(x):\n",
    "    for i in range(x):\n",
    "        yield i**3\n",
    "\n",
    "result = cube_numbers(5)\n",
    "print(next(result))\n",
    "print(next(result))\n",
    "print(next(result))\n",
    "print(next(result))\n",
    "print(next(result))"
   ]
  },
  {
   "cell_type": "markdown",
   "id": "b0719aab",
   "metadata": {},
   "source": []
  },
  {
   "cell_type": "markdown",
   "id": "df5c6607",
   "metadata": {},
   "source": []
  },
  {
   "cell_type": "markdown",
   "id": "a645c617",
   "metadata": {},
   "source": [
    "### Question 3) \n",
    "What are the signs that a function is a generator function?\n",
    "\n",
    "Answer:\n"
   ]
  },
  {
   "cell_type": "markdown",
   "id": "1fadd3dc",
   "metadata": {},
   "source": [
    "A generator function uses a yield statement instead of a return statement. A generator function will always return a iterable object called generator. where as a normal function can return a string/list/tuple/dict/NoneType ... etc"
   ]
  },
  {
   "cell_type": "markdown",
   "id": "d27c3c54",
   "metadata": {},
   "source": []
  },
  {
   "cell_type": "markdown",
   "id": "08966c9a",
   "metadata": {},
   "source": []
  },
  {
   "cell_type": "markdown",
   "id": "1f710e19",
   "metadata": {},
   "source": [
    "### Question 4) \n",
    "What is the purpose of a yield statement?\n",
    "\n",
    "Answer:\n"
   ]
  },
  {
   "cell_type": "markdown",
   "id": "9a60f863",
   "metadata": {},
   "source": [
    "The yield statement suspends function’s execution and sends a value back to the caller, but retains enough state to enable function to resume where it is left off. When resumed, the function continues execution immediately after the last yield run. This allows its code to produce a series of values over time, rather than computing them at once and sending them back like a list."
   ]
  },
  {
   "cell_type": "markdown",
   "id": "5994ae1c",
   "metadata": {},
   "source": []
  },
  {
   "cell_type": "markdown",
   "id": "046506d5",
   "metadata": {},
   "source": []
  },
  {
   "cell_type": "markdown",
   "id": "9f39480b",
   "metadata": {},
   "source": [
    "### Question 5) \n",
    "What is the relationship between map calls and list comprehensions? Make a comparison and contrast between the two.\n",
    "\n",
    "Answer:\n"
   ]
  },
  {
   "cell_type": "markdown",
   "id": "74d8ce31",
   "metadata": {},
   "source": [
    "* Map function: Suppose we have a function and we want to compute this function for different values in a single line of code . This is where map() function plays its role. map() function returns a map object(which is an iterator) of the results after applying the given function to each item of a given iterable (list, tuple etc.)\n",
    "\n",
    "* If we already have a function defined, it is often good to use map For example, map(sum, myLists) is more neat than [sum(x) for x in myLists]. You gain the elegance of not having to make up a dummy variable (e.g. sum(x) for x... or sum() for ... or sum(readableName) for readableName...) which you have to type twice, just to iterate.\n",
    "\n",
    "* List Comprehension: List Comprehension is a substitute for the lambda function, map(), filter() and reduce()\n",
    "\n",
    "* Comparision :\n",
    "\n",
    "1. List comprehension is more concise and easier to read as compared to map.\n",
    "<br>\n",
    "2. List comprehension allows filtering. In map, we have no such facility For example, to print all even numbers in range of 100, we can write [n for n in range(100) if n%2 == 0]. There is no alternate for it in map.\n",
    "<br>\n",
    "3. List comprehension are used when a list of results is required, where as map only returns a map object and does not return any list.\n",
    "<br>\n",
    "4. List comprehension is faster than map when we need to evaluate expressions that are too long or complicated to express.\n",
    "<br>\n",
    "5. Map is faster in case of calling an already defined function (as no lambda is required)."
   ]
  }
 ],
 "metadata": {
  "kernelspec": {
   "display_name": "Python 3 (ipykernel)",
   "language": "python",
   "name": "python3"
  },
  "language_info": {
   "codemirror_mode": {
    "name": "ipython",
    "version": 3
   },
   "file_extension": ".py",
   "mimetype": "text/x-python",
   "name": "python",
   "nbconvert_exporter": "python",
   "pygments_lexer": "ipython3",
   "version": "3.9.7"
  }
 },
 "nbformat": 4,
 "nbformat_minor": 5
}
