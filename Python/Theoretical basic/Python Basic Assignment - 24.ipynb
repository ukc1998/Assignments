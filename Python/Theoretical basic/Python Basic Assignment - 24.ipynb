{
 "cells": [
  {
   "cell_type": "markdown",
   "id": "c15b1e2d",
   "metadata": {},
   "source": [
    "# Python Basic Assignment - 7"
   ]
  },
  {
   "cell_type": "markdown",
   "id": "b222407e",
   "metadata": {},
   "source": []
  },
  {
   "cell_type": "markdown",
   "id": "c996aac2",
   "metadata": {},
   "source": []
  },
  {
   "cell_type": "markdown",
   "id": "93c076b3",
   "metadata": {},
   "source": [
    "### Question1. What is the name of the feature responsible for generating Regex objects?\n",
    "\n",
    "### Answer:\n",
    "\n"
   ]
  },
  {
   "cell_type": "markdown",
   "id": "b6ef2bae",
   "metadata": {},
   "source": [
    "re.compile() is the name feature responsible for generating of Regex objects."
   ]
  },
  {
   "cell_type": "code",
   "execution_count": 1,
   "id": "1a5423f1",
   "metadata": {},
   "outputs": [
    {
     "name": "stdout",
     "output_type": "stream",
     "text": [
      "<class 're.Pattern'>\n",
      "re.compile('I_love_milkybar_chocolates')\n"
     ]
    }
   ],
   "source": [
    "import re\n",
    "variable = re.compile(\"I_love_milkybar_chocolates\")\n",
    "print(type(variable))\n",
    "print(variable)"
   ]
  },
  {
   "cell_type": "markdown",
   "id": "59f8c105",
   "metadata": {},
   "source": []
  },
  {
   "cell_type": "markdown",
   "id": "77c329bf",
   "metadata": {},
   "source": []
  },
  {
   "cell_type": "markdown",
   "id": "b0eaca13",
   "metadata": {},
   "source": [
    "### Question2. Why do raw strings often appear in Regex objects?\n",
    "\n",
    "### Answer:\n",
    "\n"
   ]
  },
  {
   "cell_type": "markdown",
   "id": "ad534a7b",
   "metadata": {},
   "source": [
    "Regular expressions use the backslash character `('\\')` to indicate special forms `(Metacharacters)` or to allow special characters `(speical sequences`) to be used without invoking their special meaning. This collides with Python’s usage of the same character for the same purpose in string literals. Hence, Raw strings are used (e.g. r\"\\n\") so that backslashes do not have to be escaped."
   ]
  },
  {
   "cell_type": "markdown",
   "id": "02ab3a73",
   "metadata": {},
   "source": []
  },
  {
   "cell_type": "markdown",
   "id": "4d06153c",
   "metadata": {},
   "source": []
  },
  {
   "cell_type": "markdown",
   "id": "f474fe18",
   "metadata": {},
   "source": [
    "### Question3. What is the return value of the search() method?\n",
    "\n",
    "### Answer:\n",
    "\n"
   ]
  },
  {
   "cell_type": "markdown",
   "id": "42f01cd4",
   "metadata": {},
   "source": [
    "The return value of re.search(pattern,string) method is a `match` object if the pattern is observed in the string otherwise, it returns a `None`."
   ]
  },
  {
   "cell_type": "code",
   "execution_count": 2,
   "id": "5a5ee046",
   "metadata": {},
   "outputs": [
    {
     "name": "stdout",
     "output_type": "stream",
     "text": [
      "Output: <re.Match object; span=(13, 14), match='S'>\n",
      "Output: None\n"
     ]
    }
   ],
   "source": [
    "import re\n",
    "\n",
    "string = 'Ineuron Full Stack Data Science Program is truely awesome'\n",
    "pattern_1 = 's'\n",
    "pattern_2 = 'Z'\n",
    "\n",
    "match = re.search(pattern_1, string, flags=re.IGNORECASE)\n",
    "print('Output:',match)\n",
    "\n",
    "match = re.search(pattern_2, string, flags=re.IGNORECASE)\n",
    "print('Output:',match)"
   ]
  },
  {
   "cell_type": "markdown",
   "id": "766b7c15",
   "metadata": {},
   "source": []
  },
  {
   "cell_type": "markdown",
   "id": "0cb6bfa2",
   "metadata": {},
   "source": []
  },
  {
   "cell_type": "markdown",
   "id": "68522034",
   "metadata": {},
   "source": [
    "### Question4. From a Match item, how do you get the actual strings that match the pattern?\n",
    "\n",
    "### Answer:\n",
    "\n"
   ]
  },
  {
   "cell_type": "markdown",
   "id": "2a988367",
   "metadata": {},
   "source": [
    "From a match item, `group()` method helps to get the actual strings that match the pattern."
   ]
  },
  {
   "cell_type": "code",
   "execution_count": 3,
   "id": "1da20946",
   "metadata": {},
   "outputs": [
    {
     "name": "stdout",
     "output_type": "stream",
     "text": [
      "Output: Ineuron is helping\n"
     ]
    }
   ],
   "source": [
    "import re\n",
    "\n",
    "pattern = \"Ineuron is helping\"\n",
    "string = \"The full stack data science program of Ineuron is helping me to build self-confidence for a successful career transition\"\n",
    "match = re.search(pattern, string)\n",
    "print('Output:',match.group())"
   ]
  },
  {
   "cell_type": "markdown",
   "id": "cef64c04",
   "metadata": {},
   "source": []
  },
  {
   "cell_type": "markdown",
   "id": "53a28af9",
   "metadata": {},
   "source": []
  },
  {
   "cell_type": "markdown",
   "id": "aef98e32",
   "metadata": {},
   "source": [
    "### Question5. In the regex which created from the r'(\\d\\d\\d)-(\\d\\d\\d-\\d\\d\\d\\d)', what does group zero cover Group 2? Group 1?\n",
    "\n",
    "### Answer:\n",
    "\n"
   ]
  },
  {
   "cell_type": "markdown",
   "id": "0670f49b",
   "metadata": {},
   "source": [
    "In the Regex, `r'(\\d\\d\\d)-(\\d\\d\\d-\\d\\d\\d\\d)'`, the `zero` group covers the `entire pattern match` where as the `first group` cover `(\\d\\d\\d)` and the `second group` cover `(\\d\\d\\d-\\d\\d\\d\\d)`."
   ]
  },
  {
   "cell_type": "code",
   "execution_count": 4,
   "id": "b13e6568",
   "metadata": {},
   "outputs": [
    {
     "name": "stdout",
     "output_type": "stream",
     "text": [
      "('343', '678-9674')\n",
      "343-678-9674\n",
      "343\n",
      "678-9674\n"
     ]
    }
   ],
   "source": [
    "# Example\n",
    "import re\n",
    "phoneNumRegex = re.compile(r'(\\d\\d\\d)-(\\d\\d\\d-\\d\\d\\d\\d)')\n",
    "mo = phoneNumRegex.search('My contact number is 343-678-9674.')\n",
    "print(mo.groups()) # Prints all groups in a tuple format\n",
    "print(mo.group()) # Always returns the fully matched string \n",
    "print(mo.group(1)) # Returns the first group\n",
    "print(mo.group(2)) # Returns the second group"
   ]
  },
  {
   "cell_type": "markdown",
   "id": "571a2af1",
   "metadata": {},
   "source": []
  },
  {
   "cell_type": "markdown",
   "id": "42a5e1be",
   "metadata": {},
   "source": []
  },
  {
   "cell_type": "markdown",
   "id": "11a842b3",
   "metadata": {},
   "source": [
    "### Question6. In standard expression syntax, parentheses and intervals have distinct meanings. How can you tell a regex that you want it to fit real parentheses and periods?\n",
    "\n",
    "### Answer:\n",
    "\n"
   ]
  },
  {
   "cell_type": "markdown",
   "id": "e5e8bff5",
   "metadata": {},
   "source": [
    "Periods and parentheses can be escaped with a backslash: `\\.`, `\\(`, and `\\)`."
   ]
  },
  {
   "cell_type": "markdown",
   "id": "a201a10a",
   "metadata": {},
   "source": []
  },
  {
   "cell_type": "markdown",
   "id": "a4753986",
   "metadata": {},
   "source": []
  },
  {
   "cell_type": "markdown",
   "id": "37ce1308",
   "metadata": {},
   "source": [
    "### Question7. The findall() method returns a string list or a list of string tuples. What causes it to return one of the two options?\n",
    "\n",
    "### Answer:\n",
    "\n"
   ]
  },
  {
   "cell_type": "markdown",
   "id": "89418d9c",
   "metadata": {},
   "source": [
    "If the regex has no groups, a list of strings is returned. If the regex has groups, a list of tuples of strings is \n",
    "returned."
   ]
  },
  {
   "cell_type": "code",
   "execution_count": 5,
   "id": "5b6d1206",
   "metadata": {},
   "outputs": [
    {
     "name": "stdout",
     "output_type": "stream",
     "text": [
      "[('(343)', '678-9674')]\n",
      "['343-678-9674']\n"
     ]
    }
   ],
   "source": [
    "# Example Program\n",
    "import re\n",
    "phoneNumRegex = re.compile(r'(\\(\\d\\d\\d\\))-(\\d\\d\\d-\\d\\d\\d\\d)')\n",
    "mo = phoneNumRegex.findall('My phone number is (343)-678-9674.')\n",
    "print(mo)\n",
    "\n",
    "# Example Program\n",
    "import re\n",
    "phoneNumRegex = re.compile(r'\\d{3}-\\d{3}-\\d{4}')\n",
    "mo = phoneNumRegex.findall('My number is 343-678-9674.')\n",
    "print(mo) # Prints all groups in a tuple format"
   ]
  },
  {
   "cell_type": "markdown",
   "id": "e6e04aa8",
   "metadata": {},
   "source": []
  },
  {
   "cell_type": "markdown",
   "id": "38090b97",
   "metadata": {},
   "source": []
  },
  {
   "cell_type": "markdown",
   "id": "33ca2586",
   "metadata": {},
   "source": [
    "### Question8. In standard expressions, what does the | character mean?\n",
    "\n",
    "### Answer:\n",
    "\n"
   ]
  },
  {
   "cell_type": "markdown",
   "id": "8a9228f6",
   "metadata": {},
   "source": [
    "In standard expressions, the character `|` means ``OR`` operator.\n",
    " \n",
    "The `|` character is called a pipe. One can use it anywhere you want to match one of many expressions. \n",
    "\n",
    "For example, the regular expression `r'Banana|Apple Fruit'` will match either `'Banana'` or `'Apple Fruit'`.\n",
    "\n",
    "When both Banana and Apple Fruit occur in the searched string, the first occurrence of matching text will be returned as the Match object.\n",
    "\n",
    "The `|` character signifies matching “either, or” between two groups."
   ]
  },
  {
   "cell_type": "code",
   "execution_count": 6,
   "id": "75c7044e",
   "metadata": {},
   "outputs": [
    {
     "data": {
      "text/plain": [
       "'Banana'"
      ]
     },
     "execution_count": 6,
     "metadata": {},
     "output_type": "execute_result"
    }
   ],
   "source": [
    "fruitRegex = re.compile (r'Banana|Apple Fruit')\n",
    "mo1 = fruitRegex.search('Banana and Apple Fruit')\n",
    "mo1.group()"
   ]
  },
  {
   "cell_type": "code",
   "execution_count": 7,
   "id": "ac6541a9",
   "metadata": {},
   "outputs": [
    {
     "data": {
      "text/plain": [
       "'Apple Fruit'"
      ]
     },
     "execution_count": 7,
     "metadata": {},
     "output_type": "execute_result"
    }
   ],
   "source": [
    "mo2 = fruitRegex.search('Apple Fruit and Banana')\n",
    "mo2.group()"
   ]
  },
  {
   "cell_type": "markdown",
   "id": "20f9e891",
   "metadata": {},
   "source": []
  },
  {
   "cell_type": "markdown",
   "id": "54868fbd",
   "metadata": {},
   "source": []
  },
  {
   "cell_type": "markdown",
   "id": "0d197f99",
   "metadata": {},
   "source": [
    "### Question9. In regular expressions, what does the character ? stand for?\n",
    "\n",
    "### Answer:\n",
    "\n"
   ]
  },
  {
   "cell_type": "markdown",
   "id": "38417e82",
   "metadata": {},
   "source": [
    " In regular expressions, the `?` character can either mean “match zero or one of the preceding group”.\n",
    "\n",
    "Sometimes there is a pattern that you want to match only optionally. That is, the regex should find a match regardless of whether that bit of text is there. The ? character flags the group that precedes it as an optional part of the  pattern."
   ]
  },
  {
   "cell_type": "code",
   "execution_count": 8,
   "id": "399aa0bf",
   "metadata": {},
   "outputs": [
    {
     "data": {
      "text/plain": [
       "'Batman'"
      ]
     },
     "execution_count": 8,
     "metadata": {},
     "output_type": "execute_result"
    }
   ],
   "source": [
    "batRegex = re.compile(r'Bat(wo)?man')\n",
    "mo1 = batRegex.search('The Adventures of Batman')\n",
    "mo1.group()"
   ]
  },
  {
   "cell_type": "code",
   "execution_count": 9,
   "id": "c4aa7ef1",
   "metadata": {},
   "outputs": [
    {
     "data": {
      "text/plain": [
       "'Batwoman'"
      ]
     },
     "execution_count": 9,
     "metadata": {},
     "output_type": "execute_result"
    }
   ],
   "source": [
    "mo2 = batRegex.search('The Adventures of Batwoman')\n",
    "mo2.group()"
   ]
  },
  {
   "cell_type": "markdown",
   "id": "e66add9e",
   "metadata": {},
   "source": []
  },
  {
   "cell_type": "markdown",
   "id": "12724a91",
   "metadata": {},
   "source": []
  },
  {
   "cell_type": "markdown",
   "id": "02027b0a",
   "metadata": {},
   "source": [
    "### Question10.In regular expressions, what is the difference between the + and * characters?\n",
    "\n",
    "### Answer:\n",
    "\n"
   ]
  },
  {
   "cell_type": "markdown",
   "id": "4709835d",
   "metadata": {},
   "source": [
    "In Regular Expressions, `*` Represents Zero ore more occurences of the preceeding group, whereas `+` represents one or more occurences of the preceeding group."
   ]
  },
  {
   "cell_type": "code",
   "execution_count": 10,
   "id": "6e863d9e",
   "metadata": {},
   "outputs": [
    {
     "name": "stdout",
     "output_type": "stream",
     "text": [
      "<re.Match object; span=(0, 6), match='Batman'>\n",
      "None\n"
     ]
    }
   ],
   "source": [
    "import re\n",
    "match_1 = re.search(\"Bat(wo)*man\",\"Batman returns\")\n",
    "print(match_1)\n",
    "match_2 = re.search(\"Bat(wo)+man\",\"Batman returns\")\n",
    "print(match_2)"
   ]
  },
  {
   "cell_type": "markdown",
   "id": "84b6f29a",
   "metadata": {},
   "source": []
  },
  {
   "cell_type": "markdown",
   "id": "9b55fd5e",
   "metadata": {},
   "source": []
  },
  {
   "cell_type": "markdown",
   "id": "1e6b2184",
   "metadata": {},
   "source": [
    "### Question11. What is the difference between {4} and {4,5} in regular expression?\n",
    "\n",
    "### Answer:\n",
    "\n"
   ]
  },
  {
   "cell_type": "markdown",
   "id": "221e56d8",
   "metadata": {},
   "source": [
    "The {4 matches exactly three instances of the preceding group. \n",
    "\n",
    "The {4,5} matches between three and five instances.\n",
    "     \n",
    "{4} means that its preceeding group should repeat 4 times. where as {4,5} means that its preceeding group should repeat mininum 4 times and maximum 5 times inclusively"
   ]
  },
  {
   "cell_type": "code",
   "execution_count": 11,
   "id": "4176f5c2",
   "metadata": {},
   "outputs": [
    {
     "name": "stdout",
     "output_type": "stream",
     "text": [
      "HaHaHaHa\n",
      "None\n",
      "HaHaHaHa\n",
      "HaHaHaHa\n",
      "None\n",
      "HaHaHaHaHa\n"
     ]
    }
   ],
   "source": [
    "import re\n",
    "\n",
    "haRegex1 = re.compile(r'(Ha){4}')\n",
    "haRegex2 = re.compile(r'(Ha){4,5}')\n",
    "\n",
    "mo1 = haRegex1.search('HaHaHaHa')\n",
    "mo2 = haRegex1.search('Ha')\n",
    "mo3 = haRegex1.search('HaHaHaHaHaHaHaHa')\n",
    "\n",
    "print(mo1.group())\n",
    "print(mo2)\n",
    "print(mo3.group())\n",
    "\n",
    "mo4 = haRegex2.search('HaHaHaHa')\n",
    "mo5 = haRegex2.search('Ha')\n",
    "mo6 = haRegex2.search('HaHaHaHaHaHaHaHa')\n",
    "\n",
    "print(mo4.group())\n",
    "print(mo5)\n",
    "print(mo6.group())"
   ]
  },
  {
   "cell_type": "markdown",
   "id": "9142bdda",
   "metadata": {},
   "source": []
  },
  {
   "cell_type": "markdown",
   "id": "6f25862e",
   "metadata": {},
   "source": []
  },
  {
   "cell_type": "markdown",
   "id": "b6e21c3d",
   "metadata": {},
   "source": [
    "### Question12. What do you mean by the \\d, \\w, and \\s shorthand character classes signify in regular expressions?\n",
    "\n",
    "### Answer:\n",
    "\n"
   ]
  },
  {
   "cell_type": "markdown",
   "id": "0ffb61ea",
   "metadata": {},
   "source": [
    "`\\d`, `\\w` and `\\s` are special sequences in regular expresssions in python:\n",
    "\n",
    "1.   \\w – Matches a word character equivalent to [a-zA-Z0-9_]\n",
    "2.   \\d – Matches digit character equivalent to [0-9]\n",
    "3.   \\s – Matches whitespace character (space, tab, newline, etc.)"
   ]
  },
  {
   "cell_type": "markdown",
   "id": "a21ff0fe",
   "metadata": {},
   "source": []
  },
  {
   "cell_type": "markdown",
   "id": "2d29fd7b",
   "metadata": {},
   "source": []
  },
  {
   "cell_type": "markdown",
   "id": "97ef6272",
   "metadata": {},
   "source": [
    "### Question13. What do means by \\D, \\W, and \\S shorthand character classes signify in regular expressions?\n",
    "\n",
    "### Answer:\n",
    "\n"
   ]
  },
  {
   "cell_type": "markdown",
   "id": "af7216cb",
   "metadata": {},
   "source": [
    "`\\D`, `\\W` and `\\S` are special sequences in regular expresssions in python:\n",
    "\n",
    "1.   \\W – Matches any non-alphanumeric character equivalent to [^a-zA-Z0-9_]\n",
    "2.   \\D – Matches any non-digit character, this is equivalent to the set class [^0-9]\n",
    "3.   \\S – Matches any non-whitespace character"
   ]
  },
  {
   "cell_type": "markdown",
   "id": "27cf4f24",
   "metadata": {},
   "source": []
  },
  {
   "cell_type": "markdown",
   "id": "1f83976b",
   "metadata": {},
   "source": []
  },
  {
   "cell_type": "markdown",
   "id": "6c5abeb3",
   "metadata": {},
   "source": [
    "### Question14. What is the difference between `.*?` and `.*`?\n",
    "\n",
    "### Answer:\n",
    "\n"
   ]
  },
  {
   "cell_type": "markdown",
   "id": "27521a12",
   "metadata": {},
   "source": [
    "`.*` is a Greedy mode, which returns the longest string that meets the condition. Whereas `.*?` is a non greedy mode which returns the shortest string that meets the condition.\n",
    "\n",
    "`.*` - > The dot-star uses greedy mode: It will always try to match as much text as possible.\n",
    "\n",
    "`.*?` - > To match any and all text in a non-greedy fashion, use the dot, star, and question mark (`.*?`). Like with braces, the question mark tells Python to match in a non-greedy way."
   ]
  },
  {
   "cell_type": "code",
   "execution_count": 12,
   "id": "941aa1ce",
   "metadata": {},
   "outputs": [
    {
     "data": {
      "text/plain": [
       "'<To serve man> for dinner.>'"
      ]
     },
     "execution_count": 12,
     "metadata": {},
     "output_type": "execute_result"
    }
   ],
   "source": [
    "greedyRegex = re.compile(r'<.*>')\n",
    "mo = greedyRegex.search('<To serve man> for dinner.>')\n",
    "mo.group()"
   ]
  },
  {
   "cell_type": "code",
   "execution_count": 13,
   "id": "ac7b188f",
   "metadata": {},
   "outputs": [
    {
     "data": {
      "text/plain": [
       "'<To serve man>'"
      ]
     },
     "execution_count": 13,
     "metadata": {},
     "output_type": "execute_result"
    }
   ],
   "source": [
    "nongreedyRegex = re.compile(r'<.*?>')\n",
    "mo = nongreedyRegex.search('<To serve man> for dinner.>')\n",
    "mo.group()"
   ]
  },
  {
   "cell_type": "markdown",
   "id": "2093647e",
   "metadata": {},
   "source": []
  },
  {
   "cell_type": "markdown",
   "id": "b405f054",
   "metadata": {},
   "source": [
    "### Question15. What is the syntax for matching both numbers and lowercase letters with a character class?\n",
    "\n",
    "### Answer:\n",
    "\n"
   ]
  },
  {
   "cell_type": "markdown",
   "id": "fb5f3855",
   "metadata": {},
   "source": [
    "The syntax is either [a-z0-9] or [0-9a-z]"
   ]
  },
  {
   "cell_type": "code",
   "execution_count": 14,
   "id": "f511c674",
   "metadata": {},
   "outputs": [
    {
     "data": {
      "text/plain": [
       "'1'"
      ]
     },
     "execution_count": 14,
     "metadata": {},
     "output_type": "execute_result"
    }
   ],
   "source": [
    "reg1 = re.compile(r'[0-9a-z]')\n",
    "reg2 = re.compile(r'[a-z0-9]')\n",
    "\n",
    "mo1 = reg1.search('100 times I am Reading  this for 100 th time')\n",
    "mo1.group()"
   ]
  },
  {
   "cell_type": "code",
   "execution_count": 15,
   "id": "92e0bcec",
   "metadata": {},
   "outputs": [
    {
     "data": {
      "text/plain": [
       "'t'"
      ]
     },
     "execution_count": 15,
     "metadata": {},
     "output_type": "execute_result"
    }
   ],
   "source": [
    "reg2 = re.compile(r'[a-z0-9]')\n",
    "\n",
    "mo1 = reg2.search('times I am Reading  this for 100 th time')\n",
    "mo1.group()"
   ]
  },
  {
   "cell_type": "markdown",
   "id": "eec237da",
   "metadata": {},
   "source": []
  },
  {
   "cell_type": "markdown",
   "id": "7f33fd84",
   "metadata": {},
   "source": []
  },
  {
   "cell_type": "markdown",
   "id": "f58a2478",
   "metadata": {},
   "source": [
    "### Question16. What is the procedure for making a normal expression in regax case insensitive?\n",
    "\n",
    "### Answer:\n",
    "\n"
   ]
  },
  {
   "cell_type": "markdown",
   "id": "6cc60ce9",
   "metadata": {},
   "source": [
    "The procedure for making a normal expression in regax case insensitive is by passing `re.IGNORECASE` as a flag.\n",
    "\n",
    "Passing `re.I` the argument to re.compile() can also make the matching case insensitive."
   ]
  },
  {
   "cell_type": "markdown",
   "id": "1bc65c7c",
   "metadata": {},
   "source": []
  },
  {
   "cell_type": "markdown",
   "id": "81a4f1c7",
   "metadata": {},
   "source": []
  },
  {
   "cell_type": "markdown",
   "id": "d540805a",
   "metadata": {},
   "source": [
    "### Question17. What does the . character normally match? What does it match if re.DOTALL is passed as 2nd argument in re.compile()?\n",
    "\n",
    "### Answer:\n",
    "\n"
   ]
  },
  {
   "cell_type": "markdown",
   "id": "cf73c7f6",
   "metadata": {},
   "source": [
    "Dot `.` character matches everything in input except newline character `.`. But, by passing `re.DOTALL` as a flag to `re.compile()`, one can make the dot character match all characters, including the newline character."
   ]
  },
  {
   "cell_type": "code",
   "execution_count": 16,
   "id": "e376a2ff",
   "metadata": {},
   "outputs": [
    {
     "data": {
      "text/plain": [
       "'Machine'"
      ]
     },
     "execution_count": 16,
     "metadata": {},
     "output_type": "execute_result"
    }
   ],
   "source": [
    "casesen = re.compile(r'machine', re.I)\n",
    "casesen.search('Machine learning is part of data science').group()"
   ]
  },
  {
   "cell_type": "code",
   "execution_count": 17,
   "id": "49b877f2",
   "metadata": {},
   "outputs": [
    {
     "data": {
      "text/plain": [
       "'MACHINE'"
      ]
     },
     "execution_count": 17,
     "metadata": {},
     "output_type": "execute_result"
    }
   ],
   "source": [
    "casesen.search('MACHINE is learning.').group()"
   ]
  },
  {
   "cell_type": "markdown",
   "id": "d4603e61",
   "metadata": {},
   "source": []
  },
  {
   "cell_type": "markdown",
   "id": "53c5d5bc",
   "metadata": {},
   "source": []
  },
  {
   "cell_type": "markdown",
   "id": "c7520dc9",
   "metadata": {},
   "source": [
    "### Question18. If numReg = re.compile(r'\\d+'), what will numRegex.sub('X', '11 drummers, 10 pipers, five rings, 4 hen') return?\n",
    "\n",
    "### Answer:\n",
    "\n"
   ]
  },
  {
   "cell_type": "markdown",
   "id": "aa782a93",
   "metadata": {},
   "source": [
    "The Ouput will be `'X drummers, X pipers, five rings, X hen'`"
   ]
  },
  {
   "cell_type": "code",
   "execution_count": 18,
   "id": "155fdc6b",
   "metadata": {},
   "outputs": [
    {
     "data": {
      "text/plain": [
       "'X drummers, X pipers, five rings, X hen'"
      ]
     },
     "execution_count": 18,
     "metadata": {},
     "output_type": "execute_result"
    }
   ],
   "source": [
    "import re\n",
    "numReg = re.compile(r'\\d+')\n",
    "numReg.sub('X', '11 drummers, 10 pipers, five rings, 4 hen')"
   ]
  },
  {
   "cell_type": "markdown",
   "id": "302f8785",
   "metadata": {},
   "source": []
  },
  {
   "cell_type": "markdown",
   "id": "993e9733",
   "metadata": {},
   "source": []
  },
  {
   "cell_type": "markdown",
   "id": "1a01601c",
   "metadata": {},
   "source": [
    "### Question19. What does passing re.VERBOSE as the 2nd argument to re.compile() allow to do?\n",
    "\n",
    "### Answer:\n",
    "\n"
   ]
  },
  {
   "cell_type": "markdown",
   "id": "3ead2f3b",
   "metadata": {},
   "source": [
    "`re.VERBOSE` will allow to add whitespace and comments to string passed to `re.compile()`."
   ]
  },
  {
   "cell_type": "code",
   "execution_count": 19,
   "id": "354ad358",
   "metadata": {},
   "outputs": [],
   "source": [
    "# Without Using VERBOSE\n",
    "regex_email = re.compile(r'^([a-z0-9_\\.-]+)@([0-9a-z\\.-]+)\\.([a-z\\.]{2, 6})$', re.IGNORECASE)\n",
    " \n",
    "# Using VERBOSE\n",
    "regex_email = re.compile(r\"\"\"\n",
    "                            ^([a-z0-9_\\.-]+)              # local Part like username\n",
    "                            @                             # single @ sign \n",
    "                            ([0-9a-z\\.-]+)                # Domain name like google\n",
    "                            \\.                            # single Dot .\n",
    "                            ([a-z]{2,6})$                 # Top level Domain  like com/in/org\n",
    "                         \"\"\",re.VERBOSE | re.IGNORECASE)   "
   ]
  },
  {
   "cell_type": "markdown",
   "id": "ea8673a6",
   "metadata": {},
   "source": []
  },
  {
   "cell_type": "markdown",
   "id": "459f1612",
   "metadata": {},
   "source": []
  },
  {
   "cell_type": "markdown",
   "id": "85807bb9",
   "metadata": {},
   "source": [
    "### Question20. How would you write a regex that match a number with comma for every three digits? It must match the given following:\n",
    "\n",
    "`'42'\n",
    "'1,234'\n",
    "'6,368,745'\n",
    "but not the following:\n",
    "'12,34,567' (which has only two digits between the commas)\n",
    "'1234' (which lacks commas)`\n",
    "\n",
    "### Answer:\n",
    "\n"
   ]
  },
  {
   "cell_type": "code",
   "execution_count": 20,
   "id": "65ccc552",
   "metadata": {},
   "outputs": [
    {
     "name": "stdout",
     "output_type": "stream",
     "text": [
      "Output: 42 -> <re.Match object; span=(0, 2), match='42'>\n",
      "Output: 1,234 -> <re.Match object; span=(0, 5), match='1,234'>\n",
      "Output: 6,368,745 -> <re.Match object; span=(0, 9), match='6,368,745'>\n",
      "Output: 12,34,567 -> None\n",
      "Output: 1234 -> None\n"
     ]
    }
   ],
   "source": [
    "import re\n",
    "pattern = r'^\\d{1,3}(,\\d{3})*$'\n",
    "pagex = re.compile(pattern)\n",
    "for ele in ['42','1,234', '6,368,745','12,34,567','1234']:\n",
    "    print('Output:',ele, '->', pagex.search(ele))"
   ]
  },
  {
   "cell_type": "markdown",
   "id": "07a75ac6",
   "metadata": {},
   "source": []
  },
  {
   "cell_type": "markdown",
   "id": "5b789ec6",
   "metadata": {},
   "source": []
  },
  {
   "cell_type": "markdown",
   "id": "99296b99",
   "metadata": {},
   "source": [
    "### Question21. How would you write a regex that matches the full name of someone whose last name is Watanabe? You can assume that the first name that comes before it will always be one word that begins with a capital letter. The regex must match the following:\n",
    "\n",
    "`'Haruto Watanabe'\n",
    "'Alice Watanabe'\n",
    "'RoboCop Watanabe'\n",
    "but not the following:\n",
    "'haruto Watanabe' (where the first name is not capitalized)\n",
    "'Mr. Watanabe' (where the preceding word has a nonletter character)\n",
    "'Watanabe' (which has no first name)\n",
    "'Haruto watanabe' (where Watanabe is not capitalized)`\n",
    "\n",
    "### Answer:\n",
    "\n"
   ]
  },
  {
   "cell_type": "code",
   "execution_count": 21,
   "id": "e46582e8",
   "metadata": {},
   "outputs": [
    {
     "name": "stdout",
     "output_type": "stream",
     "text": [
      "Output:  Haruto Watanabe -> <re.Match object; span=(0, 15), match='Haruto Watanabe'>\n",
      "Output:  Alice Watanabe -> <re.Match object; span=(0, 14), match='Alice Watanabe'>\n",
      "Output:  RoboCop Watanabe -> <re.Match object; span=(4, 16), match='Cop Watanabe'>\n",
      "Output:  haruto Watanabe -> None\n",
      "Output:  Mr. Watanabe -> None\n",
      "Output:  Watanabe -> None\n",
      "Output:  Haruto watanabe -> None\n"
     ]
    }
   ],
   "source": [
    "import re\n",
    "pattern = r'[A-Z]{1}[a-z]*\\sWatanabe'\n",
    "namex = re.compile(pattern)\n",
    "for name in ['Haruto Watanabe','Alice Watanabe','RoboCop Watanabe','haruto Watanabe','Mr. Watanabe','Watanabe','Haruto watanabe']:\n",
    "    print('Output: ',name,'->',namex.search(name))"
   ]
  },
  {
   "cell_type": "markdown",
   "id": "fb9d4e30",
   "metadata": {},
   "source": []
  },
  {
   "cell_type": "markdown",
   "id": "22bf8500",
   "metadata": {},
   "source": []
  },
  {
   "cell_type": "markdown",
   "id": "94cc4aa7",
   "metadata": {},
   "source": [
    "### Question22. How would you write a regex that matches a sentence where the first word is either Alice, Bob, or Carol; the second word is either eats, pets, or throws; the third word is apples, cats, or baseballs; and the sentence ends with a period? This regex should be case-insensitive. It must match the following:\n",
    "\n",
    "`'Alice eats apples.'\n",
    "'Bob pets cats.'\n",
    "'Carol throws baseballs.'\n",
    "'Alice throws Apples.'\n",
    "'BOB EATS CATS.'\n",
    "but not the following:\n",
    "'RoboCop eats apples.'\n",
    "'ALICE THROWS FOOTBALLS.'\n",
    "'Carol eats 7 cats.'`\n",
    "\n",
    "### Answer:\n",
    "\n"
   ]
  },
  {
   "cell_type": "code",
   "execution_count": 22,
   "id": "5b32c75b",
   "metadata": {},
   "outputs": [
    {
     "name": "stdout",
     "output_type": "stream",
     "text": [
      "Output:  Alice eats apples. -> <re.Match object; span=(0, 18), match='Alice eats apples.'>\n",
      "Output:  Bob pets cats. -> <re.Match object; span=(0, 14), match='Bob pets cats.'>\n",
      "Output:  Carol throws baseballs. -> <re.Match object; span=(0, 23), match='Carol throws baseballs.'>\n",
      "Output:  Alice throws Apples. -> <re.Match object; span=(0, 20), match='Alice throws Apples.'>\n",
      "Output:  BOB EATS CATS. -> <re.Match object; span=(0, 14), match='BOB EATS CATS.'>\n",
      "Output:  RoboCop eats apples. -> None\n",
      "Output:  ALICE THROWS FOOTBALLS. -> None\n",
      "Output:  Carol eats 7 cats. -> None\n"
     ]
    }
   ],
   "source": [
    "import re\n",
    "pattern = r'(Alice|Bob|Carol)\\s(eats|pets|throws)\\s(apples|cats|baseballs)\\.'\n",
    "casex = re.compile(pattern,re.IGNORECASE)\n",
    "for ele in ['Alice eats apples.','Bob pets cats.','Carol throws baseballs.','Alice throws Apples.','BOB EATS CATS.','RoboCop eats apples.'\n",
    ",'ALICE THROWS FOOTBALLS.','Carol eats 7 cats.']:\n",
    "    print('Output: ',ele,'->',casex.search(ele))"
   ]
  }
 ],
 "metadata": {
  "kernelspec": {
   "display_name": "Python 3 (ipykernel)",
   "language": "python",
   "name": "python3"
  },
  "language_info": {
   "codemirror_mode": {
    "name": "ipython",
    "version": 3
   },
   "file_extension": ".py",
   "mimetype": "text/x-python",
   "name": "python",
   "nbconvert_exporter": "python",
   "pygments_lexer": "ipython3",
   "version": "3.9.7"
  }
 },
 "nbformat": 4,
 "nbformat_minor": 5
}
