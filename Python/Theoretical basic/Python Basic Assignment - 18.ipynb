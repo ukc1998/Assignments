{
 "cells": [
  {
   "cell_type": "markdown",
   "id": "5c20280c",
   "metadata": {},
   "source": [
    "# Python Basic Assignment - 24"
   ]
  },
  {
   "cell_type": "markdown",
   "id": "66917047",
   "metadata": {},
   "source": []
  },
  {
   "cell_type": "markdown",
   "id": "ccb085a7",
   "metadata": {},
   "source": []
  },
  {
   "cell_type": "markdown",
   "id": "9f52126b",
   "metadata": {},
   "source": [
    "### Question 1. \n",
    "What is the relationship between def statements and lambda expressions ?\n",
    "\n",
    "Answer:\n"
   ]
  },
  {
   "cell_type": "markdown",
   "id": "e13f73ed",
   "metadata": {},
   "source": [
    "def statement is used to create a normal function, where as lambda expressions are used to create anonymous functions. which can be assigned to a variable and can be called using the variable later in function.\n",
    "\n",
    "Lambda's body is a single expression and not a block of statements like def statement. The lambda expression's body is similar to what we put in a def body's return statement. We simply type the result as an expression instead of explicitly returning it. Because it is limited to an expression, a lambda is less general than a def statement."
   ]
  },
  {
   "cell_type": "markdown",
   "id": "bd5d0cf9",
   "metadata": {},
   "source": []
  },
  {
   "cell_type": "markdown",
   "id": "7f3319f5",
   "metadata": {},
   "source": []
  },
  {
   "cell_type": "markdown",
   "id": "bad1c49b",
   "metadata": {},
   "source": [
    "### Question2. \n",
    "What is the benefit of lambda?\n",
    "\n",
    "Answer:\n"
   ]
  },
  {
   "cell_type": "markdown",
   "id": "537e3592",
   "metadata": {},
   "source": [
    "The following are some of the benefits of lambda expressions:\n",
    "\n",
    "1.) Can be used to create nameless/anonymous functions inside some complex functions if we are planning to use it only once.\n",
    "<br>\n",
    "2.) Moderate to small functions can be created in a single line.\n",
    "<br>\n",
    "3.) Fuctions created using lambda expressions can be assigned to a variable and can be used by simply calling the variable."
   ]
  },
  {
   "cell_type": "markdown",
   "id": "a8fea25b",
   "metadata": {},
   "source": []
  },
  {
   "cell_type": "markdown",
   "id": "2a46e4bb",
   "metadata": {},
   "source": []
  },
  {
   "cell_type": "markdown",
   "id": "51f1acce",
   "metadata": {},
   "source": [
    "### Question3. \n",
    "Compare and contrast map, filter, and reduce.\n",
    "\n",
    "Answer:\n"
   ]
  },
  {
   "cell_type": "markdown",
   "id": "f155b2b8",
   "metadata": {},
   "source": [
    "The differences between map, filter and reduce are:\n",
    "\n",
    "1.) map(): The map() function is a type of higher-order. This function takes another function as a parameter along with a sequence of iterables and returns an output after applying the function to each iterable present in the sequence.\n",
    "<br>\n",
    "2.) filter(): The filter() function is used to create an output list consisting of values for which the function returns true.\n",
    "<br>\n",
    "3.) reduce(): The reduce() function, as the name describes, applies a given function to the iterables and returns a single value"
   ]
  },
  {
   "cell_type": "markdown",
   "id": "540838a9",
   "metadata": {},
   "source": []
  },
  {
   "cell_type": "code",
   "execution_count": 1,
   "id": "29124a7f",
   "metadata": {},
   "outputs": [
    {
     "name": "stdout",
     "output_type": "stream",
     "text": [
      "Map ----> [2, 4, 6, 8]\n",
      "Filter ----> [1, 3]\n",
      "Reduce ----> 21\n"
     ]
    }
   ],
   "source": [
    "from functools import reduce\n",
    "\n",
    "# map function\n",
    "print('Map ---->',list(map(lambda x:x+x, [1,2,3,4])))\n",
    "\n",
    "# fitler function\n",
    "print('Filter ---->',list(filter(lambda x:x%2 !=0, [1,2,3,4])))\n",
    "\n",
    "# reduce function\n",
    "print('Reduce ---->',reduce(lambda x,y:x+y, [1,2,3,4,5,6]))"
   ]
  },
  {
   "cell_type": "markdown",
   "id": "c314d470",
   "metadata": {},
   "source": []
  },
  {
   "cell_type": "markdown",
   "id": "2d9b0e67",
   "metadata": {},
   "source": []
  },
  {
   "cell_type": "markdown",
   "id": "2a44a6a8",
   "metadata": {},
   "source": [
    "### Question4. \n",
    "What are function annotations, and how are they used?\n",
    "\n",
    "Answer:\n"
   ]
  },
  {
   "cell_type": "markdown",
   "id": "492a774b",
   "metadata": {},
   "source": [
    "Function annotation is the standard way to access the metadata with the arguments and the return value of the function. These are nothing but some random and optional Python expressions that get allied to different parts of the function. They get evaluated only during the compile-time and have no significance during the run-time of the code. They do not have any significance or meaning associated with them until accessed by some third-party libraries. They are used to type check the functions by declaring the type of the parameters and the return value for the functions. The string-based annotations help us to improve the help messages.\n",
    "\n",
    "* Syntax :\n",
    "\n",
    "def func(a: 'int') -> 'int':\n",
    "pass\n",
    "\n",
    "* Annotations for simple parameters:\n",
    "\n",
    "def func(x: 'float'=10.8, y: 'argument2'):\n",
    "\n",
    "In the above code the argument, ‘x’ of the function func, has been annotated to float data type and the argument ‘y’ has a string-based annotation. The argument can also be assigned to a default value using a ‘=’ symbol followed by the default value. These default values are optional to the code.\n",
    "\n",
    "* Annotations for return values:\n",
    "\n",
    "def func(a: expression) -> 'int':\n",
    "\n",
    "The annotations for the return value is written after the ‘->’ symbol."
   ]
  },
  {
   "cell_type": "code",
   "execution_count": 2,
   "id": "fe4ae913",
   "metadata": {},
   "outputs": [
    {
     "name": "stdout",
     "output_type": "stream",
     "text": [
      "{'n': 'float', 'b': 'int', 'return': 'result'}\n"
     ]
    }
   ],
   "source": [
    "def fib(n:'float', b:'int')-> 'result': \n",
    "    pass\n",
    "\n",
    "print(fib.__annotations__)"
   ]
  },
  {
   "cell_type": "markdown",
   "id": "ec0a37e7",
   "metadata": {},
   "source": []
  },
  {
   "cell_type": "markdown",
   "id": "090b15d3",
   "metadata": {},
   "source": []
  },
  {
   "cell_type": "markdown",
   "id": "7cc59758",
   "metadata": {},
   "source": [
    "### Question5. \n",
    "What are recursive functions, and how are they used?\n",
    "\n",
    "Answer:\n"
   ]
  },
  {
   "cell_type": "markdown",
   "id": "b0cb226a",
   "metadata": {},
   "source": [
    "A recursive function is a function that calls itself during its execution. This means that the function will continue to call itself and repeat its behavior until some condition is met to return a result."
   ]
  },
  {
   "cell_type": "markdown",
   "id": "8090b219",
   "metadata": {},
   "source": []
  },
  {
   "cell_type": "markdown",
   "id": "9f69b0ad",
   "metadata": {},
   "source": []
  },
  {
   "cell_type": "markdown",
   "id": "82740f59",
   "metadata": {},
   "source": [
    "### Question6. \n",
    "What are some general design guidelines for coding functions?\n",
    "\n",
    "Answer:\n"
   ]
  },
  {
   "cell_type": "markdown",
   "id": "1887e119",
   "metadata": {},
   "source": [
    "Some of the general design guidelines for coding functions are:\n",
    "    \n",
    "1. Use 4-space indentation and no tabs to increase the code readability\n",
    "<br>\n",
    "2. Use docstrings to explain the functionality of the function\n",
    "<br>\n",
    "3. Wrap linethat they don’t exceed 79 characters\n",
    "<br>\n",
    "4. Use of regular and updated comments are valuable to both the coders and users\n",
    "<br>\n",
    "5. Use of trailing commas : in case of tuple -> ('good',)\n",
    "<br>\n",
    "6. Use Python’s default UTF-8 or ASCII encodings and not any fancy encodings\n",
    "<br>\n",
    "7. Naming Conventions 8.Characters that should not be used for identifiers : ‘l’ (lowercase letter el), ‘O’ (uppercase letter oh), ‘I’ (uppercase letter eye) as single character variable names as these are similar to the numerals one and zero.\n",
    "<br>\n",
    "8. Don’t use non-ASCII characters in identifiers\n",
    "<br>\n",
    "9. Name your classes and functions consistently\n",
    "<br>\n",
    "10. While naming of function of methods always use self for the first argument \n",
    "<br>\n",
    "11. Avoid using or limited use of global variables\n",
    "<br>\n",
    "12. Avoid using digits while choosing a variable name\n",
    "<br>\n",
    "13. Try to use a name for the function which conveys the purpose of the function\n",
    "<br>\n",
    "14. Local variables should be named using camelCase format `(ex: localVariable)` whereas Global variables names should be using PascalCase `(ex:GlobalVariable)`.\n",
    "<br>\n",
    "15. Constant should be represented in allcaps `(ex:CONSTANT)`."
   ]
  },
  {
   "cell_type": "markdown",
   "id": "4ec023fa",
   "metadata": {},
   "source": []
  },
  {
   "cell_type": "markdown",
   "id": "84bc5d32",
   "metadata": {},
   "source": []
  },
  {
   "cell_type": "markdown",
   "id": "c7794ec7",
   "metadata": {},
   "source": [
    "### Question7. \n",
    "Name three or more ways that functions can communicate results to a caller.\n",
    "\n",
    "Answer:\n"
   ]
  },
  {
   "cell_type": "markdown",
   "id": "8a5693e8",
   "metadata": {},
   "source": [
    "Some of the ways in which a function can communicate with the calling function is:\n",
    "\n",
    "1. print\n",
    "2. return\n",
    "3. yield"
   ]
  }
 ],
 "metadata": {
  "kernelspec": {
   "display_name": "Python 3 (ipykernel)",
   "language": "python",
   "name": "python3"
  },
  "language_info": {
   "codemirror_mode": {
    "name": "ipython",
    "version": 3
   },
   "file_extension": ".py",
   "mimetype": "text/x-python",
   "name": "python",
   "nbconvert_exporter": "python",
   "pygments_lexer": "ipython3",
   "version": "3.9.7"
  }
 },
 "nbformat": 4,
 "nbformat_minor": 5
}
