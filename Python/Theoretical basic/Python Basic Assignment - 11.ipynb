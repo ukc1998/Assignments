{
 "cells": [
  {
   "cell_type": "markdown",
   "id": "9ddb1541",
   "metadata": {},
   "source": [
    "# Python Basic Assignment - 19"
   ]
  },
  {
   "cell_type": "markdown",
   "id": "61748e09",
   "metadata": {},
   "source": []
  },
  {
   "cell_type": "markdown",
   "id": "64b2ed18",
   "metadata": {},
   "source": []
  },
  {
   "cell_type": "markdown",
   "id": "1d37e9f5",
   "metadata": {},
   "source": [
    "### Question 1. \n",
    "Make a class called Thing with no contents and print it. Then, create an object called example from this class and also print it. Are the printed values the same or different?\n",
    "\n",
    "Answer:\n"
   ]
  },
  {
   "cell_type": "code",
   "execution_count": 1,
   "id": "16e67616",
   "metadata": {},
   "outputs": [
    {
     "name": "stdout",
     "output_type": "stream",
     "text": [
      "<class '__main__.Thing'>\n",
      "<__main__.Thing object at 0x000001722DE27760>\n"
     ]
    }
   ],
   "source": [
    "class Thing:\n",
    "    pass\n",
    "\n",
    "print(Thing)\n",
    "\n",
    "example = Thing()\n",
    "print(example)"
   ]
  },
  {
   "cell_type": "markdown",
   "id": "4f35e834",
   "metadata": {},
   "source": [
    "Printed values are not same, second one prints details of object along with the details of class."
   ]
  },
  {
   "cell_type": "markdown",
   "id": "89fbd773",
   "metadata": {},
   "source": []
  },
  {
   "cell_type": "markdown",
   "id": "8e5feabd",
   "metadata": {},
   "source": []
  },
  {
   "cell_type": "markdown",
   "id": "ed384414",
   "metadata": {},
   "source": [
    "### Question 2. \n",
    "Create a new class called Thing2 and add the value 'abc' to the letters class attribute. Letters should be printed.\n",
    "\n",
    "Answer:\n"
   ]
  },
  {
   "cell_type": "code",
   "execution_count": 2,
   "id": "da439fcb",
   "metadata": {},
   "outputs": [
    {
     "name": "stdout",
     "output_type": "stream",
     "text": [
      "abc\n"
     ]
    }
   ],
   "source": [
    "class Thing2:\n",
    "    letters = 'abc'\n",
    "    \n",
    "print(Thing2.letters)"
   ]
  },
  {
   "cell_type": "markdown",
   "id": "eeafd1b7",
   "metadata": {},
   "source": []
  },
  {
   "cell_type": "markdown",
   "id": "3b926f62",
   "metadata": {},
   "source": []
  },
  {
   "cell_type": "markdown",
   "id": "9bf4c1bc",
   "metadata": {},
   "source": [
    "### Question 3. \n",
    "Make yet another class called, of course, Thing3. This time, assign the value 'xyz' to an instance (object) attribute called letters. Print letters. Do you need to make an object from the class to do this?\n",
    "\n",
    "Answer:\n"
   ]
  },
  {
   "cell_type": "code",
   "execution_count": 3,
   "id": "673dc38b",
   "metadata": {},
   "outputs": [
    {
     "name": "stdout",
     "output_type": "stream",
     "text": [
      "xyz\n"
     ]
    }
   ],
   "source": [
    "class Thing3:\n",
    "    \n",
    "    def __init__(self,letters):\n",
    "        self.letter = letters\n",
    "        \n",
    "    def alternative(self):\n",
    "        print(self.letter)\n",
    "        \n",
    "Thing3('xyz').alternative()"
   ]
  },
  {
   "cell_type": "markdown",
   "id": "44c1c2dc",
   "metadata": {},
   "source": [
    "No, we don't need to make an object from the class to print letters."
   ]
  },
  {
   "cell_type": "markdown",
   "id": "85e699d7",
   "metadata": {},
   "source": []
  },
  {
   "cell_type": "markdown",
   "id": "1b90bc4c",
   "metadata": {},
   "source": []
  },
  {
   "cell_type": "markdown",
   "id": "e35f137d",
   "metadata": {},
   "source": [
    "### Question 4. \n",
    "Create an Element class with the instance attributes name, symbol, and number. Create a class object with the values 'Hydrogen', 'H', and 1.\n",
    "\n",
    "Answer:\n"
   ]
  },
  {
   "cell_type": "code",
   "execution_count": 4,
   "id": "8ae80dd8",
   "metadata": {},
   "outputs": [],
   "source": [
    "class Element:   \n",
    "    def __init__(self, name, symbol, number):\n",
    "        self.name = name\n",
    "        self.symbol = symbol\n",
    "        self.number = number\n",
    "\n",
    "Element_class_object = Element('Hydrogen','H',1)"
   ]
  },
  {
   "cell_type": "code",
   "execution_count": 5,
   "id": "ea08cec5",
   "metadata": {},
   "outputs": [
    {
     "data": {
      "text/plain": [
       "'Hydrogen'"
      ]
     },
     "execution_count": 5,
     "metadata": {},
     "output_type": "execute_result"
    }
   ],
   "source": [
    "Element_class_object.name"
   ]
  },
  {
   "cell_type": "code",
   "execution_count": 6,
   "id": "06e130e2",
   "metadata": {},
   "outputs": [
    {
     "data": {
      "text/plain": [
       "'H'"
      ]
     },
     "execution_count": 6,
     "metadata": {},
     "output_type": "execute_result"
    }
   ],
   "source": [
    "Element_class_object.symbol"
   ]
  },
  {
   "cell_type": "code",
   "execution_count": 7,
   "id": "f8cb1c99",
   "metadata": {},
   "outputs": [
    {
     "data": {
      "text/plain": [
       "1"
      ]
     },
     "execution_count": 7,
     "metadata": {},
     "output_type": "execute_result"
    }
   ],
   "source": [
    "Element_class_object.number"
   ]
  },
  {
   "cell_type": "markdown",
   "id": "cc2ede44",
   "metadata": {},
   "source": []
  },
  {
   "cell_type": "markdown",
   "id": "07056d9c",
   "metadata": {},
   "source": []
  },
  {
   "cell_type": "markdown",
   "id": "f65d4492",
   "metadata": {},
   "source": [
    "### Question 5. \n",
    "Make a dictionary with these keys and values: 'name': 'Hydrogen', 'symbol': 'H', 'number': 1. Then, create an object called hydrogen from class Element using this dictionary.\n",
    "\n",
    "Answer:\n"
   ]
  },
  {
   "cell_type": "code",
   "execution_count": 8,
   "id": "be17c6f1",
   "metadata": {},
   "outputs": [
    {
     "name": "stdout",
     "output_type": "stream",
     "text": [
      "{'name': 'Hydrogen', 'symbol': 'H', 'number': 1}\n",
      "\n",
      "Using Method #1 ---->\tHydrogen\tH\t1\n",
      "Using Method #2 ---->\tHydrogen\tH\t1\n"
     ]
    }
   ],
   "source": [
    "dictionary = {'name':'Hydrogen','symbol':'H','number':1}\n",
    "print(dictionary)\n",
    "print()\n",
    "\n",
    "# Method 1\n",
    "hydrogen = Element(*dictionary.values())\n",
    "print('Using Method #1 ---->', hydrogen.name, hydrogen.symbol, hydrogen.number, sep='\\t')\n",
    "\n",
    "# Method 2\n",
    "hydrogen = Element(**dictionary)\n",
    "print('Using Method #2 ---->', hydrogen.name, hydrogen.symbol, hydrogen.number, sep='\\t')"
   ]
  },
  {
   "cell_type": "markdown",
   "id": "6ede015c",
   "metadata": {},
   "source": []
  },
  {
   "cell_type": "markdown",
   "id": "d096e887",
   "metadata": {},
   "source": []
  },
  {
   "cell_type": "markdown",
   "id": "389544b3",
   "metadata": {},
   "source": [
    "### Question 6. \n",
    "For the Element class, define a method called dump() that prints the values of the object’s attributes (name, symbol, and number). Create the hydrogen object from this new definition and use dump() to print its attributes.\n",
    "\n",
    "Answer:\n"
   ]
  },
  {
   "cell_type": "code",
   "execution_count": 9,
   "id": "9d2ef1e9",
   "metadata": {},
   "outputs": [
    {
     "name": "stdout",
     "output_type": "stream",
     "text": [
      "Hydrogen H 1\n"
     ]
    }
   ],
   "source": [
    "class Element:\n",
    "    \n",
    "    def __init__(self, name, symbol, number):\n",
    "        self.name = name\n",
    "        self.symbol = symbol\n",
    "        self.number = number \n",
    "        \n",
    "    def dump(self):\n",
    "        return print(self.name, self.symbol, self.number)\n",
    "        \n",
    "hydrogen = Element('Hydrogen','H',1)\n",
    "hydrogen.dump()"
   ]
  },
  {
   "cell_type": "markdown",
   "id": "49171fd9",
   "metadata": {},
   "source": []
  },
  {
   "cell_type": "markdown",
   "id": "314fca5f",
   "metadata": {},
   "source": []
  },
  {
   "cell_type": "markdown",
   "id": "c3644798",
   "metadata": {},
   "source": [
    "### Question 7. \n",
    "Call print(hydrogen). In the definition of Element, change the name of method dump to __str__, create a new hydrogen object, and call print(hydrogen) again.\n",
    "\n",
    "Answer:\n"
   ]
  },
  {
   "cell_type": "code",
   "execution_count": 10,
   "id": "c0f9be04",
   "metadata": {},
   "outputs": [
    {
     "name": "stdout",
     "output_type": "stream",
     "text": [
      "<__main__.Element object at 0x000001722DE6FDC0>\n",
      "Hydrogen H 1\n"
     ]
    }
   ],
   "source": [
    "print(hydrogen)\n",
    "\n",
    "\n",
    "class Element:\n",
    "    \n",
    "    def __init__(self, name, symbol, number):\n",
    "        self.name = name\n",
    "        self.symbol = symbol\n",
    "        self.number = number \n",
    "        \n",
    "    def __str__(self):\n",
    "        return f'{self.name} {self.symbol} {self.number}'\n",
    "        \n",
    "hydrogen = Element('Hydrogen','H',1)\n",
    "print(hydrogen)"
   ]
  },
  {
   "cell_type": "markdown",
   "id": "9e7edc26",
   "metadata": {},
   "source": [
    "##### Conclusion:\n",
    "By using print(hydrogen), we can directly access the return value of the __str__ method."
   ]
  },
  {
   "cell_type": "markdown",
   "id": "fcd8b4f8",
   "metadata": {},
   "source": []
  },
  {
   "cell_type": "markdown",
   "id": "5db77620",
   "metadata": {},
   "source": []
  },
  {
   "cell_type": "markdown",
   "id": "0f0f964d",
   "metadata": {},
   "source": [
    "### Question 8. \n",
    "Modify Element to make the attributes name, symbol, and number private. Define a getter property for each to return its value.\n",
    "\n",
    "Answer:\n"
   ]
  },
  {
   "cell_type": "code",
   "execution_count": 11,
   "id": "9ff3cb95",
   "metadata": {},
   "outputs": [
    {
     "name": "stdout",
     "output_type": "stream",
     "text": [
      "Hydrogen\n",
      "\n",
      "H\n",
      "\n",
      "1\n"
     ]
    }
   ],
   "source": [
    "class Element:\n",
    "    def __init__(self,name,symbol,number):\n",
    "        self.__name = name\n",
    "        self.__symbol = symbol\n",
    "        self.__number = number\n",
    "    \n",
    "    @property\n",
    "    def get_name(self):\n",
    "        return self.__name\n",
    "    \n",
    "    @property\n",
    "    def get_symbol(self):\n",
    "        return self.__symbol\n",
    "    \n",
    "    @property\n",
    "    def get_number(self):\n",
    "        return self.__number\n",
    "    \n",
    "hydrogen = Element('Hydrogen','H',1)\n",
    "print(hydrogen.get_name)\n",
    "print()\n",
    "print(hydrogen.get_symbol)\n",
    "print()\n",
    "print(hydrogen.get_number)"
   ]
  },
  {
   "cell_type": "markdown",
   "id": "9963bd1b",
   "metadata": {},
   "source": []
  },
  {
   "cell_type": "markdown",
   "id": "a6e7bc50",
   "metadata": {},
   "source": []
  },
  {
   "cell_type": "markdown",
   "id": "adf2cbf8",
   "metadata": {},
   "source": [
    "### Question 9. \n",
    "Define three classes: Bear, Rabbit, and Octothorpe. For each, define only one method: eats(). This should return 'berries' (Bear), 'clover' (Rabbit), or 'campers' (Octothorpe). Create one object from each and print what it eats.\n",
    "\n",
    "Answer:\n"
   ]
  },
  {
   "cell_type": "code",
   "execution_count": 12,
   "id": "ffbf076d",
   "metadata": {},
   "outputs": [
    {
     "name": "stdout",
     "output_type": "stream",
     "text": [
      "berries\n",
      "clover\n",
      "campers\n"
     ]
    }
   ],
   "source": [
    "#Defining three classes\n",
    "\n",
    "class Bear:\n",
    "    def eats(self):\n",
    "        print('berries')\n",
    "class Rabbit:\n",
    "    def eats(self):\n",
    "        print('clover')\n",
    "class Octothorpe:\n",
    "    def eats(self):\n",
    "        print('campers')\n",
    "\n",
    "        \n",
    "#Creating one object from each        \n",
    "bear_object = Bear()\n",
    "rabbit_object = Rabbit()\n",
    "octothrope_object = Octothorpe()\n",
    "\n",
    "\n",
    "#printing what each eats\n",
    "bear_object.eats()\n",
    "rabbit_object.eats()\n",
    "octothrope_object.eats()"
   ]
  },
  {
   "cell_type": "markdown",
   "id": "57aaf5df",
   "metadata": {},
   "source": []
  },
  {
   "cell_type": "markdown",
   "id": "d27de577",
   "metadata": {},
   "source": []
  },
  {
   "cell_type": "markdown",
   "id": "4f56eb17",
   "metadata": {},
   "source": [
    "### Question 10. \n",
    "Define these classes: Laser, Claw, and SmartPhone. Each has only one method: does(). This returns 'disintegrate' (Laser), 'crush' (Claw), or 'ring' (SmartPhone). Then, define the class Robot that has one instance (object) of each of these. Define a does() method for the Robot that prints what its component objects do.\n",
    "\n",
    "Answer:\n"
   ]
  },
  {
   "cell_type": "code",
   "execution_count": 13,
   "id": "a4756fed",
   "metadata": {},
   "outputs": [
    {
     "name": "stdout",
     "output_type": "stream",
     "text": [
      "disintegrate crush ring\n"
     ]
    }
   ],
   "source": [
    "class Laser:\n",
    "    def does(self):\n",
    "        return 'disintegrate'\n",
    "class Claw:\n",
    "    def does(self):\n",
    "        return 'crush'\n",
    "class Smartphone:\n",
    "    def does(self):\n",
    "        return 'ring'\n",
    "    \n",
    "    \n",
    "class Robot:\n",
    "    def __init__(self):\n",
    "        self.laser = Laser()\n",
    "        self.claw = Claw()\n",
    "        self.smartphone = Smartphone()\n",
    "    def does(self):\n",
    "        print(self.laser.does(), self.claw.does(), self.smartphone.does())\n",
    "\n",
    "\n",
    "object_for_Robot_class = Robot()\n",
    "object_for_Robot_class.does()"
   ]
  }
 ],
 "metadata": {
  "kernelspec": {
   "display_name": "Python 3 (ipykernel)",
   "language": "python",
   "name": "python3"
  },
  "language_info": {
   "codemirror_mode": {
    "name": "ipython",
    "version": 3
   },
   "file_extension": ".py",
   "mimetype": "text/x-python",
   "name": "python",
   "nbconvert_exporter": "python",
   "pygments_lexer": "ipython3",
   "version": "3.9.7"
  }
 },
 "nbformat": 4,
 "nbformat_minor": 5
}
