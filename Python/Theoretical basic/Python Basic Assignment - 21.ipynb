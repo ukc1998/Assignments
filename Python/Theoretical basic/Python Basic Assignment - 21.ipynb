{
 "cells": [
  {
   "cell_type": "markdown",
   "id": "2b397626",
   "metadata": {},
   "source": [
    "# Python Basic Assignment - 4"
   ]
  },
  {
   "cell_type": "markdown",
   "id": "bc69d9f5",
   "metadata": {},
   "source": []
  },
  {
   "cell_type": "markdown",
   "id": "cfad836e",
   "metadata": {},
   "source": []
  },
  {
   "cell_type": "markdown",
   "id": "514846ce",
   "metadata": {},
   "source": [
    "### Question1.\n",
    "What exactly is []?\n",
    "\n",
    "Answer:\n",
    "\n",
    "[] is an empty list value that contains no elements in it."
   ]
  },
  {
   "cell_type": "markdown",
   "id": "c0981240",
   "metadata": {},
   "source": []
  },
  {
   "cell_type": "markdown",
   "id": "f589cb12",
   "metadata": {},
   "source": []
  },
  {
   "cell_type": "code",
   "execution_count": null,
   "id": "a8a15abc",
   "metadata": {},
   "outputs": [],
   "source": [
    "### Question2.\n",
    "In a list of values stored in a variable called spam, how would you assign the value \"hello\" as the\n",
    "third value? (Assume [2, 4, 6, 8, 10] are in spam.)\n",
    "\n",
    "Answer:\n",
    "Since, spam = [2, 4, 6, 8, 10] and we want to assign the value \"hello\" as the third value.\n",
    "Therefore, \"hello\" must have an index of 2 if we are opting forward indexing method or \n",
    "an index of -3 if we are opting for backward indexing method, and assignment can be done as follows:\n",
    "\n",
    "spam[2] = \"hello\"\n",
    "\n",
    "or \n",
    "\n",
    "spam[-3] = \"hello\"\n",
    "\n",
    "Crosscheck by running program:"
   ]
  },
  {
   "cell_type": "code",
   "execution_count": 1,
   "id": "ea861340",
   "metadata": {},
   "outputs": [],
   "source": [
    "spam = [2, 4, 6, 8, 10]"
   ]
  },
  {
   "cell_type": "code",
   "execution_count": 2,
   "id": "5687fd25",
   "metadata": {},
   "outputs": [],
   "source": [
    "spam[2] = \"hello\""
   ]
  },
  {
   "cell_type": "code",
   "execution_count": 3,
   "id": "ab9a02ce",
   "metadata": {},
   "outputs": [
    {
     "data": {
      "text/plain": [
       "[2, 4, 'hello', 8, 10]"
      ]
     },
     "execution_count": 3,
     "metadata": {},
     "output_type": "execute_result"
    }
   ],
   "source": [
    "spam"
   ]
  },
  {
   "cell_type": "code",
   "execution_count": 4,
   "id": "fe65f731",
   "metadata": {},
   "outputs": [],
   "source": [
    "spam = [2, 4, 6, 8, 10]"
   ]
  },
  {
   "cell_type": "code",
   "execution_count": 5,
   "id": "8cc72be9",
   "metadata": {},
   "outputs": [
    {
     "data": {
      "text/plain": [
       "[2, 4, 6, 8, 10]"
      ]
     },
     "execution_count": 5,
     "metadata": {},
     "output_type": "execute_result"
    }
   ],
   "source": [
    "spam"
   ]
  },
  {
   "cell_type": "code",
   "execution_count": 6,
   "id": "e0e9e886",
   "metadata": {},
   "outputs": [],
   "source": [
    "spam[-3] = \"hello\""
   ]
  },
  {
   "cell_type": "code",
   "execution_count": 7,
   "id": "a0909dc6",
   "metadata": {},
   "outputs": [
    {
     "data": {
      "text/plain": [
       "[2, 4, 'hello', 8, 10]"
      ]
     },
     "execution_count": 7,
     "metadata": {},
     "output_type": "execute_result"
    }
   ],
   "source": [
    "spam"
   ]
  },
  {
   "cell_type": "markdown",
   "id": "db17d4b7",
   "metadata": {},
   "source": []
  },
  {
   "cell_type": "markdown",
   "id": "d0e89786",
   "metadata": {},
   "source": []
  },
  {
   "cell_type": "code",
   "execution_count": null,
   "id": "da322f8a",
   "metadata": {},
   "outputs": [],
   "source": [
    "Let's pretend the spam includes the list ['a','b','c','d'] for the next three queries.\n",
    "\n",
    "### Question3. \n",
    "What is the value of spam[int(int('3' * 2) / 11)]?\n",
    "\n",
    "### Question4.\n",
    "What is the value of spam[-1]?\n",
    "\n",
    "### Question5.\n",
    "What is the value of spam[:2]?\n",
    "\n",
    "\n",
    "\n",
    "\n",
    "\n",
    "\n",
    "\n",
    "spam = ['a','b','c','d']\n",
    "\n",
    "\n",
    "\n",
    "\n",
    "Answer3:\n",
    "\n",
    "spam[int(int('3' * 2) / 11)] = spam[int(33 / 11)] = spam [3] = 'd'\n",
    "\n",
    "\n",
    "\n",
    "\n",
    "Answer4:\n",
    "\n",
    "spam[-1] = 'd'\n",
    "\n",
    "\n",
    "\n",
    "\n",
    "Answer5:\n",
    "\n",
    "spam[:2] = spam[0:2:1] = ['a', 'b']\n",
    "\n",
    "\n",
    "\n",
    "\n",
    "Crosscheck by running the program:\n"
   ]
  },
  {
   "cell_type": "code",
   "execution_count": 8,
   "id": "b9e0244b",
   "metadata": {},
   "outputs": [],
   "source": [
    "spam = ['a','b','c','d']"
   ]
  },
  {
   "cell_type": "code",
   "execution_count": 9,
   "id": "b2475a38",
   "metadata": {},
   "outputs": [
    {
     "data": {
      "text/plain": [
       "'d'"
      ]
     },
     "execution_count": 9,
     "metadata": {},
     "output_type": "execute_result"
    }
   ],
   "source": [
    "spam[int(int('3' * 2) / 11)]"
   ]
  },
  {
   "cell_type": "code",
   "execution_count": 10,
   "id": "df7498f3",
   "metadata": {},
   "outputs": [
    {
     "data": {
      "text/plain": [
       "'d'"
      ]
     },
     "execution_count": 10,
     "metadata": {},
     "output_type": "execute_result"
    }
   ],
   "source": [
    "spam[-1]"
   ]
  },
  {
   "cell_type": "code",
   "execution_count": 11,
   "id": "59788221",
   "metadata": {},
   "outputs": [
    {
     "data": {
      "text/plain": [
       "['a', 'b']"
      ]
     },
     "execution_count": 11,
     "metadata": {},
     "output_type": "execute_result"
    }
   ],
   "source": [
    "spam[:2]"
   ]
  },
  {
   "cell_type": "markdown",
   "id": "d8cc89ce",
   "metadata": {},
   "source": []
  },
  {
   "cell_type": "markdown",
   "id": "c8c61ef8",
   "metadata": {},
   "source": []
  },
  {
   "cell_type": "code",
   "execution_count": null,
   "id": "143bd03c",
   "metadata": {},
   "outputs": [],
   "source": [
    "Let's pretend bacon has the list [3.14, 'cat', 11, 'cat', True] for the next three questions.\n",
    "\n",
    "### Question6.\n",
    "What is the value of bacon.index('cat')?\n",
    "\n",
    "### Question7.\n",
    "How does bacon.append(99) change the look of the list value in bacon?\n",
    "\n",
    "### Question8.\n",
    "How does bacon.remove('cat') change the look of the list in bacon?\n",
    "\n",
    "\n",
    "\n",
    "\n",
    "\n",
    "\n",
    "\n",
    "bacon = [3.14, 'cat', 11, 'cat', True]\n",
    "\n",
    "\n",
    "Answer6:\n",
    "\n",
    "bacon.index('cat') = 1, however there is an another string in the list,'cat' with an index of 3,\n",
    "but index() function returns the first occurrence of an item.\n",
    "\n",
    "\n",
    "\n",
    "Answer7:\n",
    "\n",
    "bacon.append(99) will append 99 to the end of the list and thus, the list becomes as follows:\n",
    "[3.14, 'cat', 11, 'cat', True, 99]\n",
    "\n",
    "\n",
    "\n",
    "Answer8:\n",
    "\n",
    "bacon.remove('cat') will remove the first occurence of the string 'cat' from the list and thus, the list becomes as follows:\n",
    "[3.14, 11, 'cat', True]\n",
    "\n",
    "\n",
    "\n",
    "Crosscheck by running the program:"
   ]
  },
  {
   "cell_type": "code",
   "execution_count": 12,
   "id": "21715857",
   "metadata": {},
   "outputs": [],
   "source": [
    "bacon = [3.14, 'cat', 11, 'cat', True]"
   ]
  },
  {
   "cell_type": "code",
   "execution_count": 13,
   "id": "0079d749",
   "metadata": {},
   "outputs": [
    {
     "data": {
      "text/plain": [
       "1"
      ]
     },
     "execution_count": 13,
     "metadata": {},
     "output_type": "execute_result"
    }
   ],
   "source": [
    "bacon.index('cat')"
   ]
  },
  {
   "cell_type": "code",
   "execution_count": 14,
   "id": "6f839e08",
   "metadata": {},
   "outputs": [],
   "source": [
    "bacon.append(99)"
   ]
  },
  {
   "cell_type": "code",
   "execution_count": 15,
   "id": "122fd4a3",
   "metadata": {},
   "outputs": [
    {
     "data": {
      "text/plain": [
       "[3.14, 'cat', 11, 'cat', True, 99]"
      ]
     },
     "execution_count": 15,
     "metadata": {},
     "output_type": "execute_result"
    }
   ],
   "source": [
    "bacon"
   ]
  },
  {
   "cell_type": "code",
   "execution_count": 16,
   "id": "389483f9",
   "metadata": {},
   "outputs": [],
   "source": [
    "bacon = [3.14, 'cat', 11, 'cat', True]"
   ]
  },
  {
   "cell_type": "code",
   "execution_count": 17,
   "id": "2efeb8ff",
   "metadata": {},
   "outputs": [
    {
     "data": {
      "text/plain": [
       "[3.14, 'cat', 11, 'cat', True]"
      ]
     },
     "execution_count": 17,
     "metadata": {},
     "output_type": "execute_result"
    }
   ],
   "source": [
    "bacon"
   ]
  },
  {
   "cell_type": "code",
   "execution_count": 18,
   "id": "1406edcd",
   "metadata": {},
   "outputs": [],
   "source": [
    "bacon.remove('cat')"
   ]
  },
  {
   "cell_type": "code",
   "execution_count": 19,
   "id": "ae360db2",
   "metadata": {},
   "outputs": [
    {
     "data": {
      "text/plain": [
       "[3.14, 11, 'cat', True]"
      ]
     },
     "execution_count": 19,
     "metadata": {},
     "output_type": "execute_result"
    }
   ],
   "source": [
    "bacon"
   ]
  },
  {
   "cell_type": "markdown",
   "id": "df56d857",
   "metadata": {},
   "source": []
  },
  {
   "cell_type": "markdown",
   "id": "a0ee01a4",
   "metadata": {},
   "source": []
  },
  {
   "cell_type": "markdown",
   "id": "b0089e2d",
   "metadata": {},
   "source": [
    "### Question9.\n",
    "What are the list concatenation and list replication operators?\n",
    "\n",
    "Answer:\n",
    "\n",
    "The operator for list concatenation is + , while operator for list replication is *"
   ]
  },
  {
   "cell_type": "markdown",
   "id": "8d4f1bf8",
   "metadata": {},
   "source": []
  },
  {
   "cell_type": "markdown",
   "id": "a12be638",
   "metadata": {},
   "source": []
  },
  {
   "cell_type": "markdown",
   "id": "f93dca0d",
   "metadata": {},
   "source": [
    "### Question10.\n",
    "What is difference between the list methods append() and insert()?\n",
    "\n",
    "Answer:\n",
    "\n",
    "If we use append(), the default location of the value to be appended is at the last of the list. On the other hand, if we use insert(), we can add values anywhere in the list, because it takes both, a value and a specific location (index) of the value, as input."
   ]
  },
  {
   "cell_type": "markdown",
   "id": "2ddf7892",
   "metadata": {},
   "source": []
  },
  {
   "cell_type": "markdown",
   "id": "f46c863a",
   "metadata": {},
   "source": []
  },
  {
   "cell_type": "markdown",
   "id": "86616de3",
   "metadata": {},
   "source": [
    "### Question11.\n",
    "What are the two methods for removing items from a list?\n",
    "\n",
    "Answer:\n",
    "\n",
    "Following are the two methods for removing items from a list:\n",
    "\n",
    "a) The del statement can be used to delete an item in the list by providing index as input. \n",
    "<br>\n",
    "b) The remove() list method can be used to remove an item from a list by providing the value of the item as input."
   ]
  },
  {
   "cell_type": "markdown",
   "id": "824b4262",
   "metadata": {},
   "source": []
  },
  {
   "cell_type": "markdown",
   "id": "4a3b426d",
   "metadata": {},
   "source": []
  },
  {
   "cell_type": "markdown",
   "id": "a8f89b43",
   "metadata": {},
   "source": [
    "### Question12.\n",
    "Describe how list values and string values are identical.\n",
    "\n",
    "Answer:\n",
    "\n",
    "Both lists and strings can: \n",
    "\n",
    "a.) be passed to len(),\n",
    "<br>\n",
    "b.) have indexes and slices,\n",
    "<br>\n",
    "c.) be used in for loops,\n",
    "<br>\n",
    "d.) be concatenated or replicated, and\n",
    "<br>\n",
    "e.) be used with the in and not in operators."
   ]
  },
  {
   "cell_type": "markdown",
   "id": "f6bc6c05",
   "metadata": {},
   "source": []
  },
  {
   "cell_type": "markdown",
   "id": "d8329bef",
   "metadata": {},
   "source": []
  },
  {
   "cell_type": "markdown",
   "id": "4a067133",
   "metadata": {},
   "source": [
    "### Question13.\n",
    "What's the difference between tuples and lists?\n",
    "\n",
    "Answer:\n",
    "\n",
    "Lists are mutable; they can have values added, removed, or changed. On the other hand, tuples are immutable; they cannot be changed at all after their creation. \n",
    "<br>\n",
    "Also, lists use the square brackets, [], whereas tuples are written using parentheses, ()."
   ]
  },
  {
   "cell_type": "markdown",
   "id": "735c9d9e",
   "metadata": {},
   "source": []
  },
  {
   "cell_type": "markdown",
   "id": "d981b747",
   "metadata": {},
   "source": []
  },
  {
   "cell_type": "markdown",
   "id": "663279c5",
   "metadata": {},
   "source": [
    "### Question14.\n",
    "How do you type a tuple value that only contains the integer 42?\n",
    "\n",
    "Answer:\n",
    "\n",
    "To type a tuple value that only contains the integer 42, the trailing comma is compulsory and can be written as follows:\n",
    "<br>\n",
    "(42,)"
   ]
  },
  {
   "cell_type": "markdown",
   "id": "bb7aa8a0",
   "metadata": {},
   "source": []
  },
  {
   "cell_type": "markdown",
   "id": "1e6fe3fb",
   "metadata": {},
   "source": []
  },
  {
   "cell_type": "markdown",
   "id": "85632ddb",
   "metadata": {},
   "source": [
    "### Question15.\n",
    "How do you get a list value's tuple form? How do you get a tuple value's list form?\n",
    "\n",
    "Answer:\n",
    "\n",
    "We can get a list value's tuple form by using the tuple() functions, and we can get a tuple value's list form by using the list() function."
   ]
  },
  {
   "cell_type": "markdown",
   "id": "314aa36b",
   "metadata": {},
   "source": []
  },
  {
   "cell_type": "markdown",
   "id": "0f019495",
   "metadata": {},
   "source": []
  },
  {
   "cell_type": "markdown",
   "id": "431e7c10",
   "metadata": {},
   "source": [
    "### Question16.\n",
    "Variables that \"contain\" list values are not necessarily lists themselves. Instead, what do they contain?\n",
    "\n",
    "Answer:\n",
    "\n",
    "They contain references (reserved memory location) to list values."
   ]
  },
  {
   "cell_type": "markdown",
   "id": "a092acae",
   "metadata": {},
   "source": []
  },
  {
   "cell_type": "markdown",
   "id": "a354130b",
   "metadata": {},
   "source": []
  },
  {
   "cell_type": "markdown",
   "id": "4262d9ea",
   "metadata": {},
   "source": [
    "### Question17.\n",
    "How do you distinguish between copy.copy() and copy.deepcopy()?\n",
    "\n",
    "Answer:\n",
    "\n",
    "The copy.copy() function will do a shallow copy of a list, while the copy.deepcopy() function will do a deep copy of a list. That is, only copy.deepcopy() will duplicate any lists inside the list."
   ]
  }
 ],
 "metadata": {
  "kernelspec": {
   "display_name": "Python 3 (ipykernel)",
   "language": "python",
   "name": "python3"
  },
  "language_info": {
   "codemirror_mode": {
    "name": "ipython",
    "version": 3
   },
   "file_extension": ".py",
   "mimetype": "text/x-python",
   "name": "python",
   "nbconvert_exporter": "python",
   "pygments_lexer": "ipython3",
   "version": "3.9.7"
  }
 },
 "nbformat": 4,
 "nbformat_minor": 5
}
