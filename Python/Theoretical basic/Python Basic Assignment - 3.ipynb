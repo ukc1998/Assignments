{
 "cells": [
  {
   "cell_type": "markdown",
   "id": "13adf792",
   "metadata": {},
   "source": [
    "# Python Basic Assignment - 11"
   ]
  },
  {
   "cell_type": "markdown",
   "id": "6c697993",
   "metadata": {},
   "source": []
  },
  {
   "cell_type": "markdown",
   "id": "e8e586c5",
   "metadata": {},
   "source": []
  },
  {
   "cell_type": "markdown",
   "id": "bb0e209d",
   "metadata": {},
   "source": [
    "### Question1. \n",
    "Create an assert statement that throws an AssertionError if the variable spam is a negative integer.\n",
    "\n",
    "Answer:\n"
   ]
  },
  {
   "cell_type": "code",
   "execution_count": 1,
   "id": "766e4ead",
   "metadata": {},
   "outputs": [
    {
     "name": "stdout",
     "output_type": "stream",
     "text": [
      "Enter a positive integer in order to not to get any AssertionError:  -876996\n"
     ]
    },
    {
     "ename": "AssertionError",
     "evalue": "The spam variable is a negative number, which is unacceptable.",
     "output_type": "error",
     "traceback": [
      "\u001b[1;31m---------------------------------------------------------------------------\u001b[0m",
      "\u001b[1;31mAssertionError\u001b[0m                            Traceback (most recent call last)",
      "\u001b[1;32m~\\AppData\\Local\\Temp/ipykernel_8868/1176719640.py\u001b[0m in \u001b[0;36m<module>\u001b[1;34m\u001b[0m\n\u001b[0;32m      1\u001b[0m \u001b[0mspam\u001b[0m \u001b[1;33m=\u001b[0m \u001b[0mint\u001b[0m\u001b[1;33m(\u001b[0m\u001b[0minput\u001b[0m\u001b[1;33m(\u001b[0m\u001b[1;34m\"Enter a positive integer in order to not to get any AssertionError:  \"\u001b[0m\u001b[1;33m)\u001b[0m\u001b[1;33m)\u001b[0m\u001b[1;33m\u001b[0m\u001b[1;33m\u001b[0m\u001b[0m\n\u001b[1;32m----> 2\u001b[1;33m \u001b[1;32massert\u001b[0m \u001b[0mspam\u001b[0m \u001b[1;33m>=\u001b[0m \u001b[1;36m0\u001b[0m\u001b[1;33m,\u001b[0m \u001b[1;34m\"The spam variable is a negative number, which is unacceptable.\"\u001b[0m\u001b[1;33m\u001b[0m\u001b[1;33m\u001b[0m\u001b[0m\n\u001b[0m",
      "\u001b[1;31mAssertionError\u001b[0m: The spam variable is a negative number, which is unacceptable."
     ]
    }
   ],
   "source": [
    "spam = int(input(\"Enter a positive integer in order to not to get any AssertionError:  \"))\n",
    "assert spam >= 0, \"The spam variable is a negative number, which is unacceptable.\""
   ]
  },
  {
   "cell_type": "markdown",
   "id": "61c5f374",
   "metadata": {},
   "source": []
  },
  {
   "cell_type": "markdown",
   "id": "2735bb20",
   "metadata": {},
   "source": []
  },
  {
   "cell_type": "markdown",
   "id": "833d122b",
   "metadata": {},
   "source": [
    "### Question2. \n",
    "Write an assert statement that triggers an AssertionError if the variables eggs and bacon contain strings that are the same as each other, even if their cases are different (that is, 'hello' and 'hello' are considered the same, and 'goodbye' and 'GOODbye' are also considered the same).\n",
    "\n",
    "Answer:\n"
   ]
  },
  {
   "cell_type": "code",
   "execution_count": 2,
   "id": "0b85e49f",
   "metadata": {},
   "outputs": [
    {
     "name": "stdout",
     "output_type": "stream",
     "text": [
      "Enter any string:     qwERTY\n",
      "Enter any string:    qwerty\n"
     ]
    },
    {
     "ename": "AssertionError",
     "evalue": "The eggs and bacon variables are the same!",
     "output_type": "error",
     "traceback": [
      "\u001b[1;31m---------------------------------------------------------------------------\u001b[0m",
      "\u001b[1;31mAssertionError\u001b[0m                            Traceback (most recent call last)",
      "\u001b[1;32m~\\AppData\\Local\\Temp/ipykernel_8868/2971924175.py\u001b[0m in \u001b[0;36m<module>\u001b[1;34m\u001b[0m\n\u001b[0;32m      2\u001b[0m \u001b[0mbacon\u001b[0m \u001b[1;33m=\u001b[0m \u001b[0minput\u001b[0m\u001b[1;33m(\u001b[0m\u001b[1;34m\"Enter any string:    \"\u001b[0m\u001b[1;33m)\u001b[0m\u001b[1;33m\u001b[0m\u001b[1;33m\u001b[0m\u001b[0m\n\u001b[0;32m      3\u001b[0m \u001b[1;33m\u001b[0m\u001b[0m\n\u001b[1;32m----> 4\u001b[1;33m \u001b[1;32massert\u001b[0m \u001b[0meggs\u001b[0m\u001b[1;33m.\u001b[0m\u001b[0mlower\u001b[0m\u001b[1;33m(\u001b[0m\u001b[1;33m)\u001b[0m \u001b[1;33m!=\u001b[0m \u001b[0mbacon\u001b[0m\u001b[1;33m.\u001b[0m\u001b[0mlower\u001b[0m\u001b[1;33m(\u001b[0m\u001b[1;33m)\u001b[0m\u001b[1;33m,\u001b[0m \u001b[1;34m\"The eggs and bacon variables are the same!\"\u001b[0m\u001b[1;33m\u001b[0m\u001b[1;33m\u001b[0m\u001b[0m\n\u001b[0m\u001b[0;32m      5\u001b[0m \u001b[1;32massert\u001b[0m \u001b[0meggs\u001b[0m\u001b[1;33m.\u001b[0m\u001b[0mupper\u001b[0m\u001b[1;33m(\u001b[0m\u001b[1;33m)\u001b[0m \u001b[1;33m!=\u001b[0m \u001b[0mbacon\u001b[0m\u001b[1;33m.\u001b[0m\u001b[0mupper\u001b[0m\u001b[1;33m(\u001b[0m\u001b[1;33m)\u001b[0m\u001b[1;33m,\u001b[0m \u001b[1;34m\"The eggs and bacon variables are the same!\"\u001b[0m\u001b[1;33m\u001b[0m\u001b[1;33m\u001b[0m\u001b[0m\n",
      "\u001b[1;31mAssertionError\u001b[0m: The eggs and bacon variables are the same!"
     ]
    }
   ],
   "source": [
    "eggs = input(\"Enter any string:     \")\n",
    "bacon = input(\"Enter any string:    \")\n",
    "\n",
    "assert eggs.lower() != bacon.lower(), \"The eggs and bacon variables are the same!\"\n",
    "assert eggs.upper() != bacon.upper(), \"The eggs and bacon variables are the same!\""
   ]
  },
  {
   "cell_type": "markdown",
   "id": "7b281ae4",
   "metadata": {},
   "source": []
  },
  {
   "cell_type": "markdown",
   "id": "a44d73f6",
   "metadata": {},
   "source": []
  },
  {
   "cell_type": "markdown",
   "id": "83557079",
   "metadata": {},
   "source": [
    "### Question3. \n",
    "Create an assert statement that throws an AssertionError every time.\n",
    "\n",
    "Answer:\n"
   ]
  },
  {
   "cell_type": "code",
   "execution_count": 3,
   "id": "d3aef90a",
   "metadata": {},
   "outputs": [
    {
     "ename": "AssertionError",
     "evalue": "This assertion statement always throws an AssertionError.",
     "output_type": "error",
     "traceback": [
      "\u001b[1;31m---------------------------------------------------------------------------\u001b[0m",
      "\u001b[1;31mAssertionError\u001b[0m                            Traceback (most recent call last)",
      "\u001b[1;32m~\\AppData\\Local\\Temp/ipykernel_8868/2930411765.py\u001b[0m in \u001b[0;36m<module>\u001b[1;34m\u001b[0m\n\u001b[1;32m----> 1\u001b[1;33m \u001b[1;32massert\u001b[0m \u001b[1;32mFalse\u001b[0m\u001b[1;33m,\u001b[0m \u001b[1;34m'This assertion statement always throws an AssertionError.'\u001b[0m\u001b[1;33m\u001b[0m\u001b[1;33m\u001b[0m\u001b[0m\n\u001b[0m",
      "\u001b[1;31mAssertionError\u001b[0m: This assertion statement always throws an AssertionError."
     ]
    }
   ],
   "source": [
    "assert False, 'This assertion statement always throws an AssertionError.'"
   ]
  },
  {
   "cell_type": "markdown",
   "id": "57e7793c",
   "metadata": {},
   "source": []
  },
  {
   "cell_type": "markdown",
   "id": "0799dea6",
   "metadata": {},
   "source": []
  },
  {
   "cell_type": "markdown",
   "id": "4008f407",
   "metadata": {},
   "source": [
    "### Question4. \n",
    "What are the two lines that must be present in your software in order to call logging.debug()?\n",
    "\n",
    "Answer:\n",
    "\n",
    "In order to call logging.debug(), we must have following two lines at the start of our program:\n",
    "\n",
    "import logging\n",
    "<br>\n",
    "logging.basicConfig(level = logging.DEBUG, format = ' %(asctime)s %(levelname)s %(message)s')"
   ]
  },
  {
   "cell_type": "markdown",
   "id": "4685e610",
   "metadata": {},
   "source": []
  },
  {
   "cell_type": "markdown",
   "id": "9054620a",
   "metadata": {},
   "source": []
  },
  {
   "cell_type": "markdown",
   "id": "96af816c",
   "metadata": {},
   "source": [
    "### Question5. \n",
    "What are the two lines that your program must have in order to have logging.debug() send a logging message to a file named programLog.txt?\n",
    "\n",
    "Answer:\n",
    "\n",
    "To be able to send logging messages to a file named programLog.txt with logging.debug(), we must have following two lines at the start of our program:\n",
    "\n",
    "import logging\n",
    "<br>\n",
    "logging.basicConfig(filename = 'programLog.txt', level = logging.DEBUG, format = ' %(asctime)s %(levelname)s %(message)s')"
   ]
  },
  {
   "cell_type": "markdown",
   "id": "038a4571",
   "metadata": {},
   "source": []
  },
  {
   "cell_type": "markdown",
   "id": "0f5fd92e",
   "metadata": {},
   "source": []
  },
  {
   "cell_type": "markdown",
   "id": "f1482b78",
   "metadata": {},
   "source": [
    "### Question6. \n",
    "What are the five levels of logging?\n",
    "\n",
    "Answer:\n",
    "\n",
    "DEBUG, INFO, WARNING, ERROR, and CRITICAL are the five levels of logging in ascending order."
   ]
  },
  {
   "cell_type": "markdown",
   "id": "6273e371",
   "metadata": {},
   "source": []
  },
  {
   "cell_type": "markdown",
   "id": "118384b3",
   "metadata": {},
   "source": []
  },
  {
   "cell_type": "markdown",
   "id": "54b28d77",
   "metadata": {},
   "source": [
    "### Question7. \n",
    "What line of code would you add to your software to disable all logging messages?\n",
    "\n",
    "Answer:\n",
    "\n",
    "logging.disable(logging.CRITICAL) can be added to our program in order to disable all logging messages."
   ]
  },
  {
   "cell_type": "markdown",
   "id": "19b4d74a",
   "metadata": {},
   "source": []
  },
  {
   "cell_type": "markdown",
   "id": "1c5fd03b",
   "metadata": {},
   "source": []
  },
  {
   "cell_type": "markdown",
   "id": "3aa1ed77",
   "metadata": {},
   "source": [
    "### Question8.\n",
    "Why is using logging messages better than using print() to display the same message?\n",
    "\n",
    "Answer:\n",
    "\n",
    "Using logging messages better than using print() to display the same message because:\n",
    "\n",
    "1.) We can disable logging messages without removing the logging function calls.\n",
    "<br>\n",
    "2.) We can selectively disable lower-level logging messages.\n",
    "<br>\n",
    "3.) We can create logging messages.\n",
    "<br>\n",
    "4.) Logging messages provides a timestamp"
   ]
  },
  {
   "cell_type": "markdown",
   "id": "e1ca4b52",
   "metadata": {},
   "source": []
  },
  {
   "cell_type": "markdown",
   "id": "fbb74067",
   "metadata": {},
   "source": []
  },
  {
   "cell_type": "markdown",
   "id": "0ac7ae68",
   "metadata": {},
   "source": [
    "### Question9. \n",
    "What are the differences between the Step Over, Step In, and Step Out buttons in the debugger?\n",
    "\n",
    "Answer:\n",
    "\n",
    "The Step In button moves the debugger into a function call. The Step Over button quickly executes the function call without stepping into it. The Step Out button quickly executes the rest of the code until it steps out of the function it currently is in."
   ]
  },
  {
   "cell_type": "markdown",
   "id": "bad7c1f6",
   "metadata": {},
   "source": []
  },
  {
   "cell_type": "markdown",
   "id": "a299363c",
   "metadata": {},
   "source": []
  },
  {
   "cell_type": "markdown",
   "id": "219ef331",
   "metadata": {},
   "source": [
    "### Question10. \n",
    "After you click Continue, when will the debugger stop ?\n",
    "\n",
    "Answer:\n",
    "\n",
    "After we click Continue, the debugger will stop when it has reached the end of the program or a line with a breakpoint."
   ]
  },
  {
   "cell_type": "markdown",
   "id": "eb5caf8b",
   "metadata": {},
   "source": []
  },
  {
   "cell_type": "markdown",
   "id": "3ce9a8e3",
   "metadata": {},
   "source": []
  },
  {
   "cell_type": "markdown",
   "id": "61aef2f4",
   "metadata": {},
   "source": [
    "### Question11. \n",
    "What is the concept of a breakpoint?\n",
    "\n",
    "Answer:\n",
    "\n",
    "A breakpoint is a setting on a line of code that causes the debugger to pause when the program execution reaches the line."
   ]
  }
 ],
 "metadata": {
  "kernelspec": {
   "display_name": "Python 3 (ipykernel)",
   "language": "python",
   "name": "python3"
  },
  "language_info": {
   "codemirror_mode": {
    "name": "ipython",
    "version": 3
   },
   "file_extension": ".py",
   "mimetype": "text/x-python",
   "name": "python",
   "nbconvert_exporter": "python",
   "pygments_lexer": "ipython3",
   "version": "3.9.7"
  }
 },
 "nbformat": 4,
 "nbformat_minor": 5
}
