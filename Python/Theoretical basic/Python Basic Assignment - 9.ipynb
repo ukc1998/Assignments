{
 "cells": [
  {
   "cell_type": "markdown",
   "id": "c0b4737d",
   "metadata": {},
   "source": [
    "# Python Basic Assignment - 16"
   ]
  },
  {
   "cell_type": "markdown",
   "id": "dad5cc66",
   "metadata": {},
   "source": []
  },
  {
   "cell_type": "markdown",
   "id": "b5ecf4ae",
   "metadata": {},
   "source": []
  },
  {
   "cell_type": "markdown",
   "id": "bcb06814",
   "metadata": {},
   "source": [
    "### Question1. \n",
    "Create a list called years_list, starting with the year of your birth, and each year thereafter until the year of your fifth birthday. For example, if you were born in 1980. the list would be years_list = [1980, 1981, 1982, 1983, 1984, 1985].\n",
    "\n",
    "Answer:\n"
   ]
  },
  {
   "cell_type": "code",
   "execution_count": 1,
   "id": "2f0cbf3b",
   "metadata": {},
   "outputs": [
    {
     "data": {
      "text/plain": [
       "[1998, 1999, 2000, 2001, 2002, 2003]"
      ]
     },
     "execution_count": 1,
     "metadata": {},
     "output_type": "execute_result"
    }
   ],
   "source": [
    "years_list = [1998]\n",
    "i = 1\n",
    "while i<6:\n",
    "    years_list.append(1998+i)\n",
    "    i = i + 1\n",
    "years_list"
   ]
  },
  {
   "cell_type": "markdown",
   "id": "dfbe6f74",
   "metadata": {},
   "source": [
    "#### OR"
   ]
  },
  {
   "cell_type": "code",
   "execution_count": 2,
   "id": "e3e973d2",
   "metadata": {},
   "outputs": [
    {
     "data": {
      "text/plain": [
       "[1998, 1999, 2000, 2001, 2002, 2003]"
      ]
     },
     "execution_count": 2,
     "metadata": {},
     "output_type": "execute_result"
    }
   ],
   "source": [
    "years_list = [i for i in range(1998, 1998 + 6)]\n",
    "years_list"
   ]
  },
  {
   "cell_type": "markdown",
   "id": "aedec85e",
   "metadata": {},
   "source": []
  },
  {
   "cell_type": "markdown",
   "id": "a9f1d262",
   "metadata": {},
   "source": []
  },
  {
   "cell_type": "markdown",
   "id": "8953c201",
   "metadata": {},
   "source": [
    "### Question2. \n",
    "In which year in years_list was your third birthday? Remember, you were 0 years of age for your first year.\n",
    "\n",
    "Answer:\n"
   ]
  },
  {
   "cell_type": "code",
   "execution_count": 3,
   "id": "bc5f67c3",
   "metadata": {},
   "outputs": [
    {
     "data": {
      "text/plain": [
       "2001"
      ]
     },
     "execution_count": 3,
     "metadata": {},
     "output_type": "execute_result"
    }
   ],
   "source": [
    "years_list[3]"
   ]
  },
  {
   "cell_type": "markdown",
   "id": "a0b81ca9",
   "metadata": {},
   "source": []
  },
  {
   "cell_type": "markdown",
   "id": "c6b9d049",
   "metadata": {},
   "source": []
  },
  {
   "cell_type": "markdown",
   "id": "5e66b69b",
   "metadata": {},
   "source": [
    "### Question3.\n",
    "In the years list, which year were you the oldest?\n",
    "\n",
    "Answer:\n"
   ]
  },
  {
   "cell_type": "code",
   "execution_count": 4,
   "id": "366b0520",
   "metadata": {},
   "outputs": [
    {
     "data": {
      "text/plain": [
       "2003"
      ]
     },
     "execution_count": 4,
     "metadata": {},
     "output_type": "execute_result"
    }
   ],
   "source": [
    "years_list[-1]"
   ]
  },
  {
   "cell_type": "markdown",
   "id": "e556684c",
   "metadata": {},
   "source": []
  },
  {
   "cell_type": "markdown",
   "id": "52005782",
   "metadata": {},
   "source": []
  },
  {
   "cell_type": "markdown",
   "id": "b1ee2873",
   "metadata": {},
   "source": [
    "### Question4. \n",
    "Make a list called things with these three strings as elements: &quot;mozzarella&quot;, &quot;cinderella&quot;, &quot;salmonella&quot;.\n",
    "\n",
    "Answer:\n"
   ]
  },
  {
   "cell_type": "code",
   "execution_count": 5,
   "id": "b7dadc53",
   "metadata": {},
   "outputs": [
    {
     "data": {
      "text/plain": [
       "['mozzarella', 'cinderella', 'salmonella']"
      ]
     },
     "execution_count": 5,
     "metadata": {},
     "output_type": "execute_result"
    }
   ],
   "source": [
    "String_elements = [\"mozzarella\", \"cinderella\", \"salmonella\"]\n",
    "String_elements"
   ]
  },
  {
   "cell_type": "markdown",
   "id": "cd5cf90b",
   "metadata": {},
   "source": []
  },
  {
   "cell_type": "markdown",
   "id": "e5bde4c9",
   "metadata": {},
   "source": []
  },
  {
   "cell_type": "markdown",
   "id": "6beeed1d",
   "metadata": {},
   "source": [
    "### Question5. \n",
    "Capitalize the element in things that refers to a person and then print the list. Did it change the element in the list?\n",
    "\n",
    "Answer:\n"
   ]
  },
  {
   "cell_type": "code",
   "execution_count": 6,
   "id": "d7cd2f85",
   "metadata": {},
   "outputs": [
    {
     "data": {
      "text/plain": [
       "['Mozzarella', 'Cinderella', 'Salmonella']"
      ]
     },
     "execution_count": 6,
     "metadata": {},
     "output_type": "execute_result"
    }
   ],
   "source": [
    "for i in range(len(String_elements)):\n",
    "    String_elements[i] = String_elements[i].capitalize()\n",
    "\n",
    "String_elements"
   ]
  },
  {
   "cell_type": "markdown",
   "id": "fd97818d",
   "metadata": {},
   "source": []
  },
  {
   "cell_type": "markdown",
   "id": "fdcecc92",
   "metadata": {},
   "source": []
  },
  {
   "cell_type": "markdown",
   "id": "dd6b5ce6",
   "metadata": {},
   "source": [
    "### Question6. \n",
    "Make a surprise list with the elements &quot;Groucho&quot;, &quot;Chico&quot;, and &quot;Harpo.&quot;\n",
    "\n",
    "Answer:\n"
   ]
  },
  {
   "cell_type": "code",
   "execution_count": 7,
   "id": "ff7fa321",
   "metadata": {},
   "outputs": [
    {
     "data": {
      "text/plain": [
       "['Groucho', 'Chico', 'Harpo']"
      ]
     },
     "execution_count": 7,
     "metadata": {},
     "output_type": "execute_result"
    }
   ],
   "source": [
    "Surprise_List = [ \"Groucho\", \"Chico\", \"Harpo\"]\n",
    "Surprise_List"
   ]
  },
  {
   "cell_type": "markdown",
   "id": "f2552add",
   "metadata": {},
   "source": []
  },
  {
   "cell_type": "markdown",
   "id": "f2710003",
   "metadata": {},
   "source": []
  },
  {
   "cell_type": "markdown",
   "id": "bb885d9d",
   "metadata": {},
   "source": [
    "### Question7. \n",
    "Lowercase the last element of the surprise list, reverse it, and then capitalize it.\n",
    "\n",
    "Answer:\n"
   ]
  },
  {
   "cell_type": "code",
   "execution_count": 8,
   "id": "c7c63c8f",
   "metadata": {},
   "outputs": [
    {
     "data": {
      "text/plain": [
       "'harpo'"
      ]
     },
     "execution_count": 8,
     "metadata": {},
     "output_type": "execute_result"
    }
   ],
   "source": [
    "#Lowercasing the last element of the surprise list\n",
    "Surprise_List[-1].lower()"
   ]
  },
  {
   "cell_type": "code",
   "execution_count": 9,
   "id": "9842758c",
   "metadata": {},
   "outputs": [
    {
     "data": {
      "text/plain": [
       "'oprah'"
      ]
     },
     "execution_count": 9,
     "metadata": {},
     "output_type": "execute_result"
    }
   ],
   "source": [
    "#Reversing the last element of the surprise list after it was lowercased\n",
    "Surprise_List[-1].lower()[::-1]"
   ]
  },
  {
   "cell_type": "markdown",
   "id": "d7c7549d",
   "metadata": {},
   "source": []
  },
  {
   "cell_type": "code",
   "execution_count": 10,
   "id": "7c300cff",
   "metadata": {},
   "outputs": [
    {
     "data": {
      "text/plain": [
       "'Oprah'"
      ]
     },
     "execution_count": 10,
     "metadata": {},
     "output_type": "execute_result"
    }
   ],
   "source": [
    "#Capitalizing the last element of the surprise list after it was lowercased and reversed\n",
    "Surprise_List[-1].lower()[::-1].capitalize()"
   ]
  },
  {
   "cell_type": "markdown",
   "id": "e32b65b9",
   "metadata": {},
   "source": []
  },
  {
   "cell_type": "markdown",
   "id": "78f190ee",
   "metadata": {},
   "source": [
    "### Question8. \n",
    "Make an English-to-French dictionary called e2f and print it. Here are your starter words: dog is chien, cat is chat, and walrus is morse.\n",
    "\n",
    "Answer:\n"
   ]
  },
  {
   "cell_type": "code",
   "execution_count": 11,
   "id": "85e27ec3",
   "metadata": {},
   "outputs": [
    {
     "name": "stdout",
     "output_type": "stream",
     "text": [
      "{'dog': 'chien', 'cat': 'chat', 'walrus': 'morse'}\n"
     ]
    }
   ],
   "source": [
    "e2f = {\"dog\" : \"chien\", \"cat\" : \"chat\", \"walrus\" : \"morse\"}\n",
    "print(e2f)"
   ]
  },
  {
   "cell_type": "markdown",
   "id": "9466fc5f",
   "metadata": {},
   "source": []
  },
  {
   "cell_type": "markdown",
   "id": "0cabd16d",
   "metadata": {},
   "source": []
  },
  {
   "cell_type": "markdown",
   "id": "0d6d1b58",
   "metadata": {},
   "source": [
    "### Question9. \n",
    "Write the French word for walrus in your three-word dictionary e2f.\n",
    "\n",
    "Answer:\n"
   ]
  },
  {
   "cell_type": "code",
   "execution_count": 12,
   "id": "4a620a4f",
   "metadata": {},
   "outputs": [
    {
     "data": {
      "text/plain": [
       "'morse'"
      ]
     },
     "execution_count": 12,
     "metadata": {},
     "output_type": "execute_result"
    }
   ],
   "source": [
    "e2f[\"walrus\"]"
   ]
  },
  {
   "cell_type": "markdown",
   "id": "b6cf1e6a",
   "metadata": {},
   "source": []
  },
  {
   "cell_type": "markdown",
   "id": "cc4701ef",
   "metadata": {},
   "source": []
  },
  {
   "cell_type": "markdown",
   "id": "2c36da2e",
   "metadata": {},
   "source": [
    "### Question10. \n",
    "Make a French-to-English dictionary called f2e from e2f. Use the items method.\n",
    "\n",
    "Answer:\n"
   ]
  },
  {
   "cell_type": "code",
   "execution_count": 13,
   "id": "9c140ce3",
   "metadata": {},
   "outputs": [
    {
     "data": {
      "text/plain": [
       "{'chien': 'dog', 'chat': 'cat', 'morse': 'walrus'}"
      ]
     },
     "execution_count": 13,
     "metadata": {},
     "output_type": "execute_result"
    }
   ],
   "source": [
    "f2e = dict((key,value) for value,key in e2f.items())\n",
    "f2e"
   ]
  },
  {
   "cell_type": "markdown",
   "id": "fac90941",
   "metadata": {},
   "source": []
  },
  {
   "cell_type": "markdown",
   "id": "2e1c96e5",
   "metadata": {},
   "source": []
  },
  {
   "cell_type": "markdown",
   "id": "7ed121e1",
   "metadata": {},
   "source": [
    "### Question11. \n",
    "Print the English version of the French word chien using f2e.\n",
    "\n",
    "Answer:\n",
    "\n"
   ]
  },
  {
   "cell_type": "code",
   "execution_count": 14,
   "id": "308402e6",
   "metadata": {},
   "outputs": [
    {
     "data": {
      "text/plain": [
       "'dog'"
      ]
     },
     "execution_count": 14,
     "metadata": {},
     "output_type": "execute_result"
    }
   ],
   "source": [
    "f2e[\"chien\"]"
   ]
  },
  {
   "cell_type": "markdown",
   "id": "b5e87125",
   "metadata": {},
   "source": []
  },
  {
   "cell_type": "markdown",
   "id": "6c7dcc48",
   "metadata": {},
   "source": []
  },
  {
   "cell_type": "markdown",
   "id": "10c7347a",
   "metadata": {},
   "source": [
    "### Question12. \n",
    "Make and print a set of English words from the keys in e2f.\n",
    "\n",
    "Answer:\n"
   ]
  },
  {
   "cell_type": "code",
   "execution_count": 15,
   "id": "e28f8000",
   "metadata": {},
   "outputs": [
    {
     "name": "stdout",
     "output_type": "stream",
     "text": [
      "{'walrus', 'dog', 'cat'}\n"
     ]
    }
   ],
   "source": [
    "print(set(e2f.keys()))"
   ]
  },
  {
   "cell_type": "markdown",
   "id": "c2e60e0f",
   "metadata": {},
   "source": []
  },
  {
   "cell_type": "markdown",
   "id": "16b55944",
   "metadata": {},
   "source": []
  },
  {
   "cell_type": "markdown",
   "id": "90a85e10",
   "metadata": {},
   "source": [
    "### Question13. \n",
    "Make a multilevel dictionary called life. Use these strings for the topmost keys: &#39;animals&#39;, &#39;plants&#39;,\n",
    "and &#39;other&#39;. Make the &#39;animals&#39; key refer to another dictionary with the keys &#39;cats&#39;, &#39;octopi&#39;, and &#39;emus&#39;. Make the &#39;cats&#39; key refer to a list of strings with the values &#39;Henri&#39;, &#39;Grumpy&#39;, and &#39;Lucy&#39;.\n",
    "<br>\n",
    "Make all the other keys refer to empty dictionaries.\n",
    "\n",
    "Answer:\n"
   ]
  },
  {
   "cell_type": "code",
   "execution_count": 16,
   "id": "eb82c786",
   "metadata": {},
   "outputs": [
    {
     "data": {
      "text/plain": [
       "{'animals': {'cats': ['Henri', 'Grumpy', 'Lucy'], 'octopi': {}, 'emus': {}},\n",
       " 'plants': {},\n",
       " 'other': {}}"
      ]
     },
     "execution_count": 16,
     "metadata": {},
     "output_type": "execute_result"
    }
   ],
   "source": [
    "life ={'animals':{'cats':['Henri', 'Grumpy', 'Lucy'], \n",
    "                  'octopi':{}, \n",
    "                  'emus':{}\n",
    "                  },\n",
    "       'plants' :{},\n",
    "       'other' :{}\n",
    "        }\n",
    "life"
   ]
  },
  {
   "cell_type": "markdown",
   "id": "39d9a833",
   "metadata": {},
   "source": []
  },
  {
   "cell_type": "markdown",
   "id": "acc55a77",
   "metadata": {},
   "source": []
  },
  {
   "cell_type": "markdown",
   "id": "46c313c7",
   "metadata": {},
   "source": [
    "### Question14. \n",
    "Print the top-level keys of life.\n",
    "\n",
    "Answer:\n"
   ]
  },
  {
   "cell_type": "code",
   "execution_count": 17,
   "id": "f3b4a265",
   "metadata": {},
   "outputs": [
    {
     "name": "stdout",
     "output_type": "stream",
     "text": [
      "dict_keys(['animals', 'plants', 'other'])\n"
     ]
    }
   ],
   "source": [
    "print(life.keys())"
   ]
  },
  {
   "cell_type": "markdown",
   "id": "1541bf12",
   "metadata": {},
   "source": []
  },
  {
   "cell_type": "markdown",
   "id": "858eb34e",
   "metadata": {},
   "source": []
  },
  {
   "cell_type": "markdown",
   "id": "fe28bd92",
   "metadata": {},
   "source": [
    "### Question15. \n",
    "Print the keys for life[&#39;animals&#39;].\n",
    "\n",
    "Answer:\n"
   ]
  },
  {
   "cell_type": "code",
   "execution_count": 18,
   "id": "584c7aa8",
   "metadata": {},
   "outputs": [
    {
     "name": "stdout",
     "output_type": "stream",
     "text": [
      "dict_keys(['cats', 'octopi', 'emus'])\n"
     ]
    }
   ],
   "source": [
    "print(life['animals'].keys())"
   ]
  },
  {
   "cell_type": "markdown",
   "id": "d32448af",
   "metadata": {},
   "source": []
  },
  {
   "cell_type": "markdown",
   "id": "a2c411d4",
   "metadata": {},
   "source": []
  },
  {
   "cell_type": "markdown",
   "id": "9d79388e",
   "metadata": {},
   "source": [
    "### Question16. \n",
    "Print the values for life[&#39;animals&#39;][&#39;cats&#39;]\n",
    "\n",
    "Answer:\n"
   ]
  },
  {
   "cell_type": "code",
   "execution_count": 19,
   "id": "6380b1a0",
   "metadata": {},
   "outputs": [
    {
     "data": {
      "text/plain": [
       "['Henri', 'Grumpy', 'Lucy']"
      ]
     },
     "execution_count": 19,
     "metadata": {},
     "output_type": "execute_result"
    }
   ],
   "source": [
    "life['animals']['cats']"
   ]
  }
 ],
 "metadata": {
  "kernelspec": {
   "display_name": "Python 3 (ipykernel)",
   "language": "python",
   "name": "python3"
  },
  "language_info": {
   "codemirror_mode": {
    "name": "ipython",
    "version": 3
   },
   "file_extension": ".py",
   "mimetype": "text/x-python",
   "name": "python",
   "nbconvert_exporter": "python",
   "pygments_lexer": "ipython3",
   "version": "3.9.7"
  }
 },
 "nbformat": 4,
 "nbformat_minor": 5
}
