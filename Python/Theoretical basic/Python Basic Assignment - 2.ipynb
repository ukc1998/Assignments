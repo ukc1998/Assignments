{
 "cells": [
  {
   "cell_type": "markdown",
   "id": "7c5127c1",
   "metadata": {},
   "source": [
    "# Python Basic Assignment - 9"
   ]
  },
  {
   "cell_type": "markdown",
   "id": "c18a6ef1",
   "metadata": {},
   "source": []
  },
  {
   "cell_type": "markdown",
   "id": "f1f52723",
   "metadata": {},
   "source": []
  },
  {
   "cell_type": "markdown",
   "id": "56ad0296",
   "metadata": {},
   "source": [
    "### Question1. \n",
    "To what does a relative path refer?\n",
    "\n",
    "Answer:\n",
    "\n",
    "A relative path refer to the path to some file or folder with respect to the current working directory.\n",
    "\n",
    "For example: If absolute path is C:/users/admin/INEURON/FSDS.txt,  and the present working directory is C:/users/admin/ , then the relative path to FSDS.txt would be: INEURON/FSDS.txt.\n",
    "\n",
    "NOTE:\n",
    "<br>\n",
    "Present Working Directory + relative path = absolute path"
   ]
  },
  {
   "cell_type": "markdown",
   "id": "789e6395",
   "metadata": {},
   "source": []
  },
  {
   "cell_type": "markdown",
   "id": "cb190f02",
   "metadata": {},
   "source": []
  },
  {
   "cell_type": "markdown",
   "id": "77a14a75",
   "metadata": {},
   "source": [
    "### Question2. \n",
    "What does an absolute path start with your operating system?\n",
    "\n",
    "Answer:\n",
    "\n",
    "Absolute paths start with the root folder, such as / or C:\\"
   ]
  },
  {
   "cell_type": "markdown",
   "id": "9f7c8100",
   "metadata": {},
   "source": []
  },
  {
   "cell_type": "markdown",
   "id": "1a1637ef",
   "metadata": {},
   "source": []
  },
  {
   "cell_type": "markdown",
   "id": "466b52e7",
   "metadata": {},
   "source": [
    "### Question3. \n",
    "What do the functions os.getcwd() and os.chdir() do?\n",
    "\n",
    "Answer:\n",
    "\n",
    "os.getcwd() helps us to know the current working directory.\n",
    "os.chdir() helps us to change the current working directory."
   ]
  },
  {
   "cell_type": "markdown",
   "id": "0569d6a1",
   "metadata": {},
   "source": []
  },
  {
   "cell_type": "markdown",
   "id": "652f682c",
   "metadata": {},
   "source": []
  },
  {
   "cell_type": "markdown",
   "id": "eb78f099",
   "metadata": {},
   "source": [
    "### Question4. \n",
    "What are the . and .. folders?\n",
    "\n",
    "Answer:\n",
    "\n",
    "The . folder is the current folder.\n",
    "The .. is the parent folder."
   ]
  },
  {
   "cell_type": "markdown",
   "id": "f10e3645",
   "metadata": {},
   "source": []
  },
  {
   "cell_type": "markdown",
   "id": "0ecb3814",
   "metadata": {},
   "source": []
  },
  {
   "cell_type": "markdown",
   "id": "01246e42",
   "metadata": {},
   "source": [
    "### Question5. \n",
    "In C:\\bacon\\eggs\\spam.txt, which part is the dir name, and which part is the base name?\n",
    "\n",
    "Answer:\n",
    "\n",
    "C:\\bacon\\eggs is the dir name, while spam.txt is the base name."
   ]
  },
  {
   "cell_type": "markdown",
   "id": "40270fdf",
   "metadata": {},
   "source": []
  },
  {
   "cell_type": "markdown",
   "id": "6e789fb9",
   "metadata": {},
   "source": []
  },
  {
   "cell_type": "markdown",
   "id": "836f1c29",
   "metadata": {},
   "source": [
    "### Question6. \n",
    "What are the three “mode” arguments that can be passed to the open() function?\n",
    "\n",
    "Answer:\n",
    "\n",
    "The string 'r' for read mode, 'w' for write mode, and 'a' for append mode are the three “mode” arguments that can be passed to the open() function"
   ]
  },
  {
   "cell_type": "markdown",
   "id": "ad7aefdf",
   "metadata": {},
   "source": []
  },
  {
   "cell_type": "markdown",
   "id": "3175399e",
   "metadata": {},
   "source": []
  },
  {
   "cell_type": "markdown",
   "id": "45487e1a",
   "metadata": {},
   "source": [
    "### Question7. \n",
    "What happens if an existing file is opened in write mode?\n",
    "\n",
    "Answer:\n",
    "\n",
    "If an existing file is opened in write mode, then the existing file is erased and completely overwritten."
   ]
  },
  {
   "cell_type": "markdown",
   "id": "b20dbb61",
   "metadata": {},
   "source": []
  },
  {
   "cell_type": "markdown",
   "id": "c2e943c6",
   "metadata": {},
   "source": []
  },
  {
   "cell_type": "markdown",
   "id": "102c4f6f",
   "metadata": {},
   "source": [
    "### Question8. \n",
    "How do you tell the difference between read() and readlines()?\n",
    "\n",
    "Answer:\n",
    "\n",
    "The read() method returns the file’s entire contents as a single string value, while the readlines() method returns a list of strings, where each string is a line from the file’s contents."
   ]
  },
  {
   "cell_type": "markdown",
   "id": "ed1730af",
   "metadata": {},
   "source": []
  },
  {
   "cell_type": "markdown",
   "id": "a7d59827",
   "metadata": {},
   "source": []
  },
  {
   "cell_type": "markdown",
   "id": "d6a8f799",
   "metadata": {},
   "source": [
    "### Question9. \n",
    "What data structure does a shelf value resemble?\n",
    "\n",
    "Answer:\n",
    "\n",
    "A shelf value resembles a dictionary value; it has keys and values, along with keys() and values() methods that work similarly to the dictionary methods of the same names."
   ]
  }
 ],
 "metadata": {
  "kernelspec": {
   "display_name": "Python 3 (ipykernel)",
   "language": "python",
   "name": "python3"
  },
  "language_info": {
   "codemirror_mode": {
    "name": "ipython",
    "version": 3
   },
   "file_extension": ".py",
   "mimetype": "text/x-python",
   "name": "python",
   "nbconvert_exporter": "python",
   "pygments_lexer": "ipython3",
   "version": "3.9.7"
  }
 },
 "nbformat": 4,
 "nbformat_minor": 5
}
