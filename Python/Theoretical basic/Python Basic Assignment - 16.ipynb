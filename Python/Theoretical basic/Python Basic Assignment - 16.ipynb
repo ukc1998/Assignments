{
 "cells": [
  {
   "cell_type": "markdown",
   "id": "7f53f8c6",
   "metadata": {},
   "source": [
    "# Python Basic Assignment - 22"
   ]
  },
  {
   "cell_type": "markdown",
   "id": "9f361d18",
   "metadata": {},
   "source": []
  },
  {
   "cell_type": "markdown",
   "id": "106924a9",
   "metadata": {},
   "source": []
  },
  {
   "cell_type": "markdown",
   "id": "684667a8",
   "metadata": {},
   "source": [
    "### Question 1. \n",
    "What is the result of the code, and explain?\n",
    "\n",
    ">>> X = 'iNeuron'\n",
    "<br>\n",
    ">>> def func():\n",
    "<br>\n",
    "print(X)\n",
    "\n",
    ">>> func()\n",
    "\n",
    "Answer:\n"
   ]
  },
  {
   "cell_type": "code",
   "execution_count": 1,
   "id": "686bb806",
   "metadata": {},
   "outputs": [
    {
     "name": "stdout",
     "output_type": "stream",
     "text": [
      "iNeuron\n"
     ]
    }
   ],
   "source": [
    ">>> X = 'iNeuron'\n",
    "\n",
    ">>> def func():\n",
    "    print(X)\n",
    "\n",
    ">>> func()"
   ]
  },
  {
   "cell_type": "markdown",
   "id": "1e04df26",
   "metadata": {},
   "source": [
    "###### Explaination:\n",
    "\n",
    "The result of the given code is iNeuron. It is because the func() method intially calls print() function and looks for the variable X in its local scope, but since there is no local variable X, the func() method returns the value of global variable X i.e. the string, 'iNeuron'."
   ]
  },
  {
   "cell_type": "markdown",
   "id": "235113fe",
   "metadata": {},
   "source": []
  },
  {
   "cell_type": "markdown",
   "id": "7925e659",
   "metadata": {},
   "source": []
  },
  {
   "cell_type": "markdown",
   "id": "55b998b2",
   "metadata": {},
   "source": [
    "### Question 2. \n",
    "What is the result of the code, and explain?\n",
    "\n",
    ">>> X = 'iNeuron'\n",
    "<br>\n",
    ">>> def func():\n",
    "<br>\n",
    "X = 'NI!'\n",
    "\n",
    ">>> func()\n",
    "<br>\n",
    ">>> print(X)\n",
    "\n",
    "Answer:\n"
   ]
  },
  {
   "cell_type": "code",
   "execution_count": 2,
   "id": "2314fd44",
   "metadata": {},
   "outputs": [
    {
     "name": "stdout",
     "output_type": "stream",
     "text": [
      "iNeuron\n"
     ]
    }
   ],
   "source": [
    "X = 'iNeuron'\n",
    "\n",
    "def func():\n",
    "    X = 'NI!'\n",
    "\n",
    "func()\n",
    "print(X)"
   ]
  },
  {
   "cell_type": "markdown",
   "id": "f145ba38",
   "metadata": {},
   "source": [
    "###### Explaination:\n",
    "\n",
    "The result of the given code is iNeuron. It is because the func() method just stores the value of the variable X in its local scope, but print(X) function has been called outside the func() method, therefore, it will return the value of the variable X stored in the global scope."
   ]
  },
  {
   "cell_type": "markdown",
   "id": "575c53be",
   "metadata": {},
   "source": []
  },
  {
   "cell_type": "markdown",
   "id": "efa9a8f1",
   "metadata": {},
   "source": []
  },
  {
   "cell_type": "markdown",
   "id": "596714a4",
   "metadata": {},
   "source": [
    "### Question 3. \n",
    "What does this code print, and why?\n",
    "\n",
    ">>> X = 'iNeuron'\n",
    "<br>\n",
    ">>> def func():\n",
    "<br>\n",
    "X = 'NI'\n",
    "<br>\n",
    "print(X)\n",
    "\n",
    ">>> func()\n",
    "<br>\n",
    ">>> print(X)\n",
    "\n",
    "Answer:\n"
   ]
  },
  {
   "cell_type": "code",
   "execution_count": 3,
   "id": "d4eace0f",
   "metadata": {},
   "outputs": [
    {
     "name": "stdout",
     "output_type": "stream",
     "text": [
      "NI\n",
      "iNeuron\n"
     ]
    }
   ],
   "source": [
    "X = 'iNeuron'\n",
    "def func():\n",
    "    X = 'NI'\n",
    "    print(X)\n",
    "\n",
    "func()\n",
    "print(X)"
   ]
  },
  {
   "cell_type": "markdown",
   "id": "c157c642",
   "metadata": {},
   "source": [
    "###### Explaination:\n",
    "\n",
    "The given code has two results, NI and iNeuron. It is because the func() method first stores the value of the variable X in its local scope, and then calls print(X) function, which returns the value of the variable X in its local scope i.e. the string 'NI'. print(X) function has also been called once outside the func() method, therefore, it will return the value of the variable X stored in the global scope, i.e. the string, 'iNeuron'."
   ]
  },
  {
   "cell_type": "markdown",
   "id": "957d846c",
   "metadata": {},
   "source": []
  },
  {
   "cell_type": "markdown",
   "id": "0c3bb14c",
   "metadata": {},
   "source": []
  },
  {
   "cell_type": "markdown",
   "id": "282d0ab0",
   "metadata": {},
   "source": [
    "### Question 4. \n",
    "What output does this code produce? Why?\n",
    "\n",
    ">>> X = 'iNeuron'\n",
    "<br>\n",
    ">>> def func():\n",
    "<br>\n",
    "global X\n",
    "<br>\n",
    "X = 'NI'\n",
    "\n",
    ">>> func()\n",
    "<br>\n",
    ">>> print(X)\n",
    "\n",
    "Answer:\n"
   ]
  },
  {
   "cell_type": "code",
   "execution_count": 4,
   "id": "f3856f44",
   "metadata": {},
   "outputs": [
    {
     "name": "stdout",
     "output_type": "stream",
     "text": [
      "NI\n"
     ]
    }
   ],
   "source": [
    "X = 'iNeuron'\n",
    "def func():\n",
    "    global X\n",
    "    X = 'NI'\n",
    "\n",
    "func()\n",
    "print(X)"
   ]
  },
  {
   "cell_type": "markdown",
   "id": "6474ee14",
   "metadata": {},
   "source": [
    "###### Explaination:\n",
    "\n",
    "The result of the given code is NI. First, the method func() has been called, and since the global keyword allows the variable, X to be accessible in the current scope, and since we are using global keyword inside the method func(), it directly access the value of the variable in X, present in global scope and then assign the value, NI to the variable X. Therefore, the result of the code is NI after the function print(x) is called outside the method func()."
   ]
  },
  {
   "cell_type": "markdown",
   "id": "1ed649c2",
   "metadata": {},
   "source": []
  },
  {
   "cell_type": "markdown",
   "id": "a693ec4e",
   "metadata": {},
   "source": []
  },
  {
   "cell_type": "markdown",
   "id": "54182bfc",
   "metadata": {},
   "source": [
    "### Question 5. \n",
    "What about this code—what’s the output, and why?\n",
    "\n",
    ">>> X = 'iNeuron'\n",
    "<br>\n",
    ">>> def func():\n",
    "<br>\n",
    "X = 'NI'\n",
    "<br>\n",
    "def nested():\n",
    "<br>\n",
    "print(X)\n",
    "<br>\n",
    "nested()\n",
    "\n",
    ">>> func()\n",
    "<br>\n",
    ">>> X\n",
    "\n",
    "Answer:\n"
   ]
  },
  {
   "cell_type": "code",
   "execution_count": 5,
   "id": "eab671c4",
   "metadata": {},
   "outputs": [
    {
     "name": "stdout",
     "output_type": "stream",
     "text": [
      "NI\n"
     ]
    },
    {
     "data": {
      "text/plain": [
       "'iNeuron'"
      ]
     },
     "execution_count": 5,
     "metadata": {},
     "output_type": "execute_result"
    }
   ],
   "source": [
    "X = 'iNeuron'\n",
    "\n",
    "def func():\n",
    "    X = 'NI'\n",
    "    def nested():\n",
    "        print(X)\n",
    "    nested()\n",
    "    \n",
    "func()\n",
    "X"
   ]
  },
  {
   "cell_type": "markdown",
   "id": "c88ac216",
   "metadata": {},
   "source": [
    "###### Explaination:\n",
    "\n",
    "The given code has two outputs, NI and 'iNeuron'.\n",
    "\n",
    "Reason for the output NI:\n",
    "<br>\n",
    "If a function(or method) wants to access a variable and if it is not available in its localscope, then it looks for the variable in its global scope. Similarly here also the nested() method looks for the variable X in its global scope, which is nothing but the local scope of the method func(). Hence the output is NI when func() is called.\n",
    "\n",
    "Reason for the output 'iNeuron':\n",
    "<br>\n",
    "It will simply look for the variable X in its global scope, which has been assigned the string value, 'iNeuron'. Hence, the result is 'iNeuron'."
   ]
  },
  {
   "cell_type": "markdown",
   "id": "b4c40b32",
   "metadata": {},
   "source": []
  },
  {
   "cell_type": "markdown",
   "id": "4287ae75",
   "metadata": {},
   "source": []
  },
  {
   "cell_type": "markdown",
   "id": "f70c75fb",
   "metadata": {},
   "source": [
    "### Question 6. \n",
    "How about this code: what is its output in Python 3, and explain?\n",
    "\n",
    ">>> def func():\n",
    "<br>\n",
    "X = 'NI'\n",
    "<br>\n",
    "def nested():\n",
    "<br>\n",
    "nonlocal X\n",
    "<br>\n",
    "X = 'Spam'\n",
    "<br>\n",
    "nested()\n",
    "<br>\n",
    "print(X)\n",
    "<br>\n",
    "\n",
    ">>> func()\n",
    "\n",
    "Answer:\n"
   ]
  },
  {
   "cell_type": "code",
   "execution_count": 6,
   "id": "f2326e6e",
   "metadata": {},
   "outputs": [
    {
     "name": "stdout",
     "output_type": "stream",
     "text": [
      "Spam\n"
     ]
    }
   ],
   "source": [
    "def func():\n",
    "    X = 'NI'\n",
    "    def nested():\n",
    "        nonlocal X\n",
    "        X = 'Spam'\n",
    "    nested()\n",
    "    print(X)\n",
    "\n",
    "func()"
   ]
  },
  {
   "cell_type": "markdown",
   "id": "425e6edc",
   "metadata": {},
   "source": [
    "###### Explaination:\n",
    "\n",
    "The output of the code is Spam.The keyword, nonlocal, in python is used to declare a variable as not local. Hence the statement X = \"Spam\" is modified in the global scope. Hence the output of print(X) statement is Spam, and therefore, the result of the method func() is Spam."
   ]
  }
 ],
 "metadata": {
  "kernelspec": {
   "display_name": "Python 3 (ipykernel)",
   "language": "python",
   "name": "python3"
  },
  "language_info": {
   "codemirror_mode": {
    "name": "ipython",
    "version": 3
   },
   "file_extension": ".py",
   "mimetype": "text/x-python",
   "name": "python",
   "nbconvert_exporter": "python",
   "pygments_lexer": "ipython3",
   "version": "3.9.7"
  }
 },
 "nbformat": 4,
 "nbformat_minor": 5
}
