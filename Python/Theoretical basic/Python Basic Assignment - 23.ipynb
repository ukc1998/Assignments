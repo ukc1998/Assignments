{
 "cells": [
  {
   "cell_type": "markdown",
   "id": "bb7c5af6",
   "metadata": {},
   "source": [
    "# Python Basic Assignment - 6"
   ]
  },
  {
   "cell_type": "markdown",
   "id": "2be356b2",
   "metadata": {},
   "source": []
  },
  {
   "cell_type": "markdown",
   "id": "0d1082d9",
   "metadata": {},
   "source": []
  },
  {
   "cell_type": "markdown",
   "id": "92509494",
   "metadata": {},
   "source": [
    "### Question1.\n",
    "What are escape characters, and how do you use them?\n",
    "\n",
    "Answer:\n",
    "\n",
    "Escape characters represent characters in string values that would otherwise be difficult or impossible to type into code.\n",
    "In Python strings, the backslash “\\” is a special character, also called the “escape” character can be used as a prefix just before the character we want to escape."
   ]
  },
  {
   "cell_type": "markdown",
   "id": "213203a3",
   "metadata": {},
   "source": []
  },
  {
   "cell_type": "markdown",
   "id": "160ae11f",
   "metadata": {},
   "source": []
  },
  {
   "cell_type": "markdown",
   "id": "f1f06f8c",
   "metadata": {},
   "source": [
    "### Question2.\n",
    "What do the escape characters n and t stand for?\n",
    "\n",
    "Answer:\n",
    "\n",
    "\\n is a newline and \\t is a tab."
   ]
  },
  {
   "cell_type": "markdown",
   "id": "bfbeb84e",
   "metadata": {},
   "source": []
  },
  {
   "cell_type": "markdown",
   "id": "3e2216a0",
   "metadata": {},
   "source": []
  },
  {
   "cell_type": "markdown",
   "id": "0b579978",
   "metadata": {},
   "source": [
    "### Question3.\n",
    "What is the way to include backslash characters in a string?\n",
    "\n",
    "Answer:\n",
    "\n",
    "We need to include backslash characters in a string by using the \\\\ escape character."
   ]
  },
  {
   "cell_type": "markdown",
   "id": "1e83cc1f",
   "metadata": {},
   "source": []
  },
  {
   "cell_type": "markdown",
   "id": "2a450de9",
   "metadata": {},
   "source": []
  },
  {
   "cell_type": "markdown",
   "id": "ae3f54d6",
   "metadata": {},
   "source": [
    "### Question4.\n",
    "The string \"Howl's Moving Castle\" is a correct value. Why isn't the single quote character in the word Howl's not escaped a problem?\n",
    "\n",
    "Answer:\n",
    "\n",
    "The string \"Howl's Moving Castle\" is a correct value. The single quote character in the word Howl's not escaped is not a problem because double quotes have been used to mark the beginning and end of the given string."
   ]
  },
  {
   "cell_type": "markdown",
   "id": "502b393d",
   "metadata": {},
   "source": []
  },
  {
   "cell_type": "markdown",
   "id": "8530fb17",
   "metadata": {},
   "source": []
  },
  {
   "cell_type": "markdown",
   "id": "5da7e511",
   "metadata": {},
   "source": [
    "### Question5.\n",
    "How do you write a string of newlines if you don't want to use the n character?\n",
    "\n",
    "Answer:\n",
    "\n",
    "Multiline strings allow us to write a string of newlines if we don't want to use the \\n escape character."
   ]
  },
  {
   "cell_type": "markdown",
   "id": "efd236e8",
   "metadata": {},
   "source": []
  },
  {
   "cell_type": "markdown",
   "id": "df882e4a",
   "metadata": {},
   "source": []
  },
  {
   "cell_type": "markdown",
   "id": "12c1b52f",
   "metadata": {},
   "source": [
    "### Question6.\n",
    "What are the values of the given expressions?\n",
    "<br>\n",
    "a.) 'Hello, world!'[1]\n",
    "<br>\n",
    "b.) 'Hello, world!'[0:5]\n",
    "<br>\n",
    "c.) 'Hello, world!'[:5]\n",
    "<br>\n",
    "d.) 'Hello, world!'[3:]\n",
    "\n",
    "Answer:\n",
    "\n",
    "The values of the given expressions are as follows:\n",
    "<br>\n",
    "a.) 'e'\n",
    "<br>\n",
    "b.) 'Hello'\n",
    "<br>\n",
    "c.) 'Hello'\n",
    "<br>\n",
    "d.) 'lo, world!'\n",
    "\n",
    "Crosscheck by running the program:\n"
   ]
  },
  {
   "cell_type": "code",
   "execution_count": 1,
   "id": "5d3b49f8",
   "metadata": {},
   "outputs": [
    {
     "data": {
      "text/plain": [
       "'e'"
      ]
     },
     "execution_count": 1,
     "metadata": {},
     "output_type": "execute_result"
    }
   ],
   "source": [
    "'Hello, world!'[1]"
   ]
  },
  {
   "cell_type": "code",
   "execution_count": 2,
   "id": "3f9a461b",
   "metadata": {},
   "outputs": [
    {
     "data": {
      "text/plain": [
       "'Hello'"
      ]
     },
     "execution_count": 2,
     "metadata": {},
     "output_type": "execute_result"
    }
   ],
   "source": [
    "'Hello, world!'[0:5]"
   ]
  },
  {
   "cell_type": "code",
   "execution_count": 3,
   "id": "841664ad",
   "metadata": {},
   "outputs": [
    {
     "data": {
      "text/plain": [
       "'Hello'"
      ]
     },
     "execution_count": 3,
     "metadata": {},
     "output_type": "execute_result"
    }
   ],
   "source": [
    "'Hello, world!'[:5]"
   ]
  },
  {
   "cell_type": "code",
   "execution_count": 4,
   "id": "41a285ec",
   "metadata": {
    "scrolled": true
   },
   "outputs": [
    {
     "data": {
      "text/plain": [
       "'lo, world!'"
      ]
     },
     "execution_count": 4,
     "metadata": {},
     "output_type": "execute_result"
    }
   ],
   "source": [
    "'Hello, world!'[3:]"
   ]
  },
  {
   "cell_type": "markdown",
   "id": "e7aacb4b",
   "metadata": {},
   "source": []
  },
  {
   "cell_type": "markdown",
   "id": "43a29f0d",
   "metadata": {},
   "source": []
  },
  {
   "cell_type": "markdown",
   "id": "ad4a04fa",
   "metadata": {},
   "source": [
    "### Question7.\n",
    "What are the values of the following expressions?\n",
    "\n",
    "a.) 'Hello'.upper()\n",
    "<br>\n",
    "b.) 'Hello'.upper().isupper()\n",
    "<br>\n",
    "c.) 'Hello'.upper().lower()\n",
    "\n",
    "\n",
    "Answer:\n",
    "\n",
    "The values of the given expressions are as follows:\n",
    "<br>\n",
    "a.) 'HELLO' because .upper() function changes\n",
    "<br>\n",
    "b.) True\n",
    "<br>\n",
    "c.) 'hello'\n",
    "\n",
    "Crosscheck by running the program:\n"
   ]
  },
  {
   "cell_type": "code",
   "execution_count": 5,
   "id": "423e07ca",
   "metadata": {},
   "outputs": [
    {
     "data": {
      "text/plain": [
       "'HELLO'"
      ]
     },
     "execution_count": 5,
     "metadata": {},
     "output_type": "execute_result"
    }
   ],
   "source": [
    "'Hello'.upper()"
   ]
  },
  {
   "cell_type": "code",
   "execution_count": 6,
   "id": "8cb4d87a",
   "metadata": {},
   "outputs": [
    {
     "data": {
      "text/plain": [
       "True"
      ]
     },
     "execution_count": 6,
     "metadata": {},
     "output_type": "execute_result"
    }
   ],
   "source": [
    "'Hello'.upper().isupper()"
   ]
  },
  {
   "cell_type": "code",
   "execution_count": 7,
   "id": "01ef8aa3",
   "metadata": {},
   "outputs": [
    {
     "data": {
      "text/plain": [
       "'hello'"
      ]
     },
     "execution_count": 7,
     "metadata": {},
     "output_type": "execute_result"
    }
   ],
   "source": [
    "'Hello'.upper().lower()"
   ]
  },
  {
   "cell_type": "markdown",
   "id": "762d7e36",
   "metadata": {},
   "source": []
  },
  {
   "cell_type": "markdown",
   "id": "4115f621",
   "metadata": {},
   "source": []
  },
  {
   "cell_type": "code",
   "execution_count": null,
   "id": "067a0170",
   "metadata": {},
   "outputs": [],
   "source": [
    "### Question8.\n",
    "What are the values of the following expressions?\n",
    "a.) 'Remember, remember, the fifth of July.'.split()\n",
    "b.) '-'.join('There can only one.'.split())\n",
    "\n",
    "Answer:\n",
    "\n",
    "a.) ['Remember,', 'remember,', 'the', 'fifth', 'of', 'July.']\n",
    "b.) 'There-can-only-one.'\n",
    "\n",
    "Crosscheck by running the program:\n",
    "    "
   ]
  },
  {
   "cell_type": "code",
   "execution_count": 8,
   "id": "194b54a3",
   "metadata": {},
   "outputs": [
    {
     "data": {
      "text/plain": [
       "['Remember,', 'remember,', 'the', 'fifth', 'of', 'July.']"
      ]
     },
     "execution_count": 8,
     "metadata": {},
     "output_type": "execute_result"
    }
   ],
   "source": [
    "'Remember, remember, the fifth of July.'.split()"
   ]
  },
  {
   "cell_type": "code",
   "execution_count": 9,
   "id": "87f7bef3",
   "metadata": {},
   "outputs": [
    {
     "data": {
      "text/plain": [
       "'There-can-only-one.'"
      ]
     },
     "execution_count": 9,
     "metadata": {},
     "output_type": "execute_result"
    }
   ],
   "source": [
    "'-'.join('There can only one.'.split())"
   ]
  },
  {
   "cell_type": "markdown",
   "id": "bf230d18",
   "metadata": {},
   "source": []
  },
  {
   "cell_type": "markdown",
   "id": "198118e4",
   "metadata": {},
   "source": []
  },
  {
   "cell_type": "markdown",
   "id": "90c6b89f",
   "metadata": {},
   "source": [
    "### Question9.\n",
    "What are the methods for right-justifying, left-justifying, and centering a string?\n",
    "\n",
    "Answer:\n",
    "\n",
    "For right justifying a string, we can use rjust() string method.\n",
    "<br>\n",
    "For left justifying a string, we can use ljust() string method.\n",
    "<br>\n",
    "For centering a string, we can use center() string method."
   ]
  },
  {
   "cell_type": "markdown",
   "id": "f0cd1103",
   "metadata": {},
   "source": []
  },
  {
   "cell_type": "markdown",
   "id": "b3662409",
   "metadata": {},
   "source": []
  },
  {
   "cell_type": "markdown",
   "id": "26fd0290",
   "metadata": {},
   "source": [
    "### Question10.\n",
    "What is the best way to remove whitespace characters from the start or end?\n",
    "\n",
    "Answer:\n",
    "    \n",
    "The lstrip() and rstrip() methods can be used to remove whitespaces from the left and right ends of a string, respectively."
   ]
  }
 ],
 "metadata": {
  "kernelspec": {
   "display_name": "Python 3 (ipykernel)",
   "language": "python",
   "name": "python3"
  },
  "language_info": {
   "codemirror_mode": {
    "name": "ipython",
    "version": 3
   },
   "file_extension": ".py",
   "mimetype": "text/x-python",
   "name": "python",
   "nbconvert_exporter": "python",
   "pygments_lexer": "ipython3",
   "version": "3.9.7"
  }
 },
 "nbformat": 4,
 "nbformat_minor": 5
}
