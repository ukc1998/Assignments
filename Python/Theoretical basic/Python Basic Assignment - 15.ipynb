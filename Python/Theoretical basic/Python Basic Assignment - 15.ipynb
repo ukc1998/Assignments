{
 "cells": [
  {
   "cell_type": "markdown",
   "id": "ac652118",
   "metadata": {},
   "source": [
    "# Python Basic Assignment - 21"
   ]
  },
  {
   "cell_type": "markdown",
   "id": "7ec62db1",
   "metadata": {},
   "source": []
  },
  {
   "cell_type": "markdown",
   "id": "2b2c59a1",
   "metadata": {},
   "source": []
  },
  {
   "cell_type": "markdown",
   "id": "ad64d466",
   "metadata": {},
   "source": [
    "### Question 1. \n",
    "Add the current date to the text file today.txt as a string.\n",
    "\n",
    "Answer:\n"
   ]
  },
  {
   "cell_type": "code",
   "execution_count": 1,
   "id": "07a4deea",
   "metadata": {},
   "outputs": [
    {
     "name": "stdout",
     "output_type": "stream",
     "text": [
      "27/01/2022\n"
     ]
    }
   ],
   "source": [
    "from datetime import datetime\n",
    "\n",
    "with open(\"today.txt\", \"w\") as file:\n",
    "    file.write(datetime.now().strftime(\"%d/%m/%Y\"))\n",
    "    file.close()\n",
    "\n",
    "file = open(\"today.txt\", \"r\")\n",
    "print(file.read())\n",
    "file.close()"
   ]
  },
  {
   "cell_type": "markdown",
   "id": "dbe2c234",
   "metadata": {},
   "source": []
  },
  {
   "cell_type": "markdown",
   "id": "40023c98",
   "metadata": {},
   "source": []
  },
  {
   "cell_type": "markdown",
   "id": "ca0c7c45",
   "metadata": {},
   "source": [
    "### Question2. \n",
    "Read the text file today.txt into the string today_string\n",
    "\n",
    "Answer:\n"
   ]
  },
  {
   "cell_type": "code",
   "execution_count": 2,
   "id": "f6102159",
   "metadata": {},
   "outputs": [
    {
     "name": "stdout",
     "output_type": "stream",
     "text": [
      "27/01/2022\n"
     ]
    }
   ],
   "source": [
    "file = open(\"today.txt\", \"r\")\n",
    "today_string = file.read()\n",
    "print(today_string)\n",
    "file.close()"
   ]
  },
  {
   "cell_type": "markdown",
   "id": "72f5095f",
   "metadata": {},
   "source": []
  },
  {
   "cell_type": "markdown",
   "id": "83b409e9",
   "metadata": {},
   "source": []
  },
  {
   "cell_type": "markdown",
   "id": "99589fa1",
   "metadata": {},
   "source": [
    "### Question3. \n",
    "Parse the date from today_string.\n",
    "\n",
    "Answer:\n"
   ]
  },
  {
   "cell_type": "code",
   "execution_count": 3,
   "id": "928ee951",
   "metadata": {},
   "outputs": [
    {
     "name": "stdout",
     "output_type": "stream",
     "text": [
      "2022-01-27 00:00:00\n"
     ]
    }
   ],
   "source": [
    "from datetime import datetime\n",
    "format = '%d/%m/%Y'\n",
    "parsed_data = datetime.strptime(today_string,format)\n",
    "\n",
    "print(parsed_data)"
   ]
  },
  {
   "cell_type": "markdown",
   "id": "5e301032",
   "metadata": {},
   "source": []
  },
  {
   "cell_type": "markdown",
   "id": "b631a58a",
   "metadata": {},
   "source": []
  },
  {
   "cell_type": "markdown",
   "id": "9141d860",
   "metadata": {},
   "source": [
    "### Question4. \n",
    "List the files in your current directory\n",
    "\n",
    "Answer:\n"
   ]
  },
  {
   "cell_type": "code",
   "execution_count": 4,
   "id": "059c4e15",
   "metadata": {},
   "outputs": [
    {
     "name": "stdout",
     "output_type": "stream",
     "text": [
      "Python Basic Assignment - 1.ipynb\n",
      "Python Basic Assignment - 10.ipynb\n",
      "Python Basic Assignment - 11.ipynb\n",
      "Python Basic Assignment - 15.ipynb\n",
      "Python Basic Assignment - 16.ipynb\n",
      "Python Basic Assignment - 17.ipynb\n",
      "Python Basic Assignment - 18.ipynb\n",
      "Python Basic Assignment - 19.ipynb\n",
      "Python Basic Assignment - 2.ipynb\n",
      "Python Basic Assignment - 21.ipynb\n",
      "Python Basic Assignment - 21.py.bak\n",
      "Python Basic Assignment - 22.ipynb\n",
      "Python Basic Assignment - 23.ipynb\n",
      "Python Basic Assignment - 24.ipynb\n",
      "Python Basic Assignment - 25.ipynb\n",
      "Python Basic Assignment - 3.ipynb\n",
      "Python Basic Assignment - 4.ipynb\n",
      "Python Basic Assignment - 5.ipynb\n",
      "Python Basic Assignment - 6.ipynb\n",
      "Python Basic Assignment - 9.ipynb\n",
      "PythonBasicAssignmentTwentyOneMultiProcessing.py\n",
      "PythonBasicAssignmentTwentyOneMultiProcessing.py.bak\n",
      "today.txt\n",
      "zoo.py\n",
      "Python Basic Assignment - 16-checkpoint.ipynb\n",
      "Python Basic Assignment - 17-checkpoint.ipynb\n",
      "Python Basic Assignment - 18-checkpoint.ipynb\n",
      "Python Basic Assignment - 19-checkpoint.ipynb\n",
      "Python Basic Assignment - 21-checkpoint.ipynb\n",
      "Untitled-checkpoint.ipynb\n",
      "zoo.py-checkpoint.ipynb\n",
      "PythonBasicAssignmentTwentyOneMultiProcessing.cpython-39.pyc\n",
      "zoo.cpython-39.pyc\n"
     ]
    }
   ],
   "source": [
    "import os\n",
    "\n",
    "\n",
    "for folders, subfolders, files in os.walk(os.getcwd()):\n",
    "    for file in files:\n",
    "        print(file)"
   ]
  },
  {
   "cell_type": "markdown",
   "id": "dbdcdb80",
   "metadata": {},
   "source": []
  },
  {
   "cell_type": "markdown",
   "id": "ddd0f7d1",
   "metadata": {},
   "source": []
  },
  {
   "cell_type": "markdown",
   "id": "7221273c",
   "metadata": {},
   "source": [
    "### Question5. \n",
    "Create a list of all of the files in your parent directory (minimum five files should be available).\n",
    "\n",
    "Answer:\n"
   ]
  },
  {
   "cell_type": "code",
   "execution_count": 5,
   "id": "cdcc4675",
   "metadata": {},
   "outputs": [
    {
     "data": {
      "text/plain": [
       "['.ipynb_checkpoints',\n",
       " 'Python Basic Assignment - 1.ipynb',\n",
       " 'Python Basic Assignment - 10.ipynb',\n",
       " 'Python Basic Assignment - 11.ipynb',\n",
       " 'Python Basic Assignment - 15.ipynb',\n",
       " 'Python Basic Assignment - 16.ipynb',\n",
       " 'Python Basic Assignment - 17.ipynb',\n",
       " 'Python Basic Assignment - 18.ipynb',\n",
       " 'Python Basic Assignment - 19.ipynb',\n",
       " 'Python Basic Assignment - 2.ipynb',\n",
       " 'Python Basic Assignment - 21.ipynb',\n",
       " 'Python Basic Assignment - 21.py.bak',\n",
       " 'Python Basic Assignment - 22.ipynb',\n",
       " 'Python Basic Assignment - 23.ipynb',\n",
       " 'Python Basic Assignment - 24.ipynb',\n",
       " 'Python Basic Assignment - 25.ipynb',\n",
       " 'Python Basic Assignment - 3.ipynb',\n",
       " 'Python Basic Assignment - 4.ipynb',\n",
       " 'Python Basic Assignment - 5.ipynb',\n",
       " 'Python Basic Assignment - 6.ipynb',\n",
       " 'Python Basic Assignment - 9.ipynb',\n",
       " 'PythonBasicAssignmentTwentyOneMultiProcessing.py',\n",
       " 'PythonBasicAssignmentTwentyOneMultiProcessing.py.bak',\n",
       " 'today.txt',\n",
       " 'zoo.py',\n",
       " '__pycache__']"
      ]
     },
     "execution_count": 5,
     "metadata": {},
     "output_type": "execute_result"
    }
   ],
   "source": [
    "import os\n",
    "os.listdir()"
   ]
  },
  {
   "cell_type": "markdown",
   "id": "c53726ec",
   "metadata": {},
   "source": []
  },
  {
   "cell_type": "markdown",
   "id": "c9ebc3d1",
   "metadata": {},
   "source": []
  },
  {
   "cell_type": "markdown",
   "id": "57323b62",
   "metadata": {},
   "source": [
    "### Question6. \n",
    "Use multiprocessing to create three separate processes. Make each one wait a random number of seconds between one and five, print the current time, and then exit.\n",
    "\n",
    "Answer:\n"
   ]
  },
  {
   "cell_type": "code",
   "execution_count": 6,
   "id": "f62cd252",
   "metadata": {},
   "outputs": [
    {
     "name": "stdout",
     "output_type": "stream",
     "text": [
      "\n",
      "\n",
      "\n",
      "\n",
      "Start_Time_For_Third_Process ----> 2022-01-27 08:28:42.129917\n",
      "End_Time_For_Third_Process ----> 2022-01-27 08:28:44.138796\n",
      "\n",
      "\n",
      "Start_Time_For_First_Process ----> 2022-01-27 08:28:42.264602\n",
      "End_Time_For_First_Process ----> 2022-01-27 08:28:45.273739\n",
      "\n",
      "\n",
      "Start_Time_For_First_Process ----> 2022-01-27 08:28:42.264602\n",
      "End_Time_For_First_Process ----> 2022-01-27 08:28:45.289251\n",
      "\n",
      "\n"
     ]
    }
   ],
   "source": [
    "import multiprocessing\n",
    "import time \n",
    "import random\n",
    "from datetime import datetime\n",
    "\n",
    "def First_Process():\n",
    "    print(f'Start_Time_For_First_Process ----> {datetime.now()}')\n",
    "    time.sleep(random.randrange(1,5))\n",
    "    print(f'End_Time_For_First_Process ----> {datetime.now()}')\n",
    "    \n",
    "print()\n",
    "\n",
    "def Second_Process():\n",
    "    print(f'Start_Time_For_First_Process ----> {datetime.now()}')\n",
    "    time.sleep(random.randrange(1,5))\n",
    "    print(f'End_Time_For_First_Process ----> {datetime.now()}')\n",
    "    \n",
    "print()\n",
    "\n",
    "def Third_Process():\n",
    "    print(f'Start_Time_For_Third_Process ----> {datetime.now()}')\n",
    "    time.sleep(random.randrange(1,5))\n",
    "    print(f'End_Time_For_Third_Process ----> {datetime.now()}')\n",
    "    \n",
    "if __name__ == \"__main__\":    \n",
    "    p1 = multiprocessing.Process(target = First_Process)\n",
    "    p2 = multiprocessing.Process(target = First_Process)\n",
    "    p3 = multiprocessing.Process(target = Third_Process)\n",
    "\n",
    "    p1.start()\n",
    "    p2.start()\n",
    "    p3.start()\n",
    "\n",
    "    p1.join()\n",
    "    p2.join()\n",
    "    p3.join()\n",
    "    \n",
    "!python PythonBasicAssignmentTwentyOneMultiProcessing.py"
   ]
  },
  {
   "cell_type": "markdown",
   "id": "da7a0e14",
   "metadata": {},
   "source": []
  },
  {
   "cell_type": "markdown",
   "id": "8e2849fd",
   "metadata": {},
   "source": []
  },
  {
   "cell_type": "markdown",
   "id": "78c65f28",
   "metadata": {},
   "source": [
    "### Question7. \n",
    "Create a date object of your day of birth.\n",
    "\n",
    "Answer:\n"
   ]
  },
  {
   "cell_type": "code",
   "execution_count": 7,
   "id": "407d2689",
   "metadata": {},
   "outputs": [
    {
     "name": "stdout",
     "output_type": "stream",
     "text": [
      "Enter the date in dd/mm/yyyy format : 13/02/1998\n"
     ]
    },
    {
     "data": {
      "text/plain": [
       "13"
      ]
     },
     "execution_count": 7,
     "metadata": {},
     "output_type": "execute_result"
    }
   ],
   "source": [
    "from datetime import datetime\n",
    "\n",
    "Date_Of_Birth = input(\"Enter the date in dd/mm/yyyy format : \")\n",
    "\n",
    "Proper_Format_For_Date_Of_Birth = datetime.strptime(Date_Of_Birth, '%d/%m/%Y')\n",
    "\n",
    "Date_Object_For_Day_Of_Birth = Proper_Format_For_Date_Of_Birth.day\n",
    "\n",
    "Date_Object_For_Day_Of_Birth"
   ]
  },
  {
   "cell_type": "markdown",
   "id": "621a8ead",
   "metadata": {},
   "source": []
  },
  {
   "cell_type": "markdown",
   "id": "606ecf06",
   "metadata": {},
   "source": []
  },
  {
   "cell_type": "markdown",
   "id": "17d2d449",
   "metadata": {},
   "source": [
    "### Question8. \n",
    "What day of the week was your day of birth?\n",
    "\n",
    "Answer:\n"
   ]
  },
  {
   "cell_type": "code",
   "execution_count": 8,
   "id": "82b84161",
   "metadata": {},
   "outputs": [
    {
     "name": "stdout",
     "output_type": "stream",
     "text": [
      "Enter the date in dd/mm/yyyy format : 13/02/1998\n",
      "The weekday on 13/02/1998 is: Friday\n"
     ]
    }
   ],
   "source": [
    "from datetime import datetime\n",
    "import calendar\n",
    "\n",
    "Date_Of_Birth = input(\"Enter the date in dd/mm/yyyy format : \")\n",
    "\n",
    "Proper_Format_For_Date_Of_Birth = datetime.strptime(Date_Of_Birth , \"%d/%m/%Y\")\n",
    "\n",
    "weekday_index = Proper_Format_For_Date_Of_Birth.weekday()\n",
    "\n",
    "Day_Of_Birth = calendar.day_name[weekday_index]\n",
    "\n",
    "print(f\"The weekday on {Date_Of_Birth} is: {Day_Of_Birth}\")"
   ]
  },
  {
   "cell_type": "markdown",
   "id": "e63dc644",
   "metadata": {},
   "source": []
  },
  {
   "cell_type": "markdown",
   "id": "710879d7",
   "metadata": {},
   "source": []
  },
  {
   "cell_type": "markdown",
   "id": "4b7791e3",
   "metadata": {},
   "source": [
    "### Question9. \n",
    "When will you be (or when were you) 10,000 days old?\n",
    "\n",
    "Answer:\n"
   ]
  },
  {
   "cell_type": "code",
   "execution_count": 9,
   "id": "0290c0c5",
   "metadata": {},
   "outputs": [
    {
     "name": "stdout",
     "output_type": "stream",
     "text": [
      "Enter the date in dd/mm/yyyy format : 13/02/1998\n"
     ]
    },
    {
     "data": {
      "text/plain": [
       "datetime.datetime(2025, 7, 1, 0, 0)"
      ]
     },
     "execution_count": 9,
     "metadata": {},
     "output_type": "execute_result"
    }
   ],
   "source": [
    "from datetime import timedelta\n",
    "\n",
    "Date_Of_Birth = input(\"Enter the date in dd/mm/yyyy format : \")\n",
    "Proper_Format_For_Date_Of_Birth = datetime.strptime(Date_Of_Birth , \"%d/%m/%Y\")\n",
    "Date_after_10000_days_of_my_Date_Of_Birth = Proper_Format_For_Date_Of_Birth + timedelta(days=10000)\n",
    "\n",
    "Date_after_10000_days_of_my_Date_Of_Birth"
   ]
  }
 ],
 "metadata": {
  "kernelspec": {
   "display_name": "Python 3 (ipykernel)",
   "language": "python",
   "name": "python3"
  },
  "language_info": {
   "codemirror_mode": {
    "name": "ipython",
    "version": 3
   },
   "file_extension": ".py",
   "mimetype": "text/x-python",
   "name": "python",
   "nbconvert_exporter": "python",
   "pygments_lexer": "ipython3",
   "version": "3.9.7"
  }
 },
 "nbformat": 4,
 "nbformat_minor": 5
}
