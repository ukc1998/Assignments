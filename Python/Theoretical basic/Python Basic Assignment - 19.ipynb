{
 "cells": [
  {
   "cell_type": "markdown",
   "id": "6830864d",
   "metadata": {},
   "source": [
    "# Python Basic Assignment - 3"
   ]
  },
  {
   "cell_type": "markdown",
   "id": "48a25ae9",
   "metadata": {},
   "source": []
  },
  {
   "cell_type": "markdown",
   "id": "a626ba7c",
   "metadata": {},
   "source": []
  },
  {
   "cell_type": "markdown",
   "id": "b0599bd3",
   "metadata": {},
   "source": [
    "### Question1.\n",
    "Why are functions advantageous to have in your programs?\n",
    "\n",
    "Answer:\n",
    "\n",
    "Functions are advantageous to have in our programs primarily because they reduce the need for duplicate code. Thus, they  make programs shorter, easier to read, and easier to update. Debugging of the programs also becomes faster."
   ]
  },
  {
   "cell_type": "markdown",
   "id": "adc0e9ca",
   "metadata": {},
   "source": []
  },
  {
   "cell_type": "markdown",
   "id": "bf9035c2",
   "metadata": {},
   "source": []
  },
  {
   "cell_type": "markdown",
   "id": "9cf6eb7a",
   "metadata": {},
   "source": [
    "### Question2.\n",
    "When does the code in a function run: when it's specified or when it's called?\n",
    "\n",
    "Answer:\n",
    "\n",
    "The code in a function runs when the function is called, not when the function is defined."
   ]
  },
  {
   "cell_type": "markdown",
   "id": "23d91d61",
   "metadata": {},
   "source": []
  },
  {
   "cell_type": "markdown",
   "id": "54d21b13",
   "metadata": {},
   "source": []
  },
  {
   "cell_type": "markdown",
   "id": "ca347be4",
   "metadata": {},
   "source": [
    "### Question3.\n",
    "What statement creates a function?\n",
    "\n",
    "Answer:\n",
    "\n",
    "The def statement creates a function."
   ]
  },
  {
   "cell_type": "markdown",
   "id": "aa34acba",
   "metadata": {},
   "source": []
  },
  {
   "cell_type": "markdown",
   "id": "408e002a",
   "metadata": {},
   "source": []
  },
  {
   "cell_type": "markdown",
   "id": "d62717be",
   "metadata": {},
   "source": [
    "### Question4.\n",
    "What is the difference between a function and a function call?\n",
    "\n",
    "Answer:\n",
    "\n",
    "A function consists of the def statement and the code in its def clause, whereas, a function call is somethong that moves the program execution into the function, and the function call evaluates to the return value of the function."
   ]
  },
  {
   "cell_type": "markdown",
   "id": "bf3d2d9f",
   "metadata": {},
   "source": []
  },
  {
   "cell_type": "markdown",
   "id": "2042bbbf",
   "metadata": {},
   "source": []
  },
  {
   "cell_type": "markdown",
   "id": "93b31ccb",
   "metadata": {},
   "source": [
    "### Question5.\n",
    "How many global scopes are there in a Python program? How many local scopes?\n",
    "\n",
    "Answer:\n",
    "\n",
    "There is one global scope, and a local scope that is created whenever a function is called."
   ]
  },
  {
   "cell_type": "markdown",
   "id": "9c430713",
   "metadata": {},
   "source": []
  },
  {
   "cell_type": "markdown",
   "id": "0c1c0fb1",
   "metadata": {},
   "source": []
  },
  {
   "cell_type": "markdown",
   "id": "f59261ba",
   "metadata": {},
   "source": [
    "### Question6.\n",
    "What happens to variables in a local scope when the function call returns?\n",
    "\n",
    "Answer:\n",
    "\n",
    "When a function call returns, the local scope is destroyed, and all the variables in it are forgotten."
   ]
  },
  {
   "cell_type": "markdown",
   "id": "9619f0f9",
   "metadata": {},
   "source": []
  },
  {
   "cell_type": "markdown",
   "id": "2f3da7dd",
   "metadata": {},
   "source": []
  },
  {
   "cell_type": "markdown",
   "id": "0679131f",
   "metadata": {},
   "source": [
    "### Question7.\n",
    "What is the concept of a return value? Is it possible to have a return value in an expression?\n",
    "\n",
    "Answer:\n",
    "\n",
    "A return value is the value that a function call evaluates to. Like any value, a return value can be used as part of an expression."
   ]
  },
  {
   "cell_type": "markdown",
   "id": "911f4a71",
   "metadata": {},
   "source": []
  },
  {
   "cell_type": "markdown",
   "id": "742184fa",
   "metadata": {},
   "source": []
  },
  {
   "cell_type": "markdown",
   "id": "37193ce3",
   "metadata": {},
   "source": [
    "### Question8.\n",
    "If a function does not have a return statement, what is the return value of a call to that function?\n",
    "\n",
    "Answer:\n",
    "\n",
    "If there is no return statement for a function, its return value is None."
   ]
  },
  {
   "cell_type": "markdown",
   "id": "e265fc15",
   "metadata": {},
   "source": []
  },
  {
   "cell_type": "markdown",
   "id": "d0a62907",
   "metadata": {},
   "source": []
  },
  {
   "cell_type": "markdown",
   "id": "8c152e91",
   "metadata": {},
   "source": [
    "### Question9.\n",
    "How do you make a function variable refer to the global variable?\n",
    "\n",
    "Answer:\n",
    "\n",
    "A global statement will force a variable in a function to refer to the global variable."
   ]
  },
  {
   "cell_type": "markdown",
   "id": "6e7a65f0",
   "metadata": {},
   "source": []
  },
  {
   "cell_type": "markdown",
   "id": "dc11d474",
   "metadata": {},
   "source": []
  },
  {
   "cell_type": "markdown",
   "id": "2cdc31e3",
   "metadata": {},
   "source": [
    "### Question10.\n",
    "What is the data type of None?\n",
    "\n",
    "Answer:\n",
    "\n",
    "The data type of None is NoneType."
   ]
  },
  {
   "cell_type": "markdown",
   "id": "78ba176f",
   "metadata": {},
   "source": []
  },
  {
   "cell_type": "markdown",
   "id": "b33a1c68",
   "metadata": {},
   "source": []
  },
  {
   "cell_type": "markdown",
   "id": "52043110",
   "metadata": {},
   "source": [
    "### Question11.\n",
    "What does the sentence import areallyourpetsnamederic do?\n",
    "\n",
    "Answer:\n",
    "\n",
    "That import statement imports a module named areallyourpetsnamederic, although it isn’t a real Python module."
   ]
  },
  {
   "cell_type": "markdown",
   "id": "08a1a8e5",
   "metadata": {},
   "source": []
  },
  {
   "cell_type": "markdown",
   "id": "5960aa5b",
   "metadata": {},
   "source": []
  },
  {
   "cell_type": "markdown",
   "id": "98beece1",
   "metadata": {},
   "source": [
    "### Question12.\n",
    "If you had a bacon() feature in a spam module, what would you call it after importing spam?\n",
    "\n",
    "Answer:\n",
    "\n",
    "This function could be called by writing the name of the module first and then the name of the feature separated from the module name by a dot as follows:\n",
    "\n",
    "spam.bacon()"
   ]
  },
  {
   "cell_type": "markdown",
   "id": "ec31a888",
   "metadata": {},
   "source": []
  },
  {
   "cell_type": "markdown",
   "id": "6ca1cda7",
   "metadata": {},
   "source": []
  },
  {
   "cell_type": "markdown",
   "id": "b573ec22",
   "metadata": {},
   "source": [
    "### Question13.\n",
    "What can you do to save a programme from crashing if it encounters an error?\n",
    "\n",
    "Answer:\n",
    "\n",
    "We can place the line of code that might cause an error in a try clause."
   ]
  },
  {
   "cell_type": "markdown",
   "id": "34c74cd1",
   "metadata": {},
   "source": []
  },
  {
   "cell_type": "markdown",
   "id": "5c11d55f",
   "metadata": {},
   "source": []
  },
  {
   "cell_type": "markdown",
   "id": "15fa43ac",
   "metadata": {},
   "source": [
    "### Question14.\n",
    "What is the purpose of the try clause? What is the purpose of the except clause?\n",
    "\n",
    "Answer:\n",
    "\n",
    "The code that could potentially cause an error goes in the try clause and thus, the try block allows us to test a block of code for errors i.e the code inside the try block will execute when there is no error in the program. \n",
    "\n",
    "Whereas The purpose of the except clause is to execute code inside the except block whenever the program encounters some error in the preceding try block."
   ]
  }
 ],
 "metadata": {
  "kernelspec": {
   "display_name": "Python 3 (ipykernel)",
   "language": "python",
   "name": "python3"
  },
  "language_info": {
   "codemirror_mode": {
    "name": "ipython",
    "version": 3
   },
   "file_extension": ".py",
   "mimetype": "text/x-python",
   "name": "python",
   "nbconvert_exporter": "python",
   "pygments_lexer": "ipython3",
   "version": "3.9.7"
  }
 },
 "nbformat": 4,
 "nbformat_minor": 5
}
