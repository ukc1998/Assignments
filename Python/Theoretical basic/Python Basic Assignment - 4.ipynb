{
 "cells": [
  {
   "cell_type": "markdown",
   "id": "943c17af",
   "metadata": {},
   "source": [
    "# Python Basic Assignment - 18"
   ]
  },
  {
   "cell_type": "markdown",
   "id": "b3c079e2",
   "metadata": {},
   "source": []
  },
  {
   "cell_type": "markdown",
   "id": "6febca15",
   "metadata": {},
   "source": []
  },
  {
   "cell_type": "markdown",
   "id": "98734783",
   "metadata": {},
   "source": [
    "### Question1. \n",
    "Create a zoo.py file first. Define the hours() function, which prints the string 'Open 9-5 daily'. Then, use the interactive interpreter to import the zoo module and call its hours() function.\n",
    "\n",
    "Answer:\n"
   ]
  },
  {
   "cell_type": "code",
   "execution_count": 1,
   "id": "3a8b6ec4",
   "metadata": {},
   "outputs": [
    {
     "name": "stdout",
     "output_type": "stream",
     "text": [
      "Open 9-5 daily\n"
     ]
    }
   ],
   "source": [
    "import zoo\n",
    "zoo.hours()"
   ]
  },
  {
   "cell_type": "markdown",
   "id": "1bb87533",
   "metadata": {},
   "source": []
  },
  {
   "cell_type": "markdown",
   "id": "a2ab54a1",
   "metadata": {},
   "source": []
  },
  {
   "cell_type": "markdown",
   "id": "4b15f09e",
   "metadata": {},
   "source": [
    "### Question2. \n",
    "In the interactive interpreter, import the zoo module as menagerie and call its hours() function.\n",
    "\n",
    "Answer:\n"
   ]
  },
  {
   "cell_type": "code",
   "execution_count": 2,
   "id": "6733ef5e",
   "metadata": {},
   "outputs": [
    {
     "name": "stdout",
     "output_type": "stream",
     "text": [
      "Open 9-5 daily\n"
     ]
    }
   ],
   "source": [
    "import zoo as menagerie\n",
    "menagerie.hours()"
   ]
  },
  {
   "cell_type": "markdown",
   "id": "1d94e628",
   "metadata": {},
   "source": []
  },
  {
   "cell_type": "markdown",
   "id": "735c1c9f",
   "metadata": {},
   "source": []
  },
  {
   "cell_type": "markdown",
   "id": "9f18189f",
   "metadata": {},
   "source": [
    "### Question3. \n",
    "Using the interpreter, explicitly import and call the hours() function from zoo.\n",
    "\n",
    "Answer:\n"
   ]
  },
  {
   "cell_type": "code",
   "execution_count": 3,
   "id": "511edeb2",
   "metadata": {},
   "outputs": [
    {
     "name": "stdout",
     "output_type": "stream",
     "text": [
      "Open 9-5 daily\n"
     ]
    }
   ],
   "source": [
    "from zoo import hours\n",
    "hours()"
   ]
  },
  {
   "cell_type": "markdown",
   "id": "e5a1232e",
   "metadata": {},
   "source": []
  },
  {
   "cell_type": "markdown",
   "id": "ad1428ad",
   "metadata": {},
   "source": []
  },
  {
   "cell_type": "markdown",
   "id": "91828c65",
   "metadata": {},
   "source": [
    "### Question4. \n",
    "Import the hours() function as info and call it.\n",
    "\n",
    "Answer:\n"
   ]
  },
  {
   "cell_type": "code",
   "execution_count": 4,
   "id": "cb83b09b",
   "metadata": {},
   "outputs": [
    {
     "name": "stdout",
     "output_type": "stream",
     "text": [
      "Open 9-5 daily\n"
     ]
    }
   ],
   "source": [
    "from zoo import hours as  info\n",
    "info()"
   ]
  },
  {
   "cell_type": "markdown",
   "id": "3bfeaee9",
   "metadata": {},
   "source": []
  },
  {
   "cell_type": "markdown",
   "id": "ac80f096",
   "metadata": {},
   "source": []
  },
  {
   "cell_type": "markdown",
   "id": "6bfc6bd0",
   "metadata": {},
   "source": [
    "### Question5. \n",
    "Create a plain dictionary with the key-value pairs 'a': 1, 'b': 2, and 'c': 3, and print it out.\n",
    "\n",
    "Answer:\n"
   ]
  },
  {
   "cell_type": "code",
   "execution_count": 5,
   "id": "222d8eaf",
   "metadata": {},
   "outputs": [
    {
     "name": "stdout",
     "output_type": "stream",
     "text": [
      "{'a': 1, 'b': 2, 'c': 3}\n"
     ]
    }
   ],
   "source": [
    "plain_dictionary = {'a':1,'b':2,'c':3}\n",
    "print(plain_dictionary)"
   ]
  },
  {
   "cell_type": "markdown",
   "id": "2517ed72",
   "metadata": {},
   "source": []
  },
  {
   "cell_type": "markdown",
   "id": "7d7dd652",
   "metadata": {},
   "source": []
  },
  {
   "cell_type": "markdown",
   "id": "d14c784e",
   "metadata": {},
   "source": [
    "### Question6.\n",
    "Make an OrderedDict called fancy from the same pairs listed in 5 and print it. Did it print in the same order as plain?\n",
    "\n",
    "Answer:\n"
   ]
  },
  {
   "cell_type": "code",
   "execution_count": 6,
   "id": "3cdcc8a0",
   "metadata": {},
   "outputs": [
    {
     "name": "stdout",
     "output_type": "stream",
     "text": [
      "OrderedDict([('a', 1), ('b', 2), ('c', 3)])\n"
     ]
    }
   ],
   "source": [
    "from collections import OrderedDict\n",
    "fancy = OrderedDict(plain_dict)\n",
    "\n",
    "print(fancy)"
   ]
  },
  {
   "cell_type": "markdown",
   "id": "c5e127b0",
   "metadata": {},
   "source": [
    "Yes, the fancy dictionary got printed in the same order as the plain_dictionary."
   ]
  },
  {
   "cell_type": "markdown",
   "id": "822ab359",
   "metadata": {},
   "source": []
  },
  {
   "cell_type": "markdown",
   "id": "cf078803",
   "metadata": {},
   "source": []
  },
  {
   "cell_type": "markdown",
   "id": "b8a777e6",
   "metadata": {},
   "source": [
    "### Question7. \n",
    "Make a default dictionary called dict_of_lists and pass it the argument list. Make the list dict_of_lists['a'] and append the value 'something for a' to it in one assignment. Print dict_of_lists['a'].\n",
    "\n",
    "Answer:\n"
   ]
  },
  {
   "cell_type": "code",
   "execution_count": 7,
   "id": "808f4c50",
   "metadata": {},
   "outputs": [
    {
     "name": "stdout",
     "output_type": "stream",
     "text": [
      "['something for a']\n"
     ]
    }
   ],
   "source": [
    "from collections import defaultdict\n",
    "dict_of_lists = defaultdict(list)\n",
    "dict_of_lists['a'].append('something for a')\n",
    "print(dict_of_lists['a'])"
   ]
  }
 ],
 "metadata": {
  "kernelspec": {
   "display_name": "Python 3 (ipykernel)",
   "language": "python",
   "name": "python3"
  },
  "language_info": {
   "codemirror_mode": {
    "name": "ipython",
    "version": 3
   },
   "file_extension": ".py",
   "mimetype": "text/x-python",
   "name": "python",
   "nbconvert_exporter": "python",
   "pygments_lexer": "ipython3",
   "version": "3.9.7"
  }
 },
 "nbformat": 4,
 "nbformat_minor": 5
}
