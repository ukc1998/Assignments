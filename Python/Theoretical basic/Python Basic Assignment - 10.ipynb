{
 "cells": [
  {
   "cell_type": "markdown",
   "id": "19f63e8e",
   "metadata": {},
   "source": [
    "# Python Basic Assignment - 17"
   ]
  },
  {
   "cell_type": "markdown",
   "id": "c07d79bb",
   "metadata": {},
   "source": []
  },
  {
   "cell_type": "markdown",
   "id": "b935c5ad",
   "metadata": {},
   "source": []
  },
  {
   "cell_type": "markdown",
   "id": "deaf527d",
   "metadata": {},
   "source": [
    "### Question1. \n",
    "Assign the value 7 to the variable guess_me. Then, write the conditional tests (if, else, and elif) to print the string 'too low' if guess_me is less than 7, 'too high' if greater than 7, and 'just right' if equal to 7.\n",
    "\n",
    "Answer:\n"
   ]
  },
  {
   "cell_type": "code",
   "execution_count": 1,
   "id": "1f8a9b08",
   "metadata": {},
   "outputs": [
    {
     "name": "stdout",
     "output_type": "stream",
     "text": [
      "just right\n"
     ]
    }
   ],
   "source": [
    "guess_me = 7\n",
    "if guess_me < 7:\n",
    "    print(\"too low\")\n",
    "elif guess_me > 7:\n",
    "    print(\"too high\")\n",
    "else:\n",
    "    print(\"just right\")"
   ]
  },
  {
   "cell_type": "markdown",
   "id": "02fd253b",
   "metadata": {},
   "source": []
  },
  {
   "cell_type": "markdown",
   "id": "2ae92ae4",
   "metadata": {},
   "source": []
  },
  {
   "cell_type": "markdown",
   "id": "5cd1f65e",
   "metadata": {},
   "source": [
    "### Question2. \n",
    "Assign the value 7 to the variable guess_me and the value 1 to the variable start. Write a while loop that compares start with guess_me. Print too low if start is less than guess me. If start equals guess_me, print 'found it!' and exit the loop. If start is greater than guess_me, print 'oops' and exit the loop. Increment start at the end of the loop.\n",
    "\n",
    "Answer:\n"
   ]
  },
  {
   "cell_type": "code",
   "execution_count": 2,
   "id": "d00ce142",
   "metadata": {},
   "outputs": [
    {
     "name": "stdout",
     "output_type": "stream",
     "text": [
      "too low\n",
      "too low\n",
      "too low\n",
      "too low\n",
      "too low\n",
      "too low\n",
      "found it!\n"
     ]
    }
   ],
   "source": [
    "guess_me = 7\n",
    "start = 1\n",
    "\n",
    "while True:\n",
    "    \n",
    "    if start < guess_me:\n",
    "        print(\"too low\")\n",
    "        \n",
    "    elif start == guess_me:\n",
    "        print(\"found it!\")\n",
    "        break\n",
    "        \n",
    "    else:\n",
    "        print(\"oops\")\n",
    "        break\n",
    "        \n",
    "    start = start + 1"
   ]
  },
  {
   "cell_type": "markdown",
   "id": "95a2e585",
   "metadata": {},
   "source": []
  },
  {
   "cell_type": "markdown",
   "id": "ef08157c",
   "metadata": {},
   "source": []
  },
  {
   "cell_type": "markdown",
   "id": "8408b609",
   "metadata": {},
   "source": [
    "### Question3. \n",
    "Print the following values of the list [3, 2, 1, 0] using a for loop.\n",
    "\n",
    "Answer:\n"
   ]
  },
  {
   "cell_type": "code",
   "execution_count": 3,
   "id": "b82638e5",
   "metadata": {},
   "outputs": [
    {
     "name": "stdout",
     "output_type": "stream",
     "text": [
      "3\n",
      "2\n",
      "1\n",
      "0\n"
     ]
    }
   ],
   "source": [
    "list = [3,2,1,0]\n",
    "\n",
    "for i in list:\n",
    "    print(i)"
   ]
  },
  {
   "cell_type": "markdown",
   "id": "70aa97ae",
   "metadata": {},
   "source": []
  },
  {
   "cell_type": "markdown",
   "id": "ffb847d6",
   "metadata": {},
   "source": []
  },
  {
   "cell_type": "markdown",
   "id": "4b269906",
   "metadata": {},
   "source": [
    "### Question4. \n",
    "Use a list comprehension to make a list of the even numbers in range(10)\n",
    "\n",
    "Answer:\n"
   ]
  },
  {
   "cell_type": "code",
   "execution_count": 4,
   "id": "23241aeb",
   "metadata": {},
   "outputs": [
    {
     "data": {
      "text/plain": [
       "[0, 2, 4, 6, 8]"
      ]
     },
     "execution_count": 4,
     "metadata": {},
     "output_type": "execute_result"
    }
   ],
   "source": [
    "Even_List = [i for i in range(10) if i%2 == 0]\n",
    "Even_List"
   ]
  },
  {
   "cell_type": "markdown",
   "id": "7a21b655",
   "metadata": {},
   "source": []
  },
  {
   "cell_type": "markdown",
   "id": "569e7ef7",
   "metadata": {},
   "source": []
  },
  {
   "cell_type": "markdown",
   "id": "7d390981",
   "metadata": {},
   "source": [
    "### Question5. \n",
    "Use a dictionary comprehension to create the dictionary squares. Use range(10) to return the keys, and use the square of each key as its value.\n",
    "\n",
    "Answer:\n"
   ]
  },
  {
   "cell_type": "code",
   "execution_count": 5,
   "id": "fc2c8a97",
   "metadata": {},
   "outputs": [
    {
     "data": {
      "text/plain": [
       "{0: 0, 1: 1, 2: 4, 3: 9, 4: 16, 5: 25, 6: 36, 7: 49, 8: 64, 9: 81}"
      ]
     },
     "execution_count": 5,
     "metadata": {},
     "output_type": "execute_result"
    }
   ],
   "source": [
    "Squares_Dictonary = {i:i**2 for i in range(10)}\n",
    "Squares_Dictonary"
   ]
  },
  {
   "cell_type": "markdown",
   "id": "c2c18d6a",
   "metadata": {},
   "source": []
  },
  {
   "cell_type": "markdown",
   "id": "1e9128cc",
   "metadata": {},
   "source": []
  },
  {
   "cell_type": "markdown",
   "id": "23f6ef13",
   "metadata": {},
   "source": [
    "### Question6. \n",
    "Construct the set odd from the odd numbers in the range (10) using a set comprehension.\n",
    "\n",
    "Answer:\n"
   ]
  },
  {
   "cell_type": "code",
   "execution_count": 6,
   "id": "5810e0c4",
   "metadata": {},
   "outputs": [
    {
     "data": {
      "text/plain": [
       "{1, 3, 5, 7, 9}"
      ]
     },
     "execution_count": 6,
     "metadata": {},
     "output_type": "execute_result"
    }
   ],
   "source": [
    "Odd_set = {i for i in range(10) if i%2 == 1}\n",
    "Odd_set"
   ]
  },
  {
   "cell_type": "markdown",
   "id": "a0d3e137",
   "metadata": {},
   "source": []
  },
  {
   "cell_type": "markdown",
   "id": "e629f707",
   "metadata": {},
   "source": []
  },
  {
   "cell_type": "markdown",
   "id": "7a810684",
   "metadata": {},
   "source": [
    "### Question7. \n",
    "Use a generator comprehension to return the string &#39;Got &#39; and a number for the numbers in range(10). Iterate through this by using a for loop.\n",
    "\n",
    "Answer:\n"
   ]
  },
  {
   "cell_type": "code",
   "execution_count": 7,
   "id": "11fe0d05",
   "metadata": {},
   "outputs": [
    {
     "name": "stdout",
     "output_type": "stream",
     "text": [
      "Got 0\n",
      "Got 1\n",
      "Got 2\n",
      "Got 3\n",
      "Got 4\n",
      "Got 5\n",
      "Got 6\n",
      "Got 7\n",
      "Got 8\n",
      "Got 9\n"
     ]
    }
   ],
   "source": [
    "string_generator = ('Got ' + str(i) for i in range(10))\n",
    "for i in string_generator:\n",
    "    print(i)"
   ]
  },
  {
   "cell_type": "markdown",
   "id": "b2a57b86",
   "metadata": {},
   "source": []
  },
  {
   "cell_type": "markdown",
   "id": "15954853",
   "metadata": {},
   "source": []
  },
  {
   "cell_type": "markdown",
   "id": "373db1a9",
   "metadata": {},
   "source": [
    "### Question8. \n",
    "Define a function called good that returns the list ['Harry', 'Ron', 'Hermione'].\n",
    "\n",
    "Answer:\n"
   ]
  },
  {
   "cell_type": "code",
   "execution_count": 8,
   "id": "69f092d6",
   "metadata": {},
   "outputs": [
    {
     "data": {
      "text/plain": [
       "['Harry', 'Ron', 'Hermione']"
      ]
     },
     "execution_count": 8,
     "metadata": {},
     "output_type": "execute_result"
    }
   ],
   "source": [
    "def good():\n",
    "    list = ['Harry', 'Ron', 'Hermione']\n",
    "    return list\n",
    "\n",
    "good()"
   ]
  },
  {
   "cell_type": "markdown",
   "id": "c6403513",
   "metadata": {},
   "source": []
  },
  {
   "cell_type": "markdown",
   "id": "c4fcf459",
   "metadata": {},
   "source": []
  },
  {
   "cell_type": "markdown",
   "id": "f30a0541",
   "metadata": {},
   "source": [
    "### Question9. \n",
    "Define a generator function called get_odds that returns the odd numbers from range(10). Use a for loop to find and print the third value returned.\n",
    "\n",
    "Answer:\n"
   ]
  },
  {
   "cell_type": "code",
   "execution_count": 9,
   "id": "94d788d6",
   "metadata": {},
   "outputs": [
    {
     "name": "stdout",
     "output_type": "stream",
     "text": [
      "The third value returned from the function get_odds is  5\n"
     ]
    }
   ],
   "source": [
    "def get_odds():\n",
    "    for i in range(10):\n",
    "        if i%2 == 1:\n",
    "            yield i\n",
    "\n",
    "count = 1            \n",
    "for i in get_odds():\n",
    "        if count == 3:\n",
    "            print(\"The third value returned from the function get_odds is \",i)\n",
    "            break\n",
    "        count = count + 1"
   ]
  },
  {
   "cell_type": "markdown",
   "id": "b0d869ef",
   "metadata": {},
   "source": []
  },
  {
   "cell_type": "markdown",
   "id": "cf0eb774",
   "metadata": {},
   "source": []
  },
  {
   "cell_type": "markdown",
   "id": "b4cc593d",
   "metadata": {},
   "source": [
    "### Question10. \n",
    "Define an exception called OopsException. Raise this exception to see what happens. Then write the code to catch this exception and print 'Caught an oops'.\n",
    "\n",
    "Answer:\n"
   ]
  },
  {
   "cell_type": "code",
   "execution_count": 10,
   "id": "1c204f0c",
   "metadata": {},
   "outputs": [
    {
     "name": "stdout",
     "output_type": "stream",
     "text": [
      "Caught an oops\n"
     ]
    }
   ],
   "source": [
    "class OopsException(Exception):\n",
    "    pass\n",
    "\n",
    "\n",
    "def Exception_Raiser(number):\n",
    "    if number < 0:\n",
    "        raise OopsException(number)\n",
    "        \n",
    "\n",
    "try:\n",
    "    Exception_Raiser(-32453445)\n",
    "except OopsException as OE:\n",
    "    print('Caught an oops')"
   ]
  },
  {
   "cell_type": "markdown",
   "id": "c67bbaf2",
   "metadata": {},
   "source": []
  },
  {
   "cell_type": "markdown",
   "id": "24d7aceb",
   "metadata": {},
   "source": []
  },
  {
   "cell_type": "markdown",
   "id": "86d47152",
   "metadata": {},
   "source": [
    "### Question11. \n",
    "Use zip() to make a dictionary called movies that pairs these lists: titles = ['Creature of Habit', 'Crewel Fate'] and plots = ['A nun turns into a monster','A haunted yarn shop'].\n",
    "\n",
    "Answer:\n"
   ]
  },
  {
   "cell_type": "code",
   "execution_count": 11,
   "id": "478f7026",
   "metadata": {},
   "outputs": [
    {
     "data": {
      "text/plain": [
       "{'Creature of Habit': 'A nun turns into a monster',\n",
       " 'Crewel Fate': 'A haunted yarn shop'}"
      ]
     },
     "execution_count": 11,
     "metadata": {},
     "output_type": "execute_result"
    }
   ],
   "source": [
    "titles = ['Creature of Habit', 'Crewel Fate']\n",
    "plots = ['A nun turns into a monster','A haunted yarn shop']\n",
    "\n",
    "movies = dict(zip(titles,plots))\n",
    "    \n",
    "movies"
   ]
  }
 ],
 "metadata": {
  "kernelspec": {
   "display_name": "Python 3 (ipykernel)",
   "language": "python",
   "name": "python3"
  },
  "language_info": {
   "codemirror_mode": {
    "name": "ipython",
    "version": 3
   },
   "file_extension": ".py",
   "mimetype": "text/x-python",
   "name": "python",
   "nbconvert_exporter": "python",
   "pygments_lexer": "ipython3",
   "version": "3.9.7"
  }
 },
 "nbformat": 4,
 "nbformat_minor": 5
}
