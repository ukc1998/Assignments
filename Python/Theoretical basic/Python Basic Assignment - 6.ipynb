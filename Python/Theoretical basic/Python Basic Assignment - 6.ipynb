{
 "cells": [
  {
   "cell_type": "markdown",
   "id": "5a92b2ed",
   "metadata": {},
   "source": [
    "# Python Basic Assignment - 13"
   ]
  },
  {
   "cell_type": "markdown",
   "id": "8c877c20",
   "metadata": {},
   "source": []
  },
  {
   "cell_type": "markdown",
   "id": "ef6d1795",
   "metadata": {},
   "source": []
  },
  {
   "cell_type": "markdown",
   "id": "5e7439be",
   "metadata": {},
   "source": [
    "### Question 1. What advantages do Excel spreadsheets have over CSV spreadsheets?\n",
    "\n",
    "### Answer:\n",
    "\n"
   ]
  },
  {
   "cell_type": "markdown",
   "id": "1aa8c4da",
   "metadata": {},
   "source": [
    "Following advantages do Excel spreadsheets have over CSV spreadsheets:\n",
    "\n",
    "1. It is a binary file that holds information about all the worksheets in a workbook.\n",
    "2. An Excel not only stores data but can also do operations on the data.\n",
    "3. Files saved in excel cannot be opened or edited by text editors.\n",
    "4. Large files user is much easier in Excel for the end user. Also, one can have additional functions like selecting individual cells for import, converting dates and time automatically, reading formulas and their results, filtering, sorting, etc.\n",
    "5. Apart from text, data can also be stored in form of charts and graphs\n",
    "6. Excel can connect to external data sources to fetch data. You can use custom add-in in Excel to increase its functionality. \n",
    "7. Excel allows for Review of Data with detailed tracking and commenting feature.\n",
    "8. In Excel, spreadsheets can have values of data types other than strings; cells can have different fonts, sizes, or color settings; cells can have varying widths and heights; adjacent cells can be merged.\n",
    "9. Excel (XLS and XLSX) file formats are better for storing and analysing complex data.\n",
    "10. An Excel not only stores data but can also do operations on the data using macros, formulas etc.\n",
    "11. CSV files are plain-text files, Does not contain formatting, formulas, macros, etc. It is also known as flat files."
   ]
  },
  {
   "cell_type": "markdown",
   "id": "f8c4e65e",
   "metadata": {},
   "source": []
  },
  {
   "cell_type": "markdown",
   "id": "ec30f366",
   "metadata": {},
   "source": []
  },
  {
   "cell_type": "markdown",
   "id": "88c0a3f2",
   "metadata": {},
   "source": [
    "### Question2.What do you pass to csv.reader() and csv.writer() to create reader and writer objects?\n",
    "\n",
    "### Answer:\n",
    "\n"
   ]
  },
  {
   "cell_type": "markdown",
   "id": "1c6f1a5f",
   "metadata": {},
   "source": [
    "We pass a File object and a delimeter object if necessary, to csv.reader() and csv.writer() to create reader and writer objects."
   ]
  },
  {
   "cell_type": "code",
   "execution_count": null,
   "id": "9f17eaf7",
   "metadata": {},
   "outputs": [],
   "source": [
    "#code example:\n",
    "\n",
    "import csv\n",
    "with open('text.csv','r') as file:\n",
    "    csv_file = csv.reader(file,delimiter=',')\n",
    "    for ele in csv_file:\n",
    "        print(ele)"
   ]
  },
  {
   "cell_type": "markdown",
   "id": "22b04333",
   "metadata": {},
   "source": []
  },
  {
   "cell_type": "markdown",
   "id": "640495f3",
   "metadata": {},
   "source": []
  },
  {
   "cell_type": "markdown",
   "id": "03cac6f1",
   "metadata": {},
   "source": [
    "### Question3. What modes do File objects for reader and writer objects need to be opened in?\n",
    "\n",
    "### Answer:\n",
    "\n"
   ]
  },
  {
   "cell_type": "markdown",
   "id": "b80f74c1",
   "metadata": {},
   "source": [
    "For `csv.reader(iterable_file_object)`, the file objects need to be opened in read mode i.e. `mode='r'`, whereas for `csv.writer(iterable_file_object)`, the file objects need to be opened in write mode i.e. `mode='w'`."
   ]
  },
  {
   "cell_type": "markdown",
   "id": "8a70e317",
   "metadata": {},
   "source": []
  },
  {
   "cell_type": "markdown",
   "id": "bebae7d1",
   "metadata": {},
   "source": []
  },
  {
   "cell_type": "markdown",
   "id": "a9870cd2",
   "metadata": {},
   "source": [
    "### Question4. What method takes a list argument and writes it to a CSV file?\n",
    "\n",
    "### Answer:\n",
    "\n"
   ]
  },
  {
   "cell_type": "markdown",
   "id": "488afa70",
   "metadata": {},
   "source": [
    "`csv.writer` class provides two methods for writing to CSV. They are `writerow()` and `writerows()`. `writerow()` method writes a single row at a time, whereas `writerows()` method is used to write multiple rows at a time."
   ]
  },
  {
   "cell_type": "code",
   "execution_count": null,
   "id": "d3b700e5",
   "metadata": {},
   "outputs": [],
   "source": [
    "# Example Program:\n",
    "\n",
    "import csv      \n",
    "fields = ['Name', 'Branch', 'Year_Of_Passing', 'Marks(CGPA)'] #column names \n",
    "rows = [ \n",
    "            ['Utkarsh', 'CE', '2019', '9.0'],  # data rows of csv file \n",
    "            ['Sanjeev', 'CE', '2019', '9.1'], \n",
    "            ['Anshuman', 'CSE', '2019', '9.3']\n",
    "       ] \n",
    "with open(\"academic_records.csv\", 'w') as csvfile: \n",
    "    csvwriter = csv.writer(csvfile) # creating a csv writer object \n",
    "    csvwriter.writerow(fields) # writing the fields \n",
    "    csvwriter.writerows(rows) # writing the data rows "
   ]
  },
  {
   "cell_type": "markdown",
   "id": "89c336d3",
   "metadata": {},
   "source": []
  },
  {
   "cell_type": "markdown",
   "id": "dc3d81a7",
   "metadata": {},
   "source": []
  },
  {
   "cell_type": "markdown",
   "id": "b59d4fe1",
   "metadata": {},
   "source": [
    "### Question5. What do the keyword arguments delimiter and line terminator do?\n",
    "\n",
    "### Answer:\n",
    "\n"
   ]
  },
  {
   "cell_type": "markdown",
   "id": "620f7232",
   "metadata": {},
   "source": [
    "The delimiter argument changes the string used to separate cells in a row. \n",
    "\n",
    "The lineterminator argument changes the string used to separate rows."
   ]
  },
  {
   "cell_type": "markdown",
   "id": "8e8fd26e",
   "metadata": {},
   "source": []
  },
  {
   "cell_type": "markdown",
   "id": "d26bf4b0",
   "metadata": {},
   "source": []
  },
  {
   "cell_type": "markdown",
   "id": "538fbd9f",
   "metadata": {},
   "source": [
    "### Question6. What function takes a string of JSON data and returns a Python data structure?\n",
    "\n",
    "### Answer:\n",
    "\n"
   ]
  },
  {
   "cell_type": "markdown",
   "id": "575a2bf0",
   "metadata": {},
   "source": [
    "`loads()` method takes a string of JSON data and returns a Python data structure"
   ]
  },
  {
   "cell_type": "code",
   "execution_count": 1,
   "id": "55382587",
   "metadata": {},
   "outputs": [
    {
     "name": "stdout",
     "output_type": "stream",
     "text": [
      "{\n",
      "    \"Name\": \"Utkarsh\",\n",
      "    \"Qualification\": \"Bachelor of Engineering\",\n",
      "    \"Stream\": \"Civil Engineering\"\n",
      "}\n",
      "\n",
      "Type of my_details_json is <class 'str'>\n",
      "\n",
      "{'Name': 'Utkarsh', 'Qualification': 'Bachelor of Engineering', 'Stream': 'Civil Engineering'}\n",
      "\n",
      "Type of my_details is <class 'dict'>\n"
     ]
    }
   ],
   "source": [
    "# Example of json.loads() method\n",
    "\n",
    "import json\n",
    "my_details_json ='''{\n",
    "    \"Name\": \"Utkarsh\",\n",
    "    \"Qualification\": \"Bachelor of Engineering\",\n",
    "    \"Stream\": \"Civil Engineering\"\n",
    "}'''\n",
    "\n",
    "print(my_details_json)\n",
    "print()\n",
    "print(f'Type of my_details_json is {type(my_details_json)}')\n",
    "print()\n",
    "\n",
    "my_details = json.loads(my_details_json)\n",
    "print(my_details)\n",
    "print()\n",
    "print(f'Type of my_details is {type(my_details)}')"
   ]
  },
  {
   "cell_type": "markdown",
   "id": "bdd83db9",
   "metadata": {},
   "source": []
  },
  {
   "cell_type": "markdown",
   "id": "db6ac1de",
   "metadata": {},
   "source": []
  },
  {
   "cell_type": "markdown",
   "id": "48cc30eb",
   "metadata": {},
   "source": [
    "### Question7. What function takes a Python data structure and returns a string of JSON data?\n",
    "\n",
    "### Answer:\n",
    "\n"
   ]
  },
  {
   "cell_type": "markdown",
   "id": "98380584",
   "metadata": {},
   "source": [
    "`dumps()` method takes a python data structure and returns a string of JSON data"
   ]
  },
  {
   "cell_type": "code",
   "execution_count": 2,
   "id": "5e5a5311",
   "metadata": {},
   "outputs": [
    {
     "name": "stdout",
     "output_type": "stream",
     "text": [
      "{'Name': 'Utkarsh', 'Qualification': 'Bachelor of Engineering', 'Stream': 'Civil Engineering'}\n",
      "\n",
      "Type of my_details is <class 'dict'>\n",
      "\n",
      "{\n",
      "    \"Name\": \"Utkarsh\",\n",
      "    \"Qualification\": \"Bachelor of Engineering\",\n",
      "    \"Stream\": \"Civil Engineering\"\n",
      "}\n",
      "\n",
      "Type of my_details_json is <class 'str'>\n"
     ]
    }
   ],
   "source": [
    "# Example of json.dumps() method\n",
    "\n",
    "import json\n",
    "my_details = {\n",
    "    \"Name\": \"Utkarsh\",\n",
    "    \"Qualification\": \"Bachelor of Engineering\",\n",
    "    \"Stream\": \"Civil Engineering\"\n",
    "}\n",
    "\n",
    "print(my_details)\n",
    "print()\n",
    "print(f'Type of my_details is {type(my_details)}')\n",
    "print()\n",
    "\n",
    "my_details_json = json.dumps(my_details, indent=4, sort_keys=True)\n",
    "print(my_details_json)\n",
    "print()\n",
    "print(f'Type of my_details_json is {type(my_details_json)}')"
   ]
  }
 ],
 "metadata": {
  "kernelspec": {
   "display_name": "Python 3 (ipykernel)",
   "language": "python",
   "name": "python3"
  },
  "language_info": {
   "codemirror_mode": {
    "name": "ipython",
    "version": 3
   },
   "file_extension": ".py",
   "mimetype": "text/x-python",
   "name": "python",
   "nbconvert_exporter": "python",
   "pygments_lexer": "ipython3",
   "version": "3.9.7"
  }
 },
 "nbformat": 4,
 "nbformat_minor": 5
}
