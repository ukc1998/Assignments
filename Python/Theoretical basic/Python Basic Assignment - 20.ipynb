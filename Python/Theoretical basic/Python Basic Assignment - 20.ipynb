{
 "cells": [
  {
   "cell_type": "markdown",
   "id": "4b3834bd",
   "metadata": {},
   "source": [
    "# Python Basic Assignment - 10"
   ]
  },
  {
   "cell_type": "markdown",
   "id": "f0eb6869",
   "metadata": {},
   "source": []
  },
  {
   "cell_type": "markdown",
   "id": "b2fc00e4",
   "metadata": {},
   "source": []
  },
  {
   "cell_type": "markdown",
   "id": "e7a5385e",
   "metadata": {},
   "source": [
    "### Question1. \n",
    "How do you distinguish between shutil.copy() and shutil.copytree()?\n",
    "\n",
    "Answer:\n",
    "\n",
    "The shutil.copy() function copies a single file, while shutil.copytree() copies an entire folder, along with all of its contents."
   ]
  },
  {
   "cell_type": "markdown",
   "id": "948d6bf7",
   "metadata": {},
   "source": []
  },
  {
   "cell_type": "markdown",
   "id": "bf59a257",
   "metadata": {},
   "source": []
  },
  {
   "cell_type": "markdown",
   "id": "5776d017",
   "metadata": {},
   "source": [
    "### Question2. \n",
    "What function is used to rename files??\n",
    "\n",
    "Answer:\n",
    "\n",
    "The os.rename() function can be used to rename a file. It takes two arguments, the first one is the old name and the second one is the new name. The shutil.move() function can also be used for renaming files as well as moving them."
   ]
  },
  {
   "cell_type": "markdown",
   "id": "d7c0c160",
   "metadata": {},
   "source": []
  },
  {
   "cell_type": "markdown",
   "id": "68712527",
   "metadata": {},
   "source": []
  },
  {
   "cell_type": "markdown",
   "id": "c8048856",
   "metadata": {},
   "source": [
    "### Question3. \n",
    "What is the difference between the delete functions in the send2trash and shutil modules?\n",
    "\n",
    "Answer:\n",
    "\n",
    "The send2trash function moves a file or folder to the recycle bin, while shutil function permanently deletes files and folders."
   ]
  },
  {
   "cell_type": "markdown",
   "id": "5246f7f0",
   "metadata": {},
   "source": []
  },
  {
   "cell_type": "markdown",
   "id": "b81e62d2",
   "metadata": {},
   "source": []
  },
  {
   "cell_type": "markdown",
   "id": "2173a0c3",
   "metadata": {},
   "source": [
    "### Question4.\n",
    "ZipFile objects have a close() method just like File objects’ close() method. What ZipFile method is equivalent to File objects’ open() method?\n",
    "\n",
    "Answer:\n",
    "\n",
    "The zipfile.ZipFile() function is equivalent to the open() function; the first argument is the filename, and the second argument is the mode to open the ZIP file in read mode, write mode, or append mode."
   ]
  },
  {
   "cell_type": "markdown",
   "id": "5777727a",
   "metadata": {},
   "source": []
  },
  {
   "cell_type": "markdown",
   "id": "30d01fb6",
   "metadata": {},
   "source": []
  },
  {
   "cell_type": "markdown",
   "id": "1ed2417a",
   "metadata": {},
   "source": [
    "### Question5. \n",
    "Create a programme that searches a folder tree for files with a certain file extension (such as .pdf or .jpg). Copy these files from whatever location they are in to a new folder.\n",
    "\n",
    "Answer:\n"
   ]
  },
  {
   "cell_type": "code",
   "execution_count": 1,
   "id": "b3b4fe2e",
   "metadata": {},
   "outputs": [
    {
     "name": "stdout",
     "output_type": "stream",
     "text": [
      "Enter the absolute path of the source directory that you want to be searched:   C:\\\\Users\\\\Utkarsh\\\\Desktop\\\\Sleepless in Seattle (1993) (1080p BluRay x265 HEVC 10bit AAC 5.1 Tigole)\n",
      "Enter the type of file to copy (such as .pdf or .jpg):    .jpg\n",
      "Enter the absolute path of the destination directory where you want the searched files to be copied:   C:\\\\Users\\\\Utkarsh\\\\Desktop\\\\New folder (3)\n"
     ]
    }
   ],
   "source": [
    "def SEARCH_AND_COPY():\n",
    "    \n",
    "    \"\"\"\n",
    "    It is a function that searches a folder tree for files with a certain file extension\n",
    "    (such as .pdf or .jpg) and Copy these files from whatever location they are in to a new folder.\n",
    "    \n",
    "    It takes following three inputs:\n",
    "    \n",
    "    It takes Source_Path as input (Follow double forward slash to give input).\n",
    "    It takes Type_Of_File_Extension as input.\n",
    "    It takes Destination_Path as input (Follow double forward slash to give input).\n",
    "    \n",
    "    \"\"\"\n",
    "    \n",
    "    import os, shutil\n",
    "\n",
    "    Source_Path = input(\"Enter the absolute path of the source directory that you want to be searched:   \")\n",
    "    Type_Of_File_Extension = input(\"Enter the type of file to copy (such as .pdf or .jpg):    \").lower()\n",
    "    Destination_Path = input(\"Enter the absolute path of the destination directory where you want the searched files to be copied:   \")\n",
    "\n",
    "    for FolderName, SubFolders, FileNames in os.walk(Source_Path):\n",
    "        \n",
    "        for FileName in FileNames:\n",
    "            \n",
    "            if FileName.lower().endswith(Type_Of_File_Extension):\n",
    "                \n",
    "                Source_Path_Files_To_Be_Copied = os.path.join(FolderName, FileName)\n",
    "                shutil.copy(Source_Path_Files_To_Be_Copied, Destination_Path)\n",
    "            \n",
    "            else:\n",
    "                continue\n",
    "                \n",
    "                \n",
    "SEARCH_AND_COPY()"
   ]
  }
 ],
 "metadata": {
  "kernelspec": {
   "display_name": "Python 3 (ipykernel)",
   "language": "python",
   "name": "python3"
  },
  "language_info": {
   "codemirror_mode": {
    "name": "ipython",
    "version": 3
   },
   "file_extension": ".py",
   "mimetype": "text/x-python",
   "name": "python",
   "nbconvert_exporter": "python",
   "pygments_lexer": "ipython3",
   "version": "3.9.7"
  }
 },
 "nbformat": 4,
 "nbformat_minor": 5
}
