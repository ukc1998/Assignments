{
 "cells": [
  {
   "cell_type": "markdown",
   "id": "dfcaaa8f",
   "metadata": {},
   "source": [
    "# Python Basic Assignment - 5"
   ]
  },
  {
   "cell_type": "markdown",
   "id": "29c488a6",
   "metadata": {},
   "source": []
  },
  {
   "cell_type": "markdown",
   "id": "36511c5a",
   "metadata": {},
   "source": []
  },
  {
   "cell_type": "markdown",
   "id": "bc99a119",
   "metadata": {},
   "source": [
    "### Question1.\n",
    "What does an empty dictionary's code look like?\n",
    "\n",
    "Answer:\n",
    "\n",
    "An empty dictionary's code look like {} i.e. two curly brackets."
   ]
  },
  {
   "cell_type": "markdown",
   "id": "bb567b96",
   "metadata": {},
   "source": []
  },
  {
   "cell_type": "markdown",
   "id": "6c69a7d7",
   "metadata": {},
   "source": []
  },
  {
   "cell_type": "markdown",
   "id": "8d801e1e",
   "metadata": {},
   "source": [
    "### Question2.\n",
    "What is the value of a dictionary value with the key 'foo' and the value 42?\n",
    "\n",
    "Answer:\n",
    "\n",
    "If {'foo': 42} is it itself a dictionary value, then its value would be 42."
   ]
  },
  {
   "cell_type": "markdown",
   "id": "938815f6",
   "metadata": {},
   "source": []
  },
  {
   "cell_type": "markdown",
   "id": "60c87f14",
   "metadata": {},
   "source": []
  },
  {
   "cell_type": "markdown",
   "id": "72dabae0",
   "metadata": {},
   "source": [
    "### Question3.\n",
    "What is the most significant distinction between a dictionary and a list?\n",
    "\n",
    "Answer:\n",
    "\n",
    "The items stored in a dictionary are unordered, whereas the items in a list are ordered."
   ]
  },
  {
   "cell_type": "markdown",
   "id": "f2d5b524",
   "metadata": {},
   "source": []
  },
  {
   "cell_type": "markdown",
   "id": "3886e9c2",
   "metadata": {},
   "source": []
  },
  {
   "cell_type": "code",
   "execution_count": null,
   "id": "1f44a7e5",
   "metadata": {},
   "outputs": [],
   "source": [
    "### Question4.\n",
    "What happens if you try to access spam['foo'] if spam is {'bar': 100}?\n",
    "\n",
    "Answer:\n",
    "\n",
    "If spam is {'bar': 100}, and if we try to access spam['foo'], then we get a KeyError, \n",
    "because there is no key named as 'foo' in the given dictionary.\n",
    "\n",
    "Crosscheck by running the program:\n"
   ]
  },
  {
   "cell_type": "code",
   "execution_count": 1,
   "id": "f26a4d7f",
   "metadata": {},
   "outputs": [],
   "source": [
    "spam = {'bar': 100}"
   ]
  },
  {
   "cell_type": "code",
   "execution_count": 2,
   "id": "bf473a42",
   "metadata": {},
   "outputs": [
    {
     "data": {
      "text/plain": [
       "{'bar': 100}"
      ]
     },
     "execution_count": 2,
     "metadata": {},
     "output_type": "execute_result"
    }
   ],
   "source": [
    "spam"
   ]
  },
  {
   "cell_type": "code",
   "execution_count": 3,
   "id": "380a6f4c",
   "metadata": {
    "scrolled": true
   },
   "outputs": [
    {
     "ename": "KeyError",
     "evalue": "'foo'",
     "output_type": "error",
     "traceback": [
      "\u001b[1;31m---------------------------------------------------------------------------\u001b[0m",
      "\u001b[1;31mKeyError\u001b[0m                                  Traceback (most recent call last)",
      "\u001b[1;32m~\\AppData\\Local\\Temp/ipykernel_2680/3999281786.py\u001b[0m in \u001b[0;36m<module>\u001b[1;34m\u001b[0m\n\u001b[1;32m----> 1\u001b[1;33m \u001b[0mspam\u001b[0m\u001b[1;33m[\u001b[0m\u001b[1;34m'foo'\u001b[0m\u001b[1;33m]\u001b[0m\u001b[1;33m\u001b[0m\u001b[1;33m\u001b[0m\u001b[0m\n\u001b[0m",
      "\u001b[1;31mKeyError\u001b[0m: 'foo'"
     ]
    }
   ],
   "source": [
    "spam['foo']"
   ]
  },
  {
   "cell_type": "markdown",
   "id": "b31a0a58",
   "metadata": {},
   "source": []
  },
  {
   "cell_type": "markdown",
   "id": "02bcf7bd",
   "metadata": {},
   "source": []
  },
  {
   "cell_type": "markdown",
   "id": "2e59e04c",
   "metadata": {},
   "source": [
    "### Question5.\n",
    "If a dictionary is stored in spam, what is the difference between the expressions 'cat' in spam and 'cat' in spam.keys()?\n",
    "\n",
    "Answer:\n",
    "\n",
    "There is no difference. The in operator in both the cases will check whether 'cat' exist as a key in the dictionary."
   ]
  },
  {
   "cell_type": "markdown",
   "id": "d142de33",
   "metadata": {},
   "source": []
  },
  {
   "cell_type": "markdown",
   "id": "20f1b31d",
   "metadata": {},
   "source": []
  },
  {
   "cell_type": "markdown",
   "id": "6245d1dc",
   "metadata": {},
   "source": [
    "### Question6.\n",
    "If a dictionary is stored in spam, what is the difference between the expressions 'cat' in spam and 'cat' in spam.values()?\n",
    "\n",
    "Answer:\n",
    "\n",
    "The expression 'cat' in spam will check whether a 'cat' key exist in the dictionary, whereas the expression 'cat' in spam.values()  will check whether a value 'cat' exist for one of the keys in spam."
   ]
  },
  {
   "cell_type": "markdown",
   "id": "89734869",
   "metadata": {},
   "source": []
  },
  {
   "cell_type": "markdown",
   "id": "bba68126",
   "metadata": {},
   "source": []
  },
  {
   "cell_type": "code",
   "execution_count": null,
   "id": "3e676e3b",
   "metadata": {},
   "outputs": [],
   "source": [
    "### Question7.\n",
    "What is a shortcut for the following code?\n",
    "\n",
    "if 'color' not in spam:\n",
    "spam['color'] = 'black'\n",
    "\n",
    "Answer:\n",
    "\n",
    "spam.setdefault('color', 'black')"
   ]
  },
  {
   "cell_type": "markdown",
   "id": "7932d972",
   "metadata": {},
   "source": []
  },
  {
   "cell_type": "markdown",
   "id": "afff99cc",
   "metadata": {},
   "source": []
  },
  {
   "cell_type": "markdown",
   "id": "54c91490",
   "metadata": {},
   "source": [
    "### Question8.\n",
    "How do you \"pretty print\" dictionary values using which module and function?\n",
    "\n",
    "Answer:\n",
    "\n",
    "We \"pretty print\" dictionary values using pprint module and pprint() function as follows:\n",
    "<br>\n",
    "pprint.pprint()"
   ]
  }
 ],
 "metadata": {
  "kernelspec": {
   "display_name": "Python 3 (ipykernel)",
   "language": "python",
   "name": "python3"
  },
  "language_info": {
   "codemirror_mode": {
    "name": "ipython",
    "version": 3
   },
   "file_extension": ".py",
   "mimetype": "text/x-python",
   "name": "python",
   "nbconvert_exporter": "python",
   "pygments_lexer": "ipython3",
   "version": "3.9.7"
  }
 },
 "nbformat": 4,
 "nbformat_minor": 5
}
