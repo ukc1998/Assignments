{
 "cells": [
  {
   "cell_type": "markdown",
   "id": "2b732e3e",
   "metadata": {},
   "source": [
    "# Python Programming Advance Assignment - 20"
   ]
  },
  {
   "cell_type": "markdown",
   "id": "02243b83",
   "metadata": {},
   "source": []
  },
  {
   "cell_type": "markdown",
   "id": "d9ffec97",
   "metadata": {},
   "source": []
  },
  {
   "cell_type": "markdown",
   "id": "c07f592e",
   "metadata": {},
   "source": [
    "### Question 1. Create a function based on the input and output. Look at the examples, there is a pattern.\n",
    "\n",
    "Examples\n",
    "\n",
    "`secret(\"p.one.two.three\") ➞ \"<p class='one two three'></p>\"`\n",
    "\n",
    "`secret(\"p.one\") ➞ \"<p class='one'></p>\"`\n",
    "\n",
    "`secret(\"p.four.five\") ➞ \"<p class='four five'></p>\"`\n",
    "\n",
    "### Answer:\n",
    "\n"
   ]
  },
  {
   "cell_type": "code",
   "execution_count": 1,
   "id": "96f55cb8",
   "metadata": {},
   "outputs": [
    {
     "name": "stdout",
     "output_type": "stream",
     "text": [
      "secret(\"p.one.two.three\") ➞ \"<p class=\"one two three\"></p>\"\n",
      "secret(\"p.one\") ➞ \"<p class=\"one\"></p>\"\n",
      "secret(\"p.four.five\") ➞ \"<p class=\"four five\"></p>\"\n"
     ]
    }
   ],
   "source": [
    "def secret(s):\n",
    "    \n",
    "    s_copy = s\n",
    "    s_list = s.split(\".\")\n",
    "    output = f'<{s_list[0]} class=\"{\" \".join(s_list[1:])}\"></{s_list[0]}>'\n",
    "    print(f'secret(\"{s_copy}\") ➞ \"{output}\"')\n",
    "    \n",
    "secret(\"p.one.two.three\")\n",
    "secret(\"p.one\")\n",
    "secret(\"p.four.five\")"
   ]
  },
  {
   "cell_type": "markdown",
   "id": "7ba79102",
   "metadata": {},
   "source": []
  },
  {
   "cell_type": "markdown",
   "id": "da2df7b7",
   "metadata": {},
   "source": []
  },
  {
   "cell_type": "markdown",
   "id": "c45e99d9",
   "metadata": {},
   "source": [
    "### Question 2. Create a function which counts how many lone 1s appear in a given number. Lone means the number doesn't appear twice or more in a row.\n",
    "\n",
    "Examples\n",
    "\n",
    "count_lone_ones(101) ➞ 2\n",
    "\n",
    "count_lone_ones(1191) ➞ 1\n",
    "\n",
    "count_lone_ones(1111) ➞ 0\n",
    "\n",
    "count_lone_ones(462) ➞ 0\n",
    "\n",
    "### Answer:\n",
    "\n"
   ]
  },
  {
   "cell_type": "code",
   "execution_count": 2,
   "id": "1f77bb21",
   "metadata": {},
   "outputs": [
    {
     "name": "stdout",
     "output_type": "stream",
     "text": [
      "count_lone_ones(101) ➞ 2\n",
      "count_lone_ones(1191) ➞ 1\n",
      "count_lone_ones(1111) ➞ 0\n",
      "count_lone_ones(462) ➞ 0\n"
     ]
    }
   ],
   "source": [
    "def count_lone_ones(n):\n",
    "    \n",
    "    import re\n",
    "    pattern = r\"(?<!1)1(?!1)\" \n",
    "    output = re.findall(pattern,str(n))\n",
    "    print(f'count_lone_ones({n}) ➞ {len(output)}')\n",
    "    \n",
    "count_lone_ones(101)\n",
    "count_lone_ones(1191)\n",
    "count_lone_ones(1111)\n",
    "count_lone_ones(462)"
   ]
  },
  {
   "cell_type": "markdown",
   "id": "de372bd2",
   "metadata": {},
   "source": []
  },
  {
   "cell_type": "markdown",
   "id": "28e05cfc",
   "metadata": {},
   "source": []
  },
  {
   "cell_type": "markdown",
   "id": "07e656e2",
   "metadata": {},
   "source": [
    "### Question 3. Write a method that accepts two integer parameters rows and cols. The output is a 2d array of numbers displayed in column-major order, meaning the numbers shown increase sequentially down each column and wrap to the top of the next column to the right once the bottom of the current column is reached.\n",
    "\n",
    "Examples\n",
    "\n",
    "printGrid(3, 6) ➞ [\n",
    "  [1, 4, 7, 10, 13, 16],\n",
    "  [2, 5, 8, 11, 14, 17],\n",
    "  [3, 6, 9, 12, 15, 18]\n",
    "]\n",
    "\n",
    "printGrid(5, 3) ➞ [\n",
    "  [1, 6, 11],\n",
    "  [2, 7, 12],\n",
    "  [3, 8, 13],\n",
    "  [4, 9, 14],\n",
    "  [5, 10, 15]\n",
    "]\n",
    "\n",
    "printGrid(4, 1) ➞ [\n",
    "  [1],\n",
    "  [2],\n",
    "  [3],\n",
    "  [4]\n",
    "]\n",
    "\n",
    "### Answer:\n",
    "\n"
   ]
  },
  {
   "cell_type": "code",
   "execution_count": 3,
   "id": "720e1f50",
   "metadata": {},
   "outputs": [
    {
     "name": "stdout",
     "output_type": "stream",
     "text": [
      "printGrid(3, 6) ➞ [[1, 4, 7, 10, 13, 16], [2, 5, 8, 11, 14, 17], [3, 6, 9, 12, 15, 18]]\n",
      "printGrid(5, 3) ➞ [[1, 6, 11], [2, 7, 12], [3, 8, 13], [4, 9, 14], [5, 10, 15]]\n",
      "printGrid(4, 1) ➞ [[1], [2], [3], [4]]\n"
     ]
    }
   ],
   "source": [
    "def printGrid(i1,i2):\n",
    "    output = []\n",
    "    for i in range(i1):\n",
    "        temp = []\n",
    "        for j in range(i2):\n",
    "            temp.append(i + (i1 * j) + 1 )\n",
    "        output.append(temp)\n",
    "    print(f'printGrid{i1,i2} ➞ {output}')\n",
    "    \n",
    "printGrid(3, 6)\n",
    "printGrid(5, 3)  \n",
    "printGrid(4, 1)"
   ]
  },
  {
   "cell_type": "markdown",
   "id": "4e26ff6a",
   "metadata": {},
   "source": []
  },
  {
   "cell_type": "markdown",
   "id": "34d91386",
   "metadata": {},
   "source": []
  },
  {
   "cell_type": "markdown",
   "id": "ab056b18",
   "metadata": {},
   "source": [
    "### Question 4. Given a list of integers, return the smallest positive integer not present in the list.\n",
    "\n",
    "Here is a representative example. Consider the list:\n",
    "\n",
    "[-2, 6, 4, 5, 7, -1, 7, 1, 3, 6, 6, -2, 9, 10, 2, 2]\n",
    "\n",
    "After reordering, the list becomes:\n",
    "\n",
    "[-2, -2, -1, 1, 2, 2, 3, 4, 5, 6, 6, 6, 7, 7, 9, 10]\n",
    "\n",
    "from which we see that the smallest missing positive integer is 8.\n",
    "\n",
    "Examples\n",
    "\n",
    "min_miss_pos([-2, 6, 4, 5, 7, -1, 1, 3, 6, -2, 9, 10, 2, 2]) ➞ 8\n",
    "#### After sorting, list becomes [-2, -2, -1, 1, 2, 2, 3, 4, 5, 6, 6, 7, 9, 10]\n",
    "#### So the smallest missing positive integer is 8\n",
    "\n",
    "min_miss_pos([5, 9, -2, 0, 1, 3, 9, 3, 8, 9]) ➞ 2\n",
    "#### After sorting, list becomes [-2, 0, 1, 3, 3, 5, 8, 9, 9, 9]\n",
    "#### So the smallest missing positive integer is 2\n",
    "\n",
    "min_miss_pos([0, 4, 4, -1, 9, 4, 5, 2, 10, 7, 6, 3, 10, 9]) ➞ 1\n",
    "#### After sorting, list becomes [-1, 0, 2, 3, 4, 4, 4, 5, 6, 7, 9, 9, 10, 10]\n",
    "#### So the smallest missing positive integer is 1\n",
    "\n",
    "### Answer:\n",
    "\n"
   ]
  },
  {
   "cell_type": "code",
   "execution_count": 4,
   "id": "8996c384",
   "metadata": {},
   "outputs": [
    {
     "name": "stdout",
     "output_type": "stream",
     "text": [
      "min_miss_pos([-2, 6, 4, 5, 7, -1, 1, 3, 6, -2, 9, 10, 2, 2]) ➞ 8\n",
      "min_miss_pos([5, 9, -2, 0, 1, 3, 9, 3, 8, 9]) ➞ 2\n",
      "min_miss_pos([0, 4, 4, -1, 9, 4, 5, 2, 10, 7, 6, 3, 10, 9]) ➞ 1\n"
     ]
    }
   ],
   "source": [
    "def min_miss_pos(lst):\n",
    "    \n",
    "    lst_copy = lst\n",
    "    lst = sorted(lst)\n",
    "    output = 1\n",
    "    for i in range(1,max(lst)+1):\n",
    "        if i not in lst:\n",
    "            output = i\n",
    "            break\n",
    "    print(f'min_miss_pos({lst_copy}) ➞ {output}')\n",
    "    \n",
    "min_miss_pos([-2, 6, 4, 5, 7, -1, 1, 3, 6, -2, 9, 10, 2, 2])\n",
    "min_miss_pos([5, 9, -2, 0, 1, 3, 9, 3, 8, 9])\n",
    "min_miss_pos([0, 4, 4, -1, 9, 4, 5, 2, 10, 7, 6, 3, 10, 9])"
   ]
  },
  {
   "cell_type": "markdown",
   "id": "e2a586b0",
   "metadata": {},
   "source": []
  },
  {
   "cell_type": "markdown",
   "id": "1e46b60d",
   "metadata": {},
   "source": []
  },
  {
   "cell_type": "markdown",
   "id": "4d82ad5d",
   "metadata": {},
   "source": [
    "### Question 5. Google is launching a network of autonomous pizza delivery drones and wants you to create a flexible rewards system (Pizza Points™) that can be tweaked in the future. The rules are simple: if a customer has made at least N orders of at least Y price, they get a FREE pizza!\n",
    "\n",
    "Create a function that takes a dictionary of customers, a minimum number of orders and a minimum order price. Return a list of customers that are eligible for a free pizza.\n",
    "\n",
    "Examples\n",
    "\n",
    "customers = {\n",
    "  \"Batman\": [22, 30, 11, 17, 15, 52, 27, 12],\n",
    "  \"Spider-Man\": [5, 17, 30, 33, 40, 22, 26, 10, 11, 45]\n",
    "}\n",
    "\n",
    "  pizza_points(customers, 5, 20) ➞ [\"Spider-Man\"]\n",
    "\n",
    "  pizza_points(customers, 3, 10) ➞ [\"Batman\", \"Spider-Man\"]\n",
    "\n",
    "  pizza_points(customers, 5, 100) ➞ []\n",
    "\n",
    "### Answer:\n",
    "\n"
   ]
  },
  {
   "cell_type": "code",
   "execution_count": 5,
   "id": "f442465d",
   "metadata": {},
   "outputs": [
    {
     "name": "stdout",
     "output_type": "stream",
     "text": [
      "pizza_points('customers', 5, 20) ➞ ['Spider-Man']\n",
      "pizza_points('customers', 3, 10) ➞ ['Batman', 'Spider-Man']\n",
      "pizza_points('customers', 5, 100) ➞ []\n"
     ]
    }
   ],
   "source": [
    "def pizza_points(customers,min_order,min_price):\n",
    "    output = []\n",
    "    for customer in customers.keys():\n",
    "        count = 0\n",
    "        for order_price in customers[customer]: \n",
    "            if order_price >= min_price:\n",
    "                count += 1\n",
    "        if count >= min_order:\n",
    "            output.append(customer)\n",
    "    print(f'pizza_points{\"customers\",min_order,min_price} ➞ {output}')\n",
    "\n",
    "customers = {\n",
    "  \"Batman\": [22, 30, 11, 17, 15, 52, 27, 12],\n",
    "  \"Spider-Man\": [5, 17, 30, 33, 40, 22, 26, 10, 11, 45]\n",
    "}\n",
    "    \n",
    "pizza_points(customers, 5, 20)\n",
    "pizza_points(customers, 3, 10)\n",
    "pizza_points(customers, 5, 100)"
   ]
  }
 ],
 "metadata": {
  "kernelspec": {
   "display_name": "Python 3 (ipykernel)",
   "language": "python",
   "name": "python3"
  },
  "language_info": {
   "codemirror_mode": {
    "name": "ipython",
    "version": 3
   },
   "file_extension": ".py",
   "mimetype": "text/x-python",
   "name": "python",
   "nbconvert_exporter": "python",
   "pygments_lexer": "ipython3",
   "version": "3.9.7"
  }
 },
 "nbformat": 4,
 "nbformat_minor": 5
}
