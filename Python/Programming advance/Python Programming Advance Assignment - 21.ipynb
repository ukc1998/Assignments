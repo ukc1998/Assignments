{
 "cells": [
  {
   "cell_type": "markdown",
   "id": "8ec04144",
   "metadata": {},
   "source": [
    "# Python Programming Advance Assignment - 21"
   ]
  },
  {
   "cell_type": "markdown",
   "id": "7b551582",
   "metadata": {},
   "source": []
  },
  {
   "cell_type": "markdown",
   "id": "d8cc78c9",
   "metadata": {},
   "source": []
  },
  {
   "cell_type": "markdown",
   "id": "b3975d3f",
   "metadata": {},
   "source": [
    "### Question 1. Given a sentence, return the number of words which have the same first and last letter.\n",
    "\n",
    "Examples\n",
    "\n",
    "count_same_ends(\"Pop! goes the balloon\") ➞ 1\n",
    "\n",
    "count_same_ends(\"And the crowd goes wild!\") ➞ 0\n",
    "\n",
    "count_same_ends(\"No I am not in a gang.\") ➞ 1\n",
    "\n",
    "### Answer:\n",
    "\n"
   ]
  },
  {
   "cell_type": "code",
   "execution_count": 1,
   "id": "fea5e342",
   "metadata": {},
   "outputs": [
    {
     "name": "stdout",
     "output_type": "stream",
     "text": [
      "count_same_ends(\"Pop! goes the balloon\") ➞ 1\n",
      "count_same_ends(\"And the crowd goes wild!\") ➞ 0\n",
      "count_same_ends(\"No I am not in a gang.\") ➞ 1\n"
     ]
    }
   ],
   "source": [
    "def count_same_ends(sentence):\n",
    "    \n",
    "    \n",
    "    checker = []\n",
    "    lst = sentence.split()\n",
    "    for i in lst:\n",
    "        if len(i) > 1:\n",
    "            if i[-1].isalpha() == False:\n",
    "                if i[0].lower() == i[-2].lower():\n",
    "                    checker.append(i)\n",
    "            if i[-1].isalpha() == True:\n",
    "                if i[0].lower() == i[-1].lower():\n",
    "                    checker.append(i)    \n",
    "        output = len(checker)\n",
    "    print(f'count_same_ends(\"{sentence}\") ➞ {output}')\n",
    "    \n",
    "count_same_ends(\"Pop! goes the balloon\")\n",
    "count_same_ends(\"And the crowd goes wild!\")\n",
    "count_same_ends(\"No I am not in a gang.\")"
   ]
  },
  {
   "cell_type": "markdown",
   "id": "24990c27",
   "metadata": {},
   "source": []
  },
  {
   "cell_type": "markdown",
   "id": "94c8568d",
   "metadata": {},
   "source": []
  },
  {
   "cell_type": "markdown",
   "id": "f12d4f8c",
   "metadata": {},
   "source": [
    "### Question 2. The Atbash cipher is an encryption method in which each letter of a word is replaced with its \"mirror\" letter in the alphabet: A <=> Z; B <=> Y; C <=> X; etc.\n",
    "\n",
    "Create a function that takes a string and applies the Atbash cipher to it.\n",
    "\n",
    "Examples\n",
    "\n",
    "atbash(\"apple\") ➞ \"zkkov\"\n",
    "\n",
    "atbash(\"Hello world!\") ➞ \"Svool dliow!\"\n",
    "\n",
    "atbash(\"Christmas is the 25th of December\") ➞ \"Xsirhgnzh rh gsv 25gs lu Wvxvnyvi\"\n",
    "\n",
    "### Answer:\n",
    "\n"
   ]
  },
  {
   "cell_type": "code",
   "execution_count": 2,
   "id": "398daac9",
   "metadata": {},
   "outputs": [
    {
     "name": "stdout",
     "output_type": "stream",
     "text": [
      "atbash(apple) ➞ zkkov\n",
      "atbash(Hello world!) ➞ Svool dliow!\n",
      "atbash(Christmas is the 25th of December) ➞ Xsirhgnzh rh gsv 25gs lu Wvxvnyvi\n"
     ]
    }
   ],
   "source": [
    "def atbash(string):\n",
    "    \n",
    "    capital = ord(\"A\") + ord(\"Z\")\n",
    "    small = ord(\"a\") + ord(\"z\")\n",
    "    output = \"\"\n",
    "    for i in string:\n",
    "        \n",
    "        if i.isalpha() and i.isupper():\n",
    "            replacer = chr(capital - ord(i))\n",
    "            output += replacer   \n",
    "        elif i.isalpha() and i.islower():\n",
    "            replacer = chr(small - ord(i))\n",
    "            output += replacer\n",
    "        else:\n",
    "            output += i\n",
    "                \n",
    "    print(f'atbash({string}) ➞ {output}')\n",
    "        \n",
    "atbash(\"apple\")\n",
    "atbash(\"Hello world!\")\n",
    "atbash(\"Christmas is the 25th of December\")"
   ]
  },
  {
   "cell_type": "markdown",
   "id": "4c1c2148",
   "metadata": {},
   "source": []
  },
  {
   "cell_type": "markdown",
   "id": "13aed80c",
   "metadata": {},
   "source": []
  },
  {
   "cell_type": "markdown",
   "id": "63ea5025",
   "metadata": {},
   "source": [
    "### Question 3. Create a class Employee that will take a full name as argument, as well as a set of none, one or more keywords. Each instance should have a name and a lastname attributes plus one more attribute for each of the keywords, if any.\n",
    "\n",
    "Examples\n",
    "\n",
    "`john = Employee(\"John Doe\")`\n",
    "<br>\n",
    "`mary = Employee(\"Mary Major\", salary=120000)`\n",
    "<br>\n",
    "`richard = Employee(\"Richard Roe\", salary=110000, height=178)`\n",
    "<br>\n",
    "`giancarlo = Employee(\"Giancarlo Rossi\", salary=115000, height=182, nationality=\"Italian\")`\n",
    "\n",
    "`john.name ➞ \"John\"`\n",
    "<br>\n",
    "`mary.lastname ➞ \"Major\"`\n",
    "<br>\n",
    "`richard.height ➞ 178`\n",
    "<br>\n",
    "`giancarlo.nationality ➞ \"Italian\"`\n",
    "\n",
    "### Answer:\n",
    "\n"
   ]
  },
  {
   "cell_type": "code",
   "execution_count": 3,
   "id": "5473ca66",
   "metadata": {},
   "outputs": [
    {
     "name": "stdout",
     "output_type": "stream",
     "text": [
      "john.name ➞ \"John Doe\"\n",
      "mary.lastname ➞ \"Major\"\n",
      "richard.height ➞ 178\n",
      "giancarlo.nationality ➞ \"Italian\"\n"
     ]
    }
   ],
   "source": [
    "class Employee:\n",
    "    \n",
    "    def __init__(self, name, **kwargs):\n",
    "        \n",
    "        self.name = name\n",
    "        self.firstname = name.split(\" \")[0]\n",
    "        self.lastname = name.split(\" \")[-1]\n",
    "        for i in kwargs:\n",
    "            exec(\"self.{0} = '{1}'\".format(i,kwargs[i]))\n",
    "        \n",
    "john = Employee(\"John Doe\")    \n",
    "mary = Employee(\"Mary Major\",salary=120000)\n",
    "richard = Employee(\"Richard Roe\", salary=110000, height=178)\n",
    "giancarlo = Employee(\"Giancarlo Rossi\", salary=115000, height=182, nationality=\"Italian\")\n",
    "\n",
    "print(f'john.name ➞ \"{john.name}\"')\n",
    "print(f'mary.lastname ➞ \"{mary.lastname}\"')\n",
    "print(f'richard.height ➞ {richard.height}')\n",
    "print(f'giancarlo.nationality ➞ \"{giancarlo.nationality}\"')"
   ]
  },
  {
   "cell_type": "markdown",
   "id": "ee6c9fa4",
   "metadata": {},
   "source": []
  },
  {
   "cell_type": "markdown",
   "id": "786c212b",
   "metadata": {},
   "source": []
  },
  {
   "cell_type": "markdown",
   "id": "e2372e3e",
   "metadata": {},
   "source": [
    "### Question 4. Create a function that determines whether each seat can \"see\" the front-stage. A number can \"see\" the front-stage if it is strictly greater than the number before it.\n",
    "\n",
    "Everyone can see the front-stage in the example below:\n",
    "\n",
    "#### FRONT STAGE\n",
    "[[1, 2, 3, 2, 1, 1],\n",
    "[2, 4, 4, 3, 2, 2],\n",
    "[5, 5, 5, 5, 4, 4],\n",
    "[6, 6, 7, 6, 5, 5]]\n",
    "\n",
    "#### Starting from the left, the 6 > 5 > 2 > 1, so all numbers can see.\n",
    "#### 6 > 5 > 4 > 2 - so all numbers can see, etc.\n",
    "\n",
    "Not everyone can see the front-stage in the example below:\n",
    "\n",
    "#### FRONT STAGE\n",
    "[[1, 2, 3, 2, 1, 1], \n",
    "[2, 4, 4, 3, 2, 2], \n",
    "[5, 5, 5, 10, 4, 4], \n",
    "[6, 6, 7, 6, 5, 5]]\n",
    "\n",
    "#### The 10 is directly in front of the 6 and blocking its view.\n",
    "\n",
    "The function should return True if every number can see the front-stage, and False if even a single number cannot.\n",
    "\n",
    "Examples\n",
    "\n",
    "can_see_stage([\n",
    "  [1, 2, 3],\n",
    "  [4, 5, 6],\n",
    "  [7, 8, 9]\n",
    "]) ➞ True\n",
    "\n",
    "can_see_stage([\n",
    "  [0, 0, 0],\n",
    "  [1, 1, 1],\n",
    "  [2, 2, 2]\n",
    "]) ➞ True\n",
    "\n",
    "can_see_stage([\n",
    "  [2, 0, 0], \n",
    "  [1, 1, 1], \n",
    "  [2, 2, 2]\n",
    "]) ➞ False\n",
    "\n",
    "can_see_stage([\n",
    "  [1, 0, 0],\n",
    "  [1, 1, 1],\n",
    "  [2, 2, 2]\n",
    "]) ➞ False\n",
    "\n",
    "#### Number must be strictly smaller than \n",
    "#### the number directly behind it.\n",
    "\n",
    "### Answer:\n",
    "\n"
   ]
  },
  {
   "cell_type": "code",
   "execution_count": 4,
   "id": "f8c0987f",
   "metadata": {},
   "outputs": [
    {
     "name": "stdout",
     "output_type": "stream",
     "text": [
      "can_see_stage([[1, 2, 3], [4, 5, 6], [7, 8, 9]]) ➞ True\n",
      "can_see_stage([[0, 0, 0], [1, 1, 1], [2, 2, 2]]) ➞ True\n",
      "can_see_stage([[2, 0, 0], [1, 1, 1], [2, 2, 2]]) ➞ False\n",
      "can_see_stage([[1, 0, 0], [1, 1, 1], [2, 2, 2]]) ➞ False\n"
     ]
    }
   ],
   "source": [
    "def can_see_stage(seats):\n",
    "    \n",
    "    output = True\n",
    "    for i in range(len(seats)):\n",
    "        for j in range(len(seats[i]) -1):\n",
    "            if not (seats[j][i] < seats[j+1][i]):\n",
    "                output = False\n",
    "    \n",
    "    print(\"can_see_stage({0}) ➞ {1}\".format(seats,output))\n",
    "    \n",
    "    \n",
    "can_see_stage([ [1, 2, 3], [4, 5, 6], [7, 8, 9] ])\n",
    "can_see_stage([ [0, 0, 0], [1, 1, 1], [2, 2, 2] ])\n",
    "can_see_stage([ [2, 0, 0], [1, 1, 1], [2, 2, 2] ])\n",
    "can_see_stage([ [1, 0, 0], [1, 1, 1], [2, 2, 2] ])"
   ]
  },
  {
   "cell_type": "markdown",
   "id": "4168fd4a",
   "metadata": {},
   "source": []
  },
  {
   "cell_type": "markdown",
   "id": "f9d4c103",
   "metadata": {},
   "source": []
  },
  {
   "cell_type": "markdown",
   "id": "d037699c",
   "metadata": {},
   "source": [
    "### Question 5. Create a Pizza class with the attributes order_number and ingredients (which is given as a list). Only the ingredients will be given as input.\n",
    "\n",
    "You should also make it so that its possible to choose a ready made pizza flavour rather than typing out the ingredients manually! As well as creating this Pizza class, hard-code the following pizza flavours.\n",
    "\n",
    "&emsp;`Name\t                    Ingredients`\n",
    "   <br>\n",
    "hawaiian\t&emsp;&emsp;&emsp;   &emsp;&emsp;&emsp;&emsp;&emsp;&emsp;&emsp;&emsp;            ham, pineapple\n",
    "<br>\n",
    "meat_festival\t&emsp;&emsp;&emsp;&emsp;&emsp;&emsp;&emsp;&emsp;      beef, meatball, bacon\n",
    "<br>\n",
    "garden_feast\t&emsp;&emsp;&emsp;&emsp;&emsp;&emsp;&emsp;    spinach, olives, mushroom\n",
    "\n",
    "Examples\n",
    "\n",
    "`p1 = Pizza([\"bacon\", \"parmesan\", \"ham\"])    # order 1`\n",
    "<br>\n",
    "`p2 = Pizza.garden_feast()                  # order 2`\n",
    "\n",
    "p1.ingredients ➞ [\"bacon\", \"parmesan\", \"ham\"]\n",
    "\n",
    "p2.ingredients ➞ [\"spinach\", \"olives\", \"mushroom\"]\n",
    "\n",
    "p1.order_number ➞ 1\n",
    "\n",
    "p2.order_number ➞ 2\n",
    "\n",
    "### Answer:\n",
    "\n"
   ]
  },
  {
   "cell_type": "code",
   "execution_count": 5,
   "id": "26239fa8",
   "metadata": {},
   "outputs": [],
   "source": [
    "class Pizza:\n",
    "    \n",
    "    order_number = 0\n",
    "    \n",
    "    def __init__(self, INGREDIENTS):\n",
    "        Pizza.order_number += 1\n",
    "        self.order_number = Pizza.order_number\n",
    "        self.ingredients = INGREDIENTS\n",
    "\n",
    "    \n",
    "    @classmethod\n",
    "    def hawaiian(self):\n",
    "        return Pizza(['ham', 'pineapple'])\n",
    "    \n",
    "    @classmethod\n",
    "    def meat_festival(self):\n",
    "        return Pizza(['beef', 'meatball', 'bacon'])\n",
    "    \n",
    "    @classmethod\n",
    "    def garden_feast(self):\n",
    "        return Pizza([\"spinach\", \"olives\", \"mushroom\"])"
   ]
  },
  {
   "cell_type": "code",
   "execution_count": 6,
   "id": "39680d02",
   "metadata": {},
   "outputs": [
    {
     "name": "stdout",
     "output_type": "stream",
     "text": [
      "['bacon', 'parmesan', 'ham']\n",
      "['spinach', 'olives', 'mushroom']\n",
      "1\n",
      "2\n"
     ]
    }
   ],
   "source": [
    "p1 = Pizza([\"bacon\", \"parmesan\", \"ham\"])\n",
    "p2 = Pizza.garden_feast()\n",
    "\n",
    "print(p1.ingredients)\n",
    "print(p2.ingredients)\n",
    "print(p1.order_number)\n",
    "print(p2.order_number)"
   ]
  }
 ],
 "metadata": {
  "kernelspec": {
   "display_name": "Python 3 (ipykernel)",
   "language": "python",
   "name": "python3"
  },
  "language_info": {
   "codemirror_mode": {
    "name": "ipython",
    "version": 3
   },
   "file_extension": ".py",
   "mimetype": "text/x-python",
   "name": "python",
   "nbconvert_exporter": "python",
   "pygments_lexer": "ipython3",
   "version": "3.9.7"
  }
 },
 "nbformat": 4,
 "nbformat_minor": 5
}
