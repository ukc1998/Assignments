{
 "cells": [
  {
   "cell_type": "markdown",
   "id": "db530594",
   "metadata": {},
   "source": [
    "# Python Programming Advance Assignment - 15"
   ]
  },
  {
   "cell_type": "markdown",
   "id": "fc804992",
   "metadata": {},
   "source": []
  },
  {
   "cell_type": "markdown",
   "id": "5c88160d",
   "metadata": {},
   "source": []
  },
  {
   "cell_type": "markdown",
   "id": "2ac9a774",
   "metadata": {},
   "source": [
    "### Question 1. Write a function that returns True if a given name can generate an array of words.\n",
    "\n",
    "Examples\n",
    "\n",
    "anagram(\"Justin Bieber\", [\"injures\", \"ebb\", \"it\"]) ➞ True\n",
    "\n",
    "anagram(\"Natalie Portman\", [\"ornamental\", \"pita\"]) ➞ True\n",
    "\n",
    "anagram(\"Chris Pratt\", [\"chirps\", \"rat\"]) ➞ False\n",
    "#### Not all letters are used\n",
    "\n",
    "anagram(\"Jeff Goldblum\", [\"jog\", \"meld\", \"bluffs\"]) ➞ False\n",
    "#### \"s\" does not exist in the original name\n",
    "\n",
    "### Answer:\n",
    "\n"
   ]
  },
  {
   "cell_type": "code",
   "execution_count": 1,
   "id": "a141156e",
   "metadata": {},
   "outputs": [
    {
     "name": "stdout",
     "output_type": "stream",
     "text": [
      "anagram(\"Justin Bieber\", ['injures', 'ebb', 'it']) ➞ True\n",
      "anagram(\"Natalie Portman\", ['ornamental', 'pita']) ➞ True\n",
      "anagram(\"Chris Pratt\", ['chirps', 'rat']) ➞ False\n",
      "anagram(\"Jeff Goldblum\", ['jog', 'meld', 'bluffs']) ➞ False\n"
     ]
    }
   ],
   "source": [
    "def anagram(String, array):\n",
    "    \n",
    "    check1 = \"\".join(String.lower().split())\n",
    "    check2 = \"\".join(array)\n",
    "    \n",
    "    output = False\n",
    "    if(sorted(check1)== sorted(check2)):\n",
    "        output = True\n",
    "    print(f'anagram(\"{String}\", {array}) ➞ {output}')\n",
    "    \n",
    "anagram(\"Justin Bieber\", [\"injures\", \"ebb\", \"it\"])\n",
    "anagram(\"Natalie Portman\", [\"ornamental\", \"pita\"])\n",
    "anagram(\"Chris Pratt\", [\"chirps\", \"rat\"])\n",
    "anagram(\"Jeff Goldblum\", [\"jog\", \"meld\", \"bluffs\"])"
   ]
  },
  {
   "cell_type": "markdown",
   "id": "17fcdd0d",
   "metadata": {},
   "source": []
  },
  {
   "cell_type": "markdown",
   "id": "98463773",
   "metadata": {},
   "source": []
  },
  {
   "cell_type": "markdown",
   "id": "4ab040f4",
   "metadata": {},
   "source": [
    "### Question 2. Given an array of users, each defined by an object with the following properties: name, score, reputation create a function that sorts the array to form the correct leaderboard.\n",
    "\n",
    "The leaderboard takes into consideration the score of each user of course, but an emphasis is put on their reputation in the community, so to get the trueScore, you should add the reputation multiplied by 2 to the score.\n",
    "\n",
    "Once you know the trueScore of each user, sort the array according to it in descending order.\n",
    "\n",
    "Examples\n",
    "\n",
    "leaderboards([\n",
    "  { \"name\": \"a\", \"score\": 100, \"reputation\": 20 },\n",
    "  { \"name\": \"b\", \"score\": 90, \"reputation\": 40 },\n",
    "  { \"name\": \"c\", \"score\": 115, \"reputation\": 30 },\n",
    "]) ➞ [\n",
    "  { \"name\": \"c\", \"score\": 115, \"reputation\": 30 },  # trueScore = 175\n",
    "  { \"name\": \"b\", \"score\": 90, \"reputation\": 40 },   # trueScore = 170\n",
    "  { \"name\": \"a\", \"score\": 100, \"reputation\": 20 }   # trueScore = 140\n",
    "]\n",
    "\n",
    "### Answer:\n",
    "\n"
   ]
  },
  {
   "cell_type": "code",
   "execution_count": 2,
   "id": "90d5451e",
   "metadata": {},
   "outputs": [
    {
     "name": "stdout",
     "output_type": "stream",
     "text": [
      "leaderboards([{'name': 'a', 'score': 100, 'reputation': 20}, {'name': 'b', 'score': 90, 'reputation': 40}, {'name': 'c', 'score': 115, 'reputation': 30}]) ➞ [{'name': 'c', 'score': 115, 'reputation': 30}, {'name': 'b', 'score': 90, 'reputation': 40}, {'name': 'a', 'score': 100, 'reputation': 20}]\n"
     ]
    }
   ],
   "source": [
    "def leaderboards(array):\n",
    "    \n",
    "    array_copy = array\n",
    "    for i in array:\n",
    "        i[\"trueScore\"] = i[\"score\"] + 2*i[\"reputation\"]\n",
    "    array = sorted(array, key = lambda i: i['trueScore'],reverse=True)\n",
    "    for i in array:\n",
    "        i.popitem()\n",
    "    print(f'leaderboards({array_copy}) ➞ {array}')\n",
    "    \n",
    "leaderboards([\n",
    "  { \"name\": \"a\", \"score\": 100, \"reputation\": 20 },\n",
    "  { \"name\": \"b\", \"score\": 90, \"reputation\": 40 },\n",
    "  { \"name\": \"c\", \"score\": 115, \"reputation\": 30 },\n",
    "])"
   ]
  },
  {
   "cell_type": "markdown",
   "id": "2f6bd013",
   "metadata": {},
   "source": []
  },
  {
   "cell_type": "markdown",
   "id": "a9a90bdb",
   "metadata": {},
   "source": []
  },
  {
   "cell_type": "markdown",
   "id": "064c01b8",
   "metadata": {},
   "source": [
    "### Question 3. Create a function that, given a phrase and a number of letters guessed, returns a string with hyphens - for every letter of the phrase not guessed, and each letter guessed in place.\n",
    "\n",
    "Examples\n",
    "\n",
    "hangman(\"helicopter\", [\"o\", \"e\", \"s\"]) ➞ \"-e---o--e-\"\n",
    "\n",
    "hangman(\"tree\", [\"r\", \"t\", \"e\"]) ➞ \"tree\"\n",
    "\n",
    "hangman(\"Python rules\", [\"a\", \"n\", \"p\", \"r\", \"z\"]) ➞ \"P----n r----\"\n",
    "\n",
    "hangman(\"He's a very naughty boy!\", [\"e\", \"a\", \"y\"]) ➞ \"-e\"- a -e-y -a----y –y!\"\n",
    "\n",
    "### Answer:\n",
    "\n"
   ]
  },
  {
   "cell_type": "code",
   "execution_count": 3,
   "id": "b6d00f84",
   "metadata": {},
   "outputs": [
    {
     "name": "stdout",
     "output_type": "stream",
     "text": [
      "hangman(\"helicopter\",['o', 'e', 's']) ➞ \"-e---o--e-\"\n",
      "hangman(\"tree\",['r', 't', 'e']) ➞ \"tree\"\n",
      "hangman(\"Python rules\",['a', 'n', 'p', 'r', 'z']) ➞ \"-----n-r----\"\n",
      "hangman(\"He's a very naughty boy!\",['e', 'a', 'y']) ➞ \"-e---a--e-y--a----y---y-\"\n"
     ]
    }
   ],
   "source": [
    "def hangman(string,lst):\n",
    "    \n",
    "    output = \"\"\n",
    "    for i in string:\n",
    "        if i in lst:\n",
    "            output += i\n",
    "        else:\n",
    "            output += \"-\"\n",
    "    print(f'hangman(\"{string}\",{lst}) ➞ \"{output}\"')\n",
    "    \n",
    "hangman(\"helicopter\", [\"o\", \"e\", \"s\"])\n",
    "hangman(\"tree\", [\"r\", \"t\", \"e\"])\n",
    "hangman(\"Python rules\", [\"a\", \"n\", \"p\", \"r\", \"z\"])\n",
    "hangman(\"He's a very naughty boy!\", [\"e\", \"a\", \"y\"])"
   ]
  },
  {
   "cell_type": "markdown",
   "id": "e8e58932",
   "metadata": {},
   "source": []
  },
  {
   "cell_type": "markdown",
   "id": "cf83433b",
   "metadata": {},
   "source": []
  },
  {
   "cell_type": "markdown",
   "id": "69651f95",
   "metadata": {},
   "source": [
    "### Question 4. The Collatz sequence is as follows:\n",
    "\n",
    "  - Start with some given integer n.\n",
    "  - If it is even, the next number will be n divided by 2.\n",
    "  - If it is odd, multiply it by 3 and add 1 to make the next number.\n",
    "  - The sequence stops when it reaches 1.\n",
    "\n",
    "According to the Collatz conjecture, it will always reach 1. If that's true, you can construct a finite sequence following the aforementioned method for any given integer.\n",
    "\n",
    "Write a function that takes in an integer n and returns the highest integer in the corresponding Collatz sequence.\n",
    "\n",
    "Examples\n",
    "\n",
    "max_collatz(10) ➞ 16\n",
    "#### Collatz sequence: 10, 5, 16, 8, 4, 2, 1\n",
    "\n",
    "max_collatz(32) ➞ 32\n",
    "#### Collatz sequence: 32, 16, 8, 4, 2, 1\n",
    "\n",
    "max_collatz(85) ➞ 256\n",
    "#### Collatz sequence: 85, 256, 128, 64, 32, 16, 8, 4, 2, 1\n",
    "\n",
    "### Answer:\n",
    "\n"
   ]
  },
  {
   "cell_type": "code",
   "execution_count": 4,
   "id": "1fb67305",
   "metadata": {},
   "outputs": [
    {
     "name": "stdout",
     "output_type": "stream",
     "text": [
      "max_collatz(10) ➞ 16\n",
      "max_collatz(32) ➞ 32\n",
      "max_collatz(85) ➞ 256\n"
     ]
    }
   ],
   "source": [
    "def max_collatz(n):\n",
    "    \n",
    "    n_copy = n\n",
    "    stockroom = []\n",
    "    while n != 1:\n",
    "        stockroom.append(n)\n",
    "        if n%2 == 0:\n",
    "            n = n/2\n",
    "        else:\n",
    "            n = (n*3) + 1\n",
    "    \n",
    "    output = int(max(stockroom))\n",
    "    print(f'max_collatz({n_copy}) ➞ {output}')\n",
    "    \n",
    "max_collatz(10)\n",
    "max_collatz(32)\n",
    "max_collatz(85)"
   ]
  },
  {
   "cell_type": "markdown",
   "id": "a7bcbbf2",
   "metadata": {},
   "source": []
  },
  {
   "cell_type": "markdown",
   "id": "08059f1f",
   "metadata": {},
   "source": []
  },
  {
   "cell_type": "markdown",
   "id": "5dc277dc",
   "metadata": {},
   "source": [
    "### Question 5. Write a function that sorts a list of integers by their digit length in descending order, then settles ties by sorting numbers with the same digit length in ascending order.\n",
    "\n",
    "Examples\n",
    "\n",
    "digit_sort([77, 23, 5, 7, 101])\n",
    "➞ [101, 23, 77, 5, 7]\n",
    "\n",
    "digit_sort([1, 5, 9, 2, 789, 563, 444])\n",
    "➞ [444, 563, 789, 1, 2, 5, 9]\n",
    "\n",
    "digit_sort([53219, 3772, 564, 32, 1])\n",
    "➞ [53219, 3772, 564, 32, 1]\n",
    "\n",
    "### Answer:\n",
    "\n"
   ]
  },
  {
   "cell_type": "code",
   "execution_count": 5,
   "id": "37cb444d",
   "metadata": {},
   "outputs": [
    {
     "name": "stdout",
     "output_type": "stream",
     "text": [
      "digit_sort([77, 23, 5, 7, 101]) ➞ [101, 23, 77, 5, 7]\n",
      "digit_sort([1, 5, 9, 2, 789, 563, 444]) ➞ [444, 563, 789, 1, 2, 5, 9]\n",
      "digit_sort([53219, 3772, 564, 32, 1]) ➞ [53219, 3772, 564, 32, 1]\n",
      "\n",
      "digit_sort([77, 23, 5, 7, 101]) ➞ [101, 23, 77, 5, 7]\n",
      "digit_sort([1, 5, 9, 2, 789, 563, 444]) ➞ [444, 563, 789, 1, 2, 5, 9]\n",
      "digit_sort([53219, 3772, 564, 32, 1]) ➞ [53219, 3772, 564, 32, 1]\n"
     ]
    }
   ],
   "source": [
    "# Approach_1:\n",
    "\n",
    "def digit_sort_1(lst):\n",
    "    \n",
    "    output = sorted(lst, key = lambda i : (-len(str(i)),i))\n",
    "    print(f'digit_sort({lst}) ➞ {output}')\n",
    "    \n",
    "digit_sort_1([77, 23, 5, 7, 101])\n",
    "digit_sort_1([1, 5, 9, 2, 789, 563, 444])\n",
    "digit_sort_1([53219, 3772, 564, 32, 1])\n",
    "\n",
    "\n",
    "\n",
    "print()\n",
    "# Approach_2:\n",
    "\n",
    "def digit_sort_2(lst):\n",
    "    \n",
    "    output = sorted(lst, key = lambda i : (len(str(i)),-i),reverse = True)\n",
    "    print(f'digit_sort({lst}) ➞ {output}')\n",
    "    \n",
    "digit_sort_2([77, 23, 5, 7, 101])\n",
    "digit_sort_2([1, 5, 9, 2, 789, 563, 444])\n",
    "digit_sort_2([53219, 3772, 564, 32, 1])"
   ]
  }
 ],
 "metadata": {
  "kernelspec": {
   "display_name": "Python 3 (ipykernel)",
   "language": "python",
   "name": "python3"
  },
  "language_info": {
   "codemirror_mode": {
    "name": "ipython",
    "version": 3
   },
   "file_extension": ".py",
   "mimetype": "text/x-python",
   "name": "python",
   "nbconvert_exporter": "python",
   "pygments_lexer": "ipython3",
   "version": "3.9.7"
  }
 },
 "nbformat": 4,
 "nbformat_minor": 5
}
