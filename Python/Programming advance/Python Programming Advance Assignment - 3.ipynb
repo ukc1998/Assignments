{
 "cells": [
  {
   "cell_type": "markdown",
   "id": "cd95fcd0",
   "metadata": {},
   "source": [
    "# Python Programming Advance Assignment - 1"
   ]
  },
  {
   "cell_type": "markdown",
   "id": "98452565",
   "metadata": {},
   "source": []
  },
  {
   "cell_type": "markdown",
   "id": "5e687479",
   "metadata": {},
   "source": []
  },
  {
   "cell_type": "markdown",
   "id": "ea51aeb8",
   "metadata": {},
   "source": [
    "### Question 1. Create a function to perform basic arithmetic operations that includes addition, subtraction, multiplication and division on a string number (e.g. \"12 + 24\" or \"23 - 21\" or \"12 // 12\" or \"12 * 21\").\n",
    "\n",
    "Here, we have 1 followed by a space, operator followed by another space and 2. For the challenge, we are going to have only two numbers between 1 valid operator. The return value should be a number.\n",
    "\n",
    "eval() is not allowed. In case of division, whenever the second number equals \"0\" return -1.\n",
    "\n",
    "For example:\n",
    "\n",
    "\"15 // 0\"  ➞ -1\n",
    "\n",
    "Examples:\n",
    "\n",
    "arithmetic_operation(\"12 + 12\") ➞ 24 // 12 + 12 = 24\n",
    "\n",
    "arithmetic_operation(\"12 - 12\") ➞ 24 // 12 - 12 = 0\n",
    "\n",
    "arithmetic_operation(\"12 * 12\") ➞ 144 // 12 * 12 = 144\n",
    "\n",
    "arithmetic_operation(\"12 // 0\") ➞ -1 // 12 / 0 = -1\n",
    "\n",
    "### Answer:\n"
   ]
  },
  {
   "cell_type": "code",
   "execution_count": 1,
   "id": "92ca5142",
   "metadata": {},
   "outputs": [
    {
     "name": "stdout",
     "output_type": "stream",
     "text": [
      "24\n",
      "0\n",
      "144\n",
      "-1\n"
     ]
    }
   ],
   "source": [
    "def arithmetic_operation(String):\n",
    "    \n",
    "    a, operator, b = String.split(\" \")\n",
    "    \n",
    "    if operator == \"+\":\n",
    "        return int(a) + int(b)\n",
    "    \n",
    "    if operator == \"-\":\n",
    "        return int(a) - int(b)\n",
    "    \n",
    "    if operator == \"*\":\n",
    "        return int(a) * int(b)\n",
    "    \n",
    "    if operator == \"//\": \n",
    "        if b == '0':\n",
    "            return -1\n",
    "        \n",
    "        else:\n",
    "            return int(a) // int(b)\n",
    "\n",
    "print(arithmetic_operation('12 + 12'))\n",
    "print(arithmetic_operation('12 - 12'))\n",
    "print(arithmetic_operation('12 * 12'))\n",
    "print(arithmetic_operation('12 // 0'))"
   ]
  },
  {
   "cell_type": "markdown",
   "id": "283e0de3",
   "metadata": {},
   "source": []
  },
  {
   "cell_type": "markdown",
   "id": "215c5103",
   "metadata": {},
   "source": []
  },
  {
   "cell_type": "markdown",
   "id": "92281f32",
   "metadata": {},
   "source": [
    "### Question 2. Write a function that takes the coordinates of three points in the form of a 2d array and returns the perimeter of the triangle. The given points are the vertices of a triangle on a two-dimensional plane.\n",
    "\n",
    "Examples:\n",
    "\n",
    "perimeter( [ [15, 7], [5, 22], [11, 1] ] ) ➞ 47.08\n",
    "\n",
    "perimeter( [ [0, 0], [0, 1], [1, 0] ] ) ➞ 3.42\n",
    "\n",
    "perimeter( [ [-10, -10], [10, 10 ], [-10, 10] ] ) ➞ 68.28\n",
    "\n",
    "### Answer:\n"
   ]
  },
  {
   "cell_type": "code",
   "execution_count": 2,
   "id": "409c339c",
   "metadata": {},
   "outputs": [
    {
     "data": {
      "text/plain": [
       "68.28"
      ]
     },
     "execution_count": 2,
     "metadata": {},
     "output_type": "execute_result"
    }
   ],
   "source": [
    "def perimeter(List_of_Lists):\n",
    "    \n",
    "    import math\n",
    "    \n",
    "    empty_list = []\n",
    "    \n",
    "    for i in List_of_Lists:\n",
    "        for j in i:\n",
    "            empty_list.append(j)\n",
    "            \n",
    "    x1,y1,x2,y2,x3,y3 = (i for i in empty_list)\n",
    "    \n",
    "    side12 = math.sqrt((x2-x1)**2  +  (y2-y1)**2)\n",
    "    side23 = math.sqrt((x3-x2)**2  +  (y3-y2)**2)\n",
    "    side31 = math.sqrt((x1-x3)**2  +  (y1-y3)**2)\n",
    "    \n",
    "    perimeter = round(side12 + side23 + side31, ndigits = 2)\n",
    "    \n",
    "    return perimeter\n",
    "\n",
    "perimeter( [ [-10, -10], [10, 10 ], [-10, 10] ] )"
   ]
  },
  {
   "cell_type": "markdown",
   "id": "e30aa4e5",
   "metadata": {},
   "source": []
  },
  {
   "cell_type": "markdown",
   "id": "2bb872ea",
   "metadata": {},
   "source": []
  },
  {
   "cell_type": "markdown",
   "id": "c97cb511",
   "metadata": {},
   "source": [
    "### Question 3. A city skyline can be represented as a 2-D list with 1s representing buildings. In the example below, the height of the tallest building is 4 (second-most right column).\n",
    "\n",
    "`[[0, 0, 0, 0, 0, 0],\n",
    "[0, 0, 0, 0, 1, 0],\n",
    "[0, 0, 1, 0, 1, 0],\n",
    "[0, 1, 1, 1, 1, 0],\n",
    "[1, 1, 1, 1, 1, 1]]`\n",
    "\n",
    "Create a function that takes a skyline (2-D list of 0's and 1's) and returns the height of the tallest skyscraper.\n",
    "\n",
    "Examples:\n",
    "\n",
    "`tallest_skyscraper([\n",
    "  [0, 0, 0, 0],\n",
    "  [0, 1, 0, 0],\n",
    "  [0, 1, 1, 0],\n",
    "  [1, 1, 1, 1]\n",
    "]) ➞ 3\n",
    "\n",
    "tallest_skyscraper([\n",
    "  [0, 1, 0, 0],\n",
    "  [0, 1, 0, 0],\n",
    "  [0, 1, 1, 0],\n",
    "  [1, 1, 1, 1]\n",
    "]) ➞ 4\n",
    "\n",
    "tallest_skyscraper([\n",
    "  [0, 0, 0, 0],\n",
    "  [0, 0, 0, 0],\n",
    "  [1, 1, 1, 0],\n",
    "  [1, 1, 1, 1]\n",
    "]) ➞ 2`\n",
    "\n",
    "### Answer:\n"
   ]
  },
  {
   "cell_type": "code",
   "execution_count": 3,
   "id": "604a4925",
   "metadata": {},
   "outputs": [
    {
     "data": {
      "text/plain": [
       "3"
      ]
     },
     "execution_count": 3,
     "metadata": {},
     "output_type": "execute_result"
    }
   ],
   "source": [
    "def tallest_skyscraper(List_of_Lists):\n",
    "    \n",
    "    height = 0\n",
    "    for i in List_of_Lists:\n",
    "        if i[1] == 1:\n",
    "            height += 1\n",
    "            \n",
    "    return height\n",
    "\n",
    "tallest_skyscraper([\n",
    "  [0, 0, 0, 0],\n",
    "  [0, 1, 0, 0],\n",
    "  [0, 1, 1, 0],\n",
    "  [1, 1, 1, 1]\n",
    "])"
   ]
  },
  {
   "cell_type": "markdown",
   "id": "002849df",
   "metadata": {},
   "source": []
  },
  {
   "cell_type": "markdown",
   "id": "75621089",
   "metadata": {},
   "source": []
  },
  {
   "cell_type": "markdown",
   "id": "4b777a4e",
   "metadata": {},
   "source": [
    "### Question 4. A financial institution provides professional services to banks and claims charges from the customers based on the number of man-days provided. Internally, it has set a scheme to motivate and reward staff to meet and exceed targeted billable utilization and revenues by paying a bonus for each day claimed from customers in excess of a threshold target.\n",
    "\n",
    "This quarterly scheme is calculated with a threshold target of 32 days per quarter, and the incentive payment for each billable day in excess of such threshold target is shown as follows:"
   ]
  },
  {
   "cell_type": "code",
   "execution_count": null,
   "id": "8c16a270",
   "metadata": {},
   "outputs": [],
   "source": [
    "    Days                            Bonus\n",
    "\n",
    "0 to 32 days                        Zero\n",
    "\n",
    "33 to 40 days             SGD$325 per billable day\n",
    "\n",
    "41 to 48 days             SGD$550 per billable day\n",
    "\n",
    "Greater than 48 days      SGD$600 per billable day"
   ]
  },
  {
   "cell_type": "markdown",
   "id": "5863d5f0",
   "metadata": {},
   "source": [
    "Please note that incentive payment is calculated progressively. As an example, if an employee reached total billable days of 45 in a quarter, his/her incentive payment is computed as follows:\n",
    "\n",
    "32*0 + 8*325 + 5*550 = 5350\n",
    "\n",
    "Write a function to read the billable days of an employee and return the bonus he/she has obtained in that quarter.\n",
    "\n",
    "Examples:\n",
    "\n",
    "bonus(15) ➞ 0\n",
    "\n",
    "bonus(37) ➞ 1625\n",
    "\n",
    "bonus(50) ➞ 8200\n",
    "\n",
    "### Answer:"
   ]
  },
  {
   "cell_type": "code",
   "execution_count": 4,
   "id": "fa3de319",
   "metadata": {},
   "outputs": [
    {
     "data": {
      "text/plain": [
       "8200"
      ]
     },
     "execution_count": 4,
     "metadata": {},
     "output_type": "execute_result"
    }
   ],
   "source": [
    "def bonus(number_of_days):\n",
    "    \n",
    "    sum  = 0\n",
    "    \n",
    "    for i in range(number_of_days + 1):\n",
    "        \n",
    "        if i <= 32:\n",
    "            continue\n",
    "            \n",
    "        if i in range(33,41):\n",
    "            sum += 325\n",
    "            \n",
    "        if i in range(41,49):\n",
    "            sum += 550\n",
    "            \n",
    "        if i > 48:\n",
    "            sum += 600\n",
    "        \n",
    "    return sum\n",
    "\n",
    "bonus(50)"
   ]
  },
  {
   "cell_type": "markdown",
   "id": "e45e640d",
   "metadata": {},
   "source": []
  },
  {
   "cell_type": "markdown",
   "id": "67f4372f",
   "metadata": {},
   "source": []
  },
  {
   "cell_type": "markdown",
   "id": "e88dfca8",
   "metadata": {},
   "source": [
    "### Question 5. A number is said to be Disarium if the sum of its digits raised to their respective positions is the number itself.\n",
    "\n",
    "Create a function that determines whether a number is a Disarium or not.\n",
    "\n",
    "Examples:\n",
    "\n",
    "is_disarium(75) ➞ False\n",
    "` 7^1 + 5^2 = 7 + 25 = 32`\n",
    "\n",
    "is_disarium(135) ➞ True\n",
    "` 1^1 + 3^2 + 5^3 = 1 + 9 + 125 = 135`\n",
    "\n",
    "is_disarium(544) ➞ False\n",
    "\n",
    "is_disarium(518) ➞ True\n",
    "\n",
    "is_disarium(466) ➞ False\n",
    "\n",
    "is_disarium(8) ➞ True\n",
    "\n",
    "### Answer:\n"
   ]
  },
  {
   "cell_type": "code",
   "execution_count": 5,
   "id": "d6f9959c",
   "metadata": {},
   "outputs": [
    {
     "data": {
      "text/plain": [
       "False"
      ]
     },
     "execution_count": 5,
     "metadata": {},
     "output_type": "execute_result"
    }
   ],
   "source": [
    "def is_disarium(number):\n",
    "    \n",
    "    sum = 0\n",
    "    for i in range(len(str(number))):\n",
    "        sum += int(str(number)[i])**(i+1)\n",
    "    \n",
    "    if sum ==  number:\n",
    "        return True\n",
    "    return False\n",
    "\n",
    "is_disarium(466)"
   ]
  }
 ],
 "metadata": {
  "kernelspec": {
   "display_name": "Python 3 (ipykernel)",
   "language": "python",
   "name": "python3"
  },
  "language_info": {
   "codemirror_mode": {
    "name": "ipython",
    "version": 3
   },
   "file_extension": ".py",
   "mimetype": "text/x-python",
   "name": "python",
   "nbconvert_exporter": "python",
   "pygments_lexer": "ipython3",
   "version": "3.9.7"
  }
 },
 "nbformat": 4,
 "nbformat_minor": 5
}
