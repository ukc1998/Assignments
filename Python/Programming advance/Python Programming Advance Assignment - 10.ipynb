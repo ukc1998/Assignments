{
 "cells": [
  {
   "cell_type": "markdown",
   "id": "c5af1a49",
   "metadata": {},
   "source": [
    "# Python Programming Advance Assignment - 10"
   ]
  },
  {
   "cell_type": "markdown",
   "id": "515754b9",
   "metadata": {},
   "source": []
  },
  {
   "cell_type": "markdown",
   "id": "95630cdd",
   "metadata": {},
   "source": []
  },
  {
   "cell_type": "markdown",
   "id": "26b32f3d",
   "metadata": {},
   "source": [
    "### Question 1. Create a function that takes the width, height and character and returns a picture frame as a 2D list.\n",
    "\n",
    "Examples\n",
    "\n",
    "get_frame(4, 5, \"#\") ➞ [\n",
    "  [\"####\"],\n",
    "  [\"#  #\"],\n",
    "  [\"#  #\"],\n",
    "  [\"#  #\"],\n",
    "  [\"####\"]\n",
    "]\n",
    "#### Frame is 4 characters wide and 5 characters tall.\n",
    "\n",
    "\n",
    "get_frame(10, 3, \"*\") ➞ [\n",
    "  [\"**********\"],\n",
    "  [\"*        *\"],\n",
    "  [\"**********\"]\n",
    "]\n",
    "#### Frame is 10 characters and wide and 3 characters tall.\n",
    "\n",
    "\n",
    "get_frame(2, 5, \"0\") ➞ \"invalid\"\n",
    "#### Frame's width is not more than 2.\n",
    "\n",
    "### Answer:\n",
    "\n"
   ]
  },
  {
   "cell_type": "code",
   "execution_count": 1,
   "id": "c08373a2",
   "metadata": {},
   "outputs": [
    {
     "name": "stdout",
     "output_type": "stream",
     "text": [
      "[['####'], ['#  #'], ['#  #'], ['#  #'], ['####']]\n",
      "\n",
      "[['**********'], ['*        *'], ['**********']]\n",
      "\n",
      "\"invalid\"\n"
     ]
    }
   ],
   "source": [
    "def get_frame(width,height,character):\n",
    "    if width <= 2 :\n",
    "        print('\"invalid\"')\n",
    "    else:\n",
    "        output = []\n",
    "        for i in range(height):\n",
    "            if i==0 or i == height-1:\n",
    "                output.append([width*character])\n",
    "            else:\n",
    "                output.append([character + \" \"*(width-2) + character])\n",
    "        print(output)\n",
    "        print()\n",
    "    \n",
    "get_frame(4, 5, \"#\")\n",
    "get_frame(10, 3, \"*\")\n",
    "get_frame(2, 5, \"0\")"
   ]
  },
  {
   "cell_type": "markdown",
   "id": "7fcc07ab",
   "metadata": {},
   "source": []
  },
  {
   "cell_type": "markdown",
   "id": "32ca1bce",
   "metadata": {},
   "source": []
  },
  {
   "cell_type": "markdown",
   "id": "8be2d097",
   "metadata": {},
   "source": [
    "### Question 2. Write three functions:\n",
    "\n",
    "  1. boolean_and\n",
    "  2. boolean_or\n",
    "  3. boolean_xor\n",
    "These functions should evaluate a list of True and False values, starting from the leftmost element and evaluating pairwise.\n",
    "\n",
    "Examples\n",
    "\n",
    "boolean_and([True, True, False, True]) ➞ False\n",
    "#### [True, True, False, True] => [True, False, True] => [False, True] => False\n",
    "\n",
    "boolean_or([True, True, False, False]) ➞ True\n",
    "#### [True, True, False, True] => [True, False, False] => [True, False] => True\n",
    "\n",
    "boolean_xor([True, True, False, False]) ➞ False\n",
    "#### [True, True, False, False] => [False, False, False] => [False, False] => False\n",
    "\n",
    "### Answer:\n",
    "\n"
   ]
  },
  {
   "cell_type": "code",
   "execution_count": 2,
   "id": "476762df",
   "metadata": {},
   "outputs": [
    {
     "name": "stdout",
     "output_type": "stream",
     "text": [
      "boolean_and([False]) ➞ False\n",
      "boolean_or([True]) ➞ True\n",
      "boolean_xor([False]) ➞ False\n"
     ]
    }
   ],
   "source": [
    "def boolean_and(lst):\n",
    "    lst_copy = lst\n",
    "    while len(lst) != 1:\n",
    "        x = lst.pop(0)\n",
    "        y = lst.pop(0)\n",
    "        lst.insert(0,(x and y))\n",
    "    print(f\"boolean_and({lst_copy}) ➞ {lst[0]}\")\n",
    "          \n",
    "def boolean_or(lst):\n",
    "    lst_copy = lst\n",
    "    while len(lst) != 1:\n",
    "        x = lst.pop(0)\n",
    "        y = lst.pop(0)\n",
    "        lst.insert(0,(x or y))\n",
    "    print(f\"boolean_or({lst_copy}) ➞ {lst[0]}\")\n",
    "          \n",
    "def boolean_xor(lst):\n",
    "    lst_copy = lst\n",
    "    while len(lst) != 1:\n",
    "        x = lst.pop(0)\n",
    "        y = lst.pop(0)\n",
    "        lst.insert(0,(x ^ y))\n",
    "    print(f\"boolean_xor({lst_copy}) ➞ {lst[0]}\")\n",
    "          \n",
    "          \n",
    "boolean_and([True, True, False, True])\n",
    "boolean_or([True, True, False, False])\n",
    "boolean_xor([True, True, False, False])"
   ]
  },
  {
   "cell_type": "markdown",
   "id": "fd51a683",
   "metadata": {},
   "source": []
  },
  {
   "cell_type": "markdown",
   "id": "36c8566f",
   "metadata": {},
   "source": []
  },
  {
   "cell_type": "markdown",
   "id": "9b53d198",
   "metadata": {},
   "source": [
    "### Question 3. Create a function that creates a box based on dimension n.\n",
    "\n",
    "Examples\n",
    "\n",
    "make_box(5) ➞ [\n",
    "  \"#####\",\n",
    "  \"#   #\",\n",
    "  \"#   #\",\n",
    "  \"#   #\",\n",
    "  \"#####\"\n",
    "]\n",
    "\n",
    "make_box(3) ➞ [\n",
    "  \"###\",\n",
    "  \"# #\",\n",
    "  \"###\"\n",
    "]\n",
    "\n",
    "make_box(2) ➞ [\n",
    "  \"##\",\n",
    "  \"##\"\n",
    "]\n",
    "\n",
    "make_box(1) ➞ [\n",
    "  \"#\"\n",
    "]\n",
    "\n",
    "### Answer:\n",
    "\n"
   ]
  },
  {
   "cell_type": "code",
   "execution_count": 3,
   "id": "791cc393",
   "metadata": {},
   "outputs": [
    {
     "name": "stdout",
     "output_type": "stream",
     "text": [
      "['#####', '#   #', '#   #', '#   #', '#####']\n",
      "\n",
      "['###', '# #', '###']\n",
      "\n",
      "['##', '##']\n",
      "\n",
      "['#']\n",
      "\n"
     ]
    }
   ],
   "source": [
    "def make_box(n):\n",
    "    character = \"#\"\n",
    "    height = n\n",
    "    width = height\n",
    "    output = []\n",
    "    for i in range(height):\n",
    "        if i==0 or i == height-1:\n",
    "            output.append(width*character)\n",
    "        else:\n",
    "            output.append(character + \" \"*(width-2) + character)\n",
    "    print(output)\n",
    "    print()\n",
    "        \n",
    "make_box(5)   \n",
    "make_box(3)   \n",
    "make_box(2)\n",
    "make_box(1)"
   ]
  },
  {
   "cell_type": "markdown",
   "id": "c9ef95b7",
   "metadata": {},
   "source": []
  },
  {
   "cell_type": "markdown",
   "id": "9c059283",
   "metadata": {},
   "source": []
  },
  {
   "cell_type": "markdown",
   "id": "849207b9",
   "metadata": {},
   "source": [
    "### Question 4. Given a common phrase, return False if any individual word in the phrase contains duplicate letters. Return True otherwise.\n",
    "\n",
    "Examples\n",
    "\n",
    "no_duplicate_letters(\"Fortune favours the bold.\") ➞ True\n",
    "\n",
    "no_duplicate_letters(\"You can lead a horse to water, but you can't make him drink.\") ➞ True\n",
    "\n",
    "no_duplicate_letters(\"Look before you leap.\") ➞ False\n",
    "#### Duplicate letters in \"Look\" and \"before\".\n",
    "\n",
    "no_duplicate_letters(\"An apple a day keeps the doctor away.\") ➞ False\n",
    "#### Duplicate letters in \"apple\", \"keeps\", \"doctor\", and \"away\".\n",
    "\n",
    "### Answer:\n",
    "\n"
   ]
  },
  {
   "cell_type": "code",
   "execution_count": 4,
   "id": "7c09f044",
   "metadata": {},
   "outputs": [
    {
     "name": "stdout",
     "output_type": "stream",
     "text": [
      "no_duplicate_letters(\"Fortune favours the bold.\") ➞ True\n",
      "no_duplicate_letters(\"You can lead a horse to water, but you can't make him drink.\") ➞ True\n",
      "no_duplicate_letters(\"Look before you leap.\") ➞ False\n",
      "no_duplicate_letters(\"An apple a day keeps the doctor away.\") ➞ False\n"
     ]
    }
   ],
   "source": [
    "def no_duplicate_letters(phrase_string):\n",
    "    \n",
    "    for i in phrase_string.split(' '):\n",
    "        if len(i.lower()) == len(set(i.lower())):\n",
    "            output = True\n",
    "        else:\n",
    "            output = False\n",
    "            break\n",
    "    print(f'no_duplicate_letters(\"{phrase_string}\") ➞ {output}')\n",
    "    \n",
    "no_duplicate_letters(\"Fortune favours the bold.\")\n",
    "no_duplicate_letters(\"You can lead a horse to water, but you can't make him drink.\")\n",
    "no_duplicate_letters(\"Look before you leap.\")\n",
    "no_duplicate_letters(\"An apple a day keeps the doctor away.\")"
   ]
  },
  {
   "cell_type": "markdown",
   "id": "73e753e7",
   "metadata": {},
   "source": []
  },
  {
   "cell_type": "markdown",
   "id": "325bff6d",
   "metadata": {},
   "source": []
  },
  {
   "cell_type": "markdown",
   "id": "5418a8da",
   "metadata": {},
   "source": [
    "### Question 5. Write a regular expression that will match the states that voted yes to President Trump's impeachment. You must use RegEx positive lookahead.\n",
    "\n",
    "Example\n",
    "\n",
    "txt = \"Texas = no, California = yes, Florida = yes, Michigan = no\"\n",
    "\n",
    "pattern = \"yourregularexpressionhere\"\n",
    "\n",
    "re.findall(pattern, txt) ➞ [\"California\", \"Florida\"]\n",
    "\n",
    "### Answer:\n",
    "\n"
   ]
  },
  {
   "cell_type": "code",
   "execution_count": 5,
   "id": "67c82b55",
   "metadata": {},
   "outputs": [
    {
     "name": "stdout",
     "output_type": "stream",
     "text": [
      "re.findall('\\\\w+(?=\\\\s=\\\\syes*)', 'Texas = no, California = yes, Florida = yes, Michigan = no') ➞ ['California', 'Florida']\n"
     ]
    }
   ],
   "source": [
    "import re\n",
    "txt = \"Texas = no, California = yes, Florida = yes, Michigan = no\"\n",
    "pattern = r'\\w+(?=\\s=\\syes*)'\n",
    "match = re.findall(pattern,txt)\n",
    "print(f're.findall{pattern,txt} ➞ {match}')"
   ]
  }
 ],
 "metadata": {
  "kernelspec": {
   "display_name": "Python 3 (ipykernel)",
   "language": "python",
   "name": "python3"
  },
  "language_info": {
   "codemirror_mode": {
    "name": "ipython",
    "version": 3
   },
   "file_extension": ".py",
   "mimetype": "text/x-python",
   "name": "python",
   "nbconvert_exporter": "python",
   "pygments_lexer": "ipython3",
   "version": "3.9.7"
  }
 },
 "nbformat": 4,
 "nbformat_minor": 5
}
