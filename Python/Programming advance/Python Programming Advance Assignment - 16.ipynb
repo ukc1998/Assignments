{
 "cells": [
  {
   "cell_type": "markdown",
   "id": "e8cf3d71",
   "metadata": {},
   "source": [
    "# Python Programming Advance Assignment - 16"
   ]
  },
  {
   "cell_type": "markdown",
   "id": "a571cf74",
   "metadata": {},
   "source": []
  },
  {
   "cell_type": "markdown",
   "id": "aed32e72",
   "metadata": {},
   "source": []
  },
  {
   "cell_type": "markdown",
   "id": "17a1719c",
   "metadata": {},
   "source": [
    "### Question 1. Rondo Form is a type of musical structure, in which there is a recurring theme/refrain, notated as A. Here are the rules for valid rondo forms:\n",
    "\n",
    "   - Rondo forms always start and end with an A section.\n",
    "   - In between the A sections, there should be contrasting sections notated as B, then C, then D, etc... No letter should be skipped.\n",
    "   - There shouldn't be any repeats in the sequence (such as ABBACCA).\n",
    "\n",
    "Create a function which validates whether a given string is a valid Rondo Form.\n",
    "\n",
    "Examples\n",
    "\n",
    "valid_rondo(\"ABACADAEAFAGAHAIAJA\") ➞ True\n",
    "\n",
    "valid_rondo(\"ABA\") ➞ True\n",
    "\n",
    "valid_rondo(\"ABBACCA\") ➞ False\n",
    "\n",
    "valid_rondo(\"ACAC\") ➞ False\n",
    "\n",
    "valid_rondo(\"A\") ➞ False\n",
    "\n",
    "### Answer:\n",
    "\n"
   ]
  },
  {
   "cell_type": "code",
   "execution_count": 1,
   "id": "57bc7503",
   "metadata": {},
   "outputs": [
    {
     "name": "stdout",
     "output_type": "stream",
     "text": [
      "valid_rondo(ABACADAEAFAGAHAIAJA) ➞ True\n",
      "valid_rondo(ABA) ➞ True\n",
      "valid_rondo(ABBACCA) ➞ False\n",
      "valid_rondo(ACAC) ➞ False\n",
      "valid_rondo(A) ➞ False\n"
     ]
    }
   ],
   "source": [
    "def valid_rondo(string):\n",
    "    \n",
    "    modified = string.replace('A','')\n",
    "    output = False\n",
    "    \n",
    "    if len(modified) == 1:\n",
    "            output= True\n",
    "    else:\n",
    "        for i in range(len(modified)-1):\n",
    "            if ord(modified[i]) < ord(modified[i+1]):\n",
    "                output= True\n",
    "            else:\n",
    "                output = False\n",
    "                break\n",
    "    print(f\"valid_rondo({string}) ➞ {output}\")\n",
    "    \n",
    "    \n",
    "valid_rondo(\"ABACADAEAFAGAHAIAJA\")\n",
    "valid_rondo(\"ABA\")\n",
    "valid_rondo(\"ABBACCA\")\n",
    "valid_rondo(\"ACAC\")\n",
    "valid_rondo(\"A\")\n"
   ]
  },
  {
   "cell_type": "markdown",
   "id": "b4ec149f",
   "metadata": {},
   "source": []
  },
  {
   "cell_type": "markdown",
   "id": "b79cfacf",
   "metadata": {},
   "source": []
  },
  {
   "cell_type": "markdown",
   "id": "51e00432",
   "metadata": {},
   "source": [
    "### Question 2. Create a function that returns the whole of the first sentence which contains a specific word. Include the full stop at the end of the sentence.\n",
    "\n",
    "Examples\n",
    "\n",
    "txt = \"I have a cat. I have a mat. Things are going swell.\"\n",
    "\n",
    "sentence_searcher(txt, \"have\") ➞ \"I have a cat.\"\n",
    "\n",
    "sentence_searcher(txt, \"MAT\") ➞ \"I have a mat.\"\n",
    "\n",
    "sentence_searcher(txt, \"things\") ➞ \"Things are going swell.\"\n",
    "\n",
    "sentence_searcher(txt, \"flat\") ➞ \"\"\n",
    "\n",
    "### Answer:\n",
    "\n"
   ]
  },
  {
   "cell_type": "code",
   "execution_count": 2,
   "id": "60248da3",
   "metadata": {},
   "outputs": [
    {
     "name": "stdout",
     "output_type": "stream",
     "text": [
      "sentence_searcher('I have a cat. I have a mat. Things are going swell.', 'have') ➞ I have a cat\n",
      "sentence_searcher('I have a cat. I have a mat. Things are going swell.', 'MAT') ➞ I have a mat\n",
      "sentence_searcher('I have a cat. I have a mat. Things are going swell.', 'things') ➞ Things are going swell.\n",
      "sentence_searcher('I have a cat. I have a mat. Things are going swell.', 'flat') ➞ \"\"\n"
     ]
    }
   ],
   "source": [
    "def sentence_searcher(txt, string):\n",
    "    \n",
    "    output = \"\\\"\\\"\"\n",
    "    stock = txt.split(\". \")\n",
    "    for i in stock:\n",
    "        if string.lower() in i.lower():\n",
    "            output = i\n",
    "            break\n",
    "    print(f'sentence_searcher{txt,string} ➞ {output}')\n",
    "\n",
    "    \n",
    "txt = \"I have a cat. I have a mat. Things are going swell.\"\n",
    "\n",
    "sentence_searcher(txt, \"have\")\n",
    "sentence_searcher(txt, \"MAT\")\n",
    "sentence_searcher(txt, \"things\")\n",
    "sentence_searcher(txt, \"flat\")"
   ]
  },
  {
   "cell_type": "markdown",
   "id": "69a50f5f",
   "metadata": {},
   "source": []
  },
  {
   "cell_type": "markdown",
   "id": "0ca5e340",
   "metadata": {},
   "source": []
  },
  {
   "cell_type": "markdown",
   "id": "9c0d3c1f",
   "metadata": {},
   "source": [
    "### Question 3. Given a number, find the \"round \"of each digit of the number. An integer is called \"round\" if all its digits except the leftmost (most significant) are equal to zero.\n",
    "\n",
    "    - Round numbers: 4000, 1, 9, 800, 90\n",
    "    - Not round numbers: 110, 707, 222, 1001\n",
    "\n",
    "Create a function that takes a number and returns the \"round\" of each digit (except if the digit is zero) as a string. Check out the following examples for more clarification.\n",
    "\n",
    "Examples\n",
    "\n",
    "sum_round(101) ➞ \"1 100\"\n",
    "\n",
    "sum_round(1234) ➞ \"4 30 200 1000\"\n",
    "\n",
    "sum_round(54210) ➞ \"10 200 4000 50000\"\n",
    "\n",
    "### Answer:\n",
    "\n"
   ]
  },
  {
   "cell_type": "code",
   "execution_count": 3,
   "id": "52d9b260",
   "metadata": {},
   "outputs": [
    {
     "name": "stdout",
     "output_type": "stream",
     "text": [
      "sum_round(101) ➞ 1 100\n",
      "sum_round(1234) ➞ 4 30 200 1000\n",
      "sum_round(54210) ➞ 10 200 4000 50000\n"
     ]
    }
   ],
   "source": [
    "def sum_round(n):\n",
    "    \n",
    "    n_copy = n\n",
    "    n_string = str(n)\n",
    "    l = len(n_string)\n",
    "    output = []\n",
    "    \n",
    "    for i in range(l):\n",
    "        if n_string[i] != \"0\":\n",
    "            output.append(n_string[i] + (\"0\"*len(n_string[i+1:])))                           \n",
    "    output_modified = \" \".join(output[::-1])\n",
    "    print(f'sum_round({n}) ➞ {output_modified}')\n",
    "\n",
    "sum_round(101)\n",
    "sum_round(1234)\n",
    "sum_round(54210)"
   ]
  },
  {
   "cell_type": "markdown",
   "id": "9f0fb211",
   "metadata": {},
   "source": []
  },
  {
   "cell_type": "markdown",
   "id": "48581859",
   "metadata": {},
   "source": []
  },
  {
   "cell_type": "markdown",
   "id": "dc328c1d",
   "metadata": {},
   "source": [
    "### Question 4. Your task, is to create N x N multiplication table, of size n provided in parameter.\n",
    "\n",
    "For example, when n is 5, the multiplication table is:\n",
    "\n",
    "   - 1, 2, 3, 4, 5\n",
    "   - 2, 4, 6, 8, 10\n",
    "   - 3, 6, 9, 12, 15\n",
    "   - 4, 8, 12, 16, 20\n",
    "   - 5, 10, 15, 20, 25\n",
    "\n",
    "This example will result in:\n",
    "\n",
    "[[1, 2, 3, 4, 5], [2, 4, 6, 8, 10], [3, 6, 9, 12, 15], [4, 8, 12, 16, 20], [5, 10, 15, 20, 25]]\n",
    "\n",
    "Examples\n",
    "\n",
    "multiplication_table(1) ➞ [[1]]\n",
    "\n",
    "multiplication_table(3) ➞ [[1, 2, 3], [2, 4, 6], [3, 6, 9]]\n",
    "\n",
    "### Answer:\n",
    "\n"
   ]
  },
  {
   "cell_type": "code",
   "execution_count": 4,
   "id": "78b4edb7",
   "metadata": {},
   "outputs": [
    {
     "name": "stdout",
     "output_type": "stream",
     "text": [
      "multiplication_table(3) ➞ [[1, 2, 3], [2, 4, 6], [3, 6, 9]]\n",
      "multiplication_table(1) ➞ [[1]]\n",
      "multiplication_table(5) ➞ [[1, 2, 3, 4, 5], [2, 4, 6, 8, 10], [3, 6, 9, 12, 15], [4, 8, 12, 16, 20], [5, 10, 15, 20, 25]]\n"
     ]
    }
   ],
   "source": [
    "def multiplication_table(n):\n",
    "    \n",
    "    output = []\n",
    "    for i in range(1,n+1):\n",
    "        andar_waala_list = []\n",
    "        for j in range(1,n+1):\n",
    "            andar_waala_list.append(i*j)\n",
    "        output.append(andar_waala_list)\n",
    "        \n",
    "    print(f\"multiplication_table({n}) ➞ {output}\")\n",
    "        \n",
    "multiplication_table(3) \n",
    "multiplication_table(1)\n",
    "multiplication_table(5)"
   ]
  },
  {
   "cell_type": "markdown",
   "id": "89b38862",
   "metadata": {},
   "source": []
  },
  {
   "cell_type": "markdown",
   "id": "7e471193",
   "metadata": {},
   "source": []
  },
  {
   "cell_type": "markdown",
   "id": "26563212",
   "metadata": {},
   "source": [
    "### Question 5. Create a function that returns True if two lines rhyme and False otherwise. For the purposes of this exercise, two lines rhyme if the last word from each sentence contains the same vowels.\n",
    "\n",
    "Examples\n",
    "\n",
    "does_rhyme(\"Sam I am!\", \"Green eggs and ham.\") ➞ True\n",
    "\n",
    "does_rhyme(\"Sam I am!\", \"Green eggs and HAM.\") ➞ True\n",
    "#### Capitalization and punctuation should not matter.\n",
    "\n",
    "does_rhyme(\"You are off to the races\", \"a splendid day.\") ➞ False\n",
    "\n",
    "does_rhyme(\"and frequently do?\", \"you gotta move.\") ➞ False\n",
    "\n",
    "### Answer:\n",
    "\n"
   ]
  },
  {
   "cell_type": "code",
   "execution_count": 5,
   "id": "2aa95cb7",
   "metadata": {},
   "outputs": [
    {
     "name": "stdout",
     "output_type": "stream",
     "text": [
      "does_rhyme('Sam I am!', 'Green eggs and ham.') ➞ True\n",
      "does_rhyme('Sam I am!', 'Green eggs and HAM.') ➞ True\n",
      "does_rhyme('You are off to the races', 'a splendid day.') ➞ False\n",
      "does_rhyme('and frequently do?', 'you gotta move.') ➞ False\n"
     ]
    }
   ],
   "source": [
    "def does_rhyme(l1,l2):\n",
    "    \n",
    "    vowels = \"aeiou\"\n",
    "    l1_list = l1.split()\n",
    "    l2_list = l2.split()\n",
    "    check_1 = \"\"\n",
    "    check_2 = \"\"\n",
    "    \n",
    "    for i in l1_list[-1].lower():\n",
    "        if i in vowels:\n",
    "            check_1 = check_1 + i\n",
    "            \n",
    "    for i in l2_list[-1].lower():\n",
    "        if i in vowels:\n",
    "            check_2 = check_2 + i\n",
    "    if check_1 == check_2:\n",
    "        output = True\n",
    "    else:\n",
    "        output = False\n",
    "    print(f\"does_rhyme{l1,l2} ➞ {output}\")\n",
    "    \n",
    "does_rhyme(\"Sam I am!\", \"Green eggs and ham.\")\n",
    "does_rhyme(\"Sam I am!\", \"Green eggs and HAM.\")\n",
    "does_rhyme(\"You are off to the races\", \"a splendid day.\")\n",
    "does_rhyme(\"and frequently do?\", \"you gotta move.\")"
   ]
  }
 ],
 "metadata": {
  "kernelspec": {
   "display_name": "Python 3 (ipykernel)",
   "language": "python",
   "name": "python3"
  },
  "language_info": {
   "codemirror_mode": {
    "name": "ipython",
    "version": 3
   },
   "file_extension": ".py",
   "mimetype": "text/x-python",
   "name": "python",
   "nbconvert_exporter": "python",
   "pygments_lexer": "ipython3",
   "version": "3.9.7"
  }
 },
 "nbformat": 4,
 "nbformat_minor": 5
}
