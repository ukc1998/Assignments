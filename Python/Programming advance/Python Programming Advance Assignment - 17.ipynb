{
 "cells": [
  {
   "cell_type": "markdown",
   "id": "7df31878",
   "metadata": {},
   "source": [
    "# Python Programming Advance Assignment - 17"
   ]
  },
  {
   "cell_type": "markdown",
   "id": "be3cbcff",
   "metadata": {},
   "source": []
  },
  {
   "cell_type": "markdown",
   "id": "f22736e4",
   "metadata": {},
   "source": []
  },
  {
   "cell_type": "markdown",
   "id": "165eb136",
   "metadata": {},
   "source": [
    "### Question 1. Create a function that transposes a 2D matrix.\n",
    "\n",
    "Examples\n",
    "\n",
    "`transpose_matrix([\n",
    "  [1, 1, 1],\n",
    "  [2, 2, 2],\n",
    "  [3, 3, 3]\n",
    "]) ➞ [\n",
    "  [1, 2, 3],\n",
    "  [1, 2, 3],\n",
    "  [1, 2, 3]\n",
    "]`\n",
    "\n",
    "`transpose_matrix([\n",
    "  [5, 5],\n",
    "  [6, 7],\n",
    "  [9, 1]\n",
    "]) ➞ [\n",
    "  [5, 6, 9],\n",
    "  [5, 7, 1]\n",
    "]`\n",
    "\n",
    "### Answer:\n",
    "\n"
   ]
  },
  {
   "cell_type": "code",
   "execution_count": 1,
   "id": "a5976ed6",
   "metadata": {},
   "outputs": [
    {
     "name": "stdout",
     "output_type": "stream",
     "text": [
      "transpose_matrix([[1, 1, 1], [2, 2, 2], [3, 3, 3]]) ➞ [[1, 2, 3], [1, 2, 3], [1, 2, 3]]\n",
      "transpose_matrix([[5, 5], [6, 7], [9, 1]]) ➞ [[5, 6, 9], [5, 7, 1]]\n"
     ]
    }
   ],
   "source": [
    "def transpose_matrix(two_D_matrix):\n",
    "\n",
    "    m = len(two_D_matrix)\n",
    "    n = len(two_D_matrix[0])\n",
    "    output = [[\"kuch_bhi\" for x in range(m)] for y in range(n)]\n",
    "\n",
    "    for i in range(n):\n",
    "        for j in range(m):\n",
    "            output[i][j] = two_D_matrix[j][i]\n",
    "            \n",
    "    print(f\"transpose_matrix({two_D_matrix}) ➞ {output}\")\n",
    "\n",
    "    \n",
    "transpose_matrix([[1, 1, 1],[2, 2, 2],[3, 3, 3]])\n",
    "transpose_matrix([[5, 5],[6, 7],[9, 1]])"
   ]
  },
  {
   "cell_type": "markdown",
   "id": "d6c01687",
   "metadata": {},
   "source": []
  },
  {
   "cell_type": "markdown",
   "id": "fa57bd46",
   "metadata": {},
   "source": []
  },
  {
   "cell_type": "markdown",
   "id": "95987b32",
   "metadata": {},
   "source": [
    "### Question 2. Create a function that determines whether a string is a valid hex code.\n",
    "\n",
    "A hex code must begin with a pound key # and is exactly 6 characters in length. Each character must be a digit from 0-9 or an alphabetic character from A-F. All alphabetic characters may be uppercase or lowercase.\n",
    "\n",
    "Examples\n",
    "\n",
    "is_valid_hex_code(\"#CD5C5C\") ➞ True\n",
    "\n",
    "is_valid_hex_code(\"#EAECEE\") ➞ True\n",
    "\n",
    "is_valid_hex_code(\"#eaecee\") ➞ True\n",
    "\n",
    "is_valid_hex_code(\"#CD5C58C\") ➞ False\n",
    "#### Length exceeds 6\n",
    "\n",
    "is_valid_hex_code(\"#CD5C5Z\") ➞ False\n",
    "#### Not all alphabetic characters in A-F\n",
    "\n",
    "is_valid_hex_code(\"#CD5C&C\") ➞ False\n",
    "#### Contains unacceptable character\n",
    "\n",
    "is_valid_hex_code(\"CD5C5C\") ➞ False\n",
    "#### Missing #\n",
    "\n",
    "### Answer:\n",
    "\n"
   ]
  },
  {
   "cell_type": "code",
   "execution_count": 2,
   "id": "75f4657b",
   "metadata": {},
   "outputs": [
    {
     "name": "stdout",
     "output_type": "stream",
     "text": [
      "is_valid_hex_code(\"#CD5C5C\") ➞ True\n",
      "is_valid_hex_code(\"#EAECEE\") ➞ True\n",
      "is_valid_hex_code(\"#eaecee\") ➞ True\n",
      "is_valid_hex_code(\"#CD5C58C\") ➞ False\n",
      "is_valid_hex_code(\"#CD5C5Z\") ➞ False\n",
      "is_valid_hex_code(\"#CD5C&C\") ➞ False\n",
      "is_valid_hex_code(\"CD5C5C\") ➞ False\n"
     ]
    }
   ],
   "source": [
    "def is_valid_hex_code(string):\n",
    "    \n",
    "    output = None\n",
    "    if string.startswith(\"#\") and len(string[1:]) == 6:\n",
    "        for i in string[1:]:\n",
    "                if i.isalpha():\n",
    "                    if ord(i.lower())>=ord(\"a\") and ord(i.lower())<=ord(\"f\"):\n",
    "                        output = True\n",
    "                    else:\n",
    "                        output = False\n",
    "                        break\n",
    "                elif i.isdigit():\n",
    "                    if int(i)>=0 and int(i)<=9:\n",
    "                        output = True\n",
    "                    else:\n",
    "                        output = False\n",
    "                        break\n",
    "                else:\n",
    "                    output = False\n",
    "                    break\n",
    "    else:\n",
    "        output = False\n",
    "    \n",
    "    print(f'is_valid_hex_code(\"{string}\") ➞ {output}')\n",
    "\n",
    "is_valid_hex_code(\"#CD5C5C\")\n",
    "is_valid_hex_code(\"#EAECEE\")\n",
    "is_valid_hex_code(\"#eaecee\")\n",
    "is_valid_hex_code(\"#CD5C58C\")\n",
    "is_valid_hex_code(\"#CD5C5Z\")\n",
    "is_valid_hex_code(\"#CD5C&C\")\n",
    "is_valid_hex_code(\"CD5C5C\")"
   ]
  },
  {
   "cell_type": "markdown",
   "id": "e7711efd",
   "metadata": {},
   "source": []
  },
  {
   "cell_type": "markdown",
   "id": "7cef5454",
   "metadata": {},
   "source": []
  },
  {
   "cell_type": "markdown",
   "id": "dc6e74c0",
   "metadata": {},
   "source": [
    "### Question 3. Given a list of math equations (given as strings), return the percentage of correct answers as a string. Round to the nearest whole number.\n",
    "\n",
    "Examples\n",
    "\n",
    "mark_maths([\"2+2=4\", \"3+2=5\", \"10-3=3\", \"5+5=10\"]) ➞ \"75%\"\n",
    "\n",
    "mark_maths([\"1-2=-2\"]), \"0%\"\n",
    "\n",
    "mark_maths([\"2+3=5\", \"4+4=9\", \"3-1=2\"]) ➞ \"67%\"\n",
    "\n",
    "### Answer:\n",
    "\n"
   ]
  },
  {
   "cell_type": "code",
   "execution_count": 3,
   "id": "32422da8",
   "metadata": {},
   "outputs": [
    {
     "name": "stdout",
     "output_type": "stream",
     "text": [
      "mark_maths(['2+2=4', '3+2=5', '10-3=3', '5+5=10']) ➞ \"75%\"\n",
      "mark_maths(['1-2=-2']) ➞ \"0%\"\n",
      "mark_maths(['2+3=5', '4+4=9', '3-1=2']) ➞ \"67%\"\n"
     ]
    }
   ],
   "source": [
    "def mark_maths(lst):\n",
    "    \n",
    "    import math\n",
    "    count = 0\n",
    "    for i in lst:\n",
    "        if eval(i.split(\"=\")[0]) == int(i.split(\"=\")[1]):\n",
    "            count += 1\n",
    "    output = round(count/len(lst)*100)\n",
    "    print(f'mark_maths({lst}) ➞ \"{str(output) + \"%\"}\"')\n",
    "    \n",
    "mark_maths([\"2+2=4\", \"3+2=5\", \"10-3=3\", \"5+5=10\"])\n",
    "mark_maths([\"1-2=-2\"])\n",
    "mark_maths([\"2+3=5\", \"4+4=9\", \"3-1=2\"])"
   ]
  },
  {
   "cell_type": "markdown",
   "id": "9ca5425c",
   "metadata": {},
   "source": []
  },
  {
   "cell_type": "markdown",
   "id": "905f6adb",
   "metadata": {},
   "source": []
  },
  {
   "cell_type": "markdown",
   "id": "c507fcd0",
   "metadata": {},
   "source": [
    "### Question 4. There are two players, Alice and Bob, each with a 3-by-3 grid. A referee tells Alice to fill out one particular row in the grid (say the second row) by putting either a 1 or a 0 in each box, such that the sum of the numbers in that row is odd. The referee tells Bob to fill out one column in the grid (say the first column) by putting either a 1 or a 0 in each box, such that the sum of the numbers in that column is even.\n",
    "\n",
    "Alice and Bob win the game if Alice’s numbers give an odd sum, Bob’s give an even sum, and (most important) they’ve each written down the same number in the one square where their row and column intersect.\n",
    "\n",
    "Examples\n",
    "\n",
    "magic_square_game([2, \"100\"], [1, \"101\"]) ➞ False\n",
    "\n",
    "magic_square_game([2, \"001\"], [1, \"101\"]) ➞ True\n",
    "\n",
    "magic_square_game([3, \"111\"], [2, \"011\"]) ➞ True\n",
    "\n",
    "magic_square_game([1, \"010\"], [3, \"101\"]) ➞ False\n",
    "\n",
    "#### Two lists, Alice [row, \"her choice\"], Bob [column, \"his choice\"]\n",
    "\n",
    "### Answer:\n",
    "\n"
   ]
  },
  {
   "cell_type": "code",
   "execution_count": 4,
   "id": "cc336d16",
   "metadata": {},
   "outputs": [
    {
     "name": "stdout",
     "output_type": "stream",
     "text": [
      "magic_square_game([1, '101'], [2, '100']) ➞ False\n",
      "magic_square_game([1, '101'], [2, '001']) ➞ True\n",
      "magic_square_game([2, '011'], [3, '111']) ➞ True\n",
      "magic_square_game([3, '101'], [1, '010']) ➞ False\n"
     ]
    }
   ],
   "source": [
    "def magic_square_game(Alice,Bob):\n",
    "    \n",
    "    output = False\n",
    "    \n",
    "    alice_sum = 0\n",
    "    for i in Alice[1]:\n",
    "        alice_sum += int(i)\n",
    "        \n",
    "    bob_sum = 0\n",
    "    for i in Bob[1]:\n",
    "        bob_sum += int(i)\n",
    "        \n",
    "    \n",
    "    if alice_sum%2 != 0 and bob_sum%2 == 0:\n",
    "        if Bob[1][Alice[0]-1] == Alice[1][Bob[0]-1]:\n",
    "            output = True\n",
    "            \n",
    "    print(f'magic_square_game{Bob, Alice} ➞ {output}')\n",
    "    \n",
    "magic_square_game([2, \"100\"], [1, \"101\"])\n",
    "magic_square_game([2, \"001\"], [1, \"101\"]) \n",
    "magic_square_game([3, \"111\"], [2, \"011\"]) \n",
    "magic_square_game([1, \"010\"], [3, \"101\"]) "
   ]
  },
  {
   "cell_type": "markdown",
   "id": "312e5fe2",
   "metadata": {},
   "source": []
  },
  {
   "cell_type": "markdown",
   "id": "d2b341ca",
   "metadata": {},
   "source": []
  },
  {
   "cell_type": "markdown",
   "id": "3c129f76",
   "metadata": {},
   "source": [
    "### Question 5. From point A, an object is moving towards point B at constant velocity va (in km/hr). From point B, another object is moving towards point A at constant velocity vb (in km/hr). Knowing this and the distance between point A and B (in km), write a function that returns how much time passes until both objects meet.\n",
    "\n",
    "Format the output like this:\n",
    "\n",
    "\"2h 23min 34s\"\n",
    "\n",
    "Examples\n",
    "\n",
    "lets_meet(100, 10, 30) ➞ \"2h 30min 0s\"\n",
    "\n",
    "lets_meet(280, 70, 80) ➞ \"1h 52min 0s\"\n",
    "\n",
    "lets_meet(90, 75, 65) ➞ \"0h 38min 34s\"\n",
    "\n",
    "### Answer:\n",
    "\n"
   ]
  },
  {
   "cell_type": "code",
   "execution_count": 5,
   "id": "3c9c0ecc",
   "metadata": {},
   "outputs": [
    {
     "name": "stdout",
     "output_type": "stream",
     "text": [
      "lets_meet(100, 10, 30) ➞ 2h 30min 0s\n",
      "lets_meet(280, 70, 80) ➞ 1h 52min 0s\n",
      "lets_meet(90, 75, 65) ➞ 0h 38min 34s\n"
     ]
    }
   ],
   "source": [
    "def lets_meet(distance,va,vb):\n",
    "    \n",
    "    import math\n",
    "    total_time = distance/(va+vb)\n",
    "    Hours = math.floor(total_time) \n",
    "    Minutes = math.floor((total_time-Hours)*60)\n",
    "    Seconds = math.floor(((((total_time)-Hours)*60)-Minutes)*60)\n",
    "    print(f'lets_meet{distance,va,vb} ➞ {Hours}h {Minutes}min {Seconds}s')\n",
    "    \n",
    "lets_meet(100, 10, 30)\n",
    "lets_meet(280, 70, 80)\n",
    "lets_meet(90, 75, 65)"
   ]
  }
 ],
 "metadata": {
  "kernelspec": {
   "display_name": "Python 3 (ipykernel)",
   "language": "python",
   "name": "python3"
  },
  "language_info": {
   "codemirror_mode": {
    "name": "ipython",
    "version": 3
   },
   "file_extension": ".py",
   "mimetype": "text/x-python",
   "name": "python",
   "nbconvert_exporter": "python",
   "pygments_lexer": "ipython3",
   "version": "3.9.7"
  }
 },
 "nbformat": 4,
 "nbformat_minor": 5
}
