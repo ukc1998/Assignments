{
 "cells": [
  {
   "cell_type": "markdown",
   "id": "f9a29779",
   "metadata": {},
   "source": [
    "# Python Programming Advance Assignment - 19"
   ]
  },
  {
   "cell_type": "markdown",
   "id": "41c10bba",
   "metadata": {},
   "source": []
  },
  {
   "cell_type": "markdown",
   "id": "55b23bdf",
   "metadata": {},
   "source": []
  },
  {
   "cell_type": "markdown",
   "id": "e7dde9be",
   "metadata": {},
   "source": [
    "### Question 1. Create a checker board generator, which takes as inputs n and 2 elements to generate an n x n checkerboard with those two elements as alternating squares.\n",
    "\n",
    "Examples\n",
    "\n",
    "checker_board(2, 7, 6) ➞ [\n",
    "  [7, 6],\n",
    "  [6, 7]\n",
    "]\n",
    "\n",
    "checker_board(3, \"A\", \"B\") ➞ [\n",
    "  [\"A\", \"B\", \"A\"],\n",
    "  [\"B\", \"A\", \"B\"],\n",
    "  [\"A\", \"B\", \"A\"]\n",
    "]\n",
    "\n",
    "checker_board(4, \"c\", \"d\") ➞ [\n",
    "  [\"c\", \"d\", \"c\", \"d\"],\n",
    "  [\"d\", \"c\", \"d\", \"c\"],\n",
    "  [\"c\", \"d\", \"c\", \"d\"],\n",
    "  [\"d\", \"c\", \"d\", \"c\"]\n",
    "]\n",
    "\n",
    "checker_board(4, \"c\", \"c\") ➞ \"invalid\"\n",
    "\n",
    "### Answer:\n",
    "\n"
   ]
  },
  {
   "cell_type": "code",
   "execution_count": 1,
   "id": "975704c9",
   "metadata": {},
   "outputs": [
    {
     "name": "stdout",
     "output_type": "stream",
     "text": [
      "checker_board(2, 7, 6) ➞ [[7, 6], [6, 7]]\n",
      "checker_board(3, 'B', 'A') ➞ [['A', 'B', 'A'], ['B', 'A', 'B'], ['A', 'B', 'A']]\n",
      "checker_board(4, 'c', 'd') ➞ [['c', 'd', 'c', 'd'], ['d', 'c', 'd', 'c'], ['c', 'd', 'c', 'd'], ['d', 'c', 'd', 'c']]\n",
      "checker_board(4, 'c', 'c') ➞ invalid\n"
     ]
    }
   ],
   "source": [
    "def checker_board(n,e1,e2):\n",
    "    \n",
    "    if e1 != e2:\n",
    "        output = []\n",
    "        for i in range(n):\n",
    "            square = []\n",
    "            for j in range(n):\n",
    "                square.append(e1)\n",
    "                e1,e2 = e2, e1\n",
    "            output.append(square)\n",
    "            \n",
    "            if n%2==0: \n",
    "                e1, e2 = e2, e1 # for creating alternating squares\n",
    "    else:\n",
    "        output = \"invalid\"\n",
    "        \n",
    "    print(f'checker_board{n,e1,e2} ➞ {output}')\n",
    "    \n",
    "checker_board(2, 7, 6)\n",
    "checker_board(3, \"A\", \"B\")\n",
    "checker_board(4, \"c\", \"d\")\n",
    "checker_board(4, \"c\", \"c\")"
   ]
  },
  {
   "cell_type": "markdown",
   "id": "8b4c213c",
   "metadata": {},
   "source": []
  },
  {
   "cell_type": "markdown",
   "id": "4008db20",
   "metadata": {},
   "source": []
  },
  {
   "cell_type": "markdown",
   "id": "333938cf",
   "metadata": {},
   "source": [
    "### Question 2. A string is an almost-palindrome if, by changing only one character, you can make it a palindrome. Create a function that returns True if a string is an almost-palindrome and False otherwise.\n",
    "\n",
    "Examples\n",
    "\n",
    "almost_palindrome(\"abcdcbg\") ➞ True\n",
    "#### Transformed to \"abcdcba\" by changing \"g\" to \"a\".\n",
    "\n",
    "almost_palindrome(\"abccia\") ➞ True\n",
    "#### Transformed to \"abccba\" by changing \"i\" to \"b\".\n",
    "\n",
    "almost_palindrome(\"abcdaaa\") ➞ False\n",
    "#### Can't be transformed to a palindrome in exactly 1 turn.\n",
    "\n",
    "almost_palindrome(\"1234312\") ➞ False\n",
    "\n",
    "### Answer:\n",
    "\n"
   ]
  },
  {
   "cell_type": "code",
   "execution_count": 2,
   "id": "516ce292",
   "metadata": {},
   "outputs": [
    {
     "name": "stdout",
     "output_type": "stream",
     "text": [
      "almost_palindrome(abcdcbg) ➞ True\n",
      "almost_palindrome(abccia) ➞ True\n",
      "almost_palindrome(abcdaaa) ➞ False\n",
      "almost_palindrome(1234312) ➞ False\n"
     ]
    }
   ],
   "source": [
    "def almost_palindrome(s):\n",
    "    \n",
    "    rs=s[::-1]\n",
    "    count = 0\n",
    "    output = True\n",
    "    for i in range(len(s)):\n",
    "        if s[i]!=rs[i]:\n",
    "            count+=1\n",
    "    if count >2 :\n",
    "        output = False\n",
    "        \n",
    "    print(f'almost_palindrome({s}) ➞ {output}')\n",
    "    \n",
    "almost_palindrome(\"abcdcbg\")\n",
    "almost_palindrome(\"abccia\")\n",
    "almost_palindrome(\"abcdaaa\")\n",
    "almost_palindrome(\"1234312\")"
   ]
  },
  {
   "cell_type": "markdown",
   "id": "4a308036",
   "metadata": {},
   "source": []
  },
  {
   "cell_type": "markdown",
   "id": "f188a437",
   "metadata": {},
   "source": []
  },
  {
   "cell_type": "markdown",
   "id": "7a83e656",
   "metadata": {},
   "source": [
    "### Question 3. Create a function that finds how many prime numbers there are, up to the given integer.\n",
    "\n",
    "Examples\n",
    "\n",
    "prime_numbers(10) ➞ 4\n",
    "#### 2, 3, 5 and 7\n",
    "\n",
    "prime_numbers(20) ➞ 8\n",
    "#### 2, 3, 5, 7, 11, 13, 17 and 19\n",
    "\n",
    "prime_numbers(30) ➞ 10\n",
    "#### 2, 3, 5, 7, 11, 13, 17, 19, 23 and 29\n",
    "\n",
    "### Answer:\n",
    "\n"
   ]
  },
  {
   "cell_type": "code",
   "execution_count": 3,
   "id": "df262eb3",
   "metadata": {},
   "outputs": [
    {
     "name": "stdout",
     "output_type": "stream",
     "text": [
      "prime_numbers(10) ➞ 4\n",
      "prime_numbers(20) ➞ 8\n",
      "prime_numbers(30) ➞ 10\n"
     ]
    }
   ],
   "source": [
    "def prime_numbers(n):\n",
    "    \n",
    "    count=0\n",
    "    for i in range(n+1):\n",
    "        if i>1:\n",
    "            for j in range(2,i):\n",
    "                if i%j == 0:\n",
    "                    break\n",
    "            else:\n",
    "                count+=1\n",
    "    print(f'prime_numbers({n}) ➞ {count}')\n",
    "        \n",
    "prime_numbers(10)     \n",
    "prime_numbers(20)\n",
    "prime_numbers(30)"
   ]
  },
  {
   "cell_type": "markdown",
   "id": "0f5859de",
   "metadata": {},
   "source": []
  },
  {
   "cell_type": "markdown",
   "id": "83fdcbc8",
   "metadata": {},
   "source": []
  },
  {
   "cell_type": "markdown",
   "id": "5c50af21",
   "metadata": {},
   "source": [
    "### Question 4. If today was Monday, in two days, it would be Wednesday.\n",
    "\n",
    "Create a function that takes in a list of days as input and the number of days to increment by. Return a list of days after n number of days has passed.\n",
    "\n",
    "Examples\n",
    "\n",
    "after_n_days([\"Thursday\", \"Monday\"], 4) ➞ [\"Monday\", \"Friday\"]\n",
    "\n",
    "after_n_days([\"Sunday\", \"Sunday\", \"Sunday\"], 1) ➞ [\"Monday\", \"Monday\", \"Monday\"]\n",
    "\n",
    "after_n_days([\"Monday\", \"Tuesday\", \"Friday\"], 1) ➞ [\"Tuesday\", \"Wednesday\", \"Saturday\"]\n",
    "\n",
    "### Answer:\n",
    "\n"
   ]
  },
  {
   "cell_type": "code",
   "execution_count": 4,
   "id": "3f55270b",
   "metadata": {},
   "outputs": [
    {
     "name": "stdout",
     "output_type": "stream",
     "text": [
      "after_n_days(['Thursday', 'Monday'], 4) ➞ ['Monday', 'Friday']\n",
      "after_n_days(['Sunday', 'Sunday', 'Sunday'], 1) ➞ ['Monday', 'Monday', 'Monday']\n",
      "after_n_days(['Monday', 'Tuesday', 'Friday'], 1) ➞ ['Tuesday', 'Wednesday', 'Saturday']\n"
     ]
    }
   ],
   "source": [
    "def after_n_days(lst,n):\n",
    "    week_dict = {0:'Sunday',1:'Monday',2:'Tuesday',3:'Wednesday',4:'Thursday',5:'Friday',6:'Saturday'}\n",
    "    week_days_no = list(week_dict.keys())\n",
    "    week_days_name = list(week_dict.values())\n",
    "    output = []\n",
    "    for i in lst:\n",
    "        output.append(week_dict[(week_days_name.index(i)+n)%7])\n",
    "    print(f'after_n_days{lst,n} ➞ {output}')\n",
    "    \n",
    "after_n_days([\"Thursday\", \"Monday\"], 4)\n",
    "after_n_days([\"Sunday\", \"Sunday\", \"Sunday\"], 1)\n",
    "after_n_days([\"Monday\", \"Tuesday\", \"Friday\"], 1)"
   ]
  },
  {
   "cell_type": "markdown",
   "id": "4a5d9017",
   "metadata": {},
   "source": []
  },
  {
   "cell_type": "markdown",
   "id": "0e626417",
   "metadata": {},
   "source": []
  },
  {
   "cell_type": "markdown",
   "id": "a382ed1b",
   "metadata": {},
   "source": [
    "### Question 5. You are in the process of creating a chat application and want to add an anonymous name feature. This anonymous name feature will create an alias that consists of two capitalized words beginning with the same letter as the users first name.\n",
    "\n",
    "Create a function that determines if the list of users is mapped to a list of anonymous names correctly.\n",
    "\n",
    "Examples\n",
    "\n",
    "is_correct_aliases([\"Adrian M.\", \"Harriet S.\", \"Mandy T.\"], [\"Amazing Artichoke\", \"Hopeful Hedgehog\", \"Marvelous Mouse\"]) ➞ True\n",
    "\n",
    "is_correct_aliases([\"Rachel F.\", \"Pam G.\", \"Fred Z.\", \"Nancy K.\"], [\"Reassuring Rat\", \"Peaceful Panda\", \"Fantastic Frog\", \"Notable Nickel\"]) ➞ True\n",
    "\n",
    "is_correct_aliases([\"Beth T.\"], [\"Brandishing Mimosa\"]) ➞ False\n",
    "#### Both words in \"Brandishing Mimosa\" should begin with a \"B\" - \"Brandishing Beaver\" would do the trick.\n",
    "\n",
    "### Answer:\n",
    "\n"
   ]
  },
  {
   "cell_type": "code",
   "execution_count": 5,
   "id": "8671b011",
   "metadata": {},
   "outputs": [
    {
     "name": "stdout",
     "output_type": "stream",
     "text": [
      "is_correct_aliases(['Adrian M.', 'Harriet S.', 'Mandy T.'], ['Amazing Artichoke', 'Hopeful Hedgehog', 'Marvelous Mouse']) ➞ True\n",
      "is_correct_aliases(['Rachel F.', 'Pam G.', 'Fred Z.', 'Nancy K.'], ['Reassuring Rat', 'Peaceful Panda', 'Fantastic Frog', 'Notable Nickel']) ➞ True\n",
      "is_correct_aliases(['Beth T.'], ['Brandishing Mimosa']) ➞ False\n"
     ]
    }
   ],
   "source": [
    "def is_correct_aliases(lst1,lst2):\n",
    "    \n",
    "    output = True\n",
    "    checker = []\n",
    "    for i in lst2:\n",
    "        v=i.split()\n",
    "        checker.append(v)\n",
    "        \n",
    "    for i in range(len(lst1)):\n",
    "        if lst1[i][0] != checker[i][0][0] or lst1[i][0] != checker[i][1][0]:\n",
    "            output = False\n",
    "    print(f'is_correct_aliases{lst1,lst2} ➞ {output}')\n",
    "\n",
    "\n",
    "is_correct_aliases([\"Adrian M.\",\"Harriet S.\",\"Mandy T.\"], [\"Amazing Artichoke\", \"Hopeful Hedgehog\", \"Marvelous Mouse\"])\n",
    "is_correct_aliases([\"Rachel F.\",\"Pam G.\",\"Fred Z.\",\"Nancy K.\"], [\"Reassuring Rat\", \"Peaceful Panda\", \"Fantastic Frog\", \"Notable Nickel\"])\n",
    "is_correct_aliases([\"Beth T.\"],[\"Brandishing Mimosa\"])"
   ]
  }
 ],
 "metadata": {
  "kernelspec": {
   "display_name": "Python 3 (ipykernel)",
   "language": "python",
   "name": "python3"
  },
  "language_info": {
   "codemirror_mode": {
    "name": "ipython",
    "version": 3
   },
   "file_extension": ".py",
   "mimetype": "text/x-python",
   "name": "python",
   "nbconvert_exporter": "python",
   "pygments_lexer": "ipython3",
   "version": "3.9.7"
  }
 },
 "nbformat": 4,
 "nbformat_minor": 5
}
