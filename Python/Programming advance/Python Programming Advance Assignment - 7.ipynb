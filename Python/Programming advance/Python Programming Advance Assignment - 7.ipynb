{
 "cells": [
  {
   "cell_type": "markdown",
   "id": "ac6c9a9e",
   "metadata": {},
   "source": [
    "# Python Programming Advance Assignment - 7"
   ]
  },
  {
   "cell_type": "markdown",
   "id": "b59681bf",
   "metadata": {},
   "source": []
  },
  {
   "cell_type": "markdown",
   "id": "562aac30",
   "metadata": {},
   "source": []
  },
  {
   "cell_type": "markdown",
   "id": "e7eecf28",
   "metadata": {},
   "source": [
    "### Question 1. Write a function that counts how many concentric layers a rug.\n",
    "\n",
    "Examples\n",
    "\n",
    "count_layers([\n",
    "  \"AAAA\",\n",
    "  \"ABBA\",\n",
    "  \"AAAA\"\n",
    "]) ➞ 2\n",
    "\n",
    "count_layers([\n",
    "  \"AAAAAAAAA\",\n",
    "  \"ABBBBBBBA\",\n",
    "  \"ABBAAABBA\",\n",
    "  \"ABBBBBBBA\",\n",
    "  \"AAAAAAAAA\"\n",
    "]) ➞ 3\n",
    "\n",
    "count_layers([\n",
    "  \"AAAAAAAAAAA\",\n",
    "  \"AABBBBBBBAA\",\n",
    "  \"AABCCCCCBAA\",\n",
    "  \"AABCAAACBAA\",\n",
    "  \"AABCADACBAA\",\n",
    "  \"AABCAAACBAA\",\n",
    "  \"AABCCCCCBAA\",\n",
    "  \"AABBBBBBBAA\",\n",
    "  \"AAAAAAAAAAA\"\n",
    "]) ➞ 5\n",
    "\n",
    "### Answer:\n",
    "\n"
   ]
  },
  {
   "cell_type": "code",
   "execution_count": 1,
   "id": "c5af5da6",
   "metadata": {},
   "outputs": [
    {
     "name": "stdout",
     "output_type": "stream",
     "text": [
      "count_layers(['AAAA', 'ABBA', 'AAAA']) ➞ 2\n",
      "count_layers(['AAAAAAAAA', 'ABBBBBBBA', 'ABBAAABBA', 'ABBBBBBBA', 'AAAAAAAAA']) ➞ 3\n",
      "count_layers(['AAAAAAAAAAA', 'AABBBBBBBAA', 'AABCCCCCBAA', 'AABCAAACBAA', 'AABCADACBAA', 'AABCAAACBAA', 'AABCCCCCBAA', 'AABBBBBBBAA', 'AAAAAAAAAAA']) ➞ 5\n"
     ]
    }
   ],
   "source": [
    "def count_layers(lst):\n",
    "    output = len(set(lst))\n",
    "    print(f\"count_layers({lst}) ➞ {output}\")\n",
    "    \n",
    "count_layers([ \"AAAA\", \"ABBA\", \"AAAA\" ])\n",
    "count_layers([ \"AAAAAAAAA\", \"ABBBBBBBA\", \"ABBAAABBA\", \"ABBBBBBBA\", \"AAAAAAAAA\" ])\n",
    "count_layers([ \"AAAAAAAAAAA\", \"AABBBBBBBAA\", \"AABCCCCCBAA\", \"AABCAAACBAA\", \"AABCADACBAA\", \"AABCAAACBAA\", \"AABCCCCCBAA\", \"AABBBBBBBAA\", \"AAAAAAAAAAA\" ])"
   ]
  },
  {
   "cell_type": "markdown",
   "id": "01533f42",
   "metadata": {},
   "source": []
  },
  {
   "cell_type": "markdown",
   "id": "684804c0",
   "metadata": {},
   "source": []
  },
  {
   "cell_type": "markdown",
   "id": "3f5ea604",
   "metadata": {},
   "source": [
    "### Question 2. There are many different styles of music and many albums exhibit multiple styles. Create a function that takes a list of musical styles from albums and returns how many styles are unique.\n",
    "\n",
    "Examples\n",
    "\n",
    "unique_styles([\n",
    "  \"Dub,Dancehall\",\n",
    "  \"Industrial,Heavy Metal\",\n",
    "  \"Techno,Dubstep\",\n",
    "  \"Synth-pop,Euro-Disco\",\n",
    "  \"Industrial,Techno,Minimal\"\n",
    "]) ➞ 9\n",
    "\n",
    "unique_styles([\n",
    "  \"Soul\",\n",
    "  \"House,Folk\",\n",
    "  \"Trance,Downtempo,Big Beat,House\",\n",
    "  \"Deep House\",\n",
    "  \"Soul\"\n",
    "]) ➞ 7\n",
    "\n",
    "### Answer:\n",
    "\n"
   ]
  },
  {
   "cell_type": "code",
   "execution_count": 2,
   "id": "4131efbd",
   "metadata": {},
   "outputs": [
    {
     "name": "stdout",
     "output_type": "stream",
     "text": [
      "unique_styles(['Dub,Dancehall', 'Industrial,Heavy Metal', 'Techno,Dubstep', 'Synth-pop,Euro-Disco', 'Industrial,Techno,Minimal']) ➞ 9\n",
      "unique_styles(['Soul', 'House,Folk', 'Trance,Downtempo,Big Beat,House', 'Deep House', 'Soul']) ➞ 7\n"
     ]
    }
   ],
   "source": [
    "def unique_styles(lst):\n",
    "    stock_room = []\n",
    "    for i in lst:\n",
    "        for j in i.split(\",\"):\n",
    "            stock_room.append(j)\n",
    "    output = len(set(stock_room))\n",
    "    print(f\"unique_styles({lst}) ➞ {output}\")\n",
    "\n",
    "unique_styles([ \"Dub,Dancehall\", \"Industrial,Heavy Metal\", \"Techno,Dubstep\", \"Synth-pop,Euro-Disco\", \"Industrial,Techno,Minimal\" ])\n",
    "unique_styles([ \"Soul\", \"House,Folk\", \"Trance,Downtempo,Big Beat,House\", \"Deep House\", \"Soul\" ])"
   ]
  },
  {
   "cell_type": "markdown",
   "id": "6f6a4b8f",
   "metadata": {},
   "source": []
  },
  {
   "cell_type": "markdown",
   "id": "de9f5fe1",
   "metadata": {},
   "source": []
  },
  {
   "cell_type": "markdown",
   "id": "a3fada4a",
   "metadata": {},
   "source": [
    "### Question 3. Create a function that finds a target number in a list of prime numbers. Implement a binary search algorithm in your function. The target number will be from 2 through 97. If the target is prime then return \"yes\" else return \"no\".\n",
    "\n",
    "Examples\n",
    "\n",
    "primes = [2, 3, 5, 7, 11, 13, 17, 19, 23, 29, 31, 37, 41, 43, 47, 53, 59, 61, 67, 71, 73, 79, 83, 89, 97]\n",
    "\n",
    "\n",
    "is_prime(primes, 3) ➞ \"yes\"\n",
    "\n",
    "is_prime(primes, 4) ➞ \"no\"\n",
    "\n",
    "is_prime(primes, 67) ➞ \"yes\"\n",
    "\n",
    "is_prime(primes, 36) ➞ \"no\"\n",
    "\n",
    "### Answer:\n",
    "\n"
   ]
  },
  {
   "cell_type": "code",
   "execution_count": 3,
   "id": "ce718895",
   "metadata": {},
   "outputs": [
    {
     "name": "stdout",
     "output_type": "stream",
     "text": [
      "is_prime(3) ➞ \"Yes\"\n",
      "is_prime(4) ➞ \"No\"\n",
      "is_prime(67) ➞ \"Yes\"\n",
      "is_prime(36) ➞ \"No\"\n"
     ]
    }
   ],
   "source": [
    "def is_prime(lst,n):\n",
    "    output = 'No'\n",
    "    start_point = 0\n",
    "    end_point = len(lst) - 1\n",
    "    mid_point = 0\n",
    "    while start_point <= end_point:\n",
    "        mid_point = (end_point + start_point)//2\n",
    "        if lst[mid_point] < n:\n",
    "            start_point = mid_point + 1\n",
    "        elif lst[mid_point] > n:\n",
    "            end_point = mid_point - 1\n",
    "        else:\n",
    "            output = 'Yes'\n",
    "            break\n",
    "    print(f'is_prime({n}) ➞ \\\"{output}\\\"')\n",
    "    \n",
    "    \n",
    "primes = [2, 3, 5, 7, 11, 13, 17, 19, 23, 29, 31, 37, 41, 43, 47, 53, 59, 61, 67, 71, 73, 79, 83, 89, 97]\n",
    "\n",
    "is_prime(primes, 3)\n",
    "is_prime(primes, 4)\n",
    "is_prime(primes, 67)\n",
    "is_prime(primes, 36)"
   ]
  },
  {
   "cell_type": "markdown",
   "id": "a03fcc5c",
   "metadata": {},
   "source": []
  },
  {
   "cell_type": "markdown",
   "id": "8bb4194f",
   "metadata": {},
   "source": []
  },
  {
   "cell_type": "markdown",
   "id": "26b5ec1e",
   "metadata": {},
   "source": [
    "### Question 4. Create a function that takes in n, a, b and returns the number of positive values raised to the nth power that lie in the range [a, b], inclusive.\n",
    "\n",
    "Examples\n",
    "\n",
    "`power_ranger(2, 49, 65) ➞ 2`\n",
    "#### 2 squares (n^2) lie between 49 and 65, 49 (7^2) and 64 (8^2)\n",
    "\n",
    "`power_ranger(3, 1, 27) ➞ 3`\n",
    "#### 3 cubes (n^3) lie between 1 and 27, 1 (1^3), 8 (2^3) and 27 (3^3)\n",
    "\n",
    "`power_ranger(10, 1, 5) ➞ 1`\n",
    "#### 1 value raised to the 10th power lies between 1 and 5, 1 (1^10)\n",
    "\n",
    "`power_ranger(5, 31, 33) ➞ 1`\n",
    "\n",
    "`power_ranger(4, 250, 1300) ➞ 3`\n",
    "\n",
    "### Answer:\n",
    "\n"
   ]
  },
  {
   "cell_type": "code",
   "execution_count": 4,
   "id": "f80e2e9b",
   "metadata": {},
   "outputs": [
    {
     "data": {
      "text/plain": [
       "3"
      ]
     },
     "execution_count": 4,
     "metadata": {},
     "output_type": "execute_result"
    }
   ],
   "source": [
    "def power_ranger(n,a,b):\n",
    "    \n",
    "    output = 0\n",
    "    for i in range(a,b+1):\n",
    "        if type(i**(1/n)) == float and int(i**(1/n))==i**(1/n):\n",
    "            output = output + 1\n",
    "    return output\n",
    "\n",
    "power_ranger(4, 250, 1300)"
   ]
  },
  {
   "cell_type": "markdown",
   "id": "7864ff12",
   "metadata": {},
   "source": []
  },
  {
   "cell_type": "markdown",
   "id": "7a1188d4",
   "metadata": {},
   "source": []
  },
  {
   "cell_type": "markdown",
   "id": "766d2580",
   "metadata": {},
   "source": [
    "### Question 5. Given a number, return the difference between the maximum and minimum numbers that can be formed when the digits are rearranged.\n",
    "\n",
    "Examples\n",
    "\n",
    "rearranged_difference(972882) ➞ 760833\n",
    "#### 988722 - 227889 = 760833\n",
    "\n",
    "rearranged_difference(3320707) ➞ 7709823\n",
    "#### 7733200 - 23377 = 7709823\n",
    "\n",
    "rearranged_difference(90010) ➞ 90981\n",
    "#### 91000 - 19 = 90981\n",
    "\n",
    "### Answer:\n",
    "\n"
   ]
  },
  {
   "cell_type": "code",
   "execution_count": 5,
   "id": "a1e6b29f",
   "metadata": {},
   "outputs": [
    {
     "data": {
      "text/plain": [
       "7709823"
      ]
     },
     "execution_count": 5,
     "metadata": {},
     "output_type": "execute_result"
    }
   ],
   "source": [
    "def rearranged_difference(n):\n",
    "    \n",
    "    minimum = int(\",\".join(sorted(str(n))).replace(\",\",\"\"))\n",
    "    maximum = int(\",\".join(sorted(str(n))[::-1]).replace(\",\",\"\"))\n",
    "    output = maximum - minimum\n",
    "    return output\n",
    "\n",
    "rearranged_difference(3320707)"
   ]
  }
 ],
 "metadata": {
  "kernelspec": {
   "display_name": "Python 3 (ipykernel)",
   "language": "python",
   "name": "python3"
  },
  "language_info": {
   "codemirror_mode": {
    "name": "ipython",
    "version": 3
   },
   "file_extension": ".py",
   "mimetype": "text/x-python",
   "name": "python",
   "nbconvert_exporter": "python",
   "pygments_lexer": "ipython3",
   "version": "3.9.7"
  }
 },
 "nbformat": 4,
 "nbformat_minor": 5
}
