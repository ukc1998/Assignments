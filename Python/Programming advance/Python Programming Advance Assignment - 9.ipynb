{
 "cells": [
  {
   "cell_type": "markdown",
   "id": "631117e4",
   "metadata": {},
   "source": [
    "# Python Programming Advance Assignment - 9"
   ]
  },
  {
   "cell_type": "markdown",
   "id": "429facd9",
   "metadata": {},
   "source": []
  },
  {
   "cell_type": "markdown",
   "id": "d1951311",
   "metadata": {},
   "source": []
  },
  {
   "cell_type": "markdown",
   "id": "089a57b8",
   "metadata": {},
   "source": [
    "### Question 1. YouTube offers different playback speed options for users. This allows users to increase or decrease the speed of the video content. Given the actual duration and playback speed of the video, calculate the playback duration of the video.\n",
    "\n",
    "Examples\n",
    "\n",
    "playback_duration(\"00:30:00\", 2) ➞ \"00:15:00\"\n",
    "\n",
    "playback_duration(\"01:20:00\", 1.5) ➞ \"00:53:20\"\n",
    "\n",
    "playback_duration(\"51:20:09\", 0.5) ➞ \"102:40:18\"\n",
    "\n",
    "### Answer:\n",
    "\n"
   ]
  },
  {
   "cell_type": "code",
   "execution_count": 1,
   "id": "0503ee01",
   "metadata": {},
   "outputs": [
    {
     "name": "stdout",
     "output_type": "stream",
     "text": [
      "playback_duration(00:30:00,2) ➞ 00:15:00\n",
      "playback_duration(01:20:00,1.5) ➞ 00:53:20\n",
      "playback_duration(51:20:09,0.5) ➞ 102:40:18\n"
     ]
    }
   ],
   "source": [
    "def playback_duration(actual_duration_string, speed):\n",
    "    \n",
    "    actual_hours, actual_minutes, actual_seconds = [int(i) for i in actual_duration_string.split(\":\")]\n",
    "    actual_total_seconds = actual_seconds + actual_minutes*60 + actual_hours*60*60\n",
    "    playback_total_seconds = actual_total_seconds/speed\n",
    "    playback_hours = str(int(playback_total_seconds//(60*60))) if playback_total_seconds>(60*60) else \"00\"\n",
    "    playback_minutes = str(int((playback_total_seconds%(60*60))//60)) if playback_total_seconds%(60*60) > 60 else \"00\"\n",
    "    playback_seconds = str(int((playback_total_seconds%(60*60))%60)) if (playback_total_seconds%(60*60))%60 > 0 else \"00\"\n",
    "    output = str(playback_hours) + \":\" + str(playback_minutes) + \":\" + str(playback_seconds)\n",
    "    \n",
    "    print(f\"playback_duration({actual_duration_string},{speed}) ➞ {output}\")\n",
    "\n",
    "          \n",
    "playback_duration(\"00:30:00\", 2)\n",
    "playback_duration(\"01:20:00\", 1.5)\n",
    "playback_duration(\"51:20:09\", 0.5)"
   ]
  },
  {
   "cell_type": "markdown",
   "id": "75a11b61",
   "metadata": {},
   "source": []
  },
  {
   "cell_type": "markdown",
   "id": "17031540",
   "metadata": {},
   "source": []
  },
  {
   "cell_type": "markdown",
   "id": "b93a79a9",
   "metadata": {},
   "source": [
    "### Question 2. We needs your help to construct a building which will be a pile of n cubes. The cube at the bottom will have a volume of n^3, the cube above will have volume of (n-1)^3 and so on until the top which will have a volume of 1^3.\n",
    "\n",
    "Given the total volume m of the building, can you find the number of cubes n required for the building?\n",
    "\n",
    "In other words, you have to return an integer n such that:\n",
    "\n",
    "n^3 + (n-1)^3 + ... + 1^3 == m\n",
    "\n",
    "Return None if there is no such number.\n",
    "\n",
    "Examples\n",
    "\n",
    "pile_of_cubes(1071225) ➞ 45\n",
    "\n",
    "pile_of_cubes(4183059834009) ➞ 2022\n",
    "\n",
    "pile_of_cubes(16) ➞ None\n",
    "\n",
    "### Answer:\n",
    "\n"
   ]
  },
  {
   "cell_type": "code",
   "execution_count": 2,
   "id": "2c6a3d6f",
   "metadata": {},
   "outputs": [
    {
     "name": "stdout",
     "output_type": "stream",
     "text": [
      "pile_of_cubes(1071225) ➞ 45\n",
      "pile_of_cubes(4183059834009) ➞ 2022\n",
      "pile_of_cubes(16) ➞ None\n",
      "\n",
      "pile_of_cubes(1071225) ➞ 45\n",
      "pile_of_cubes(4183059834009) ➞ 2022\n",
      "pile_of_cubes(16) ➞ None\n"
     ]
    }
   ],
   "source": [
    "#Approach 1 using mathematical skills:\n",
    "\n",
    "def pile_of_cubes_1(Total_volume_m):\n",
    "    \n",
    "    output = None\n",
    "    # sum of cubes of first n numbers = (n*(n+1)/2)**2 = m\n",
    "    checker = 2*(Total_volume_m**0.5)\n",
    "    checker_1 = int(checker**0.5)\n",
    "    checker_2 = checker_1 + 1\n",
    "    if checker ==  checker_1*checker_2:\n",
    "        output = checker_1\n",
    "        \n",
    "    print(f\"pile_of_cubes({Total_volume_m}) ➞ {output}\")\n",
    "\n",
    "    \n",
    "#Approach 2 using programming skills:\n",
    "\n",
    "def pile_of_cubes_2(Total_volume_m):\n",
    "    output_volume = 0\n",
    "    output = 0\n",
    "    for i in range(1,Total_volume_m):\n",
    "        output_volume += pow(i,3)\n",
    "        if Total_volume_m <= output_volume:\n",
    "            output = i if Total_volume_m == output_volume else None\n",
    "            break\n",
    "    print(f\"pile_of_cubes({Total_volume_m}) ➞ {output}\")   \n",
    "            \n",
    "pile_of_cubes_1(1071225)\n",
    "pile_of_cubes_1(4183059834009)\n",
    "pile_of_cubes_1(16)\n",
    "print()\n",
    "pile_of_cubes_2(1071225)\n",
    "pile_of_cubes_2(4183059834009)\n",
    "pile_of_cubes_2(16)"
   ]
  },
  {
   "cell_type": "markdown",
   "id": "497b4497",
   "metadata": {},
   "source": []
  },
  {
   "cell_type": "markdown",
   "id": "4694be79",
   "metadata": {},
   "source": []
  },
  {
   "cell_type": "markdown",
   "id": "8fb23376",
   "metadata": {},
   "source": [
    "### Question 3. A fulcrum of a list is an integer such that all elements to the left of it and all elements to the right of it sum to the same value. Write a function that finds the fulcrum of a list.\n",
    "\n",
    "To illustrate:\n",
    "\n",
    "find_fulcrum([3, 1, 5, 2, 4, 6, -1]) ➞ 2\n",
    "// Since [3, 1, 5] and [4, 6, -1] both sum to 9\n",
    "\n",
    "Examples\n",
    "\n",
    "find_fulcrum([1, 2, 4, 9, 10, -10, -9, 3]) ➞ 4\n",
    "\n",
    "find_fulcrum([9, 1, 9]) ➞ 1\n",
    "\n",
    "find_fulcrum([7, -1, 0, -1, 1, 1, 2, 3]) ➞ 0\n",
    "\n",
    "find_fulcrum([8, 8, 8, 8]) ➞ -1\n",
    "\n",
    "### Answer:\n",
    "\n"
   ]
  },
  {
   "cell_type": "code",
   "execution_count": 3,
   "id": "42f78413",
   "metadata": {},
   "outputs": [
    {
     "name": "stdout",
     "output_type": "stream",
     "text": [
      "find_fulcrum([3, 1, 5, 2, 4, 6, -1]) ➞ 2\n",
      "find_fulcrum([1, 2, 4, 9, 10, -10, -9, 3]) ➞ 4\n",
      "find_fulcrum([9, 1, 9]) ➞ 1\n",
      "find_fulcrum([7, -1, 0, -1, 1, 1, 2, 3]) ➞ 0\n",
      "find_fulcrum([8, 8, 8, 8]) ➞ -1\n",
      "find_fulcrum([8, 8, 8, 8, 8]) ➞ 8\n"
     ]
    }
   ],
   "source": [
    "def find_fulcrum(lst):\n",
    "    output = -1\n",
    "    index = 0\n",
    "    for i in lst:\n",
    "        if sum(lst[:index]) == sum(lst[index+1:]):\n",
    "            output = lst[index]\n",
    "            break\n",
    "        index += 1\n",
    "    print(f\"find_fulcrum({lst}) ➞ {output}\")\n",
    "        \n",
    "find_fulcrum([3, 1, 5, 2, 4, 6, -1])\n",
    "find_fulcrum([1, 2, 4, 9, 10, -10, -9, 3])\n",
    "find_fulcrum([9, 1, 9])\n",
    "find_fulcrum([7, -1, 0, -1, 1, 1, 2, 3])\n",
    "find_fulcrum([8, 8, 8, 8])\n",
    "find_fulcrum([8, 8, 8, 8, 8])"
   ]
  },
  {
   "cell_type": "markdown",
   "id": "dd58bf81",
   "metadata": {},
   "source": []
  },
  {
   "cell_type": "markdown",
   "id": "08632149",
   "metadata": {},
   "source": []
  },
  {
   "cell_type": "markdown",
   "id": "2d7b8b7d",
   "metadata": {},
   "source": [
    "### Question 4. Given a list of integers representing the color of each sock, determine how many pairs of socks with matching colors there are. For example, there are 7 socks with colors [1, 2, 1, 2, 1, 3, 2]. There is one pair of color 1 and one of color 2. There are three odd socks left, one of each color. The number of pairs is 2.\n",
    "\n",
    "Create a function that returns an integer representing the number of matching pairs of socks that are available.\n",
    "\n",
    "Examples\n",
    "\n",
    "sock_merchant([10, 20, 20, 10, 10, 30, 50, 10, 20]) ➞ 3\n",
    "\n",
    "sock_merchant([50, 20, 30, 90, 30, 20, 50, 20, 90]) ➞ 4\n",
    "\n",
    "sock_merchant([]) ➞ 0\n",
    "\n",
    "### Answer:\n",
    "\n"
   ]
  },
  {
   "cell_type": "code",
   "execution_count": 4,
   "id": "3e6522c6",
   "metadata": {},
   "outputs": [
    {
     "name": "stdout",
     "output_type": "stream",
     "text": [
      "sock_merchant([10, 20, 20, 10, 10, 30, 50, 10, 20]) ➞ 3\n",
      "sock_merchant([50, 20, 30, 90, 30, 20, 50, 20, 90]) ➞ 4\n",
      "sock_merchant([]) ➞ 0\n",
      "sock_merchant([1, 2, 1, 2, 1, 3, 2]) ➞ 2\n"
     ]
    }
   ],
   "source": [
    "def sock_merchant(lst):\n",
    "    output  = 0\n",
    "    unique_colors = list(set(lst))\n",
    "    for i in unique_colors:\n",
    "        v = lst.count(i)\n",
    "        output += v//2\n",
    "    print(f\"sock_merchant({lst}) ➞ {output}\")\n",
    "\n",
    "sock_merchant([10, 20, 20, 10, 10, 30, 50, 10, 20])\n",
    "sock_merchant([50, 20, 30, 90, 30, 20, 50, 20, 90])\n",
    "sock_merchant([])\n",
    "sock_merchant([1, 2, 1, 2, 1, 3, 2])"
   ]
  },
  {
   "cell_type": "markdown",
   "id": "882e2d11",
   "metadata": {},
   "source": []
  },
  {
   "cell_type": "markdown",
   "id": "ef99a222",
   "metadata": {},
   "source": []
  },
  {
   "cell_type": "markdown",
   "id": "8aa593c3",
   "metadata": {},
   "source": [
    "### Question 5. Create a function that takes a string containing integers as well as other characters and return the sum of the negative integers only.\n",
    "\n",
    "Examples\n",
    "\n",
    "negative_sum(\"-12 13%14&-11\") ➞ -23\n",
    "#### -12 + -11 = -23\n",
    "\n",
    "negative_sum(\"22 13%14&-11-22 13 12\") ➞ -33\n",
    "#### -11 + -22 = -33\n",
    "\n",
    "### Answer:\n",
    "\n"
   ]
  },
  {
   "cell_type": "code",
   "execution_count": 5,
   "id": "77d6d971",
   "metadata": {},
   "outputs": [
    {
     "name": "stdout",
     "output_type": "stream",
     "text": [
      "negative_sum(\"-12 13%14&-11\") ➞ -23\n",
      "negative_sum(\"22 13%14&-11-22 13 12\") ➞ -33\n"
     ]
    }
   ],
   "source": [
    "def negative_sum(string):\n",
    "    import re\n",
    "    pattern = '-\\d+'\n",
    "    output = sum([int(i) for i in re.findall(pattern,string)])\n",
    "    print(f'negative_sum(\"{string}\") ➞ {output}')\n",
    "    \n",
    "negative_sum(\"-12 13%14&-11\")\n",
    "negative_sum(\"22 13%14&-11-22 13 12\")"
   ]
  }
 ],
 "metadata": {
  "kernelspec": {
   "display_name": "Python 3 (ipykernel)",
   "language": "python",
   "name": "python3"
  },
  "language_info": {
   "codemirror_mode": {
    "name": "ipython",
    "version": 3
   },
   "file_extension": ".py",
   "mimetype": "text/x-python",
   "name": "python",
   "nbconvert_exporter": "python",
   "pygments_lexer": "ipython3",
   "version": "3.9.7"
  }
 },
 "nbformat": 4,
 "nbformat_minor": 5
}
