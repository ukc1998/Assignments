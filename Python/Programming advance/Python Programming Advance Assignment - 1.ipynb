{
 "cells": [
  {
   "cell_type": "markdown",
   "id": "7a6b0ea7",
   "metadata": {},
   "source": [
    "# Python Programming Advance Assignment - 1"
   ]
  },
  {
   "cell_type": "markdown",
   "id": "832c38d7",
   "metadata": {},
   "source": []
  },
  {
   "cell_type": "markdown",
   "id": "68943492",
   "metadata": {},
   "source": []
  },
  {
   "cell_type": "markdown",
   "id": "8864672f",
   "metadata": {},
   "source": [
    "### Question1. \n",
    "#### Write a function that takes a list of lists and returns the value of all of the symbols in it, where each symbol adds or takes something from the totalscore. Symbol values:\n",
    "\n",
    "`# = 5\n",
    "O = 3\n",
    "X = 1\n",
    "! = -1\n",
    "!! = -3\n",
    "!!! = -5`\n",
    "\n",
    "A list of lists containing 2 #s, a O, and a !!! would equal (0 + 5 + 5 + 3 - 5) 8.\n",
    "<br>\n",
    "If the final score is negative, return 0 (e.g. 3 #s, 3 !!s, 2 !!!s and a X would be\n",
    "<br>\n",
    "(0 + 5 + 5 + 5 - 3 - 3 - 3 - 5 - 5 + 1) -3, so return 0.\n",
    "\n",
    "Examples:\n",
    "\n",
    "`check_score([\n",
    "['#', '!'],\n",
    "['!!', 'X']\n",
    "]) ➞ 2`\n",
    "\n",
    "`check_score([\n",
    "['!!!', 'O', '!'],\n",
    "['X', '#', '!!!'],\n",
    "['!!', 'X', 'O']\n",
    "]) ➞ 0`\n",
    "\n",
    "### Answer:\n"
   ]
  },
  {
   "cell_type": "code",
   "execution_count": 1,
   "id": "6d60baa5",
   "metadata": {},
   "outputs": [
    {
     "data": {
      "text/plain": [
       "2"
      ]
     },
     "execution_count": 1,
     "metadata": {},
     "output_type": "execute_result"
    }
   ],
   "source": [
    "def check_score(List_Of_Lists):\n",
    "    \n",
    "    Dict_Symbol = {'#':5,'O':3,'X':1,'!':-1,'!!':-3,'!!!':-5}\n",
    "    totalscore = 0\n",
    "    \n",
    "    for List in List_Of_Lists:\n",
    "        for element in List:\n",
    "            totalscore = totalscore + Dict_Symbol.get(element)\n",
    "            \n",
    "    if totalscore >= 0:\n",
    "        return totalscore\n",
    "    \n",
    "    return 0\n",
    "\n",
    "check_score([\n",
    "['#', '!'],\n",
    "['!!', 'X']\n",
    "])"
   ]
  },
  {
   "cell_type": "markdown",
   "id": "771dfbfa",
   "metadata": {},
   "source": []
  },
  {
   "cell_type": "markdown",
   "id": "ae533dfd",
   "metadata": {},
   "source": []
  },
  {
   "cell_type": "markdown",
   "id": "ee3ffc77",
   "metadata": {},
   "source": [
    "### Question 2. \n",
    "#### Create a function that takes a variable number of arguments, each argument representing the number of items in a group, and returns the number of permutations (combinations) of items that you could get by taking one item from each group.\n",
    "\n",
    "Examples:\n",
    "\n",
    "`combinations(2, 3) ➞ 6\n",
    "combinations(3, 7, 4) ➞ 84\n",
    "combinations(2, 3, 4, 5) ➞ 120`\n",
    "\n",
    "### Answer.\n"
   ]
  },
  {
   "cell_type": "code",
   "execution_count": 2,
   "id": "d081ff8f",
   "metadata": {},
   "outputs": [
    {
     "data": {
      "text/plain": [
       "6"
      ]
     },
     "execution_count": 2,
     "metadata": {},
     "output_type": "execute_result"
    }
   ],
   "source": [
    "def combinations(*args):\n",
    "    \n",
    "    product = 1\n",
    "    for i in args:\n",
    "        product = product*i\n",
    "        \n",
    "    return product\n",
    "\n",
    "combinations(2, 3)"
   ]
  },
  {
   "cell_type": "markdown",
   "id": "34ace9c9",
   "metadata": {},
   "source": []
  },
  {
   "cell_type": "markdown",
   "id": "1114d32d",
   "metadata": {},
   "source": []
  },
  {
   "cell_type": "markdown",
   "id": "6b1f13fb",
   "metadata": {},
   "source": [
    "### Question 3. \n",
    "#### Create a function that takes a string as an argument and returns the Morse code equivalent.\n",
    "\n",
    "Examples:\n",
    "\n",
    "encode_morse(\"EDABBIT CHALLENGE\") ➞ \". -.. .- -... -... .. -   -.-. .... .- .-.. .-.. . -. --. .\"\n",
    "\n",
    "encode_morse(\"HELP ME !\") ➞ \".... . .-.. .--.   -- .   -.-.--\"\n",
    "\n",
    "This dictionary can be used for coding:\n",
    "\n",
    "char_to_dots = {\n",
    "  'A': '.-', 'B': '-...', 'C': '-.-.', 'D': '-..', 'E': '.', 'F': '..-.',\n",
    "  'G': '--.', 'H': '....', 'I': '..', 'J': '.---', 'K': '-.-', 'L': '.-..',\n",
    "  'M': '--', 'N': '-.', 'O': '---', 'P': '.--.', 'Q': '--.-', 'R': '.-.',\n",
    "  'S': '...', 'T': '-', 'U': '..-', 'V': '...-', 'W': '.--', 'X': '-..-',\n",
    "  'Y': '-.--', 'Z': '--..', ' ': ' ', '0': '-----',\n",
    "  '1': '.----', '2': '..---', '3': '...--', '4': '....-', '5': '.....',\n",
    "  '6': '-....', '7': '--...', '8': '---..', '9': '----.',\n",
    "  '&': '.-...', \"'\": '.----.', '@': '.--.-.', ')': '-.--.-', '(': '-.--.',\n",
    "  ':': '---...', ',': '--..--', '=': '-...-', '!': '-.-.--', '.': '.-.-.-',\n",
    "  '-': '-....-', '+': '.-.-.', '\"': '.-..-.', '?': '..--..', '/': '-..-.'\n",
    "}\n",
    "\n",
    "### Answer: \n"
   ]
  },
  {
   "cell_type": "code",
   "execution_count": 3,
   "id": "35f81b1d",
   "metadata": {},
   "outputs": [
    {
     "data": {
      "text/plain": [
       "'......-...--. --. -.-.--'"
      ]
     },
     "execution_count": 3,
     "metadata": {},
     "output_type": "execute_result"
    }
   ],
   "source": [
    "def encode_morse(String):\n",
    "    \n",
    "    char_to_dots = {\n",
    "      'A': '.-', 'B': '-...', 'C': '-.-.', 'D': '-..', 'E': '.', 'F': '..-.',\n",
    "      'G': '--.', 'H': '....', 'I': '..', 'J': '.---', 'K': '-.-', 'L': '.-..',\n",
    "      'M': '--', 'N': '-.', 'O': '---', 'P': '.--.', 'Q': '--.-', 'R': '.-.',\n",
    "      'S': '...', 'T': '-', 'U': '..-', 'V': '...-', 'W': '.--', 'X': '-..-',\n",
    "      'Y': '-.--', 'Z': '--..', ' ': ' ', '0': '-----',\n",
    "      '1': '.----', '2': '..---', '3': '...--', '4': '....-', '5': '.....',\n",
    "      '6': '-....', '7': '--...', '8': '---..', '9': '----.',\n",
    "      '&': '.-...', \"'\": '.----.', '@': '.--.-.', ')': '-.--.-', '(': '-.--.',\n",
    "      ':': '---...', ',': '--..--', '=': '-...-', '!': '-.-.--', '.': '.-.-.-',\n",
    "      '-': '-....-', '+': '.-.-.', '\"': '.-..-.', '?': '..--..', '/': '-..-.'\n",
    "                    }\n",
    "    \n",
    "    output = \"\"\n",
    "    for i in String:\n",
    "        output = output + char_to_dots[i]\n",
    "        \n",
    "    return output\n",
    "\n",
    "encode_morse(\"HELP ME !\")"
   ]
  },
  {
   "cell_type": "markdown",
   "id": "09ac6809",
   "metadata": {},
   "source": []
  },
  {
   "cell_type": "markdown",
   "id": "40cb6636",
   "metadata": {},
   "source": []
  },
  {
   "cell_type": "markdown",
   "id": "271536cf",
   "metadata": {},
   "source": [
    "### Question 4. \n",
    "#### Write a function that takes a number and returns True if it's a prime; False otherwise. The number can be 2^64-1 (2 to the power of 63, not XOR). With the standard technique it would be O(2^64-1), which is much too large for the 10 second time limit.\n",
    "\n",
    "Examples:\n",
    "\n",
    "`prime(7) ➞ True\n",
    "prime(56963) ➞ True\n",
    "prime(5151512515524) ➞ False`\n",
    "\n",
    "### Answer:\n"
   ]
  },
  {
   "cell_type": "code",
   "execution_count": 4,
   "id": "b2d46d21",
   "metadata": {},
   "outputs": [
    {
     "data": {
      "text/plain": [
       "True"
      ]
     },
     "execution_count": 4,
     "metadata": {},
     "output_type": "execute_result"
    }
   ],
   "source": [
    "def prime(number):\n",
    "    \n",
    "    assumption = False\n",
    "    if ((number-1)%6 == 0) or ((number+1)%6 == 0):\n",
    "        assumption = True\n",
    "        \n",
    "    return assumption\n",
    "\n",
    "prime(7)"
   ]
  },
  {
   "cell_type": "markdown",
   "id": "729d3323",
   "metadata": {},
   "source": []
  },
  {
   "cell_type": "markdown",
   "id": "a6188a2c",
   "metadata": {},
   "source": []
  },
  {
   "cell_type": "markdown",
   "id": "00d88fb1",
   "metadata": {},
   "source": [
    "### Question 5. \n",
    "#### Create a function that converts a word to a bitstring and then to a boolean list based on the following criteria:\n",
    "\n",
    "1. Locate the position of the letter in the English alphabet (from 1 to 26).\n",
    "2. Odd positions will be represented as 1 and 0 otherwise.\n",
    "3. Convert the represented positions to boolean values, 1 for True and 0 for False.\n",
    "4. Store the conversions into an array.\n",
    "\n",
    "Examples:\n",
    "\n",
    "to_boolean_list(\"deep\") ➞ [False, True, True, False]\n",
    "\n",
    " `deep converts to 0110\n",
    " d is the 4th alphabet - 0\n",
    " e is the 5th alphabet - 1\n",
    " e is the 5th alphabet - 1\n",
    " p is the 16th alphabet - 0`\n",
    "\n",
    "to_boolean_list(\"loves\") ➞ [False, True, False, True, True]\n",
    "\n",
    "to_boolean_list(\"tesh\") ➞ [False, True, True, False]\n",
    "\n",
    "### Answer:\n"
   ]
  },
  {
   "cell_type": "code",
   "execution_count": 5,
   "id": "0a8167d9",
   "metadata": {},
   "outputs": [
    {
     "data": {
      "text/plain": [
       "[False, True, False, True, True]"
      ]
     },
     "execution_count": 5,
     "metadata": {},
     "output_type": "execute_result"
    }
   ],
   "source": [
    "def to_boolean_list(Word_String):\n",
    "    \n",
    "    bitstring = \"\"\n",
    "    for i in Word_String:\n",
    "        if ord(i)%2 == 0:\n",
    "            bitstring += str(0)\n",
    "        else:\n",
    "            bitstring += str(1)\n",
    "    \n",
    "    boolean_list = []\n",
    "    for j in bitstring:\n",
    "        if j == str(0):\n",
    "            boolean_list.append(False)\n",
    "        else:\n",
    "            boolean_list.append(True)\n",
    "            \n",
    "    return boolean_list\n",
    "\n",
    "to_boolean_list(\"loves\")"
   ]
  }
 ],
 "metadata": {
  "kernelspec": {
   "display_name": "Python 3 (ipykernel)",
   "language": "python",
   "name": "python3"
  },
  "language_info": {
   "codemirror_mode": {
    "name": "ipython",
    "version": 3
   },
   "file_extension": ".py",
   "mimetype": "text/x-python",
   "name": "python",
   "nbconvert_exporter": "python",
   "pygments_lexer": "ipython3",
   "version": "3.9.7"
  }
 },
 "nbformat": 4,
 "nbformat_minor": 5
}
