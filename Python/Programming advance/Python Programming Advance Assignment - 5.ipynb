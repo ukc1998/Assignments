{
 "cells": [
  {
   "cell_type": "markdown",
   "id": "3c8641d1",
   "metadata": {},
   "source": [
    "# Python Programming Advance Assignment - 5"
   ]
  },
  {
   "cell_type": "markdown",
   "id": "6d829e29",
   "metadata": {},
   "source": []
  },
  {
   "cell_type": "markdown",
   "id": "341e1295",
   "metadata": {},
   "source": []
  },
  {
   "cell_type": "markdown",
   "id": "c54e15f0",
   "metadata": {},
   "source": [
    "### Question 1. Create a function that takes a number n (integer greater than zero) as an argument, and returns 2 if n is odd and 8 if n is even.\n",
    "\n",
    "`You can only use the following arithmetic operators: \n",
    "addition of numbers +, \n",
    "subtraction of numbers -, \n",
    "multiplication of number *, \n",
    "division of number /, \n",
    "and exponentiation **`.\n",
    "\n",
    "You are not allowed to use any other methods in this challenge (i.e. no if statements, comparison operators, etc).\n",
    "\n",
    "Examples\n",
    "\n",
    "f(1) ➞ 2\n",
    "\n",
    "f(2) ➞ 8\n",
    "\n",
    "f(3) ➞ 2\n",
    "\n",
    "### Answer:\n",
    "\n"
   ]
  },
  {
   "cell_type": "code",
   "execution_count": 1,
   "id": "cb32940e",
   "metadata": {},
   "outputs": [
    {
     "name": "stdout",
     "output_type": "stream",
     "text": [
      "f(1) ➞ 2\n",
      "f(2) ➞ 8\n",
      "f(3) ➞ 2\n"
     ]
    }
   ],
   "source": [
    "def f(n):\n",
    "    store_room = [8,2]\n",
    "    print(f\"f({n}) ➞ {store_room[n&1]}\")\n",
    "    \n",
    "f(1)\n",
    "f(2)\n",
    "f(3)\n",
    "\n",
    "#if we don't provide any specific values as in store_room, then by default, &1 would give 0 for even and 1 for odd."
   ]
  },
  {
   "cell_type": "markdown",
   "id": "8246336c",
   "metadata": {},
   "source": []
  },
  {
   "cell_type": "markdown",
   "id": "b1a7b49c",
   "metadata": {},
   "source": []
  },
  {
   "cell_type": "markdown",
   "id": "7d2a5813",
   "metadata": {},
   "source": [
    "### Question 2. Create a function that returns the majority vote in a list. A majority vote is an element that occurs > N/2 times in a list (where N is the length of the list).\n",
    "\n",
    "Examples\n",
    "\n",
    "majority_vote([\"A\", \"A\", \"B\"]) ➞ \"A\"\n",
    "\n",
    "majority_vote([\"A\", \"A\", \"A\", \"B\", \"C\", \"A\"]) ➞ \"A\"\n",
    "\n",
    "majority_vote([\"A\", \"B\", \"B\", \"A\", \"C\", \"C\"]) ➞ None\n",
    "\n",
    "### Answer:\n",
    "\n"
   ]
  },
  {
   "cell_type": "code",
   "execution_count": 2,
   "id": "f33c2b1a",
   "metadata": {},
   "outputs": [
    {
     "name": "stdout",
     "output_type": "stream",
     "text": [
      "majority_vote(['A', 'A', 'B']) ➞ A\n",
      "majority_vote(['A', 'A', 'A', 'B', 'C', 'A']) ➞ A\n",
      "majority_vote(['A', 'B', 'B', 'A', 'C', 'C']) ➞ None\n"
     ]
    }
   ],
   "source": [
    "def majority_vote(in_list):\n",
    "    out_list = None\n",
    "    for i in set(in_list):\n",
    "        if in_list.count(i) > (len(in_list)/2):\n",
    "            out_list = i\n",
    "    print(f'majority_vote({in_list}) ➞ {out_list}')\n",
    "    \n",
    "majority_vote([\"A\", \"A\", \"B\"])\n",
    "majority_vote([\"A\", \"A\", \"A\", \"B\", \"C\", \"A\"])\n",
    "majority_vote([\"A\", \"B\", \"B\", \"A\", \"C\", \"C\"])"
   ]
  },
  {
   "cell_type": "markdown",
   "id": "5313cc9a",
   "metadata": {},
   "source": []
  },
  {
   "cell_type": "markdown",
   "id": "5b007838",
   "metadata": {},
   "source": []
  },
  {
   "cell_type": "markdown",
   "id": "7a58444f",
   "metadata": {},
   "source": [
    "### Question 3. Create a function that takes a string txt and censors any word from a given list lst. The text removed must be replaced by the given character char.\n",
    "\n",
    "Examples\n",
    "\n",
    "`censor_string(\"Today is a Wednesday!\", [\"Today\", \"a\"], \"-\") ➞ \"----- is - Wednesday!\"`\n",
    "\n",
    "`censor_string(\"The cow jumped over the moon.\", [\"cow\", \"over\"], \"*\"), \"The *** jumped **** the moon.\")`\n",
    "\n",
    "`censor_string(\"Why did the chicken cross the road?\", [\"Did\", \"chicken\", \"road\"], \"*\") ➞ \"Why *** the ******* cross the ****?\"`\n",
    "\n",
    "### Answer:\n",
    "\n"
   ]
  },
  {
   "cell_type": "code",
   "execution_count": 3,
   "id": "aef10021",
   "metadata": {},
   "outputs": [
    {
     "name": "stdout",
     "output_type": "stream",
     "text": [
      "censor_string(Today is a Wednesday!) ➞ ----- is - Wednesday!\n",
      "censor_string(The cow jumped over the moon.) ➞ The *** jumped **** the moon.\n",
      "censor_string(Why did the chicken cross the road ?) ➞ Why *** the ******* cross the **** ?\n"
     ]
    }
   ],
   "source": [
    "def censor_string(string, lst, char):\n",
    "    \n",
    "    output = []\n",
    "    for i in string.split():\n",
    "        if i.title() in lst or i.lower() in lst or i.upper() in lst:\n",
    "            output.append(char*len(i))\n",
    "        else:\n",
    "            output.append(i)\n",
    "    print(f'censor_string({string}) ➞ {\" \".join(output)}')\n",
    "\n",
    "censor_string(\"Today is a Wednesday!\", [\"Today\", \"a\"], \"-\")\n",
    "censor_string(\"The cow jumped over the moon.\", [\"cow\", \"over\"], \"*\")\n",
    "censor_string(\"Why did the chicken cross the road ?\", [\"Did\", \"chicken\", \"road\"], \"*\")"
   ]
  },
  {
   "cell_type": "markdown",
   "id": "4149451c",
   "metadata": {},
   "source": []
  },
  {
   "cell_type": "markdown",
   "id": "a7d11bac",
   "metadata": {},
   "source": []
  },
  {
   "cell_type": "markdown",
   "id": "fefd0701",
   "metadata": {},
   "source": [
    "### Question 4. In mathematics a Polydivisible Number (or magic number) is a number in a given number base with digits abcde... that has the following properties:\n",
    "\n",
    "-  Its first digit a is not 0.\n",
    "- The number formed by its first two digits ab is a multiple of 2.\n",
    "- The number formed by its first three digits abc is a multiple of 3.\n",
    "- The number formed by its first four digits abcd is a multiple of 4.\n",
    "\n",
    "Create a function which takes an integer n and returns True if the given number is a Polydivisible Number and False otherwise.\n",
    "\n",
    "Examples\n",
    "\n",
    "is_polydivisible(1232) ➞ True\n",
    "#### 1     / 1 = 1\n",
    "#### 12    / 2 = 6\n",
    "#### 123   / 3 = 41\n",
    "#### 1232  / 4 = 308\n",
    "\n",
    "is_polydivisible(123220 ) ➞ False\n",
    "#### 1   / 1 = 1\n",
    "#### 12   / 2 = 6\n",
    "#### 123   / 3 = 41\n",
    "#### 1232   / 4 = 308\n",
    "#### 12322   / 5 = 2464.4         # Not a Whole Number\n",
    "#### 123220   /6 = 220536.333...  # Not a Whole Number\n",
    "\n",
    "### Answer:\n",
    "\n"
   ]
  },
  {
   "cell_type": "code",
   "execution_count": 4,
   "id": "e279c3b0",
   "metadata": {},
   "outputs": [
    {
     "name": "stdout",
     "output_type": "stream",
     "text": [
      "is_polydivisible(1232) ➞ True\n",
      "is_polydivisible(123220) ➞ False\n"
     ]
    }
   ],
   "source": [
    "def is_polydivisible(n):\n",
    "    \n",
    "    for i in range(len(str(n))):\n",
    "        if int(str(n)[:i+1])%(i+1) == 0:\n",
    "            output = True\n",
    "        else:\n",
    "            output = False\n",
    "            break\n",
    "            \n",
    "    return output\n",
    "    \n",
    "print(f\"is_polydivisible({1232}) ➞ {is_polydivisible(1232)}\")\n",
    "print(f\"is_polydivisible({123220}) ➞ {is_polydivisible(123220)}\")"
   ]
  },
  {
   "cell_type": "markdown",
   "id": "0994afa1",
   "metadata": {},
   "source": []
  },
  {
   "cell_type": "markdown",
   "id": "4ef2a2bb",
   "metadata": {},
   "source": []
  },
  {
   "cell_type": "markdown",
   "id": "6c4fcd2d",
   "metadata": {},
   "source": [
    "### Question 5. Create a function that takes a list of numbers and returns the sum of all prime numbers in the list.\n",
    "\n",
    "Examples\n",
    "\n",
    "sum_primes([1, 2, 3, 4, 5, 6, 7, 8, 9, 10]) ➞ 17\n",
    "\n",
    "sum_primes([2, 3, 4, 11, 20, 50, 71]) ➞ 87\n",
    "\n",
    "sum_primes([]) ➞ None\n",
    "\n",
    "### Answer:\n",
    "\n"
   ]
  },
  {
   "cell_type": "code",
   "execution_count": 11,
   "id": "ee6fdfa7",
   "metadata": {},
   "outputs": [
    {
     "data": {
      "text/plain": [
       "17"
      ]
     },
     "execution_count": 11,
     "metadata": {},
     "output_type": "execute_result"
    }
   ],
   "source": [
    "def sum_primes(lst):\n",
    "    \n",
    "    stock_room = []\n",
    "    \n",
    "    output = None\n",
    "    for i in lst:\n",
    "        if i>1:\n",
    "            if (i+1)%6 == 0 or (i-1)%6 == 0 or i == 2 or i == 3:\n",
    "                    stock_room.append(i)\n",
    "    output = sum(stock_room)\n",
    "    return output\n",
    "\n",
    "print(f\"sum_primes({[1, 2, 3, 4, 5, 6, 7, 8, 9, 10]}) ➞ {sum_primes([1, 2, 3, 4, 5, 6, 7, 8, 9, 10])} \")"
   ]
  },
  {
   "cell_type": "code",
   "execution_count": null,
   "id": "a895ed30",
   "metadata": {},
   "outputs": [],
   "source": []
  }
 ],
 "metadata": {
  "kernelspec": {
   "display_name": "Python 3 (ipykernel)",
   "language": "python",
   "name": "python3"
  },
  "language_info": {
   "codemirror_mode": {
    "name": "ipython",
    "version": 3
   },
   "file_extension": ".py",
   "mimetype": "text/x-python",
   "name": "python",
   "nbconvert_exporter": "python",
   "pygments_lexer": "ipython3",
   "version": "3.9.7"
  }
 },
 "nbformat": 4,
 "nbformat_minor": 5
}
