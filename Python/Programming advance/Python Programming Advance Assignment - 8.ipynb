{
 "cells": [
  {
   "cell_type": "markdown",
   "id": "535522da",
   "metadata": {},
   "source": [
    "# Python Programming Advance Assignment - 8"
   ]
  },
  {
   "cell_type": "markdown",
   "id": "6782de44",
   "metadata": {},
   "source": []
  },
  {
   "cell_type": "markdown",
   "id": "d8db4cde",
   "metadata": {},
   "source": []
  },
  {
   "cell_type": "markdown",
   "id": "29d4bb5a",
   "metadata": {},
   "source": [
    "### Question 1. Given a sentence as txt, return True if any two adjacent words have this property: One word ends with a vowel, while the word immediately after begins with a vowel (a e i o u).\n",
    "\n",
    "Examples:\n",
    "\n",
    "vowel_links(\"a very large appliance\") ➞ True\n",
    "\n",
    "vowel_links(\"go to edabit\") ➞ True\n",
    "\n",
    "vowel_links(\"an open fire\") ➞ False\n",
    "\n",
    "vowel_links(\"a sudden applause\") ➞ False\n",
    "\n",
    "### Answer:\n",
    "\n"
   ]
  },
  {
   "cell_type": "code",
   "execution_count": 1,
   "id": "35cf3c79",
   "metadata": {},
   "outputs": [
    {
     "name": "stdout",
     "output_type": "stream",
     "text": [
      "vowel_links(\"a very large appliance\") ➞ True\n",
      "vowel_links(\"go to edabit\") ➞ True\n",
      "vowel_links(\"an open fire\") ➞ False\n",
      "vowel_links(\"a sudden applause\") ➞ False\n"
     ]
    }
   ],
   "source": [
    "def vowel_links(string):\n",
    "    \n",
    "    def is_vowel(character):\n",
    "        check_room = [\"a\",\"e\",\"i\",\"o\",\"u\"]\n",
    "        if type(character) == str:\n",
    "            if character.lower() in check_room:\n",
    "                return True\n",
    "            else:\n",
    "                return False\n",
    "        \n",
    "    output_list = []\n",
    "    stock_room = string.split()\n",
    "    for i in range(len(stock_room)-1):\n",
    "        if is_vowel(stock_room[i][-1]) == True and is_vowel(stock_room[i+1][0]) == True:\n",
    "            output_list.append(True)\n",
    "        else:\n",
    "            output_list.append(False)\n",
    "    if True in output_list:\n",
    "        print(f\"vowel_links(\\\"{string}\\\") ➞ {True}\")\n",
    "    else:\n",
    "        print(f\"vowel_links(\\\"{string}\\\") ➞ {False}\")\n",
    "\n",
    "\n",
    "\n",
    "vowel_links(\"a very large appliance\")\n",
    "vowel_links(\"go to edabit\")\n",
    "vowel_links(\"an open fire\")\n",
    "vowel_links(\"a sudden applause\")"
   ]
  },
  {
   "cell_type": "markdown",
   "id": "e185634f",
   "metadata": {},
   "source": []
  },
  {
   "cell_type": "markdown",
   "id": "0060d018",
   "metadata": {},
   "source": []
  },
  {
   "cell_type": "markdown",
   "id": "6cdfcd41",
   "metadata": {},
   "source": [
    "### Question 2. You are given three inputs: a string, one letter, and a second letter.\n",
    "\n",
    "Write a function that returns True if every instance of the first letter occurs before every instance of the second letter.\n",
    "\n",
    "Examples:\n",
    "\n",
    "first_before_second(\"a rabbit jumps joyfully\", \"a\", \"j\") ➞ True\n",
    "#### Every instance of \"a\" occurs before every instance of \"j\".\n",
    "\n",
    "first_before_second(\"knaves knew about waterfalls\", \"k\", \"w\") ➞  True\n",
    "\n",
    "first_before_second(\"happy birthday\", \"a\", \"y\") ➞ False\n",
    "#### The \"a\" in \"birthday\" occurs after the \"y\" in \"happy\".\n",
    "\n",
    "first_before_second(\"precarious kangaroos\", \"k\", \"a\") ➞ False\n",
    "\n",
    "### Answer:\n",
    "\n"
   ]
  },
  {
   "cell_type": "code",
   "execution_count": 2,
   "id": "865b9d6b",
   "metadata": {},
   "outputs": [
    {
     "name": "stdout",
     "output_type": "stream",
     "text": [
      "first_before_second_index(a rabbit jumps joyfully, a, j) ➞ True\n",
      "first_before_second_index(knaves knew about waterfalls, k, w) ➞ True\n",
      "first_before_second_index(happy birthday, a, y) ➞ False\n",
      "first_before_second_index(precarious kangaroos, k, a) ➞ False\n",
      "\n",
      "first_before_second_find(a rabbit jumps joyfully, a, j) ➞ True\n",
      "first_before_second_find(knaves knew about waterfalls, k, w) ➞ True\n",
      "first_before_second_find(happy birthday, a, y) ➞ False\n",
      "first_before_second_find(precarious kangaroos, k, a) ➞ False\n"
     ]
    }
   ],
   "source": [
    "# Approach 1: Using index() and() rindex() functions\n",
    "def first_before_second_index(string,first,second):\n",
    "    last_occurrence_of_first = string.rindex(first)\n",
    "    first_occurrence_of_second = string.index(second)\n",
    "    output = True if last_occurrence_of_first < first_occurrence_of_second else False\n",
    "    print(f'first_before_second_index({string}, {first}, {second}) ➞ {output}')\n",
    "\n",
    "# Approach 2: Using find() and() rfind() functions\n",
    "def first_before_second_find(string,first,second):\n",
    "    last_occurrence_of_first = string.rfind(first)\n",
    "    first_occurrence_of_second = string.find(second)\n",
    "    output = True if last_occurrence_of_first < first_occurrence_of_second else False\n",
    "    print(f'first_before_second_find({string}, {first}, {second}) ➞ {output}')\n",
    "\n",
    "first_before_second_index(\"a rabbit jumps joyfully\", \"a\", \"j\")\n",
    "first_before_second_index(\"knaves knew about waterfalls\", \"k\", \"w\")\n",
    "first_before_second_index(\"happy birthday\", \"a\", \"y\")\n",
    "first_before_second_index(\"precarious kangaroos\", \"k\", \"a\")\n",
    "print()\n",
    "first_before_second_find(\"a rabbit jumps joyfully\", \"a\", \"j\")\n",
    "first_before_second_find(\"knaves knew about waterfalls\", \"k\", \"w\")\n",
    "first_before_second_find(\"happy birthday\", \"a\", \"y\")\n",
    "first_before_second_find(\"precarious kangaroos\", \"k\", \"a\")"
   ]
  },
  {
   "cell_type": "markdown",
   "id": "086755d7",
   "metadata": {},
   "source": []
  },
  {
   "cell_type": "markdown",
   "id": "911f46ae",
   "metadata": {},
   "source": []
  },
  {
   "cell_type": "markdown",
   "id": "00e7525c",
   "metadata": {},
   "source": [
    "### Question 3. Create a function that returns the characters from a list or string r on odd or even positions, depending on the specifier s. The specifier will be \"odd\" for items on odd positions (1, 3, 5, ...) and \"even\" for items on even positions (2, 4, 6, ...).\n",
    "\n",
    "Examples:\n",
    "\n",
    "char_at_pos([2, 4, 6, 8, 10], \"even\") ➞ [4, 8]\n",
    "#### 4 & 8 occupy the 2nd & 4th positions\n",
    "\n",
    "char_at_pos(\"EDABIT\", \"odd\") ➞ \"EAI\"\n",
    "#### \"E\", \"A\" and \"I\" occupy the 1st, 3rd and 5th positions\n",
    "\n",
    "char_at_pos([\"A\", \"R\", \"B\", \"I\", \"T\", \"R\", \"A\", \"R\", \"I\", \"L\", \"Y\"], \"odd\") ➞ [\"A\", \"B\", \"T\", \"A\", \"I\", \"Y\"]\n",
    "\n",
    "### Answer:\n",
    "\n"
   ]
  },
  {
   "cell_type": "code",
   "execution_count": 3,
   "id": "6171826d",
   "metadata": {},
   "outputs": [
    {
     "name": "stdout",
     "output_type": "stream",
     "text": [
      "char_at_pos([2, 4, 6, 8, 10],even) ➞ [4, 8]\n",
      "char_at_pos(EDABIT,No_Specifier) ➞ Warning !!! Please input specifier either as \"odd\" or \"even\". \n",
      "char_at_pos(['A', 'R', 'B', 'I', 'T', 'R', 'A', 'R', 'I', 'L', 'Y'],odd) ➞ ['A', 'B', 'T', 'A', 'I', 'Y']\n"
     ]
    }
   ],
   "source": [
    "def char_at_pos(List_or_String,specifier):\n",
    "    if specifier == \"even\":\n",
    "        output = List_or_String[1::2]\n",
    "    elif specifier == \"odd\":\n",
    "        output = List_or_String[0::2]\n",
    "    else:\n",
    "        output = \"Warning !!! Please input specifier either as \\\"odd\\\" or \\\"even\\\". \"\n",
    "        \n",
    "    print(f\"char_at_pos({List_or_String},{specifier}) ➞ {output}\")\n",
    "    \n",
    "char_at_pos([2, 4, 6, 8, 10], \"even\")\n",
    "char_at_pos(\"EDABIT\", \"No_Specifier\")\n",
    "char_at_pos([\"A\", \"R\", \"B\", \"I\", \"T\", \"R\", \"A\", \"R\", \"I\", \"L\", \"Y\"], \"odd\")"
   ]
  },
  {
   "cell_type": "markdown",
   "id": "884b4bba",
   "metadata": {},
   "source": []
  },
  {
   "cell_type": "markdown",
   "id": "11799759",
   "metadata": {},
   "source": []
  },
  {
   "cell_type": "markdown",
   "id": "c287dacf",
   "metadata": {},
   "source": [
    "### Question 4. Write a function that returns the greatest common divisor of all list elements. If the greatest common divisor is 1, return 1.\n",
    "\n",
    "Examples:\n",
    "\n",
    "GCD([10, 20, 40]) ➞ 10\n",
    "\n",
    "GCD([1, 2, 3, 100]) ➞ 1\n",
    "\n",
    "GCD([1024, 192, 2048, 512]) ➞ 64\n",
    "\n",
    "### Answer:\n",
    "\n"
   ]
  },
  {
   "cell_type": "code",
   "execution_count": 4,
   "id": "646ed541",
   "metadata": {},
   "outputs": [
    {
     "name": "stdout",
     "output_type": "stream",
     "text": [
      "GCD([10, 20, 40]) ➞ 10\n",
      "GCD([1, 2, 3, 100]) ➞ 1\n",
      "GCD([1024, 192, 2048, 512]) ➞ 64\n"
     ]
    }
   ],
   "source": [
    "def GCD(lst):\n",
    "    \n",
    "    minimum = min(lst)\n",
    "    for i in range(1,minimum + 1):\n",
    "        output = []\n",
    "        for j in lst:\n",
    "            output.append(j%i)\n",
    "        if len(set(output)) == 1 and list(set(output))[0] == 0:\n",
    "            gcd = i\n",
    "    print(f'GCD({lst}) ➞ {gcd}')\n",
    "    \n",
    "GCD([10, 20, 40])\n",
    "GCD([1, 2, 3, 100])\n",
    "GCD([1024, 192, 2048, 512])"
   ]
  },
  {
   "cell_type": "markdown",
   "id": "fd8db394",
   "metadata": {},
   "source": []
  },
  {
   "cell_type": "markdown",
   "id": "8b712586",
   "metadata": {},
   "source": []
  },
  {
   "cell_type": "markdown",
   "id": "0d24fecd",
   "metadata": {},
   "source": [
    "### Question 5. A number/string is a palindrome if the digits/characters are the same when read both forward and backward. Examples include \"racecar\" and 12321. Given a positive number n, check if n or the binary representation of n is palindromic. Return the following:\n",
    "\n",
    "`- \"Decimal only.\" if only n is a palindrome.`\n",
    "\n",
    "`- \"Binary only.\" if only the binary representation of n is a palindrome.`\n",
    "\n",
    "`- \"Decimal and binary.\" if both are palindromes.`\n",
    "\n",
    "`- \"Neither!\" if neither are palindromes.`\n",
    "\n",
    "#### Examples:\n",
    "\n",
    "##### palindrome_type(1306031) ➞ \"Decimal only.\"\n",
    "decimal = 1306031\n",
    "\n",
    "binary  = \"100111110110110101111\"\n",
    "\n",
    "\n",
    "##### palindrome_type(427787) ➞ \"Binary only.\"\n",
    "decimal = 427787\n",
    "\n",
    "binary  = \"1101000011100001011\"\n",
    "\n",
    "\n",
    "##### palindrome_type(313) ➞ \"Decimal and binary.\"\n",
    "decimal = 313\n",
    "\n",
    "binary  = 100111001\n",
    "\n",
    "\n",
    "##### palindrome_type(934) ➞ \"Neither!\"\n",
    "decimal = 934\n",
    "\n",
    "binary  = \"1110100110\"\n",
    "\n",
    "\n",
    "### Answer:"
   ]
  },
  {
   "cell_type": "code",
   "execution_count": 5,
   "id": "d72e7a92",
   "metadata": {},
   "outputs": [
    {
     "name": "stdout",
     "output_type": "stream",
     "text": [
      "palindrome_type(1306031) ➞ Decimal only.\n",
      "palindrome_type(427787) ➞ Binary only.\n",
      "palindrome_type(313) ➞ Decimal and binary.\n",
      "palindrome_type(934) ➞ Neither!\n"
     ]
    }
   ],
   "source": [
    "def palindrome_type(n):\n",
    "    \n",
    "    decimal = n\n",
    "    binary = bin(n)[2:]\n",
    "    \n",
    "    if str(decimal) == str(decimal)[::-1] and str(binary) == str(binary)[::-1]:\n",
    "        output = \"Decimal and binary.\"\n",
    "    elif str(decimal) == str(decimal)[::-1] and str(binary) != str(binary)[::-1]:\n",
    "        output = \"Decimal only.\"\n",
    "    elif str(decimal) != str(decimal)[::-1] and str(binary) == str(binary)[::-1]:\n",
    "        output = \"Binary only.\"\n",
    "    else:\n",
    "        output = \"Neither!\"\n",
    "    \n",
    "    print(f\"palindrome_type({n}) ➞ {output}\")\n",
    "    \n",
    "\n",
    "palindrome_type(1306031)\n",
    "palindrome_type(427787)\n",
    "palindrome_type(313)\n",
    "palindrome_type(934)"
   ]
  }
 ],
 "metadata": {
  "kernelspec": {
   "display_name": "Python 3 (ipykernel)",
   "language": "python",
   "name": "python3"
  },
  "language_info": {
   "codemirror_mode": {
    "name": "ipython",
    "version": 3
   },
   "file_extension": ".py",
   "mimetype": "text/x-python",
   "name": "python",
   "nbconvert_exporter": "python",
   "pygments_lexer": "ipython3",
   "version": "3.9.7"
  }
 },
 "nbformat": 4,
 "nbformat_minor": 5
}
