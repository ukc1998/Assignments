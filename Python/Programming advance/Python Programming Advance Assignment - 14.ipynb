{
 "cells": [
  {
   "cell_type": "markdown",
   "id": "7c1b6ed5",
   "metadata": {},
   "source": [
    "# Python Programming Advance Assignment - 14"
   ]
  },
  {
   "cell_type": "markdown",
   "id": "134c4c17",
   "metadata": {},
   "source": []
  },
  {
   "cell_type": "markdown",
   "id": "5b5a2755",
   "metadata": {},
   "source": []
  },
  {
   "cell_type": "markdown",
   "id": "75a48000",
   "metadata": {},
   "source": [
    "### Question 1. Given a list of numbers, create a function that removes 25% from every number in the list except the smallest number, and adds the total amount removed to the smallest number.\n",
    "\n",
    "Examples\n",
    "\n",
    "show_the_love([4, 1, 4]) ➞ [3, 3, 3]\n",
    "\n",
    "show_the_love([16, 10, 8]) ➞ [12, 7.5, 14.5]\n",
    "\n",
    "show_the_love([2, 100]) ➞ [27, 75]\n",
    "\n",
    "### Answer:\n",
    "\n"
   ]
  },
  {
   "cell_type": "code",
   "execution_count": 1,
   "id": "79c908a6",
   "metadata": {},
   "outputs": [
    {
     "name": "stdout",
     "output_type": "stream",
     "text": [
      "show_the_love([4, 1, 4]) ➞ [3, 3, 3]\n",
      "show_the_love([16, 10, 8]) ➞ [12, 7.5, 14.5]\n",
      "show_the_love([2, 100]) ➞ [27, 75]\n"
     ]
    }
   ],
   "source": [
    "def show_the_love(lst):\n",
    "    \n",
    "    output = []\n",
    "    pyaar = 0\n",
    "    for i in lst:\n",
    "        if i != min(lst):\n",
    "            pyaar = pyaar + (0.25*i)\n",
    "    for i in lst:\n",
    "        if i != min(lst):\n",
    "            output.append(0.75*i)\n",
    "        else:\n",
    "            output.append(i+pyaar)\n",
    "    output = [int(i) if \"0\" in str(i).split(\".\") else i for i in output]        \n",
    "    print(f\"show_the_love({lst}) ➞ {output}\")\n",
    "    \n",
    "show_the_love([4, 1, 4])\n",
    "show_the_love([16, 10, 8])\n",
    "show_the_love([2, 100])"
   ]
  },
  {
   "cell_type": "markdown",
   "id": "0b95ead6",
   "metadata": {},
   "source": []
  },
  {
   "cell_type": "markdown",
   "id": "17558436",
   "metadata": {},
   "source": []
  },
  {
   "cell_type": "markdown",
   "id": "f62bd19e",
   "metadata": {},
   "source": [
    "### Question 2. Create a function that takes in two words as input and returns a list of three elements, in the following order:\n",
    "\n",
    "   1.Shared letters between two words.\n",
    "   2.Letters unique to word 1.\n",
    "   3.Letters unique to word 2.\n",
    "\n",
    "Each element should have unique letters, and have each letter be alphabetically sorted.\n",
    "\n",
    "Examples\n",
    "\n",
    "letters(\"sharp\", \"soap\") ➞ [\"aps\", \"hr\", \"o\"]\n",
    "\n",
    "letters(\"board\", \"bored\") ➞ [\"bdor\", \"a\", \"e\"]\n",
    "\n",
    "letters(\"happiness\", \"envelope\") ➞ [\"enp\", \"ahis\", \"lov\"]\n",
    "\n",
    "letters(\"kerfuffle\", \"fluffy\") ➞ [\"flu\", \"ekr\", \"y\"]\n",
    "#### Even with multiple matching letters (e.g. 3 f's), there should \n",
    "#### only exist a single \"f\" in your first element.\n",
    "\n",
    "letters(\"match\", \"ham\") ➞ [\"ahm\", \"ct\", \"\"]\n",
    "#### \"ham\" does not contain any letters that are not found already \n",
    "#### in \"match\".\n",
    "\n",
    "### Answer:\n",
    "\n"
   ]
  },
  {
   "cell_type": "code",
   "execution_count": 2,
   "id": "23e98ac1",
   "metadata": {},
   "outputs": [
    {
     "name": "stdout",
     "output_type": "stream",
     "text": [
      "letters('sharp', 'soap') ➞ ['aps', 'hr', 'o']\n",
      "letters('board', 'bored') ➞ ['bdor', 'a', 'e']\n",
      "letters('happiness', 'envelope') ➞ ['enp', 'ahis', 'lov']\n",
      "letters('kerfuffle', 'fluffy') ➞ ['flu', 'ekr', 'y']\n",
      "letters('match', 'ham') ➞ ['ahm', 'ct', '']\n"
     ]
    }
   ],
   "source": [
    "def letters(w1,w2):\n",
    "    \n",
    "    w1_set = set(w1)\n",
    "    w2_set = set(w2)\n",
    "    output = []\n",
    "    \n",
    "    output.append(''.join(sorted(w1_set.intersection(w2_set))))\n",
    "    output.append(''.join(sorted(w1_set.difference(w2_set))))\n",
    "    output.append(''.join(sorted(w2_set.difference(w1_set)))) \n",
    "    print(f'letters{w1,w2} ➞ {output}')\n",
    "    \n",
    "letters(\"sharp\", \"soap\")\n",
    "letters(\"board\", \"bored\")\n",
    "letters(\"happiness\", \"envelope\")\n",
    "letters(\"kerfuffle\", \"fluffy\")\n",
    "letters(\"match\", \"ham\")"
   ]
  },
  {
   "cell_type": "markdown",
   "id": "6eef31a1",
   "metadata": {},
   "source": []
  },
  {
   "cell_type": "markdown",
   "id": "7c6b32a7",
   "metadata": {},
   "source": []
  },
  {
   "cell_type": "markdown",
   "id": "cf3e934c",
   "metadata": {},
   "source": [
    "### Question 3. Write a function that pairs the first number in an array with the last, the second number with the second to last, etc.\n",
    "\n",
    "Examples\n",
    "\n",
    "pairs([1, 2, 3, 4, 5, 6, 7]) ➞ [[1, 7], [2, 6], [3, 5], [4, 4]]\n",
    "\n",
    "pairs([1, 2, 3, 4, 5, 6]) ➞ [[1, 6], [2, 5], [3, 4]]\n",
    "\n",
    "pairs([5, 9, 8, 1, 2]) ➞ [[5, 2], [9, 1], [8, 8]]\n",
    "\n",
    "pairs([]) ➞ []\n",
    "\n",
    "### Answer:\n",
    "\n"
   ]
  },
  {
   "cell_type": "code",
   "execution_count": 3,
   "id": "06984434",
   "metadata": {},
   "outputs": [
    {
     "name": "stdout",
     "output_type": "stream",
     "text": [
      "pairs([]) ➞ [[1, 7], [2, 6], [3, 5], [4, 4]]\n",
      "pairs([]) ➞ [[1, 6], [2, 5], [3, 4]]\n",
      "pairs([]) ➞ [[5, 2], [9, 1], [8, 8]]\n",
      "pairs([]) ➞ []\n"
     ]
    }
   ],
   "source": [
    "def pairs(lst):\n",
    "    \n",
    "    lst_copy = lst\n",
    "    output = []\n",
    "    while True:\n",
    "        if len(lst) > 0:\n",
    "            if len(lst) == 1:\n",
    "                output.append([lst[0],lst.pop(0)])\n",
    "            else:\n",
    "                output.append([lst.pop(0),lst.pop(-1)])\n",
    "        else:\n",
    "            break\n",
    "    print(f'pairs({lst_copy}) ➞ {output}')\n",
    "            \n",
    "pairs([1, 2, 3, 4, 5, 6, 7])\n",
    "pairs([1, 2, 3, 4, 5, 6])\n",
    "pairs([5, 9, 8, 1, 2])\n",
    "pairs([])"
   ]
  },
  {
   "cell_type": "markdown",
   "id": "51c84c46",
   "metadata": {},
   "source": []
  },
  {
   "cell_type": "markdown",
   "id": "30748071",
   "metadata": {},
   "source": []
  },
  {
   "cell_type": "markdown",
   "id": "09d298ec",
   "metadata": {},
   "source": [
    "### Question 4. Write a function that adds two numbers. The catch, however, is that the numbers will be strings.\n",
    "\n",
    "Examples\n",
    "\n",
    "add_str_nums(\"4\", \"5\") ➞ \"9\"\n",
    "\n",
    "add_str_nums(\"abcdefg\", \"3\") ➞ \"-1\"\n",
    "\n",
    "add_str_nums(\"1\", \"\") ➞ \"1\"\n",
    "\n",
    "add_str_nums(\"1874682736267235927359283579235789257\", \"32652983572985729\") ➞ \"1874682736267235927391936562808774986\"\n",
    "\n",
    "### Answer:\n",
    "\n"
   ]
  },
  {
   "cell_type": "code",
   "execution_count": 4,
   "id": "19e3e8c0",
   "metadata": {},
   "outputs": [
    {
     "name": "stdout",
     "output_type": "stream",
     "text": [
      "add_str_nums('4', '5') ➞ \"9\"\n",
      "add_str_nums('abcdefg', '3') ➞ \"-1\"\n",
      "add_str_nums('1', '0') ➞ \"1\"\n",
      "add_str_nums('1874682736267235927359283579235789257', '32652983572985729') ➞ \"1874682736267235927391936562808774986\"\n"
     ]
    }
   ],
   "source": [
    "def add_str_nums(s1,s2):\n",
    "    \n",
    "    s1 = s1 if len(s1) > 0 else \"0\"\n",
    "    s2 = s2 if len(s2) > 0 else \"0\"\n",
    "    if s1.isdigit() == False or s2.isdigit() == False:\n",
    "        output = -1\n",
    "    else: \n",
    "        output = int(s1)+int(s2)\n",
    "    print(f'add_str_nums{s1,s2} ➞ \"{output}\"')\n",
    "        \n",
    "add_str_nums(\"4\", \"5\")\n",
    "add_str_nums(\"abcdefg\", \"3\")\n",
    "add_str_nums(\"1\", \"\")\n",
    "add_str_nums(\"1874682736267235927359283579235789257\", \"32652983572985729\")"
   ]
  },
  {
   "cell_type": "markdown",
   "id": "9c011a42",
   "metadata": {},
   "source": []
  },
  {
   "cell_type": "markdown",
   "id": "d42562d2",
   "metadata": {},
   "source": []
  },
  {
   "cell_type": "markdown",
   "id": "37635981",
   "metadata": {},
   "source": [
    "### Question 5. lPaeesh le pemu mnxit ehess rtnisg! Oh, sorry, that was supposed to say: Please help me unmix these strings!\n",
    "\n",
    "Somehow my strings have all become mixed up; every pair of characters has been swapped. Help me undo this so I can understand my strings again.\n",
    "\n",
    "Examples\n",
    "\n",
    "unmix(\"123456\") ➞ \"214365\"\n",
    "\n",
    "unmix(\"hTsii  s aimex dpus rtni.g\") ➞ \"This is a mixed up string.\"\n",
    "\n",
    "unmix(\"badce\") ➞ \"abcde\"\n",
    "\n",
    "### Answer:\n",
    "\n"
   ]
  },
  {
   "cell_type": "code",
   "execution_count": 5,
   "id": "f5672ecf",
   "metadata": {},
   "outputs": [
    {
     "name": "stdout",
     "output_type": "stream",
     "text": [
      "unmix(\"123456\") ➞ \"214365\"\n",
      "unmix(\"hTsii  s aimex dpus rtni.g\") ➞ \"This is a mixed up string.\"\n",
      "unmix(\"badce\") ➞ \"abcde\"\n"
     ]
    }
   ],
   "source": [
    "def unmix(string):\n",
    "    \n",
    "    output = ''\n",
    "    l = len(string)\n",
    "    if l%2 != 0:\n",
    "        for i in range(0,l-1,2):\n",
    "            output = output + string[i+1] + string[i]\n",
    "        output = output + string[-1]\n",
    "    else:\n",
    "        for i in range(0,l,2):\n",
    "            output = output + string[i+1] + string[i]\n",
    "        \n",
    "    print(f'unmix(\"{string}\") ➞ \"{output}\"')\n",
    "\n",
    "unmix(\"123456\")\n",
    "unmix(\"hTsii  s aimex dpus rtni.g\")\n",
    "unmix(\"badce\")"
   ]
  }
 ],
 "metadata": {
  "kernelspec": {
   "display_name": "Python 3 (ipykernel)",
   "language": "python",
   "name": "python3"
  },
  "language_info": {
   "codemirror_mode": {
    "name": "ipython",
    "version": 3
   },
   "file_extension": ".py",
   "mimetype": "text/x-python",
   "name": "python",
   "nbconvert_exporter": "python",
   "pygments_lexer": "ipython3",
   "version": "3.9.7"
  }
 },
 "nbformat": 4,
 "nbformat_minor": 5
}
