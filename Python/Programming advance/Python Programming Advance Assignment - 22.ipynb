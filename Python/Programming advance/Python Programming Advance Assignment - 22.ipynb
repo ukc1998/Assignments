{
 "cells": [
  {
   "cell_type": "markdown",
   "id": "cbaa49cd",
   "metadata": {},
   "source": [
    "# Python Programming Advance Assignment - 22"
   ]
  },
  {
   "cell_type": "markdown",
   "id": "d7cd7750",
   "metadata": {},
   "source": []
  },
  {
   "cell_type": "markdown",
   "id": "86a327fb",
   "metadata": {},
   "source": []
  },
  {
   "cell_type": "markdown",
   "id": "8280e963",
   "metadata": {},
   "source": [
    "### Question 1. Create a class Smoothie and do the following:\n",
    "\n",
    "    - Create an instance attribute called ingredients.\n",
    "    - Create a get_cost method which calculates the total cost of the ingredients used to make the smoothie.\n",
    "    - Create a get_price method which returns the number from get_cost plus the number from get_cost multiplied by 1.5. Round to two decimal places.\n",
    "    - Create a get_name method which gets the ingredients and puts them in alphabetical order into a nice descriptive sentence. If there are multiple ingredients, add the word \"Fusion\" to the end but otherwise, add \"Smoothie\". Remember to change \"-berries\" to \"-berry\". See the examples below.\n",
    "\n",
    "`Ingredient\t   Price`\n",
    "<br>\n",
    "<br>\n",
    "`Strawberries   $1.50`\n",
    "<br>\n",
    "`Banana\t       $0.50`\n",
    "<br>\n",
    "`Mango\t       $2.50`\n",
    "<br>\n",
    "`Blueberries\t   $1.00`\n",
    "<br>\n",
    "`Raspberries\t   $1.00`\n",
    "<br>\n",
    "`Apple\t       $1.75`\n",
    "<br>\n",
    "`Pineapple\t   $3.50`\n",
    "\n",
    "Examples\n",
    "\n",
    "s1 = Smoothie([\"Banana\"])\n",
    "\n",
    "s1.ingredients ➞ [\"Banana\"]\n",
    "\n",
    "s1.get_cost() ➞ \"$0.50\"\n",
    "\n",
    "s1.get_price() ➞ \"$1.25\"\n",
    "\n",
    "s1.get_name() ➞ \"Banana Smoothie\"\n",
    "\n",
    "s2 = Smoothie([\"Raspberries\", \"Strawberries\", \"Blueberries\"])\n",
    "\n",
    "s2.ingredients ➞ [\"Raspberries\", \"Strawberries\", \"Blueberries\"]\n",
    "\n",
    "s2.get_cost() ➞ \"$3.50\"\n",
    "\n",
    "s2.get_price() ➞ \"$8.75\"\n",
    "\n",
    "s2.get_name() ➞ \"Blueberry Raspberry Strawberry Fusion\"\n",
    "\n",
    "### Answer:\n",
    "\n"
   ]
  },
  {
   "cell_type": "code",
   "execution_count": 1,
   "id": "70ed7972",
   "metadata": {},
   "outputs": [
    {
     "name": "stdout",
     "output_type": "stream",
     "text": [
      "['Banana']\n",
      "0.5\n",
      "0.75\n",
      "Banana Smoothie\n",
      "\n",
      "['Raspberries', 'Strawberries', 'Blueberries']\n",
      "3.5\n",
      "5.25\n",
      "Blueberries Raspberries Strawberries Fusion\n"
     ]
    }
   ],
   "source": [
    "class Smoothie:\n",
    "    \n",
    "    def __init__(self,ingredients):\n",
    "        self.ingredients = ingredients\n",
    "        \n",
    "    def get_cost(self):\n",
    "        cost = 0\n",
    "        prices = prices = {\"Strawberries\": 1.50,\"Banana\":0.50,\"Mango\":2.50,\n",
    "                \"Blueberries\":1.00,\"Raspberries\":1.00,\"Apple1\":0.75,\n",
    "                \"Pineapple\":3.50}\n",
    "        for fruit in self.ingredients:\n",
    "            cost += prices[fruit]\n",
    "        return round(cost, 2)\n",
    "    \n",
    "    def get_price(self):\n",
    "        return round(self.get_cost()*1.5, 2)\n",
    "    \n",
    "    def get_name(self):\n",
    "        if len(self.ingredients) == 1:\n",
    "            return self.ingredients[0] + \" Smoothie\"\n",
    "        else:\n",
    "            self.ingredients.sort()\n",
    "            self.ingredients.append(\"Fusion\")\n",
    "            return \" \".join(self.ingredients)\n",
    "        \n",
    "s1 = Smoothie([\"Banana\"])\n",
    "print(s1.ingredients)\n",
    "print(s1.get_cost())\n",
    "print(s1.get_price()) \n",
    "print(s1.get_name())\n",
    "\n",
    "print()\n",
    "s2 = Smoothie([\"Raspberries\", \"Strawberries\", \"Blueberries\"])\n",
    "print(s2.ingredients)\n",
    "print(s2.get_cost())\n",
    "print(s2.get_price()) \n",
    "print(s2.get_name())"
   ]
  },
  {
   "cell_type": "markdown",
   "id": "ddef6f21",
   "metadata": {},
   "source": []
  },
  {
   "cell_type": "markdown",
   "id": "87316619",
   "metadata": {},
   "source": []
  },
  {
   "cell_type": "markdown",
   "id": "87c32763",
   "metadata": {},
   "source": [
    "### Question 2. Your task is to write a program which allows teachers to create a multiple choice test in a class called Testpaper and to be also able to assign a minimum pass mark. The testpaper's subject should also be included. The attributes are in the following order:\n",
    "\n",
    "  1. subject\n",
    "  2. markscheme\n",
    "  3. pass_mark\n",
    "\n",
    "As well as that, we need to create student objects to take the test itself! Create another class called Student and do the following:\n",
    "\n",
    "  - Create an attribute called tests_taken and set the default as 'No tests taken'.\n",
    "  - Make a method called take_test(), which takes in the testpaper object they are completing and the student's answers. Compare what they wrote to the mark scheme, and append to the/create a dictionary assigned to tests_taken in the way as shown in the point below.\n",
    "  - Each key in the dictionary should be the testpaper subject and each value should be a string in the format seen in the examples below (whether or not the student has failed, and their percentage in brackets).\n",
    "\n",
    "Examples\n",
    "\n",
    "`paper1 = Testpaper(\"Maths\", [\"1A\", \"2C\", \"3D\", \"4A\", \"5A\"], \"60%\")\n",
    "paper2 = Testpaper(\"Chemistry\", [\"1C\", \"2C\", \"3D\", \"4A\"], \"75%\")\n",
    "paper3 = Testpaper(\"Computing\", [\"1D\", \"2C\", \"3C\", \"4B\", \"5D\", \"6C\", \"7A\"], \"75%\")`\n",
    "\n",
    "`student1 = Student()\n",
    "student2 = Student()`\n",
    "\n",
    "`student1.tests_taken ➞ \"No tests taken\"\n",
    "student1.take_test(paper1, [\"1A\", \"2D\", \"3D\", \"4A\", \"5A\"])\n",
    "student1.tests_taken ➞ {\"Maths\" : \"Passed! (80%)\"}`\n",
    "\n",
    "`student2.take_test(paper2, [\"1C\", \"2D\", \"3A\", \"4C\"])\n",
    "student2.take_test(paper3, [\"1A\", \"2C\", \"3A\", \"4C\", \"5D\", \"6C\", \"7B\"])\n",
    "student2.tests_taken ➞ {\"Chemistry\" : \"Failed! (25%)\", \"Computing\" : \"Failed! (43%)\"}`\n",
    "\n",
    "### Answer:\n",
    "\n"
   ]
  },
  {
   "cell_type": "code",
   "execution_count": 2,
   "id": "ac7fade4",
   "metadata": {},
   "outputs": [
    {
     "name": "stdout",
     "output_type": "stream",
     "text": [
      "No tests taken\n",
      "{'Maths': 'Passed! (80%)'}\n",
      "{'Chemistry': 'Failed! (25%)', 'Computing': 'Failed! (43%)'}\n"
     ]
    }
   ],
   "source": [
    "class Testpaper:\n",
    "    def __init__(self,subject,markscheme,pass_mark):\n",
    "        self.subject = subject\n",
    "        self.markscheme = markscheme\n",
    "        self.pass_mark = pass_mark\n",
    "        \n",
    "class Student:\n",
    "    def __init__(self):\n",
    "        self.tests_taken = \"No tests taken\"\n",
    "    \n",
    "    def take_test(self, testpaper:Testpaper, answers):\n",
    "        if self.tests_taken == \"No tests taken\":\n",
    "            self.tests_taken = {}\n",
    "        correct = 0\n",
    "        for answer in answers:\n",
    "            if answer in testpaper.markscheme:\n",
    "                correct +=1\n",
    "        score = int(round((correct/len(testpaper.markscheme))*100, 0))\n",
    "        if score >= int(testpaper.pass_mark.strip(\"%\")):\n",
    "            self.tests_taken[testpaper.subject] = f\"Passed! ({score}%)\"\n",
    "        else:\n",
    "            self.tests_taken[testpaper.subject] = f\"Failed! ({score}%)\"\n",
    "            \n",
    "            \n",
    "paper1 = Testpaper(\"Maths\", [\"1A\", \"2C\", \"3D\", \"4A\", \"5A\"], \"60%\") \n",
    "paper2 = Testpaper(\"Chemistry\", [\"1C\", \"2C\", \"3D\", \"4A\"], \"75%\") \n",
    "paper3 = Testpaper(\"Computing\", [\"1D\", \"2C\", \"3C\", \"4B\", \"5D\", \"6C\", \"7A\"], \"75%\") \n",
    "student1 = Student() \n",
    "student2 = Student() \n",
    "\n",
    "print(student1.tests_taken)\n",
    "student1.take_test(paper1, [\"1A\", \"2D\", \"3D\", \"4A\", \"5A\"]) \n",
    "print(student1.tests_taken)\n",
    "student2.take_test(paper2, [\"1C\", \"2D\", \"3A\", \"4C\"]) \n",
    "student2.take_test(paper3, [\"1A\", \"2C\", \"3A\", \"4C\", \"5D\", \"6C\", \"7B\"]) \n",
    "print(student2.tests_taken)\n"
   ]
  },
  {
   "cell_type": "markdown",
   "id": "6eb78293",
   "metadata": {},
   "source": []
  },
  {
   "cell_type": "markdown",
   "id": "845fe9ef",
   "metadata": {},
   "source": []
  },
  {
   "cell_type": "markdown",
   "id": "15bc0119",
   "metadata": {},
   "source": [
    "### Question 3. Due to unforseen circumstances in Suburbia, the trains will be delayed by a further 10 minutes.\n",
    "\n",
    "Create a function that will help to plan out and manage these delays! Create a function called manage_delays that does the following:\n",
    "\n",
    "   - Parameters will be the train object, a destination and number of minutes the delay is.\n",
    "   - Increment to the train object's expected_time by the delay, if the destination given is in the train object's destinations.\n",
    "\n",
    "Examples\n",
    "\n",
    "`trains = [`\n",
    "<br>\n",
    "  `Train([\"Townsville\", \"Suburbia\", \"Urbantska\"], \"13:04\"),`\n",
    " <br>\n",
    "  `Train([\"Farmsdale\", \"Suburbia\", \"Lakeside Valley\"], \"13:20\"),`\n",
    " <br>\n",
    "  `Train([\"Suburbia\", \"Townsville\", \"Lakeside Valley\"], \"13:22\")`\n",
    " <br>\n",
    "`]`\n",
    "\n",
    "`for t in trains:\n",
    "    manage_delays(t, \"Lakeside Valley\", 60)`\n",
    "\n",
    "trains[0].expected_time ➞ \"13:04\"\n",
    "\n",
    "trains[1].expected_time ➞ \"14:20\"\n",
    "\n",
    "trains[2].expected_time ➞ \"14:22\"\n",
    "\n",
    "### Answer:\n",
    "\n"
   ]
  },
  {
   "cell_type": "code",
   "execution_count": 3,
   "id": "e6de8744",
   "metadata": {},
   "outputs": [
    {
     "name": "stdout",
     "output_type": "stream",
     "text": [
      "13:04\n",
      "14:20\n",
      "14:22\n"
     ]
    }
   ],
   "source": [
    "def manage_delays(t, destination, delay):\n",
    "    \n",
    "    import datetime\n",
    "    if destination in t.stations:\n",
    "        delay_time = datetime.datetime.strptime(t.arrival, \"%H:%M\") + datetime.timedelta(minutes = delay)\n",
    "        x = str(delay_time.time())\n",
    "        t.expected_time = x[:-3]\n",
    "        return t.expected_time\n",
    "        \n",
    "\n",
    "class Train:\n",
    "    def __init__(self, stations, arrival):\n",
    "        self.stations = stations\n",
    "        self.arrival = arrival\n",
    "        self.expected_time = arrival\n",
    "        \n",
    "        \n",
    "    \n",
    "trains = [Train([\"Townsville\", \"Suburbia\", \"Urbantska\"], \"13:04\"),\n",
    "  Train([\"Farmsdale\", \"Suburbia\", \"Lakeside Valley\"], \"13:20\"),\n",
    "  Train([\"Suburbia\", \"Townsville\", \"Lakeside Valley\"], \"13:22\")]\n",
    "    \n",
    "for t in trains:\n",
    "    manage_delays(t, \"Lakeside Valley\", 60)\n",
    "\n",
    "print(trains[0].expected_time)\n",
    "print(trains[1].expected_time)\n",
    "print(trains[2].expected_time)"
   ]
  },
  {
   "cell_type": "markdown",
   "id": "5c0b1937",
   "metadata": {},
   "source": []
  },
  {
   "cell_type": "markdown",
   "id": "5c243210",
   "metadata": {},
   "source": []
  },
  {
   "cell_type": "markdown",
   "id": "1f02979c",
   "metadata": {},
   "source": [
    "### Question 4. Ted works as a computer programmer at Minecraft Inc. His boss has just given him an important assignment to update the code for the minecart tracks by the end of April. However, he has recently had to self-isolate due to Corvid-19 and has left the code for the tracks BACK AT WORK!! He has the shorthand for the tracks he's supposed to look at, and where the carts are suppost to end up, but not the actual code.\n",
    "\n",
    "He knows that:\n",
    "\n",
    "  1. \"-->\" = \"Speed-Up Track\" ⁠— If a minecart interacts with this track, it's velocity increases by 2.67 BPS unless it's at its maximum speed of 8 BPS.\n",
    "  2. \"<-->\" = \"Powered Track\" ⁠— If a minecart interacts with this track, it's velocity remains the same.\n",
    "  3. \"<--\" = \"Slow-Down Track\" ⁠— If a minecart interacts with this track, it's velocity decreases by 2.67 BPS unless it's velocity equals 0, at which point it stops.\n",
    "  4. \"---\" = \"Unpowered Track\" ⁠— If a minecart interacts with this track, it's velocity decreases by 1 BPS unless it's velocity equals 0, at which point it stops.\n",
    "\n",
    " Help Ted by writing a class for the tracks that interact with the provided Minecart class as shown above. And then write a function that will take a list of the shorthand tracks and:\n",
    "\n",
    "   - If the Minecart reaches the last peice of Track, return True.\n",
    "   - Else return the index of the Track where the Minecart stops.\n",
    "\n",
    "Examples\n",
    "\n",
    "mine_run([\"-->\", \"-->\", \"-->\", \"<--\", \"<--\", \"<--\"]) ➞ True\n",
    "\n",
    "mine_run([\"-->\", \"<--\", \"-->\", \"-->\", \"<-->\", \"---\"]) ➞ 1\n",
    "\n",
    "### Answer:\n",
    "\n"
   ]
  },
  {
   "cell_type": "code",
   "execution_count": 4,
   "id": "5750851f",
   "metadata": {},
   "outputs": [
    {
     "name": "stdout",
     "output_type": "stream",
     "text": [
      "mine_run(['-->', '-->', '-->', '<--', '<--', '<--']) ➞ True\n",
      "mine_run(['-->', '<--', '-->', '-->', '<-->', '---']) ➞ 1\n"
     ]
    }
   ],
   "source": [
    "class minecraft:\n",
    "    def __init__(self,tracks):\n",
    "        self.tracks = tracks\n",
    "        \n",
    "def mine_run(tracks):\n",
    "    mine_vel = 0  \n",
    "    output = 0\n",
    "    for ele in range(len(tracks)):\n",
    "        if tracks[ele] == '-->':\n",
    "            if mine_vel+2.67 >= 8: mine_vel = 8 # resetted to max mine_val\n",
    "            else: mine_vel +=2.67\n",
    "        elif tracks[ele] == '<-->': continue\n",
    "        elif tracks[ele] == '<--':\n",
    "            if mine_vel-2.67 <= 0: output = True if ele == len(tracks)-1 else ele; break\n",
    "            else: mine_vel -=2.67\n",
    "        else:\n",
    "            if mine_vel-1 <= 0: output = True if ele == len(tracks)-1 else ele; break\n",
    "            else: mine_vel -=1        \n",
    "    return output\n",
    "\n",
    "mine_track_1 = minecraft([\"-->\", \"-->\", \"-->\", \"<--\", \"<--\", \"<--\"])\n",
    "print(f'mine_run({mine_track_1.tracks}) ➞ {mine_run(mine_track_1.tracks)}')\n",
    "mine_track_2 = minecraft([\"-->\", \"<--\", \"-->\", \"-->\", \"<-->\", \"---\"])\n",
    "print(f'mine_run({mine_track_2.tracks}) ➞ {mine_run(mine_track_2.tracks)}')"
   ]
  },
  {
   "cell_type": "markdown",
   "id": "fadb186d",
   "metadata": {},
   "source": []
  },
  {
   "cell_type": "markdown",
   "id": "2beb5ee6",
   "metadata": {},
   "source": []
  },
  {
   "cell_type": "markdown",
   "id": "b0fe58d4",
   "metadata": {},
   "source": [
    "### Question 5. Make a Rectangle class with four parameters, an x, a y (representing the top-left corner of the rectangle), a width and a height exclusively in that order.\n",
    "\n",
    "Lastly, make a function intersecting that takes two Rectangle objects and returns True if those objects are intersecting (colliding), else return False.\n",
    "\n",
    "Examples\n",
    "\n",
    "a = Rectangle(10, 20, 100, 20)\n",
    "<br>\n",
    "b = Rectangle(10, 40, 15, 20)\n",
    "<br>\n",
    "c = Rectangle(50, 50, 20, 30)\n",
    "\n",
    "intersecting(a, b) ➞ True\n",
    "\n",
    "intersecting(a, c) ➞ False\n",
    "\n",
    "intersecting(b, c) ➞ True\n",
    "\n",
    "### Answer:\n",
    "\n"
   ]
  },
  {
   "cell_type": "code",
   "execution_count": 5,
   "id": "1a1e7740",
   "metadata": {},
   "outputs": [
    {
     "name": "stdout",
     "output_type": "stream",
     "text": [
      "intersecting(dict_values([10, 20, 100, 20]), dict_values([10, 40, 15, 20])) ➞ True\n",
      "intersecting(dict_values([10, 20, 100, 20]), dict_values([50, 50, 20, 30])) ➞ False\n",
      "intersecting(dict_values([10, 40, 15, 20]), dict_values([50, 50, 20, 30])) ➞ True\n"
     ]
    }
   ],
   "source": [
    "class Rectangle:\n",
    "    def __init__(self, x, y, width, height):\n",
    "        self.x = x\n",
    "        self.y = y\n",
    "        self.width = width\n",
    "        self.height = height\n",
    "        \n",
    "def intersecting(rectangle1, rectangle2):\n",
    "    output = False\n",
    "    if (rectangle2.y-rectangle1.y == rectangle1.height) or (rectangle2.y-rectangle1.y + rectangle1.height == rectangle2.height):\n",
    "        output = True\n",
    "    print(f'intersecting{rectangle1.__dict__.values(),rectangle2.__dict__.values()} ➞ {output}')\n",
    "    \n",
    "a = Rectangle(10, 20, 100, 20)\n",
    "b = Rectangle(10, 40, 15, 20)\n",
    "c = Rectangle(50, 50, 20, 30)\n",
    "intersecting(a, b)\n",
    "intersecting(a, c)\n",
    "intersecting(b, c)"
   ]
  }
 ],
 "metadata": {
  "kernelspec": {
   "display_name": "Python 3 (ipykernel)",
   "language": "python",
   "name": "python3"
  },
  "language_info": {
   "codemirror_mode": {
    "name": "ipython",
    "version": 3
   },
   "file_extension": ".py",
   "mimetype": "text/x-python",
   "name": "python",
   "nbconvert_exporter": "python",
   "pygments_lexer": "ipython3",
   "version": "3.9.7"
  }
 },
 "nbformat": 4,
 "nbformat_minor": 5
}
