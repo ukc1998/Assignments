{
 "cells": [
  {
   "cell_type": "markdown",
   "id": "0d438127",
   "metadata": {},
   "source": [
    "# Python Advance Assignment - 1"
   ]
  },
  {
   "cell_type": "markdown",
   "id": "9fc096bc",
   "metadata": {},
   "source": []
  },
  {
   "cell_type": "markdown",
   "id": "7d4cf11c",
   "metadata": {},
   "source": []
  },
  {
   "cell_type": "markdown",
   "id": "e50abc90",
   "metadata": {},
   "source": [
    "### Question Q1. \n",
    "What is the purpose of Python's OOP?\n",
    "\n",
    "#### Answer:\n",
    "\n",
    "Object-oriented programming is a programming paradigm that provides a means of structuring programs so that properties and behaviors are bundled into individual objects\n",
    "\n",
    "*In Python, object-oriented Programming (OOPs) uses objects and classes in programming.\n",
    "<br>\n",
    "*It aims to implement real-world entities like inheritance, polymorphisms, encapsulation, etc. in the programming.\n",
    "<br>\n",
    "The main concept of OOPs is to bind the data and the functions that work on that together as a single unit so that no other part of the code can access this data.\n",
    "\n",
    "\n",
    "It comes up with the following advantages:\n",
    "\n",
    "1. It helps to divide our over all program into different small segments and thus making it solving easy with the use of objects.\n",
    "<br>\n",
    "2. Helps in easy maintenance and modification of existing program.\n",
    "<br>\n",
    "3. Multiple instances of an object can be made.\n",
    "<br>\n",
    "4. Data is safe and secure with data abstraction.\n",
    "<br>\n",
    "5. Polymorphism allows the same interface for different objects, so programmers can write efficient code.\n",
    "<br>\n",
    "6. Inherit feature allows programmer to inhetit the methods from existing programs.\n",
    "<br>\n",
    "7. Since the class is sharable, the code can be reused."
   ]
  },
  {
   "cell_type": "markdown",
   "id": "a97db84b",
   "metadata": {},
   "source": []
  },
  {
   "cell_type": "markdown",
   "id": "140e0881",
   "metadata": {},
   "source": []
  },
  {
   "cell_type": "markdown",
   "id": "b52b3ffe",
   "metadata": {},
   "source": [
    "### Question Q2. \n",
    "Where does an inheritance search look for an attribute?\n",
    "\n",
    "#### Answer:\n",
    "\n",
    "Inheritance searche looks for an attribute in an upward tree of attributes. It first searches for the attribute in its instance and then looks in the class it is generated from, to all super classes listed in its class header."
   ]
  },
  {
   "cell_type": "markdown",
   "id": "727b4ffe",
   "metadata": {},
   "source": []
  },
  {
   "cell_type": "markdown",
   "id": "71c01587",
   "metadata": {},
   "source": []
  },
  {
   "attachments": {},
   "cell_type": "markdown",
   "id": "e610168c",
   "metadata": {},
   "source": [
    "### Question Q3. \n",
    "How do you distinguish between a class object and an instance object?\n",
    "\n",
    "#### Answer:\n",
    "\n",
    "The differences between a class object and an instance object are:\n",
    "\n",
    "1. Class is a template for creating objects whereas object is an instance of class\n",
    "2. Seperate memory is allocated for each object whenever an object is created. but for a class this does not happen.\n",
    "3. A Class is created once. Many objects are created using a class.\n",
    "4. As Classes have no allocated memory, they can't be manipulated, but objects can be manipulated.\n",
    "5. class object is written as like a class name with paranthesis at right side an object at left side.and instance variable is initalized by self.instance_variable."
   ]
  },
  {
   "cell_type": "markdown",
   "id": "e7c72a05",
   "metadata": {},
   "source": []
  },
  {
   "cell_type": "markdown",
   "id": "f40b28bd",
   "metadata": {},
   "source": []
  },
  {
   "cell_type": "markdown",
   "id": "a0441635",
   "metadata": {},
   "source": [
    "### Question Q4. \n",
    "What makes the first argument in a class’s method function special?\n",
    "\n",
    "#### Answer:\n",
    "\n",
    "The the first argument in a class’s method function is nothing but a pointer by the help of which we can access the attributes and methods of the class in python. It binds the attributes with the given arguments."
   ]
  },
  {
   "cell_type": "markdown",
   "id": "52bb6e83",
   "metadata": {},
   "source": []
  },
  {
   "cell_type": "markdown",
   "id": "06b31303",
   "metadata": {},
   "source": []
  },
  {
   "cell_type": "markdown",
   "id": "a3acf82c",
   "metadata": {},
   "source": [
    "### Question Q5. \n",
    "What is the purpose of the __init__ method?\n",
    "\n",
    "#### Answer:\n",
    "\n",
    "__init__ is a reseved method in python classes. It serves the role of a constructor in object oriented terminology. This method is called when an object is created from a class and it allows the class to initialize the attributes of the class."
   ]
  },
  {
   "cell_type": "markdown",
   "id": "460f953c",
   "metadata": {},
   "source": []
  },
  {
   "cell_type": "markdown",
   "id": "f1fa522f",
   "metadata": {},
   "source": []
  },
  {
   "cell_type": "markdown",
   "id": "288719b5",
   "metadata": {},
   "source": [
    "### Question Q6. \n",
    "What is the process for creating a class instance?\n",
    "\n",
    "#### Answer:\n",
    "\n",
    "To create instances of a class,\n",
    "\n",
    "1. We create a class\n",
    "<br>\n",
    "2. We call the class using class name and assign it to a variable (object variable)\n",
    "<br>\n",
    "3. We pass in whatever arguments its`init` method accepts"
   ]
  },
  {
   "cell_type": "markdown",
   "id": "518345cd",
   "metadata": {},
   "source": []
  },
  {
   "cell_type": "markdown",
   "id": "a878bd7d",
   "metadata": {},
   "source": []
  },
  {
   "cell_type": "markdown",
   "id": "8cf66651",
   "metadata": {},
   "source": [
    "### Question Q7. \n",
    "What is the process for creating a class?\n",
    "\n",
    "#### Answer:\n",
    "\n",
    "`class` keyword is used to created a class in python. The syntax to create a class in python is `class <classname>:`\n",
    "\n",
    "Class will have doc string.\n",
    "<br>\n",
    "Class should have at least one statements."
   ]
  },
  {
   "cell_type": "markdown",
   "id": "579dbec2",
   "metadata": {},
   "source": []
  },
  {
   "cell_type": "markdown",
   "id": "f4faf06b",
   "metadata": {},
   "source": []
  },
  {
   "cell_type": "markdown",
   "id": "bb63bb2f",
   "metadata": {},
   "source": [
    "### Question Q8. \n",
    "How would you define the superclasses of a class?\n",
    "\n",
    "#### Answer:\n",
    "Superclass/Parent class is given as a arugment to the child class .\n",
    "\n",
    "E.g. `class Employee(Person):` Here child class `Employee` inherits attributes and methods from Superclass/Parent`Person`"
   ]
  }
 ],
 "metadata": {
  "kernelspec": {
   "display_name": "Python 3 (ipykernel)",
   "language": "python",
   "name": "python3"
  },
  "language_info": {
   "codemirror_mode": {
    "name": "ipython",
    "version": 3
   },
   "file_extension": ".py",
   "mimetype": "text/x-python",
   "name": "python",
   "nbconvert_exporter": "python",
   "pygments_lexer": "ipython3",
   "version": "3.9.7"
  }
 },
 "nbformat": 4,
 "nbformat_minor": 5
}
