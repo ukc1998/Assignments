{
 "cells": [
  {
   "cell_type": "markdown",
   "id": "ba5209f8",
   "metadata": {},
   "source": [
    "# Python Advance Assignment - 2"
   ]
  },
  {
   "cell_type": "markdown",
   "id": "7f2181a3",
   "metadata": {},
   "source": []
  },
  {
   "cell_type": "markdown",
   "id": "38e3d414",
   "metadata": {},
   "source": []
  },
  {
   "cell_type": "markdown",
   "id": "b812ef18",
   "metadata": {},
   "source": [
    "### Question Q1. \n",
    "##### What is the relationship between classes and modules?\n",
    "\n",
    "##### Answer:\n",
    "\n",
    "In Python, <b>`class`</b> is like an outline/blueprint/mold for creating a new object. An object is anything that you wish to manipulate or change while working through the code. Every time a class object is instantiated, which is when we declare a variable, a new object is initiated from scratch.\n",
    "\n",
    "Whereas in Python, <b>`modules`</b> are simply files with the <b>`.py`</b> extension containing Python code that can be imported inside another Python Program. In simple terms, we can consider a module to be the same as a code library or a file that contains a set of functions/Classes that we want to include in our application."
   ]
  },
  {
   "cell_type": "markdown",
   "id": "e7b33c3a",
   "metadata": {},
   "source": []
  },
  {
   "cell_type": "markdown",
   "id": "654655e9",
   "metadata": {},
   "source": []
  },
  {
   "cell_type": "markdown",
   "id": "65fc1319",
   "metadata": {},
   "source": [
    "### Question Q2. \n",
    "##### How do you make instances and classes?\n",
    "\n",
    "##### Answer:\n",
    "\n",
    "For creating a class instance, we call a class by its name and pass the arguments which its <b>`__init__`</b> method accepts.\n",
    "\n",
    "<b>Example:</b> `vishwak = employee('Male',20000)` Here `vishwak` is an instance of class `employee` with attriubutes `'Male'` and `20000`.\n",
    "\n",
    "Whereas for creating a class, we use the `Class` keyword. `Class` keyword is followed by `classname` and `semicolon`.\n",
    "\n",
    "<b>`Example`</b>: Here `Employee` is a class created with class keyword with arguments `gender` and `salary`.\n",
    "\n",
    "`class Employee:\n",
    "    def __init__(self, gender,salary):\n",
    "        self.gender = gender\n",
    "        self.salary = salary`"
   ]
  },
  {
   "cell_type": "markdown",
   "id": "39d4a889",
   "metadata": {},
   "source": []
  },
  {
   "cell_type": "markdown",
   "id": "5f9c7a53",
   "metadata": {},
   "source": []
  },
  {
   "cell_type": "markdown",
   "id": "b496af07",
   "metadata": {},
   "source": [
    "### Question Q3. \n",
    "##### Where and how should be class attributes created?\n",
    "\n",
    "##### Answer:\n",
    "\n",
    "Class attributes or Class level Attributes belong to the class itself. These attributes will be shared by all the instances of the class. Hence these attributes are usually created/defined in the top of class definition outside all methods.\n",
    "\n",
    "Example: In the below code we are defining a class attribute called `no_of_wheels` which will be shared by all the instances of the class `Car`.\n",
    "\n",
    "`class Car:\n",
    "    no_of_wheels = 4; # this is a class attribute\n",
    "    def __init__(self,color,price,engine):\n",
    "        self.color = color # All this are instance attributes\n",
    "        self.price = price\n",
    "        self.engine = engine`"
   ]
  },
  {
   "cell_type": "markdown",
   "id": "4ce662b7",
   "metadata": {},
   "source": []
  },
  {
   "cell_type": "markdown",
   "id": "fb6a1510",
   "metadata": {},
   "source": []
  },
  {
   "cell_type": "markdown",
   "id": "a0118777",
   "metadata": {},
   "source": [
    "### Question Q4. \n",
    "##### Where and how are instance attributes created?\n",
    "\n",
    "##### Answer:\n",
    "\n",
    "Instances attributes are passed to the class when an object of the class is created. Unlike class attributes, instance attributes are not shared by all objects of the classs. instead each object maintains its own copy of instance attributes at object level. whereas incase of class attributes all instances of class refer to a single copy. Usually instance attributes are defined within the `__init__` method of class\n",
    "\n",
    "<b>`Example:`</b> In the below sample code we are creating a class Car with instance varaibles color, price, engine, which will be provided when an instance of class Car is created.\n",
    "\n",
    "`class Car:\n",
    "    def __init__(self,color,price,engine):\n",
    "        self.color = color # All this are instance attributes\n",
    "        self.price = price\n",
    "        self.engine = engine`\n",
    "\n",
    "`nexon_ev = Car('Indigo Blue', 1400000, 'electric')\n",
    "safari = Car('Pearl White',2100000, 'petrol')`\n",
    "\n",
    "nexon_ev, safari are both the instances of class Car with different instance variables."
   ]
  },
  {
   "cell_type": "markdown",
   "id": "e3ef8bf8",
   "metadata": {},
   "source": []
  },
  {
   "cell_type": "markdown",
   "id": "32f95007",
   "metadata": {},
   "source": []
  },
  {
   "cell_type": "markdown",
   "id": "22185ff8",
   "metadata": {},
   "source": [
    "### Question Q5. \n",
    "##### What does the term 'self' in a Python class mean?\n",
    "\n",
    "##### Answer:\n",
    "\n",
    "<b>`self`</b> represents the instance of the class (it represents the object itself). It is nothing but a pointer by the help of which we can access the attributes and methods of the class in python. It binds the attributes with the given arguments."
   ]
  },
  {
   "cell_type": "markdown",
   "id": "99cf6d03",
   "metadata": {},
   "source": []
  },
  {
   "cell_type": "markdown",
   "id": "96a9c203",
   "metadata": {},
   "source": []
  },
  {
   "cell_type": "markdown",
   "id": "7d914bcf",
   "metadata": {},
   "source": [
    "### Question Q6. \n",
    "##### How does a Python class handle operator overloading?\n",
    "\n",
    "##### Answer:\n",
    "\n",
    "Python Classes handle operator overloading by using special methods called <b>Magic methods</b>. These special methods usually begin and end with `__` (double underscore)\n",
    "<b>Example:</b> Magic methods for basic arithmetic operators are:\n",
    "\n",
    "`+ ---> __add__()`\n",
    "<br>\n",
    "`- ---> __sub__()`\n",
    "<br>\n",
    "`* ---> __mul__()`\n",
    "<br>\n",
    "`/ ---> __div__()`\n",
    "\n",
    "Following are some of the operator overloading magic function from python\n",
    "\n",
    "\n",
    "`/  ---> __truediv__()\n",
    "// ---> __floordiv__()\n",
    "% --->  __mod__()\n",
    "** ---> __pow__()`"
   ]
  },
  {
   "cell_type": "code",
   "execution_count": 1,
   "id": "0a093ce4",
   "metadata": {},
   "outputs": [
    {
     "name": "stdout",
     "output_type": "stream",
     "text": [
      "The total number of pages in 2 books is 300\n"
     ]
    }
   ],
   "source": [
    "class Book:\n",
    "    def __init__(self,pages):\n",
    "        self.pages = pages\n",
    "    def __add__(self,other):\n",
    "        return self.pages + other.pages\n",
    "b1 = Book(100)\n",
    "b2 = Book(200)\n",
    "print(f'The total number of pages in 2 books is {b1+b2}')"
   ]
  },
  {
   "cell_type": "markdown",
   "id": "426866a3",
   "metadata": {},
   "source": []
  },
  {
   "cell_type": "markdown",
   "id": "6f914305",
   "metadata": {},
   "source": []
  },
  {
   "cell_type": "markdown",
   "id": "7d0ccf5c",
   "metadata": {},
   "source": [
    "### Question Q7. \n",
    "##### When do you consider allowing operator overloading of your classes?\n",
    "\n",
    "##### Answer:\n",
    "\n",
    " When we want to have different meanings for the same operator accroding to the context, we use operator overloading."
   ]
  },
  {
   "cell_type": "markdown",
   "id": "120e5542",
   "metadata": {},
   "source": []
  },
  {
   "cell_type": "markdown",
   "id": "06677d20",
   "metadata": {},
   "source": []
  },
  {
   "cell_type": "markdown",
   "id": "5c0eda43",
   "metadata": {},
   "source": [
    "### Question Q8. \n",
    "##### What is the most popular form of operator overloading?\n",
    "\n",
    "##### Answer:\n",
    "\n",
    "The most popular form of operator overloading in python is by special methods called `Magic methods`. Which usually beign and end with double underscore `__<method name>__`."
   ]
  },
  {
   "cell_type": "code",
   "execution_count": 2,
   "id": "fc37e9f8",
   "metadata": {},
   "outputs": [
    {
     "name": "stdout",
     "output_type": "stream",
     "text": [
      "Sum -> 3\n",
      "String Concatenation -> Utkarsh Choubey\n"
     ]
    }
   ],
   "source": [
    "class A:\n",
    "    def __init__(self,a):\n",
    "        self.a = a\n",
    "    def __add__(self,o):\n",
    "        return self.a+o.a\n",
    "obj1 = A(1)\n",
    "obj2 = A(2)\n",
    "obj3 = A('Utkarsh')\n",
    "obj4 = A(' Choubey')\n",
    "print(f'Sum -> {obj1+obj2}')\n",
    "print(f'String Concatenation -> {obj3+obj4}')"
   ]
  },
  {
   "cell_type": "markdown",
   "id": "7cea3e51",
   "metadata": {},
   "source": []
  },
  {
   "cell_type": "markdown",
   "id": "5dded77a",
   "metadata": {},
   "source": []
  },
  {
   "cell_type": "markdown",
   "id": "98a5b908",
   "metadata": {},
   "source": [
    "### Question Q9. \n",
    "##### What are the two most important concepts to grasp in order to comprehend Python OOP code?\n",
    "\n",
    "##### Answer:\n",
    "\n",
    "`Classes` and `objects` are the two concepts to comprehend python OOP code as more formally objects are entities that represent instances of general abstract concept called `class`.\n",
    "\n",
    "Along with classes and objects the important concepts to grasp are:\n",
    "\n",
    "1. Inheritence\n",
    "<br>\n",
    "2. Abstraction\n",
    "<br>\n",
    "3. Polymorphism\n",
    "<br>\n",
    "4. Encapsulation"
   ]
  }
 ],
 "metadata": {
  "kernelspec": {
   "display_name": "Python 3 (ipykernel)",
   "language": "python",
   "name": "python3"
  },
  "language_info": {
   "codemirror_mode": {
    "name": "ipython",
    "version": 3
   },
   "file_extension": ".py",
   "mimetype": "text/x-python",
   "name": "python",
   "nbconvert_exporter": "python",
   "pygments_lexer": "ipython3",
   "version": "3.9.7"
  }
 },
 "nbformat": 4,
 "nbformat_minor": 5
}
