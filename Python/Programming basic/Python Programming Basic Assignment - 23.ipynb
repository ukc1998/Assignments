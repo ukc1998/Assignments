{
 "cells": [
  {
   "cell_type": "markdown",
   "id": "e1cf5fca",
   "metadata": {},
   "source": [
    "# Python Programming Basic Assignment - 23"
   ]
  },
  {
   "cell_type": "markdown",
   "id": "4a642721",
   "metadata": {},
   "source": []
  },
  {
   "cell_type": "markdown",
   "id": "a3deea0e",
   "metadata": {},
   "source": []
  },
  {
   "cell_type": "markdown",
   "id": "6d83d3d9",
   "metadata": {},
   "source": [
    "### Question 1.\n",
    "##### Create a function that takes a number as an argument and returns True or False depending on whether the number is symmetrical or not. A number is symmetrical when it is the same as its reverse.\n",
    "\n",
    "Examples:\n",
    "\n",
    "is_symmetrical(7227) ➞ True\n",
    "<br>\n",
    "is_symmetrical(12567) ➞ False\n",
    "<br>\n",
    "is_symmetrical(44444444) ➞ True\n",
    "<br>\n",
    "is_symmetrical(9939) ➞ False\n",
    "<br>\n",
    "is_symmetrical(1112111) ➞ True\n",
    "\n",
    "### Answer:\n"
   ]
  },
  {
   "cell_type": "code",
   "execution_count": 1,
   "id": "0ae47df5",
   "metadata": {},
   "outputs": [
    {
     "data": {
      "text/plain": [
       "True"
      ]
     },
     "execution_count": 1,
     "metadata": {},
     "output_type": "execute_result"
    }
   ],
   "source": [
    "def is_symmetrical(number):\n",
    "    \n",
    "    if str(number) == str(number)[::-1]:\n",
    "        return True\n",
    "    else:\n",
    "        return False\n",
    "        \n",
    "is_symmetrical(1112111)"
   ]
  },
  {
   "cell_type": "markdown",
   "id": "95426f59",
   "metadata": {},
   "source": []
  },
  {
   "cell_type": "markdown",
   "id": "2293924f",
   "metadata": {},
   "source": []
  },
  {
   "cell_type": "markdown",
   "id": "6582cf9b",
   "metadata": {},
   "source": [
    "### Question 2.\n",
    "##### Given a string of numbers separated by a comma and space, return the product of the numbers.\n",
    "\n",
    "Examples:\n",
    "\n",
    "multiply_nums(\"2, 3\") ➞ 6\n",
    "<br>\n",
    "multiply_nums(\"1, 2, 3, 4\") ➞ 24\n",
    "<br>\n",
    "multiply_nums(\"54, 75, 453, 0\") ➞ 0\n",
    "<br>\n",
    "multiply_nums(\"10, -2\") ➞ -20\n",
    "\n",
    "### Answer:\n"
   ]
  },
  {
   "cell_type": "code",
   "execution_count": 2,
   "id": "edb015e1",
   "metadata": {},
   "outputs": [
    {
     "data": {
      "text/plain": [
       "24"
      ]
     },
     "execution_count": 2,
     "metadata": {},
     "output_type": "execute_result"
    }
   ],
   "source": [
    "def multiply_nums(String):\n",
    "    \n",
    "    List_ofElements_in_string = String.split(\",\")\n",
    "    product = 1\n",
    "    for i in List_ofElements_in_string:\n",
    "        product = product * int(i)\n",
    "    return product\n",
    "multiply_nums(\"1, 2, 3, 4\")"
   ]
  },
  {
   "cell_type": "markdown",
   "id": "71d4a5de",
   "metadata": {},
   "source": []
  },
  {
   "cell_type": "markdown",
   "id": "1951873c",
   "metadata": {},
   "source": []
  },
  {
   "cell_type": "markdown",
   "id": "72c52953",
   "metadata": {},
   "source": [
    "### Question 3.\n",
    "##### Create a function that squares every digit of a number.\n",
    "\n",
    "Examples:\n",
    "\n",
    "square_digits(9119) ➞ 811181\n",
    "<br>\n",
    "square_digits(2483) ➞ 416649\n",
    "<br>\n",
    "square_digits(3212) ➞ 9414\n",
    "\n",
    "Notes:\n",
    "<br>\n",
    "The function receives an integer and must return an integer.\n",
    "\n",
    "### Answer:\n"
   ]
  },
  {
   "cell_type": "code",
   "execution_count": 3,
   "id": "9feba7a3",
   "metadata": {},
   "outputs": [
    {
     "data": {
      "text/plain": [
       "416649"
      ]
     },
     "execution_count": 3,
     "metadata": {},
     "output_type": "execute_result"
    }
   ],
   "source": [
    "def square_digits(number):\n",
    "    \n",
    "    String = \"\"\n",
    "    for i in str(number):\n",
    "        String = String + str(int(str(i))**2)\n",
    "    return int(String)\n",
    "\n",
    "square_digits(2483)"
   ]
  },
  {
   "cell_type": "markdown",
   "id": "89b9f305",
   "metadata": {},
   "source": []
  },
  {
   "cell_type": "markdown",
   "id": "a04c96c3",
   "metadata": {},
   "source": []
  },
  {
   "cell_type": "markdown",
   "id": "391720c5",
   "metadata": {},
   "source": [
    "### Question 4.\n",
    "##### Create a function that sorts a list and removes all duplicate items from it.\n",
    "\n",
    "Examples:\n",
    "\n",
    "setify([1, 3, 3, 5, 5]) ➞ [1, 3, 5]\n",
    "<br>\n",
    "setify([4, 4, 4, 4]) ➞ [4]\n",
    "<br>\n",
    "setify([5, 7, 8, 9, 10, 15]) ➞ [5, 7, 8, 9, 10, 15]\n",
    "<br>\n",
    "setify([3, 3, 3, 2, 1]) ➞ [1, 2, 3]\n",
    "\n",
    "### Answer:\n"
   ]
  },
  {
   "cell_type": "code",
   "execution_count": 4,
   "id": "4c03a8e8",
   "metadata": {},
   "outputs": [
    {
     "data": {
      "text/plain": [
       "[1, 3, 5]"
      ]
     },
     "execution_count": 4,
     "metadata": {},
     "output_type": "execute_result"
    }
   ],
   "source": [
    "def setify(List):\n",
    "    \n",
    "    return list(set(sorted(List)))\n",
    "\n",
    "setify([1, 3, 3, 5, 5])"
   ]
  },
  {
   "cell_type": "markdown",
   "id": "59854d81",
   "metadata": {},
   "source": []
  },
  {
   "cell_type": "markdown",
   "id": "cee8a911",
   "metadata": {},
   "source": []
  },
  {
   "cell_type": "markdown",
   "id": "a71ed02e",
   "metadata": {},
   "source": [
    "### Question 5.\n",
    "##### Create a function that returns the mean of all digits.\n",
    "\n",
    "Examples:\n",
    "\n",
    "mean(42) ➞ 3\n",
    "<br>\n",
    "mean(12345) ➞ 3\n",
    "<br>\n",
    "mean(666) ➞ 6\n",
    "\n",
    "Notes:\n",
    "<br>\n",
    "  The mean of all digits is the sum of digits / how many digits there are\n",
    "  <br>\n",
    "  (e.g. mean of digits in 512 is (5+1+2)/3(number of digits) = 8/3=2).\n",
    "  \n",
    "  The mean will always be an integer.\n",
    "\n",
    "### Answer:\n"
   ]
  },
  {
   "cell_type": "code",
   "execution_count": 5,
   "id": "736223d5",
   "metadata": {},
   "outputs": [
    {
     "data": {
      "text/plain": [
       "3.5"
      ]
     },
     "execution_count": 5,
     "metadata": {},
     "output_type": "execute_result"
    }
   ],
   "source": [
    "def mean(number):\n",
    "    SUM = 0\n",
    "    for i in str(number):\n",
    "        SUM = SUM + int(str(i))\n",
    "    return SUM/len(str(number))\n",
    "\n",
    "mean(123456)"
   ]
  }
 ],
 "metadata": {
  "kernelspec": {
   "display_name": "Python 3 (ipykernel)",
   "language": "python",
   "name": "python3"
  },
  "language_info": {
   "codemirror_mode": {
    "name": "ipython",
    "version": 3
   },
   "file_extension": ".py",
   "mimetype": "text/x-python",
   "name": "python",
   "nbconvert_exporter": "python",
   "pygments_lexer": "ipython3",
   "version": "3.9.7"
  }
 },
 "nbformat": 4,
 "nbformat_minor": 5
}
