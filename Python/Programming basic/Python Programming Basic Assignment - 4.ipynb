{
 "cells": [
  {
   "cell_type": "markdown",
   "id": "ffb64acf",
   "metadata": {},
   "source": [
    "# Python Programming Basic Assignment - 4"
   ]
  },
  {
   "cell_type": "markdown",
   "id": "a0788db2",
   "metadata": {},
   "source": []
  },
  {
   "cell_type": "markdown",
   "id": "28db359e",
   "metadata": {},
   "source": []
  },
  {
   "cell_type": "markdown",
   "id": "ff3df6dc",
   "metadata": {},
   "source": [
    "### Question1.\n",
    "Write a Python Program to Find the Factorial of a Number?\n",
    "\n",
    "Answer:\n"
   ]
  },
  {
   "cell_type": "code",
   "execution_count": 1,
   "id": "c9eb3cb2",
   "metadata": {
    "scrolled": true
   },
   "outputs": [
    {
     "name": "stdout",
     "output_type": "stream",
     "text": [
      "Enter the  number for which you have to find its factorial:   7\n",
      "The factorial of  7 is  5040\n"
     ]
    }
   ],
   "source": [
    "n = int(input(\"Enter the  number for which you have to find its factorial:   \"))\n",
    "\n",
    "if n < 0:\n",
    "    print(\"Warning !!! factorial does not exist for negative numbers\")\n",
    "    \n",
    "elif n == 0:\n",
    "    print(\"The factorial of 0 is 1\")\n",
    "    \n",
    "else:\n",
    "    Factorial = 1\n",
    "\n",
    "    for i in range(1, (n + 1)):\n",
    "        Factorial = Factorial*i\n",
    "\n",
    "    print(\"The factorial of \", n, \"is \", Factorial)"
   ]
  },
  {
   "cell_type": "markdown",
   "id": "03c918e8",
   "metadata": {},
   "source": []
  },
  {
   "cell_type": "markdown",
   "id": "457ab7ef",
   "metadata": {},
   "source": []
  },
  {
   "cell_type": "markdown",
   "id": "c849c559",
   "metadata": {},
   "source": [
    "### Question2.\n",
    "Write a Python Program to Display the multiplication Table?\n",
    "\n",
    "Answer:\n"
   ]
  },
  {
   "cell_type": "code",
   "execution_count": 2,
   "id": "f693d10d",
   "metadata": {},
   "outputs": [
    {
     "name": "stdout",
     "output_type": "stream",
     "text": [
      "Enter the  number for which you want multiplication table to be dispalyed:   9\n",
      "9  X  1  =  9\n",
      "9  X  2  =  18\n",
      "9  X  3  =  27\n",
      "9  X  4  =  36\n",
      "9  X  5  =  45\n",
      "9  X  6  =  54\n",
      "9  X  7  =  63\n",
      "9  X  8  =  72\n",
      "9  X  9  =  81\n",
      "9  X  10  =  90\n"
     ]
    }
   ],
   "source": [
    "n = int(input(\"Enter the  number for which you want multiplication table to be dispalyed:   \"))\n",
    "\n",
    "for i in range(1, 11):\n",
    "    Product = n*i\n",
    "    print(n, \" X \", i, \" = \", Product)"
   ]
  },
  {
   "cell_type": "markdown",
   "id": "60c573c1",
   "metadata": {},
   "source": []
  },
  {
   "cell_type": "markdown",
   "id": "79282b79",
   "metadata": {},
   "source": []
  },
  {
   "cell_type": "markdown",
   "id": "24965026",
   "metadata": {},
   "source": [
    "### Question3.\n",
    "Write a Python Program to Print the Fibonacci sequence?\n",
    "\n",
    "Answer:"
   ]
  },
  {
   "cell_type": "code",
   "execution_count": 3,
   "id": "10196af6",
   "metadata": {
    "scrolled": true
   },
   "outputs": [
    {
     "name": "stdout",
     "output_type": "stream",
     "text": [
      "Enter number of terms for which you want to print Fibonacci sequence:  8\n",
      "Fibonacci sequence for the first  8  terms is: \n",
      "0\n",
      "1\n",
      "1\n",
      "2\n",
      "3\n",
      "5\n",
      "8\n",
      "13\n"
     ]
    }
   ],
   "source": [
    "n1 = 0\n",
    "n2 = 1\n",
    "\n",
    "n = int(input(\"Enter number of terms for which you want to print Fibonacci sequence:  \"))\n",
    "\n",
    "count = 1\n",
    "\n",
    "if n <= 0:\n",
    "    print(\"Enter positive number of terms\")\n",
    "    \n",
    "elif n == 1:\n",
    "    print(\"Fibonacci sequence for \", n, \" term is: \")\n",
    "    print(n1)\n",
    "    \n",
    "else:\n",
    "    print(\"Fibonacci sequence for the first \", n, \" terms is: \")\n",
    "    while count < (n+1):\n",
    "        print(n1)\n",
    "        Last_Term = n1 + n2\n",
    "        n1 = n2\n",
    "        n2 = Last_Term\n",
    "        count = count + 1"
   ]
  },
  {
   "cell_type": "markdown",
   "id": "d96cc485",
   "metadata": {},
   "source": []
  },
  {
   "cell_type": "markdown",
   "id": "608febdc",
   "metadata": {},
   "source": []
  },
  {
   "cell_type": "markdown",
   "id": "358814ae",
   "metadata": {},
   "source": [
    "### Question4.\n",
    "Write a Python Program to Check Armstrong Number?\n",
    "\n",
    "Answer:"
   ]
  },
  {
   "cell_type": "code",
   "execution_count": 4,
   "id": "1c8ee0bb",
   "metadata": {},
   "outputs": [
    {
     "name": "stdout",
     "output_type": "stream",
     "text": [
      "Enter the number to check if it is an Armstrong number or not:   6786\n",
      "6786  is not an Armstrong number\n"
     ]
    }
   ],
   "source": [
    "n = int(input(\"Enter the number to check if it is an Armstrong number or not:   \"))\n",
    "\n",
    "power = len(str(n))\n",
    "\n",
    "sum = 0\n",
    "for i in str(n):\n",
    "    sum = sum + (int(i))**power\n",
    "if sum == n:\n",
    "    print (n, \" is an Armstrong number\")\n",
    "else:\n",
    "    print (n, \" is not an Armstrong number\")   "
   ]
  },
  {
   "cell_type": "markdown",
   "id": "90808b26",
   "metadata": {},
   "source": []
  },
  {
   "cell_type": "markdown",
   "id": "89a31303",
   "metadata": {},
   "source": []
  },
  {
   "cell_type": "markdown",
   "id": "cf5f4167",
   "metadata": {},
   "source": [
    "### Question5.\n",
    "Write a Python Program to Find Armstrong Number in an Interval?\n",
    "\n",
    "Answer:\n"
   ]
  },
  {
   "cell_type": "code",
   "execution_count": 5,
   "id": "4444c393",
   "metadata": {
    "scrolled": true
   },
   "outputs": [
    {
     "name": "stdout",
     "output_type": "stream",
     "text": [
      "Enter the lower range of the interval in which you want to find Armstrong number:   123\n",
      "Enter the upper range of the interval in which you want to find Armstrong number:   56875\n",
      "Following are the Armstrong numbers in the interval, ( 123 , 56875 )\n",
      "153\n",
      "370\n",
      "371\n",
      "407\n",
      "1634\n",
      "8208\n",
      "9474\n",
      "54748\n"
     ]
    }
   ],
   "source": [
    "l = int(input(\"Enter the lower range of the interval in which you want to find Armstrong number:   \"))\n",
    "u = int(input(\"Enter the upper range of the interval in which you want to find Armstrong number:   \"))\n",
    "\n",
    "print(\"Following are the Armstrong numbers in the interval, (\", l, \",\", u, \")\")\n",
    "\n",
    "\n",
    "for i in range(l, u+1):\n",
    "    power = len(str(i))\n",
    "\n",
    "    sum = 0\n",
    "    for j in str(i):\n",
    "        sum = sum + (int(j))**power\n",
    "    if sum == i:\n",
    "        print (i)    "
   ]
  },
  {
   "cell_type": "markdown",
   "id": "eb408f6b",
   "metadata": {},
   "source": []
  },
  {
   "cell_type": "markdown",
   "id": "2e5f9f01",
   "metadata": {},
   "source": []
  },
  {
   "cell_type": "markdown",
   "id": "6a98aa0c",
   "metadata": {},
   "source": [
    "### Question6.\n",
    "Write a Python Program to Find the Sum of Natural Numbers?\n",
    "\n",
    "Answer:\n"
   ]
  },
  {
   "cell_type": "code",
   "execution_count": 6,
   "id": "57892895",
   "metadata": {},
   "outputs": [
    {
     "name": "stdout",
     "output_type": "stream",
     "text": [
      "Enter the number upto which you want the sum of all natural numbers:  99\n",
      "The sum of first  99 natural numbers is  4950\n"
     ]
    }
   ],
   "source": [
    "n = int(input(\"Enter the number upto which you want the sum of all natural numbers:  \"))\n",
    "\n",
    "sum = 0\n",
    "\n",
    "for i in range(1, n+1):\n",
    "    sum = sum + i\n",
    "    \n",
    "print(\"The sum of first \",n, \"natural numbers is \", sum)"
   ]
  }
 ],
 "metadata": {
  "kernelspec": {
   "display_name": "Python 3 (ipykernel)",
   "language": "python",
   "name": "python3"
  },
  "language_info": {
   "codemirror_mode": {
    "name": "ipython",
    "version": 3
   },
   "file_extension": ".py",
   "mimetype": "text/x-python",
   "name": "python",
   "nbconvert_exporter": "python",
   "pygments_lexer": "ipython3",
   "version": "3.9.7"
  }
 },
 "nbformat": 4,
 "nbformat_minor": 5
}
