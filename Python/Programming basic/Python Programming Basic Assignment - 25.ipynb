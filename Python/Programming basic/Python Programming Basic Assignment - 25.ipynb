{
 "cells": [
  {
   "cell_type": "markdown",
   "id": "b4685ce8",
   "metadata": {},
   "source": [
    "# Python Programming Basic Assignment - 25"
   ]
  },
  {
   "cell_type": "markdown",
   "id": "491050c7",
   "metadata": {},
   "source": []
  },
  {
   "cell_type": "markdown",
   "id": "b6f84982",
   "metadata": {},
   "source": []
  },
  {
   "cell_type": "markdown",
   "id": "8d9738e1",
   "metadata": {},
   "source": [
    "### Question 1.\n",
    "##### Create a function that takes three integer arguments (a, b, c) and returns the amount of integers which are of equal value.\n",
    "\n",
    "Examples:\n",
    "\n",
    "equal(3, 4, 3) ➞ 2\n",
    "<br>\n",
    "equal(1, 1, 1) ➞ 3\n",
    "<br>\n",
    "equal(3, 4, 1) ➞ 0\n",
    "\n",
    "Notes:\n",
    "<br>\n",
    "Your function must return 0, 2 or 3.\n",
    "\n",
    "### Answer: \n"
   ]
  },
  {
   "cell_type": "code",
   "execution_count": 1,
   "id": "6b6bcd20",
   "metadata": {},
   "outputs": [
    {
     "data": {
      "text/plain": [
       "3"
      ]
     },
     "execution_count": 1,
     "metadata": {},
     "output_type": "execute_result"
    }
   ],
   "source": [
    "def equal(a,b,c):\n",
    "    count = 0\n",
    "    if a == b and a == c :\n",
    "        count = 3\n",
    "    elif a == b or a == c :\n",
    "        count = 2\n",
    "    else:\n",
    "        count = 0\n",
    "    return count\n",
    "\n",
    "equal(3, 3, 3)"
   ]
  },
  {
   "cell_type": "markdown",
   "id": "2d95e073",
   "metadata": {},
   "source": []
  },
  {
   "cell_type": "markdown",
   "id": "2e7c77b9",
   "metadata": {},
   "source": []
  },
  {
   "cell_type": "markdown",
   "id": "36e0b0f9",
   "metadata": {},
   "source": [
    "### Question 2.\n",
    "##### Write a function that converts a dictionary into a list of keys-values tuples.\n",
    "\n",
    "Examples:\n",
    "\n",
    "dict_to_list({\n",
    "<br>\n",
    "\"D\": 1,\n",
    "<br>\n",
    "\"B\": 2,\n",
    "<br>\n",
    "\"C\": 3\n",
    "<br>\n",
    "}) ➞ [(\"B\", 2), (\"C\", 3), (\"D\", 1)]\n",
    "\n",
    "dict_to_list({\n",
    "<br>\n",
    "\"likes\": 2,\n",
    "<br>\n",
    "\"dislikes\": 3,\n",
    "<br>\n",
    "\"followers\": 10\n",
    "<br>\n",
    "}) ➞ [(\"dislikes\", 3), (\"followers\", 10), (\"likes\", 2)]\n",
    "\n",
    "Notes:\n",
    "<br>\n",
    "Return the elements in the list in alphabetical order.\n",
    "\n",
    "### Answer: \n"
   ]
  },
  {
   "cell_type": "code",
   "execution_count": 2,
   "id": "81fb7046",
   "metadata": {},
   "outputs": [
    {
     "data": {
      "text/plain": [
       "[('B', 2), ('C', 3), ('D', 1)]"
      ]
     },
     "execution_count": 2,
     "metadata": {},
     "output_type": "execute_result"
    }
   ],
   "source": [
    "def dict_to_list(Dictionary):\n",
    "    \n",
    "    return [(k,v) for k,v in sorted(Dictionary.items())]\n",
    "    \n",
    "dict_to_list({\n",
    "    'D': 1,\n",
    "    'B': 2,\n",
    "    'C': 3\n",
    "    })"
   ]
  },
  {
   "cell_type": "markdown",
   "id": "8ab9e012",
   "metadata": {},
   "source": []
  },
  {
   "cell_type": "markdown",
   "id": "d684238f",
   "metadata": {},
   "source": []
  },
  {
   "cell_type": "markdown",
   "id": "cf08d7b1",
   "metadata": {},
   "source": [
    "### Question 3.\n",
    "##### Write a function that creates a dictionary with each (key, value) pair being the (lower case, upper case) versions of a letter, respectively.\n",
    "\n",
    "Examples:\n",
    "\n",
    "mapping([\"p\", \"s\"]) ➞ { \"p\": \"P\", \"s\": \"S\" }\n",
    "<br>\n",
    "mapping([\"a\", \"b\", \"c\"]) ➞ { \"a\": \"A\", \"b\": \"B\", \"c\": \"C\" }\n",
    "<br>\n",
    "mapping([\"a\", \"v\", \"y\", \"z\"]) ➞ { \"a\": \"A\", \"v\": \"V\", \"y\": \"Y\", \"z\": \"Z\" }\n",
    "\n",
    "Notes:\n",
    "<br>\n",
    "All of the letters in the input list will always be lowercase.\n",
    "\n",
    "### Answer: \n"
   ]
  },
  {
   "cell_type": "code",
   "execution_count": 3,
   "id": "f8180743",
   "metadata": {},
   "outputs": [
    {
     "data": {
      "text/plain": [
       "{'a': 'A', 'v': 'V', 'y': 'Y', 'z': 'Z'}"
      ]
     },
     "execution_count": 3,
     "metadata": {},
     "output_type": "execute_result"
    }
   ],
   "source": [
    "def mapping(List):\n",
    "    \n",
    "    return {k.lower(): k.upper() for k in List}\n",
    "\n",
    "mapping([\"a\", \"v\", \"y\", \"z\"])"
   ]
  },
  {
   "cell_type": "markdown",
   "id": "d8be3e9e",
   "metadata": {},
   "source": []
  },
  {
   "cell_type": "markdown",
   "id": "ebf5b8ff",
   "metadata": {},
   "source": []
  },
  {
   "cell_type": "markdown",
   "id": "7dc0d890",
   "metadata": {},
   "source": [
    "### Question 4.\n",
    "##### Write a function, that replaces all vowels in a string with a specified vowel.\n",
    "\n",
    "Examples:\n",
    "\n",
    "vow_replace(\"apples and bananas\", \"u\") ➞ \"upplus und bununus\"\n",
    "<br>\n",
    "vow_replace(\"cheese casserole\", \"o\") ➞ \"chooso cossorolo\"\n",
    "<br>\n",
    "vow_replace(\"stuffed jalapeno poppers\", \"e\") ➞\"steffed jelepene peppers\"\n",
    "\n",
    "Notes:\n",
    "<br>\n",
    "All words will be lowercase. Y is not considered a vowel.\n",
    "\n",
    "### Answer: \n"
   ]
  },
  {
   "cell_type": "code",
   "execution_count": 4,
   "id": "6cebb71e",
   "metadata": {},
   "outputs": [
    {
     "data": {
      "text/plain": [
       "'upplus und bununus'"
      ]
     },
     "execution_count": 4,
     "metadata": {},
     "output_type": "execute_result"
    }
   ],
   "source": [
    "def vow_replace(String, specified_vowel):\n",
    "    \n",
    "    vowel = [\"a\",\"e\",\"i\",\"o\",\"u\"]\n",
    "    for i in String:\n",
    "        if i.lower() in vowel:\n",
    "            String = String.replace(i, specified_vowel)\n",
    "    return String\n",
    "\n",
    "vow_replace(\"apples and bananas\", \"u\")"
   ]
  },
  {
   "cell_type": "markdown",
   "id": "7a0d0250",
   "metadata": {},
   "source": []
  },
  {
   "cell_type": "markdown",
   "id": "75a7a0d8",
   "metadata": {},
   "source": []
  },
  {
   "cell_type": "markdown",
   "id": "bcac8fd9",
   "metadata": {},
   "source": [
    "### Question 5.\n",
    "##### Create a function that takes a string as input and capitalizes a letter if its ASCII code is even and returns its lower case version if its ASCII code is odd.\n",
    "\n",
    "Examples:\n",
    "\n",
    "ascii_capitalize(\"to be or not to be!\") ➞ \"To Be oR NoT To Be!\"\n",
    "<br>\n",
    "ascii_capitalize(\"THE LITTLE MERMAID\") ➞ \"THe LiTTLe meRmaiD\"\n",
    "<br>\n",
    "ascii_capitalize(\"Oh what a beautiful morning.\") ➞ \"oH wHaT a BeauTiFuL moRNiNg.\"\n",
    "\n",
    "### Answer: \n"
   ]
  },
  {
   "cell_type": "code",
   "execution_count": 5,
   "id": "0751f98d",
   "metadata": {},
   "outputs": [
    {
     "data": {
      "text/plain": [
       "'oH wHaT a BeauTiFuL moRNiNg.'"
      ]
     },
     "execution_count": 5,
     "metadata": {},
     "output_type": "execute_result"
    }
   ],
   "source": [
    "def ascii_capitalize(String):\n",
    "    \n",
    "    for i in String:\n",
    "        if ord(i) % 2 == 0:\n",
    "            String = String.replace(i, i.upper())\n",
    "        else:\n",
    "            String = String.replace(i, i.lower())\n",
    "    return String\n",
    "\n",
    "ascii_capitalize(\"Oh what a beautiful morning.\")"
   ]
  }
 ],
 "metadata": {
  "kernelspec": {
   "display_name": "Python 3 (ipykernel)",
   "language": "python",
   "name": "python3"
  },
  "language_info": {
   "codemirror_mode": {
    "name": "ipython",
    "version": 3
   },
   "file_extension": ".py",
   "mimetype": "text/x-python",
   "name": "python",
   "nbconvert_exporter": "python",
   "pygments_lexer": "ipython3",
   "version": "3.9.7"
  }
 },
 "nbformat": 4,
 "nbformat_minor": 5
}
