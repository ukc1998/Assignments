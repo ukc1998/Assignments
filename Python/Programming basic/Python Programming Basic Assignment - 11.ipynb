{
 "cells": [
  {
   "cell_type": "markdown",
   "id": "3f333beb",
   "metadata": {},
   "source": [
    "# Python Programming Basic Assignment - 11"
   ]
  },
  {
   "cell_type": "markdown",
   "id": "d84872cc",
   "metadata": {},
   "source": []
  },
  {
   "cell_type": "markdown",
   "id": "ac55ce6e",
   "metadata": {},
   "source": []
  },
  {
   "cell_type": "markdown",
   "id": "4e09682f",
   "metadata": {},
   "source": [
    "### Question1. \n",
    "Write a Python program to find words which are greater than given length k?\n",
    "\n",
    "Answer:\n"
   ]
  },
  {
   "cell_type": "code",
   "execution_count": 1,
   "id": "cce3484a",
   "metadata": {},
   "outputs": [
    {
     "name": "stdout",
     "output_type": "stream",
     "text": [
      "Enter the string: I am solving the Python Programming Basic Assignment Number 11\n",
      "Enter the value of k: 5\n"
     ]
    },
    {
     "data": {
      "text/plain": [
       "['solving', 'Python', 'Programming', 'Assignment', 'Number']"
      ]
     },
     "execution_count": 1,
     "metadata": {},
     "output_type": "execute_result"
    }
   ],
   "source": [
    "def WORD_FILTER(s,k):\n",
    "    \n",
    "    \"\"\"\n",
    "    It is a function to find words which are greater than given length k.\n",
    "    It takes two arguments.\n",
    "    First argument should be a string .\n",
    "    Second arguments should be the value of k in the form of an integer.\n",
    "    It returns a list as an output.\n",
    "    \"\"\"\n",
    "    \n",
    "    \n",
    "    List_Of_Required_Words = []\n",
    "    Store_Room = s.split(\" \")\n",
    "    for i in Store_Room:\n",
    "        if len(i) > k:\n",
    "            List_Of_Required_Words.append(i)\n",
    "    return List_Of_Required_Words\n",
    "\n",
    "s = input(\"Enter the string: \")\n",
    "k = int(input(\"Enter the value of k: \"))\n",
    "WORD_FILTER(s,k)            "
   ]
  },
  {
   "cell_type": "raw",
   "id": "250545ac",
   "metadata": {},
   "source": []
  },
  {
   "cell_type": "markdown",
   "id": "6aeb1eff",
   "metadata": {},
   "source": []
  },
  {
   "cell_type": "markdown",
   "id": "9fc9bea8",
   "metadata": {},
   "source": []
  },
  {
   "cell_type": "markdown",
   "id": "02393046",
   "metadata": {},
   "source": [
    "### Question2. \n",
    "Write a Python program for removing i-th character from a string?\n",
    "\n",
    "Answer:\n"
   ]
  },
  {
   "cell_type": "code",
   "execution_count": 2,
   "id": "8c8cb09e",
   "metadata": {},
   "outputs": [
    {
     "name": "stdout",
     "output_type": "stream",
     "text": [
      "Enter the string: 0123456789\n",
      "Enter the index value of the character you want to remove: 5\n"
     ]
    },
    {
     "data": {
      "text/plain": [
       "'012346789'"
      ]
     },
     "execution_count": 2,
     "metadata": {},
     "output_type": "execute_result"
    }
   ],
   "source": [
    "def REMOVE_CHARACTER(s,c):\n",
    "    \n",
    "    \"\"\"\n",
    "    It is a function to remove i-th character from a string.\n",
    "    It takes two arguments.\n",
    "    First argument should be a string .\n",
    "    Second arguments should be the value of i in the form of an integer.\n",
    "    The value of i is given by the user.\n",
    "    It returns a string as an output.\n",
    "    \"\"\"\n",
    "    \n",
    "    for i in range(len(s)):\n",
    "        if i == c:\n",
    "            s = s.replace(s[i], \"\", 1)\n",
    "    return s\n",
    "\n",
    "s = input(\"Enter the string: \")\n",
    "c = int(input(\"Enter the index value of the character you want to remove: \"))\n",
    "REMOVE_CHARACTER(s,c)            "
   ]
  },
  {
   "cell_type": "markdown",
   "id": "be72e2b8",
   "metadata": {},
   "source": []
  },
  {
   "cell_type": "markdown",
   "id": "b7e73e30",
   "metadata": {},
   "source": []
  },
  {
   "cell_type": "markdown",
   "id": "8544143a",
   "metadata": {},
   "source": [
    "### Question3. \n",
    "Write a Python program to split and join a string?\n",
    "\n",
    "Answer:\n"
   ]
  },
  {
   "cell_type": "code",
   "execution_count": 3,
   "id": "5fad8f58",
   "metadata": {},
   "outputs": [
    {
     "name": "stdout",
     "output_type": "stream",
     "text": [
      "Enter the string:   I am solving the Python Programming Basic Assignment Number 11\n",
      "Enter the delimeter on the basis of which you want to split the string:  \n",
      "Enter the delimeter on the basis of which you want to join the list of splitted string: ___\n"
     ]
    },
    {
     "data": {
      "text/plain": [
       "'I___am___solving___the___Python___Programming___Basic___Assignment___Number___11'"
      ]
     },
     "execution_count": 3,
     "metadata": {},
     "output_type": "execute_result"
    }
   ],
   "source": [
    "def JOIN_AFTER_SPLITTING_STRING(string,s,j):\n",
    "    \n",
    "    \"\"\"\n",
    "    It is a function to split agiven string and then join the splitted string.\n",
    "    It takes three arguments.\n",
    "    First argument should be the string.\n",
    "    Second argument should be the delimeter on the basis of which you want to split the string.\n",
    "    Third argument should be the delimeter on the basis of which you want to join the list of splitted string.\n",
    "    It gives string as an output.\n",
    "    \"\"\"\n",
    "    \n",
    "    List_Of_Splitted_String = string.split(s)\n",
    "    Joined_String = j.join(List_Of_Splitted_String)\n",
    "    \n",
    "    return Joined_String\n",
    "\n",
    "string = input(\"Enter the string:   \")\n",
    "s = input(\"Enter the delimeter on the basis of which you want to split the string: \")\n",
    "j = input(\"Enter the delimeter on the basis of which you want to join the list of splitted string: \")\n",
    "\n",
    "JOIN_AFTER_SPLITTING_STRING(string,s,j)"
   ]
  },
  {
   "cell_type": "markdown",
   "id": "dc100214",
   "metadata": {},
   "source": []
  },
  {
   "cell_type": "markdown",
   "id": "6ae2b112",
   "metadata": {},
   "source": []
  },
  {
   "cell_type": "markdown",
   "id": "3024b359",
   "metadata": {},
   "source": [
    "### Question4. \n",
    "Write a Python to check if a given string is binary string or not?\n",
    "\n",
    "Answer:\n"
   ]
  },
  {
   "cell_type": "code",
   "execution_count": 4,
   "id": "662061f1",
   "metadata": {},
   "outputs": [
    {
     "name": "stdout",
     "output_type": "stream",
     "text": [
      "Enter the string you want to check if it is binary or not:    10001000020000309\n",
      "The given string is not a binary string.\n"
     ]
    }
   ],
   "source": [
    "def CHECK_STING_FOR_BINARY(s):\n",
    "    \n",
    "    \"\"\"\n",
    "    It is a function to check if a given string is binary string or not.\n",
    "    It takes a string as an input.\n",
    "    \"\"\"\n",
    "    \n",
    "    STORE_ROOM = set(s)\n",
    "    BINARAY_SET ={\"0\", \"1\"}\n",
    "    \n",
    "    if STORE_ROOM == BINARAY_SET or STORE_ROOM == {\"0\"} or STORE_ROOM == {\"1\"}:\n",
    "        print (\"The given string is a binary string.\")\n",
    "        \n",
    "    else:\n",
    "        print(\"The given string is not a binary string.\")\n",
    "        \n",
    "s = input(\"Enter the string you want to check if it is binary or not:    \")\n",
    "CHECK_STING_FOR_BINARY(s)"
   ]
  },
  {
   "cell_type": "markdown",
   "id": "a504d18c",
   "metadata": {},
   "source": []
  },
  {
   "cell_type": "markdown",
   "id": "7d5f3db5",
   "metadata": {},
   "source": []
  },
  {
   "cell_type": "markdown",
   "id": "37c07561",
   "metadata": {},
   "source": [
    "### Question5. \n",
    "Write a Python program to find uncommon words from two Strings?\n",
    "\n",
    "Answer:\n"
   ]
  },
  {
   "cell_type": "code",
   "execution_count": 5,
   "id": "7e2cb293",
   "metadata": {},
   "outputs": [
    {
     "name": "stdout",
     "output_type": "stream",
     "text": [
      "Enter the first string:  I am solving the Python Programming Basic Assignment Number 11\n",
      "Enter the second string:  I am going to solve the Python Programming Basic Assignment Number 12\n",
      "The uncommon words found from the given two strings is given below in the list.\n"
     ]
    },
    {
     "data": {
      "text/plain": [
       "['solving', '11', 'going', 'to', 'solve', '12']"
      ]
     },
     "execution_count": 5,
     "metadata": {},
     "output_type": "execute_result"
    }
   ],
   "source": [
    "def UNCOMMON_FINDER(s1, s2):\n",
    "    \n",
    "    \"\"\"\n",
    "    It is a function to find uncommon words from two Strings.\n",
    "    It takes two arguments, both of which can be a string.\n",
    "    It returns a list of uncommon words as an output.\n",
    "    \"\"\"\n",
    "    \n",
    "    List_Of_Uncommon_Words = []\n",
    "    \n",
    "    List1 = s1.split()\n",
    "    List2 = s2.split()\n",
    "    \n",
    "    for i in List1:\n",
    "        if  i not in List2:\n",
    "            List_Of_Uncommon_Words.append(i)\n",
    "            \n",
    "    for j in List2:\n",
    "        if  j not in List1:\n",
    "            List_Of_Uncommon_Words.append(j)\n",
    "            \n",
    "    return List_Of_Uncommon_Words\n",
    "\n",
    "s1 = input(\"Enter the first string:  \")\n",
    "s2 = input(\"Enter the second string:  \")\n",
    "\n",
    "print(\"The uncommon words found from the given two strings is given below in the list.\")\n",
    "UNCOMMON_FINDER(s1, s2)"
   ]
  },
  {
   "cell_type": "markdown",
   "id": "27cecdfb",
   "metadata": {},
   "source": []
  },
  {
   "cell_type": "markdown",
   "id": "3455303e",
   "metadata": {},
   "source": []
  },
  {
   "cell_type": "markdown",
   "id": "78bec9b1",
   "metadata": {},
   "source": [
    "### Question6. \n",
    "Write a Python to find all duplicate characters in string?\n",
    "\n",
    "Answer:\n"
   ]
  },
  {
   "cell_type": "code",
   "execution_count": 6,
   "id": "11aa2574",
   "metadata": {},
   "outputs": [
    {
     "name": "stdout",
     "output_type": "stream",
     "text": [
      "Enter the string:  MmmmmmAaaaaNnnnGggOo\n",
      "The duplicate characters found in the given string is given below in the set.\n"
     ]
    },
    {
     "data": {
      "text/plain": [
       "{'a', 'g', 'm', 'n'}"
      ]
     },
     "execution_count": 6,
     "metadata": {},
     "output_type": "execute_result"
    }
   ],
   "source": [
    "def DUPLICATE_FINDER(s):\n",
    "    \n",
    "    \"\"\"\n",
    "    It is a function  to find all duplicate characters in string.\n",
    "    It takes a string as argument.\n",
    "    It gives a list of all duplicate characters in the given string as an ouput.\n",
    "    \"\"\"\n",
    "    \n",
    "    List_Of_Duplicates = []\n",
    "    \n",
    "    \n",
    "    for i in s:\n",
    "        if  s.count(i) > 1:\n",
    "            List_Of_Duplicates.append(i)\n",
    "\n",
    "            \n",
    "    return set(List_Of_Duplicates)\n",
    "\n",
    "s = input(\"Enter the string:  \")\n",
    "\n",
    "\n",
    "print(\"The duplicate characters found in the given string is given below in the set.\")\n",
    "DUPLICATE_FINDER(s)"
   ]
  },
  {
   "cell_type": "markdown",
   "id": "faf48aa4",
   "metadata": {},
   "source": []
  },
  {
   "cell_type": "markdown",
   "id": "44afd78f",
   "metadata": {},
   "source": []
  },
  {
   "cell_type": "markdown",
   "id": "8bb2bf93",
   "metadata": {},
   "source": [
    "### Question7. \n",
    "Write a Python Program to check if a string contains any special character?\n",
    "\n",
    "Answer:\n"
   ]
  },
  {
   "cell_type": "code",
   "execution_count": 8,
   "id": "8eb052f2",
   "metadata": {},
   "outputs": [
    {
     "name": "stdout",
     "output_type": "stream",
     "text": [
      "Enter the string to check if it contains any special character or not:  I am solving the Python Programming Basic Assignment Number 11\n",
      "The given string does not contain any special character.\n"
     ]
    }
   ],
   "source": [
    "def CHECK_SPECIAL_CHAR(s):\n",
    "    \n",
    "    \"\"\"\n",
    "    It is a function to check if a string contains any special character or not.\n",
    "    It takes a string as an input.\n",
    "    \"\"\"\n",
    "    \n",
    "    import string as Imported_Module\n",
    "    \n",
    "    Set_Of_Special_Characters = set(Imported_Module.punctuation)\n",
    "   \n",
    "    if any(i in Set_Of_Special_Characters for i in s):\n",
    "        print(\"The given string contains special character.\")\n",
    "    else:\n",
    "        print(\"The given string does not contain any special character.\")\n",
    "        \n",
    "    \n",
    "    \n",
    "s = input(\"Enter the string to check if it contains any special character or not:  \")    \n",
    "CHECK_SPECIAL_CHAR(s)    "
   ]
  }
 ],
 "metadata": {
  "kernelspec": {
   "display_name": "Python 3 (ipykernel)",
   "language": "python",
   "name": "python3"
  },
  "language_info": {
   "codemirror_mode": {
    "name": "ipython",
    "version": 3
   },
   "file_extension": ".py",
   "mimetype": "text/x-python",
   "name": "python",
   "nbconvert_exporter": "python",
   "pygments_lexer": "ipython3",
   "version": "3.9.7"
  }
 },
 "nbformat": 4,
 "nbformat_minor": 5
}
