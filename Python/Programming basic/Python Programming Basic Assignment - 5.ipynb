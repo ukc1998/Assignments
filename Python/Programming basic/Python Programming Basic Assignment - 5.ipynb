{
 "cells": [
  {
   "cell_type": "markdown",
   "id": "1b017872",
   "metadata": {},
   "source": [
    "# Python Programming Basic Assignment - 5"
   ]
  },
  {
   "cell_type": "markdown",
   "id": "9c5afd5c",
   "metadata": {},
   "source": []
  },
  {
   "cell_type": "markdown",
   "id": "348b9888",
   "metadata": {},
   "source": []
  },
  {
   "cell_type": "markdown",
   "id": "0c6f0274",
   "metadata": {},
   "source": [
    "### Question1.\n",
    "Write a Python Program to Find LCM?\n",
    "\n",
    "Answer:\n"
   ]
  },
  {
   "cell_type": "code",
   "execution_count": 1,
   "id": "25d1512a",
   "metadata": {},
   "outputs": [
    {
     "name": "stdout",
     "output_type": "stream",
     "text": [
      "Enter the first number: 12\n",
      "Enter the second number: 18\n",
      "The LCM of  12  and  18  is  36\n"
     ]
    }
   ],
   "source": [
    "n1 = int(input(\"Enter the first number: \"))\n",
    "n2 = int(input(\"Enter the second number: \"))\n",
    "\n",
    "\n",
    "if n1 > n2:\n",
    "    Greater = n1\n",
    "else:\n",
    "    Greater = n2\n",
    "\n",
    "    \n",
    "while True:\n",
    "    if Greater% n1 == 0 and Greater%n2 == 0:\n",
    "        LCM = Greater\n",
    "        break\n",
    "    Greater = Greater + 1\n",
    "print(\"The LCM of \", n1, \" and \", n2, \" is \", LCM)"
   ]
  },
  {
   "cell_type": "markdown",
   "id": "67794fd1",
   "metadata": {},
   "source": []
  },
  {
   "cell_type": "markdown",
   "id": "5589d238",
   "metadata": {},
   "source": []
  },
  {
   "cell_type": "markdown",
   "id": "e2629d5d",
   "metadata": {},
   "source": [
    "### Question2.\n",
    "Write a Python Program to Find HCF?\n",
    "\n",
    "Answer:\n"
   ]
  },
  {
   "cell_type": "code",
   "execution_count": 2,
   "id": "51f07dcc",
   "metadata": {
    "scrolled": true
   },
   "outputs": [
    {
     "name": "stdout",
     "output_type": "stream",
     "text": [
      "Enter the first number: 12\n",
      "Enter the second number: 18\n",
      "The HCF of  12  and  18  is  6\n"
     ]
    }
   ],
   "source": [
    "n1 = int(input(\"Enter the first number: \"))\n",
    "n2 = int(input(\"Enter the second number: \"))\n",
    "\n",
    "\n",
    "if n1 < n2:\n",
    "    Lesser = n1\n",
    "else:\n",
    "    Lesser = n2\n",
    "\n",
    "    \n",
    "while True:\n",
    "    if n1% Lesser == 0 and n2%Lesser == 0:\n",
    "        HCF = Lesser\n",
    "        break\n",
    "    Lesser = Lesser - 1\n",
    "print(\"The HCF of \", n1, \" and \", n2, \" is \", HCF)"
   ]
  },
  {
   "cell_type": "markdown",
   "id": "72669396",
   "metadata": {},
   "source": []
  },
  {
   "cell_type": "markdown",
   "id": "20eb4268",
   "metadata": {},
   "source": []
  },
  {
   "cell_type": "markdown",
   "id": "5cab41d0",
   "metadata": {},
   "source": [
    "### Question3.\n",
    "Write a Python Program to convert Decimal to Binary, Octal and Hexadecimal?\n",
    "\n",
    "Answer:\n"
   ]
  },
  {
   "cell_type": "code",
   "execution_count": 3,
   "id": "09010c11",
   "metadata": {},
   "outputs": [
    {
     "name": "stdout",
     "output_type": "stream",
     "text": [
      "Enter an integer in decimal system: 251\n",
      "\n",
      "The decimal value of 251 is:  11111011  in Binary system\n",
      "The decimal value of 251 is:  373  in Octal system\n",
      "The decimal value of 251 is:  fb  in Hexadecimal system\n"
     ]
    }
   ],
   "source": [
    "i = int(input(\"Enter an integer in decimal system: \"))\n",
    "\n",
    "print()\n",
    "b = bin(i)\n",
    "o = oct(i)\n",
    "h = hex(i)\n",
    "\n",
    "print(\"The decimal value of\", i, \"is: \", b[2::], \" in Binary system\")\n",
    "print(\"The decimal value of\", i, \"is: \", o[2::], \" in Octal system\")\n",
    "print(\"The decimal value of\", i, \"is: \", h[2::], \" in Hexadecimal system\")"
   ]
  },
  {
   "cell_type": "markdown",
   "id": "9410beba",
   "metadata": {},
   "source": []
  },
  {
   "cell_type": "markdown",
   "id": "f46d796e",
   "metadata": {},
   "source": []
  },
  {
   "cell_type": "markdown",
   "id": "5d0b21ed",
   "metadata": {},
   "source": [
    "### Question4.\n",
    "Write a Python Program To Find ASCII value of a character?\n",
    "\n",
    "Answer:\n"
   ]
  },
  {
   "cell_type": "code",
   "execution_count": 4,
   "id": "99d8180a",
   "metadata": {},
   "outputs": [
    {
     "name": "stdout",
     "output_type": "stream",
     "text": [
      "Enter the character for which you want ASCII value: %\n",
      "The ASCII value of '%' is 37\n"
     ]
    }
   ],
   "source": [
    "Character = input(\"Enter the character for which you want ASCII value: \")    \n",
    "    \n",
    "print (\"The ASCII value of '\" + Character + \"' is\", ord(Character))"
   ]
  },
  {
   "cell_type": "markdown",
   "id": "acd543e5",
   "metadata": {},
   "source": []
  },
  {
   "cell_type": "markdown",
   "id": "1a8b6296",
   "metadata": {},
   "source": []
  },
  {
   "cell_type": "markdown",
   "id": "d1c18dd1",
   "metadata": {},
   "source": [
    "### Question5.\n",
    "Write a Python Program to Make a Simple Calculator with 4 basic mathematical operations?\n",
    "\n",
    "Answer:\n"
   ]
  },
  {
   "cell_type": "code",
   "execution_count": 5,
   "id": "dad9f727",
   "metadata": {},
   "outputs": [
    {
     "name": "stdout",
     "output_type": "stream",
     "text": [
      "Select the type of operation you want to perform with the help of the calcualtor from the options given below:\n",
      "1.  Addition\n",
      "2.  Subtraction\n",
      "3.  Multiplication\n",
      "4.  Division\n",
      "Enter the type of operation(1 or 2 or 3 or 4): 5\n",
      "Enter a valid operation type\n",
      "Enter the type of operation(1 or 2 or 3 or 4): 4\n",
      "Enter the first number: 12\n",
      "Enter the second number: 43534\n",
      "12.0 / 43534.0 = 0.00027564662103183717\n",
      "Do you want to perform next calculation? (yes or no): yes\n",
      "Enter the type of operation(1 or 2 or 3 or 4): 3\n",
      "Enter the first number: 123\n",
      "Enter the second number: 23423\n",
      "123.0 * 23423.0 = 2881029.0\n",
      "Do you want to perform next calculation? (yes or no): no\n",
      "Have a nice day!    SEE YOU AGAIN SOON\n"
     ]
    }
   ],
   "source": [
    "def Addition(x, y):\n",
    "    return x + y\n",
    "\n",
    "def Subtraction(x, y):\n",
    "    return x - y\n",
    "\n",
    "\n",
    "def Multiplication(x, y):\n",
    "    return x * y\n",
    "\n",
    "def Division(x, y):\n",
    "    return x / y\n",
    "\n",
    "\n",
    "print(\"Select the type of operation you want to perform with the help of the calcualtor from the options given below:\")\n",
    "print(\"1.  Addition\")\n",
    "print(\"2.  Subtraction\")\n",
    "print(\"3.  Multiplication\")\n",
    "print(\"4.  Division\")\n",
    "\n",
    "while True:\n",
    "    Operation_Type = input(\"Enter the type of operation(1 or 2 or 3 or 4): \")\n",
    "\n",
    "    if Operation_Type in ('1', '2', '3', '4'):\n",
    "        n1 = float(input(\"Enter the first number: \"))\n",
    "        n2 = float(input(\"Enter the second number: \"))\n",
    "\n",
    "        if Operation_Type == '1':\n",
    "            print(n1, \"+\", n2, \"=\", Addition(n1, n2))\n",
    "\n",
    "        elif Operation_Type == '2':\n",
    "            print(n1, \"-\", n2, \"=\", Subtraction(n1, n2))\n",
    "\n",
    "        elif Operation_Type == '3':\n",
    "            print(n1, \"*\", n2, \"=\", Multiplication(n1, n2))\n",
    "\n",
    "        elif Operation_Type == '4':\n",
    "            print(n1, \"/\", n2, \"=\", Division(n1, n2))\n",
    "        \n",
    "\n",
    "        Next_Calculation = input(\"Do you want to perform next calculation? (yes or no): \")\n",
    "        if Next_Calculation == \"no\":\n",
    "            print(\"Have a nice day!    SEE YOU AGAIN SOON\")\n",
    "            break\n",
    "    \n",
    "    else:\n",
    "        print(\"Enter a valid operation type\")"
   ]
  }
 ],
 "metadata": {
  "kernelspec": {
   "display_name": "Python 3 (ipykernel)",
   "language": "python",
   "name": "python3"
  },
  "language_info": {
   "codemirror_mode": {
    "name": "ipython",
    "version": 3
   },
   "file_extension": ".py",
   "mimetype": "text/x-python",
   "name": "python",
   "nbconvert_exporter": "python",
   "pygments_lexer": "ipython3",
   "version": "3.9.7"
  }
 },
 "nbformat": 4,
 "nbformat_minor": 5
}
