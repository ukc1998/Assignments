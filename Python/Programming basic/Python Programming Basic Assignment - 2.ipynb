{
 "cells": [
  {
   "cell_type": "markdown",
   "id": "b07a4cce",
   "metadata": {},
   "source": [
    "# Python Programming Basic Assignment - 2"
   ]
  },
  {
   "cell_type": "markdown",
   "id": "ff388541",
   "metadata": {},
   "source": []
  },
  {
   "cell_type": "markdown",
   "id": "cac37020",
   "metadata": {},
   "source": []
  },
  {
   "cell_type": "markdown",
   "id": "86876dee",
   "metadata": {},
   "source": [
    "### Question1.\n",
    "Write a Python program to convert kilometers to miles?\n",
    "\n",
    "Answer:\n"
   ]
  },
  {
   "cell_type": "code",
   "execution_count": 1,
   "id": "f9e54e02",
   "metadata": {},
   "outputs": [
    {
     "name": "stdout",
     "output_type": "stream",
     "text": [
      "Enter number of kilometers to be converted in to miles:  150\n",
      "150.0  kilometers =  93.20567883560008  miles \n"
     ]
    }
   ],
   "source": [
    "K = float(input(\"Enter number of kilometers to be converted in to miles:  \"))\n",
    "M = K/1.609344\n",
    "print(K, \" kilometers = \", M, \" miles \")"
   ]
  },
  {
   "cell_type": "markdown",
   "id": "12fde14a",
   "metadata": {},
   "source": []
  },
  {
   "cell_type": "markdown",
   "id": "3fa3e019",
   "metadata": {},
   "source": []
  },
  {
   "cell_type": "markdown",
   "id": "1db2dce0",
   "metadata": {},
   "source": [
    "### Question2.\n",
    "Write a Python program to convert Celsius to Fahrenheit?\n",
    "\n",
    "Answer:\n"
   ]
  },
  {
   "cell_type": "code",
   "execution_count": 2,
   "id": "22bd4f4b",
   "metadata": {},
   "outputs": [
    {
     "name": "stdout",
     "output_type": "stream",
     "text": [
      "Enter the temperature in degree Celsius to be converted in to degree Fahrenheit:  -40\n",
      "-40.0  degree Celsius =  -40.0  degree Fahrenheit \n"
     ]
    }
   ],
   "source": [
    "C = float(input(\"Enter the temperature in degree Celsius to be converted in to degree Fahrenheit:  \"))\n",
    "F = (C*(9/5)) + 32\n",
    "print(C, \" degree Celsius = \", F, \" degree Fahrenheit \")"
   ]
  },
  {
   "cell_type": "markdown",
   "id": "cc6ef019",
   "metadata": {},
   "source": []
  },
  {
   "cell_type": "markdown",
   "id": "5ce7f60e",
   "metadata": {},
   "source": []
  },
  {
   "cell_type": "markdown",
   "id": "4fafda32",
   "metadata": {},
   "source": [
    "### Question3.\n",
    "Write a Python program to display calendar?\n",
    "\n",
    "Answer:\n"
   ]
  },
  {
   "cell_type": "code",
   "execution_count": 3,
   "id": "5fdaec0d",
   "metadata": {},
   "outputs": [
    {
     "name": "stdout",
     "output_type": "stream",
     "text": [
      "Enter the year in the xxxx format: 2022\n",
      "Enter the month in the xx format: 01\n",
      "    January 2022\n",
      "Mo Tu We Th Fr Sa Su\n",
      "                1  2\n",
      " 3  4  5  6  7  8  9\n",
      "10 11 12 13 14 15 16\n",
      "17 18 19 20 21 22 23\n",
      "24 25 26 27 28 29 30\n",
      "31\n",
      "\n"
     ]
    }
   ],
   "source": [
    "import calendar  \n",
    " \n",
    "yyyy = int(input(\"Enter the year in the xxxx format: \"))  \n",
    "mm = int(input(\"Enter the month in the xx format: \"))  \n",
    "  \n",
    "print(calendar.month(yyyy,mm))"
   ]
  },
  {
   "cell_type": "markdown",
   "id": "c1cf363b",
   "metadata": {},
   "source": []
  },
  {
   "cell_type": "markdown",
   "id": "451bf2be",
   "metadata": {},
   "source": []
  },
  {
   "cell_type": "markdown",
   "id": "bb779d9f",
   "metadata": {},
   "source": [
    "### Question4.\n",
    "Write a Python program to solve quadratic equation?\n",
    "\n",
    "Answer:\n"
   ]
  },
  {
   "cell_type": "code",
   "execution_count": 4,
   "id": "5cdd00aa",
   "metadata": {},
   "outputs": [
    {
     "name": "stdout",
     "output_type": "stream",
     "text": [
      "Enter the coefficient of 2nd power of the variable in the expression of the quadratic equation: 12\n",
      "Enter the coefficient of 1st power of the variable in the expression of the quadratic equation: 23\n",
      "Enter the value of constant in the expression of the quadratic equation:34\n",
      "The roots of the quadratic equation are:  (-0.9583333333333335-1.3838101587846345j) and  (-0.9583333333333333+1.3838101587846345j)\n"
     ]
    }
   ],
   "source": [
    "a = float(input(\"Enter the coefficient of 2nd power of the variable in the expression of the quadratic equation: \"))\n",
    "b = float(input(\"Enter the coefficient of 1st power of the variable in the expression of the quadratic equation: \"))\n",
    "c = float(input(\"Enter the value of constant in the expression of the quadratic equation:\"))\n",
    "\n",
    "i = (((b**2) - (4*a*c))**0.5) / (2*a)\n",
    "\n",
    "x1 = (-b/(2*a)) - i\n",
    "x2 = (-b/(2*a)) + i\n",
    "\n",
    "print(\"The roots of the quadratic equation are: \", x1, \"and \", x2)"
   ]
  },
  {
   "cell_type": "markdown",
   "id": "783f6b78",
   "metadata": {},
   "source": []
  },
  {
   "cell_type": "markdown",
   "id": "a5310c98",
   "metadata": {},
   "source": []
  },
  {
   "cell_type": "markdown",
   "id": "c65bbbf3",
   "metadata": {},
   "source": [
    "### Question5.\n",
    "Write a Python program to swap two variables without temp variable?\n",
    "\n",
    "Answer:\n"
   ]
  },
  {
   "cell_type": "code",
   "execution_count": 5,
   "id": "99f93b55",
   "metadata": {},
   "outputs": [
    {
     "name": "stdout",
     "output_type": "stream",
     "text": [
      "Enter the first variable: Ineuron\n",
      "Enter the second variable: Oneneuron\n",
      "First variable after swapping =  Oneneuron\n",
      "Second variable after swapping =  Ineuron\n"
     ]
    }
   ],
   "source": [
    "Variable1 = input(\"Enter the first variable: \")\n",
    "Variable2 = input(\"Enter the second variable: \")\n",
    "\n",
    "Variable1, Variable2 = Variable2, Variable1\n",
    "\n",
    "print(\"First variable after swapping = \", Variable1)\n",
    "print(\"Second variable after swapping = \", Variable2)"
   ]
  }
 ],
 "metadata": {
  "kernelspec": {
   "display_name": "Python 3 (ipykernel)",
   "language": "python",
   "name": "python3"
  },
  "language_info": {
   "codemirror_mode": {
    "name": "ipython",
    "version": 3
   },
   "file_extension": ".py",
   "mimetype": "text/x-python",
   "name": "python",
   "nbconvert_exporter": "python",
   "pygments_lexer": "ipython3",
   "version": "3.9.7"
  }
 },
 "nbformat": 4,
 "nbformat_minor": 5
}
