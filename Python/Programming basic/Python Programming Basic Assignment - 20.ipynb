{
 "cells": [
  {
   "cell_type": "markdown",
   "id": "00929822",
   "metadata": {},
   "source": [
    "# Python Programming Basic Assignment - 20"
   ]
  },
  {
   "cell_type": "markdown",
   "id": "47d37f69",
   "metadata": {},
   "source": []
  },
  {
   "cell_type": "markdown",
   "id": "362c9ebc",
   "metadata": {},
   "source": []
  },
  {
   "cell_type": "markdown",
   "id": "ebe835f8",
   "metadata": {},
   "source": [
    "### Question 1.\n",
    "##### Create a function that takes a list of strings and integers, and filters out the list so that it returns a list of integers only.\n",
    "\n",
    "Examples:\n",
    "\n",
    "filter_list([1, 2, 3, \"a\", \";b\", 4]) ➞ [1, 2, 3, 4]\n",
    "<br>\n",
    "filter_list([\"A\", 0, \"Edabit\", 1729, \"Python\", \"1729\"]) ➞ [0, 1729]\n",
    "<br>\n",
    "filter_list([\"Nothing\", \"here\"]) ➞ []\n",
    "\n",
    "### Answer:\n"
   ]
  },
  {
   "cell_type": "code",
   "execution_count": 1,
   "id": "e282f359",
   "metadata": {},
   "outputs": [
    {
     "name": "stdout",
     "output_type": "stream",
     "text": [
      "Enter the list which you want to filter:   [1, 2, 3, \"a\", \";b\", 4]\n",
      "[1, 2, 3, 4]\n",
      "Enter the list which you want to filter:   [\"A\", 0, \"Edabit\", 1729, \"Python\", \"1729\"]\n",
      "[0, 1729]\n",
      "Enter the list which you want to filter:   [\"Nothing\", \"here\"]\n",
      "[]\n"
     ]
    }
   ],
   "source": [
    "def filter_list():\n",
    "    \n",
    "    user_input = eval(input(\"Enter the list which you want to filter:   \"))\n",
    "    \n",
    "    new_list = []\n",
    "    \n",
    "    if type(user_input) != list:\n",
    "        return \"Please input a list!\", filter_list\n",
    "    else:\n",
    "        for i in user_input:\n",
    "            if type(i) == str or  type(i) == int:\n",
    "                if type(i) == int:\n",
    "                    \n",
    "                    new_list.append(i)\n",
    "                    \n",
    "                else:\n",
    "                    new_list = new_list\n",
    "            else:\n",
    "                return \"The list input by you can contain only non-negative integers and strings\"\n",
    "    return new_list\n",
    "\n",
    "for i in range(3):\n",
    "    print(filter_list())"
   ]
  },
  {
   "cell_type": "markdown",
   "id": "24df7a36",
   "metadata": {},
   "source": []
  },
  {
   "cell_type": "markdown",
   "id": "560ab231",
   "metadata": {},
   "source": []
  },
  {
   "cell_type": "markdown",
   "id": "9f27d2bb",
   "metadata": {},
   "source": [
    "### Question 2.\n",
    "##### Given a list of numbers, create a function which returns the list but with each element's index in the list added to itself. This means you add 0 to the number at index 0, add 1 to the number at index 1, etc...\n",
    "\n",
    "Examples:\n",
    "\n",
    "add_indexes([0, 0, 0, 0, 0]) ➞ [0, 1, 2, 3, 4]\n",
    "<br>\n",
    "add_indexes([1, 2, 3, 4, 5]) ➞ [1, 3, 5, 7, 9]\n",
    "<br>\n",
    "add_indexes([5, 4, 3, 2, 1]) ➞ [5, 5, 5, 5, 5]\n",
    "\n",
    "### Answer:\n"
   ]
  },
  {
   "cell_type": "code",
   "execution_count": 2,
   "id": "0274592a",
   "metadata": {},
   "outputs": [
    {
     "name": "stdout",
     "output_type": "stream",
     "text": [
      "Enter the list which you want to filter:   [0, 0, 0, 0, 0]\n",
      "[0, 0, 0, 0, 0]  ➞  [0, 1, 2, 3, 4]\n",
      "Enter the list which you want to filter:   [1, 2, 3, 4, 5]\n",
      "[1, 2, 3, 4, 5]  ➞  [1, 3, 5, 7, 9]\n",
      "Enter the list which you want to filter:   [5, 4, 3, 2, 1]\n",
      "[5, 4, 3, 2, 1]  ➞  [5, 5, 5, 5, 5]\n"
     ]
    }
   ],
   "source": [
    "def filter_list(x):\n",
    "    \n",
    "    new_list = []\n",
    "    \n",
    "    for i in range(len(x)):\n",
    "        new_list.append(i+x[i])\n",
    "        \n",
    "    return new_list\n",
    "\n",
    "for i in range(3):\n",
    "    user_input = eval(input(\"Enter the list which you want to filter:   \"))\n",
    "    print(f'{user_input}  ➞  {filter_list(user_input)}')   "
   ]
  },
  {
   "cell_type": "markdown",
   "id": "f5cefa83",
   "metadata": {},
   "source": []
  },
  {
   "cell_type": "markdown",
   "id": "735c2ffe",
   "metadata": {},
   "source": []
  },
  {
   "cell_type": "markdown",
   "id": "10e8184a",
   "metadata": {},
   "source": [
    "### Question 3.\n",
    "##### Create a function that takes the height and radius of a cone as arguments and returns the volume of the cone rounded to the nearest hundredth. See the resources tab for the formula.\n",
    "\n",
    "Examples:\n",
    "\n",
    "cone_volume(3, 2) ➞ 12.57\n",
    "<br>\n",
    "cone_volume(15, 6) ➞ 565.49\n",
    "<br>\n",
    "cone_volume(18, 0) ➞ 0\n",
    "\n",
    "### Answer:\n"
   ]
  },
  {
   "cell_type": "code",
   "execution_count": 3,
   "id": "4d87c717",
   "metadata": {},
   "outputs": [
    {
     "name": "stdout",
     "output_type": "stream",
     "text": [
      "Enter the height of the cone:   3\n",
      "Enter the radius of the cone:   2\n",
      "cone_volume(3,2)  ➞  12.57\n",
      "\n",
      "Enter the height of the cone:   15\n",
      "Enter the radius of the cone:   6\n",
      "cone_volume(15,6)  ➞  565.49\n",
      "\n",
      "Enter the height of the cone:   18\n",
      "Enter the radius of the cone:   0\n",
      "cone_volume(18,0)  ➞  0.0\n",
      "\n"
     ]
    }
   ],
   "source": [
    "def cone_volume(h,r):\n",
    "    \n",
    "    import math\n",
    "    output = round(((1/3)*math.pi*(r**2)*h), ndigits=2)\n",
    "    \n",
    "    return output\n",
    "\n",
    "for i in range(3):\n",
    "    user_input_for_height_h = eval(input(\"Enter the height of the cone:   \"))\n",
    "    user_input_for_radius_r = eval(input(\"Enter the radius of the cone:   \"))\n",
    "    \n",
    "    print(f'cone_volume({user_input_for_height_h},{user_input_for_radius_r})  ➞  {cone_volume(user_input_for_height_h,user_input_for_radius_r)}')\n",
    "    print()"
   ]
  },
  {
   "cell_type": "markdown",
   "id": "4fef8c23",
   "metadata": {},
   "source": []
  },
  {
   "cell_type": "markdown",
   "id": "3ec1e1e3",
   "metadata": {},
   "source": []
  },
  {
   "cell_type": "markdown",
   "id": "c0f14827",
   "metadata": {},
   "source": [
    "### Question 4.\n",
    "This Triangular Number Sequence is generated from a pattern of dots that form a triangle. The first 5 numbers of the sequence, or dots, are:\n",
    "<br>\n",
    "1, 3, 6, 10, 15\n",
    "<br>\n",
    "This means that the first triangle has just one dot, the second one has three dots, the third one has 6 dots and so on.\n",
    "##### Write a function that gives the number of dots with its corresponding triangle number of the sequence.\n",
    "\n",
    "Examples:\n",
    "\n",
    "triangle(1) ➞ 1\n",
    "<br>\n",
    "triangle(6) ➞ 21\n",
    "<br>\n",
    "triangle(215) ➞ 23220\n",
    "\n",
    "### Answer:\n"
   ]
  },
  {
   "cell_type": "code",
   "execution_count": 4,
   "id": "db29d850",
   "metadata": {},
   "outputs": [
    {
     "name": "stdout",
     "output_type": "stream",
     "text": [
      "Enter the height of the cone:   1\n",
      "triangle(1)  ➞  1\n",
      "\n",
      "Enter the height of the cone:   6\n",
      "triangle(6)  ➞  21\n",
      "\n",
      "Enter the height of the cone:   215\n",
      "triangle(215)  ➞  23220\n",
      "\n"
     ]
    }
   ],
   "source": [
    "def triangle(x):\n",
    "    \n",
    "    count = 1\n",
    "    if x == 1:\n",
    "        count =1\n",
    "    elif x >= 2:\n",
    "        count = triangle(x-1) + x\n",
    "    else:\n",
    "        return \"Invalid Input\"\n",
    "    \n",
    "    return count\n",
    "\n",
    "for i in range(3):\n",
    "    user_input = eval(input(\"Enter the height of the cone:   \"))\n",
    "    print(f'triangle({user_input})  ➞  {triangle(user_input)}')\n",
    "    print()"
   ]
  },
  {
   "cell_type": "markdown",
   "id": "01337fda",
   "metadata": {},
   "source": []
  },
  {
   "cell_type": "markdown",
   "id": "ccdd3061",
   "metadata": {},
   "source": []
  },
  {
   "cell_type": "markdown",
   "id": "2cc67cc4",
   "metadata": {},
   "source": [
    "### Question 5.\n",
    "##### Create a function that takes a list of numbers between 1 and 10 (excluding one number) and returns the missing number.\n",
    "\n",
    "Examples:\n",
    "\n",
    "missing_num([1, 2, 3, 4, 6, 7, 8, 9, 10]) ➞ 5\n",
    "<br>\n",
    "missing_num([7, 2, 3, 6, 5, 9, 1, 4, 8]) ➞ 10\n",
    "<br>\n",
    "missing_num([10, 5, 1, 2, 4, 6, 8, 3, 9]) ➞ 7\n",
    "\n",
    "### Answer:\n"
   ]
  },
  {
   "cell_type": "code",
   "execution_count": 5,
   "id": "3d228c70",
   "metadata": {},
   "outputs": [
    {
     "name": "stdout",
     "output_type": "stream",
     "text": [
      "Enter the list:   [1, 2, 3, 4, 6, 7, 8, 9, 10]\n",
      "missing_num([1, 2, 3, 4, 6, 7, 8, 9, 10])  ➞  5\n",
      "\n",
      "Enter the list:   [7, 2, 3, 6, 5, 9, 1, 4, 8]\n",
      "missing_num([7, 2, 3, 6, 5, 9, 1, 4, 8])  ➞  10\n",
      "\n",
      "Enter the list:   [10, 5, 1, 2, 4, 6, 8, 3, 9]\n",
      "missing_num([10, 5, 1, 2, 4, 6, 8, 3, 9])  ➞  7\n",
      "\n"
     ]
    }
   ],
   "source": [
    "def missing_num(lst):\n",
    "    \n",
    "    for i in range(1,11):\n",
    "        if i not in lst:\n",
    "            return i\n",
    "        \n",
    "for i in range(3):\n",
    "    user_input = eval(input(\"Enter the list:   \"))\n",
    "    print(f'missing_num({user_input})  ➞  {missing_num(user_input)}')\n",
    "    print()"
   ]
  }
 ],
 "metadata": {
  "kernelspec": {
   "display_name": "Python 3 (ipykernel)",
   "language": "python",
   "name": "python3"
  },
  "language_info": {
   "codemirror_mode": {
    "name": "ipython",
    "version": 3
   },
   "file_extension": ".py",
   "mimetype": "text/x-python",
   "name": "python",
   "nbconvert_exporter": "python",
   "pygments_lexer": "ipython3",
   "version": "3.9.7"
  }
 },
 "nbformat": 4,
 "nbformat_minor": 5
}
