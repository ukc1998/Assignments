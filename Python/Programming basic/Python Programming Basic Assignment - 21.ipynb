{
 "cells": [
  {
   "cell_type": "markdown",
   "id": "abfadbbd",
   "metadata": {},
   "source": [
    "# Python Programming Basic Assignment - 21"
   ]
  },
  {
   "cell_type": "markdown",
   "id": "2efabfaf",
   "metadata": {},
   "source": []
  },
  {
   "cell_type": "markdown",
   "id": "232548fb",
   "metadata": {},
   "source": []
  },
  {
   "cell_type": "markdown",
   "id": "499a9cff",
   "metadata": {},
   "source": [
    "### Question 1.\n",
    "##### Write a function that takes a list and a number as arguments. Add the number to the end of the list, then remove the first element of the list. The function should then return the updated list.\n",
    "\n",
    "Examples:\n",
    "\n",
    "next_in_line([5, 6, 7, 8, 9], 1) ➞ [6, 7, 8, 9, 1]\n",
    "<br>\n",
    "next_in_line([7, 6, 3, 23, 17], 10) ➞ [6, 3, 23, 17, 10]\n",
    "<br>\n",
    "next_in_line([1, 10, 20, 42 ], 6) ➞ [10, 20, 42, 6]\n",
    "<br>\n",
    "next_in_line([], 6) ➞ \"No list has been selected\"\n",
    "\n",
    "### Answer:\n"
   ]
  },
  {
   "cell_type": "code",
   "execution_count": 1,
   "id": "7e92fcc4",
   "metadata": {},
   "outputs": [
    {
     "name": "stdout",
     "output_type": "stream",
     "text": [
      "Enter the list:    [5, 6, 7, 8, 9]\n",
      "Enter the element:   1\n",
      "next_in_line([5, 6, 7, 8, 9], 1) ➞  [6, 7, 8, 9, 1]\n",
      "Enter the list:    [7, 6, 3, 23, 17]\n",
      "Enter the element:   10\n",
      "next_in_line([7, 6, 3, 23, 17], 10) ➞  [6, 3, 23, 17, 10]\n",
      "Enter the list:    [1, 10, 20, 42 ]\n",
      "Enter the element:   6\n",
      "next_in_line([1, 10, 20, 42], 6) ➞  [10, 20, 42, 6]\n",
      "Enter the list:    []\n",
      "Enter the element:   6\n",
      "next_in_line([], 6) ➞  No list has been selected\n"
     ]
    }
   ],
   "source": [
    "def next_in_line(List, Element):\n",
    "    \n",
    "    store_room = []\n",
    "    \n",
    "    if len(List) >= 1:\n",
    "        for i in range(1, len(List)):\n",
    "            store_room.append(List[i])\n",
    "            \n",
    "        store_room.append(Element)\n",
    "        \n",
    "        return store_room\n",
    "    \n",
    "    else:\n",
    "        output = \"No list has been selected\"\n",
    "        return output\n",
    "\n",
    "for i in range(4):\n",
    "    List = eval(input(\"Enter the list:    \"))\n",
    "    Element = eval(input(\"Enter the element:   \"))\n",
    "    print(f\"next_in_line({List}, {Element}) ➞  {next_in_line(List, Element)}\")"
   ]
  },
  {
   "cell_type": "markdown",
   "id": "917ab325",
   "metadata": {},
   "source": []
  },
  {
   "cell_type": "markdown",
   "id": "a1b4bdee",
   "metadata": {},
   "source": []
  },
  {
   "cell_type": "markdown",
   "id": "78b8480e",
   "metadata": {},
   "source": [
    "### Question2.\n",
    "##### Create the function that takes a list of dictionaries and returns the sum of people&#39;s budgets.\n",
    "\n",
    "Examples:\n",
    "\n",
    "get_budgets([\n",
    "<br>\n",
    "{ &quot;name&quot;: &quot;John&quot;, &quot;age&quot;: 21, &quot;budget&quot;: 23000 },\n",
    "<br>\n",
    "{ &quot;name&quot;: &quot;Steve&quot;, &quot;age&quot;: 32, &quot;budget&quot;: 40000 },\n",
    "<br>\n",
    "{ &quot;name&quot;: &quot;Martin&quot;, &quot;age&quot;: 16, &quot;budget&quot;: 2700 }\n",
    "<br>\n",
    "]) ➞ 65700\n",
    "\n",
    "get_budgets([\n",
    "<br>\n",
    "{ &quot;name&quot;: &quot;John&quot;, &quot;age&quot;: 21, &quot;budget&quot;: 29000 },\n",
    "<br>\n",
    "{ &quot;name&quot;: &quot;Steve&quot;, &quot;age&quot;: 32, &quot;budget&quot;: 32000 },\n",
    "<br>\n",
    "{ &quot;name&quot;: &quot;Martin&quot;, &quot;age&quot;: 16, &quot;budget&quot;: 1600 }\n",
    "<br>\n",
    "]) ➞ 62600\n",
    "\n",
    "### Answer:\n"
   ]
  },
  {
   "cell_type": "code",
   "execution_count": 2,
   "id": "b0b6112d",
   "metadata": {},
   "outputs": [
    {
     "data": {
      "text/plain": [
       "65700"
      ]
     },
     "execution_count": 2,
     "metadata": {},
     "output_type": "execute_result"
    }
   ],
   "source": [
    "def get_budgets(List_Of_Dictionaries):\n",
    "    \n",
    "    output = 0\n",
    "    for i in range(len(List_Of_Dictionaries)):\n",
    "        output = output + (List_Of_Dictionaries[i]).get(\"budget\")\n",
    "    return output\n",
    "\n",
    "get_budgets([\n",
    "{ \"name\": \"John\", \"age\": 21, \"budget\": 23000 },\n",
    "{ \"name\": \"Steve\", \"age\": 32, \"budget\": 40000 },\n",
    "{ \"name\": \"Martin\", \"age\": 16, \"budget\": 2700 }\n",
    "])"
   ]
  },
  {
   "cell_type": "markdown",
   "id": "3f814330",
   "metadata": {},
   "source": []
  },
  {
   "cell_type": "markdown",
   "id": "3dea799b",
   "metadata": {},
   "source": []
  },
  {
   "cell_type": "markdown",
   "id": "c57afbe4",
   "metadata": {},
   "source": [
    "### Question3.\n",
    "##### Create a function that takes a string and returns a string with its letters in alphabetical order.\n",
    "\n",
    "Examples:\n",
    "\n",
    "alphabet_soup(&quot;hello&quot;) ➞ &quot;ehllo&quot;\n",
    "<br>\n",
    "alphabet_soup(&quot;edabit&quot;) ➞ &quot;abdeit&quot;\n",
    "<br>\n",
    "alphabet_soup(&quot;hacker&quot;) ➞ &quot;acehkr&quot;\n",
    "<br>\n",
    "alphabet_soup(&quot;geek&quot;) ➞ &quot;eegk&quot;\n",
    "<br>\n",
    "alphabet_soup(&quot;javascript&quot;) ➞ &quot;aacijprstv&quot;\n",
    "\n",
    "### Answer:\n"
   ]
  },
  {
   "cell_type": "code",
   "execution_count": 3,
   "id": "c9bdd78c",
   "metadata": {},
   "outputs": [
    {
     "name": "stdout",
     "output_type": "stream",
     "text": [
      "['e', 'h', 'l', 'l', 'o']\n"
     ]
    },
    {
     "data": {
      "text/plain": [
       "'ehllo'"
      ]
     },
     "execution_count": 3,
     "metadata": {},
     "output_type": "execute_result"
    }
   ],
   "source": [
    "def alphabet_soup(String):\n",
    "    \n",
    "    output = sorted(String)\n",
    "    print(output)\n",
    "    return \"\".join(output)\n",
    "alphabet_soup(\"hello\")"
   ]
  },
  {
   "cell_type": "markdown",
   "id": "3234cb0f",
   "metadata": {},
   "source": []
  },
  {
   "cell_type": "markdown",
   "id": "ed170845",
   "metadata": {},
   "source": []
  },
  {
   "cell_type": "markdown",
   "id": "a69d93a3",
   "metadata": {},
   "source": [
    "### Question4.\n",
    "##### Suppose that you invest 10,000 dollars for 10 years at an interest rate of 6 percent compounded monthly.What will be the value of your investment at the end of the 10 year period? Create a function that accepts the principal p, the term in years t, the interest rate r, and the number of compounding periods per year n. The function returns the value at the end of term rounded to the nearest cent.\n",
    "\n",
    "For the example above:\n",
    "\n",
    "compound_interest(10000, 10, 0.06, 12) ➞ 18193.97\n",
    "\n",
    "Note that the interest rate is given as a decimal and n=12 because with monthly compounding there are 12 periods per year. Compounding can also be done annually, quarterly, weekly, or daily.\n",
    "\n",
    "Examples:\n",
    "\n",
    "compound_interest(100, 1, 0.05, 1) ➞ 105.0\n",
    "<br>\n",
    "compound_interest(3500, 15, 0.1, 4) ➞ 15399.26\n",
    "<br>\n",
    "compound_interest(100000, 20, 0.15, 365) ➞ 2007316.26\n",
    "\n",
    "### Answer:\n"
   ]
  },
  {
   "cell_type": "code",
   "execution_count": 4,
   "id": "32980d37",
   "metadata": {},
   "outputs": [
    {
     "name": "stdout",
     "output_type": "stream",
     "text": [
      "Enter the principal amount:   100000\n",
      "Enter the time in years:   20\n",
      "Enter the rate of interest:   0.15\n",
      "Enter the number of compunding years:   365\n",
      "\n",
      "compound_interest(100000, 20, 0.15, 365) ➞ 2007316.26\n",
      "\n",
      "\n",
      "Enter the principal amount:   100\n",
      "Enter the time in years:   1\n",
      "Enter the rate of interest:   0.05\n",
      "Enter the number of compunding years:   1\n",
      "\n",
      "compound_interest(100, 1, 0.05, 1) ➞ 105.0\n",
      "\n",
      "\n",
      "Enter the principal amount:   3500\n",
      "Enter the time in years:   15\n",
      "Enter the rate of interest:   0.1\n",
      "Enter the number of compunding years:   4\n",
      "\n",
      "compound_interest(3500, 15, 0.1, 4) ➞ 15399.26\n",
      "\n",
      "\n"
     ]
    }
   ],
   "source": [
    "def compound_interest(p,t,r,n):\n",
    "    \n",
    "    CI = p*((1+(r/n))**(n*t))\n",
    "    rounded = round(CI, ndigits = 2)\n",
    "    return rounded\n",
    "\n",
    "for i in range(3):\n",
    "    p = int(input(\"Enter the principal amount:   \"))\n",
    "    t =  int(input(\"Enter the time in years:   \"))\n",
    "    r = float(input(\"Enter the rate of interest:   \"))\n",
    "    n = int(input(\"Enter the number of compunding years:   \"))\n",
    "    print()\n",
    "    print(f\"compound_interest{(p,t,r,n)} ➞ {compound_interest(p,t,r,n)}\")\n",
    "    print()\n",
    "    print()"
   ]
  },
  {
   "cell_type": "markdown",
   "id": "e7daf5fd",
   "metadata": {},
   "source": []
  },
  {
   "cell_type": "markdown",
   "id": "7082eb2d",
   "metadata": {},
   "source": []
  },
  {
   "cell_type": "markdown",
   "id": "dff326d8",
   "metadata": {},
   "source": [
    "### Question5.\n",
    "##### Write a function that takes a list of elements and returns only the integers.\n",
    "\n",
    "Examples:\n",
    "\n",
    "return_only_integer([9, 2, &quot;space&quot;, &quot;car&quot;, &quot;lion&quot;, 16]) ➞ [9, 2, 16]\n",
    "<br>\n",
    "return_only_integer([&quot;hello&quot;, 81, &quot;basketball&quot;, 123, &quot;fox&quot;]) ➞ [81, 123]\n",
    "<br>\n",
    "return_only_integer([10, &quot;121&quot;, 56, 20, &quot;car&quot;, 3, &quot;lion&quot;]) ➞ [10, 56, 20, 3]\n",
    "<br>\n",
    "return_only_integer([&quot;String&quot;, True, 3.3, 1]) ➞ [1]\n",
    "\n",
    "### Answer:\n"
   ]
  },
  {
   "cell_type": "code",
   "execution_count": 5,
   "id": "655bb86f",
   "metadata": {},
   "outputs": [
    {
     "name": "stdout",
     "output_type": "stream",
     "text": [
      "Enter the List:   [9, 2, \"space\", \"car\", \"lion\", 16]\n",
      "return_only_integer[9, 2, 'space', 'car', 'lion', 16] ➞ [9, 2, 16]\n",
      "\n",
      "\n",
      "Enter the List:   [\"hello\", 81, \"basketball\", 123, \"fox\"]\n",
      "return_only_integer['hello', 81, 'basketball', 123, 'fox'] ➞ [81, 123]\n",
      "\n",
      "\n",
      "Enter the List:   [10, \"121\", 56, 20, \"car\", 3, \"lion\"]\n",
      "return_only_integer[10, '121', 56, 20, 'car', 3, 'lion'] ➞ [10, 56, 20, 3]\n",
      "\n",
      "\n",
      "Enter the List:   [\"String\", True, 3.3, 1]\n",
      "return_only_integer['String', True, 3.3, 1] ➞ [1]\n",
      "\n",
      "\n"
     ]
    }
   ],
   "source": [
    "def return_only_integer(List):\n",
    "    store_room = []\n",
    "    for i in List:\n",
    "        if type(i)==int:\n",
    "            store_room.append(i)\n",
    "    return store_room\n",
    "\n",
    "for i in range(4):\n",
    "\n",
    "    List = eval(input(\"Enter the List:   \"))\n",
    "    print(f\"return_only_integer{(List)} ➞ {return_only_integer(List)}\")\n",
    "    print()\n",
    "    print()"
   ]
  }
 ],
 "metadata": {
  "kernelspec": {
   "display_name": "Python 3 (ipykernel)",
   "language": "python",
   "name": "python3"
  },
  "language_info": {
   "codemirror_mode": {
    "name": "ipython",
    "version": 3
   },
   "file_extension": ".py",
   "mimetype": "text/x-python",
   "name": "python",
   "nbconvert_exporter": "python",
   "pygments_lexer": "ipython3",
   "version": "3.9.7"
  }
 },
 "nbformat": 4,
 "nbformat_minor": 5
}
