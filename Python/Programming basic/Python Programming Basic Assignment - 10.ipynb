{
 "cells": [
  {
   "cell_type": "markdown",
   "id": "44c1841c",
   "metadata": {},
   "source": [
    "# Python Programming Basic Assignment - 10"
   ]
  },
  {
   "cell_type": "markdown",
   "id": "87c1b3ff",
   "metadata": {},
   "source": []
  },
  {
   "cell_type": "markdown",
   "id": "1a50b14d",
   "metadata": {},
   "source": []
  },
  {
   "cell_type": "markdown",
   "id": "39b6275d",
   "metadata": {},
   "source": [
    "### Question1. \n",
    "Write a Python program to find sum of elements in list?\n",
    "\n",
    "Answer:\n"
   ]
  },
  {
   "cell_type": "code",
   "execution_count": 1,
   "id": "8bc234f9",
   "metadata": {},
   "outputs": [
    {
     "name": "stdout",
     "output_type": "stream",
     "text": [
      "The sum of all the elements in the given list is  25042\n"
     ]
    }
   ],
   "source": [
    "def List_Elements_Sum(x):\n",
    "    \n",
    "    \"\"\"\n",
    "    It is a function to find the sum of all the elements in the given list.\n",
    "    It takes a list as argument.\n",
    "    The datatype of elements in the list can be integer, floating-point or complex number.\n",
    "    \"\"\"\n",
    "    \n",
    "    if type(x) == list:\n",
    "        SUM = 0\n",
    "        for i in range(len(x)):\n",
    "            SUM = SUM + x[i]\n",
    "        print(\"The sum of all the elements in the given list is \",SUM)\n",
    "    \n",
    "    else:\n",
    "        print(\"WARNING!!!!! Please give input in the form of a list\")\n",
    "        \n",
    "List_Elements_Sum([1234,23345,456,7])"
   ]
  },
  {
   "cell_type": "markdown",
   "id": "07ef6571",
   "metadata": {},
   "source": []
  },
  {
   "cell_type": "markdown",
   "id": "469ce846",
   "metadata": {},
   "source": []
  },
  {
   "cell_type": "markdown",
   "id": "7d1c5290",
   "metadata": {},
   "source": [
    "### Question2.\n",
    "Write a Python program to Multiply all numbers in the list?\n",
    "\n",
    "Answer:\n"
   ]
  },
  {
   "cell_type": "code",
   "execution_count": 2,
   "id": "da6b393a",
   "metadata": {},
   "outputs": [
    {
     "name": "stdout",
     "output_type": "stream",
     "text": [
      "The product of all the elements in the given list is  91954274160\n"
     ]
    }
   ],
   "source": [
    "def List_Elements_Product(x):\n",
    "    \n",
    "    \"\"\"\n",
    "    It is a function to find the product of all the elements in the given list.\n",
    "    It takes a list as argument.\n",
    "    The datatype of elements in the list can be integer, floating-point or complex number.\n",
    "    \"\"\"\n",
    "    \n",
    "    if type(x) == list:\n",
    "        PRODUCT = 1\n",
    "        for i in range(len(x)):\n",
    "            PRODUCT = PRODUCT * x[i]\n",
    "        print(\"The product of all the elements in the given list is \",PRODUCT)\n",
    "    \n",
    "    else:\n",
    "        print(\"WARNING!!!!! Please give input in the form of a list\")\n",
    "        \n",
    "List_Elements_Product([1234,23345,456,7])"
   ]
  },
  {
   "cell_type": "markdown",
   "id": "72be5a0d",
   "metadata": {},
   "source": []
  },
  {
   "cell_type": "markdown",
   "id": "329be3d1",
   "metadata": {},
   "source": []
  },
  {
   "cell_type": "markdown",
   "id": "9b0a3393",
   "metadata": {},
   "source": [
    "### Question3.\n",
    "Write a Python program to find smallest number in a list?\n",
    "\n",
    "Answer:\n"
   ]
  },
  {
   "cell_type": "code",
   "execution_count": 3,
   "id": "ba4867ef",
   "metadata": {},
   "outputs": [
    {
     "name": "stdout",
     "output_type": "stream",
     "text": [
      "The smallest of all the elements in the given list is  7\n"
     ]
    }
   ],
   "source": [
    "def List_Elements_Smallest(x):\n",
    "    \n",
    "    \"\"\"\n",
    "    It is a function to find the smallest number of all the elements in the given list.\n",
    "    It takes a list as argument.\n",
    "    The datatype of elements in the list can be integer or floating-point.\n",
    "    \"\"\"\n",
    "    \n",
    "    if type(x) == list:\n",
    "        SMALLEST = x[1]\n",
    "        for i in range(len(x)):\n",
    "            if x[1] <= x[i]:\n",
    "                SMALLEST = x[1]\n",
    "            else:\n",
    "                SMALLEST = x[i]\n",
    "                x[1] = SMALLEST\n",
    "        print(\"The smallest of all the elements in the given list is \",SMALLEST)\n",
    "    \n",
    "    else:\n",
    "        print(\"WARNING!!!!! Please give input in the form of a list\")\n",
    "        \n",
    "List_Elements_Smallest([1234,23345,456,7])"
   ]
  },
  {
   "cell_type": "markdown",
   "id": "da316551",
   "metadata": {},
   "source": []
  },
  {
   "cell_type": "markdown",
   "id": "b67728fb",
   "metadata": {},
   "source": []
  },
  {
   "cell_type": "markdown",
   "id": "cd127af5",
   "metadata": {},
   "source": [
    "### Question4.\n",
    "Write a Python program to find largest number in a list?\n",
    "\n",
    "Answer:\n"
   ]
  },
  {
   "cell_type": "code",
   "execution_count": 4,
   "id": "7dc2ed00",
   "metadata": {},
   "outputs": [
    {
     "name": "stdout",
     "output_type": "stream",
     "text": [
      "The smallest of all the elements in the given list is  23345\n"
     ]
    }
   ],
   "source": [
    "def List_Elements_Largest(x):\n",
    "    \n",
    "    \"\"\"\n",
    "    It is a function to find the largest number of all the elements in the given list.\n",
    "    It takes a list as argument.\n",
    "    The datatype of elements in the list can be integer or floating-point.\n",
    "    \"\"\"\n",
    "    \n",
    "    if type(x) == list:\n",
    "        LARGEST = x[1]\n",
    "        for i in range(len(x)):\n",
    "            if x[1] >= x[i]:\n",
    "                LARGEST = x[1]\n",
    "            else:\n",
    "                LARGEST = x[i]\n",
    "                x[1] = LARGEST\n",
    "        print(\"The largest of all the elements in the given list is \",LARGEST)\n",
    "    \n",
    "    else:\n",
    "        print(\"WARNING!!!!! Please give input in the form of a list\")\n",
    "        \n",
    "List_Elements_Largest([1234,23345,456,7])"
   ]
  },
  {
   "cell_type": "markdown",
   "id": "a06346ef",
   "metadata": {},
   "source": []
  },
  {
   "cell_type": "markdown",
   "id": "0070837f",
   "metadata": {},
   "source": []
  },
  {
   "cell_type": "markdown",
   "id": "3bf6fb02",
   "metadata": {},
   "source": [
    "### Question5.\n",
    "Write a Python program to find second largest number in a list?\n",
    "\n",
    "Answer:\n"
   ]
  },
  {
   "cell_type": "code",
   "execution_count": 12,
   "id": "cf17b404",
   "metadata": {},
   "outputs": [
    {
     "name": "stdout",
     "output_type": "stream",
     "text": [
      "The second largest number in the given list is  1234\n"
     ]
    }
   ],
   "source": [
    "def List_Elements_Second_Largest(x):\n",
    "    \n",
    "    \"\"\"\n",
    "    It is a function to find the second largest number of all the elements in the given list.\n",
    "    It takes a list as argument.\n",
    "    The datatype of elements in the list can be integer or floating-point.\n",
    "    \"\"\"\n",
    "    \n",
    "    if type(x) == list:\n",
    "        Sorted_List = sorted(x)\n",
    "        Reversed_Sorted_List = sorted(x)[::-1]\n",
    "        print(\"The second largest number in the given list is \", Reversed_Sorted_List[1])\n",
    "        \n",
    "        \n",
    "List_Elements_Second_Largest([1234,23345,456,7])"
   ]
  },
  {
   "cell_type": "markdown",
   "id": "6a0593fd",
   "metadata": {},
   "source": []
  },
  {
   "cell_type": "markdown",
   "id": "3f91b159",
   "metadata": {},
   "source": []
  },
  {
   "cell_type": "markdown",
   "id": "e0da94b1",
   "metadata": {},
   "source": [
    "### Question6.\n",
    "Write a Python program to find N largest elements from a list?\n",
    "\n",
    "Answer:\n"
   ]
  },
  {
   "cell_type": "code",
   "execution_count": 24,
   "id": "db06b34d",
   "metadata": {},
   "outputs": [
    {
     "name": "stdout",
     "output_type": "stream",
     "text": [
      "2\n",
      "[23345, 1234]\n"
     ]
    }
   ],
   "source": [
    "def List_Elements_N_Largest(x):\n",
    "    \n",
    "    \"\"\"\n",
    "    It is a function to find the list of N largest number of all the elements in the given list.\n",
    "    The value of N is given by the user, it can be any positive number less than or equal to\n",
    "    the number of elements in the given list.\n",
    "    It takes a list as argument.\n",
    "    The datatype of elements in the list can be integer or floating-point.\n",
    "    \"\"\"\n",
    "    \n",
    "    if type(x) == list:\n",
    "        Sorted_List = sorted(x)\n",
    "        Reversed_Sorted_List = sorted(x)[::-1]\n",
    "        \n",
    "        N = int(input())\n",
    "        print(Reversed_Sorted_List[:N:])\n",
    "            \n",
    "        \n",
    "        \n",
    "List_Elements_N_Largest([1234,23345,456,7])"
   ]
  },
  {
   "cell_type": "markdown",
   "id": "4fddb9aa",
   "metadata": {},
   "source": []
  },
  {
   "cell_type": "markdown",
   "id": "5c131123",
   "metadata": {},
   "source": []
  },
  {
   "cell_type": "markdown",
   "id": "0e9ad285",
   "metadata": {},
   "source": [
    "### Question7.\n",
    "Write a Python program to print even numbers in a list?\n",
    "\n",
    "Answer:\n"
   ]
  },
  {
   "cell_type": "code",
   "execution_count": 26,
   "id": "c3102479",
   "metadata": {},
   "outputs": [
    {
     "name": "stdout",
     "output_type": "stream",
     "text": [
      "The even numbers in the given list are:  [1234, 456]\n"
     ]
    }
   ],
   "source": [
    "def List_Elements_Even(x):\n",
    "    \n",
    "    \"\"\"\n",
    "    It is a function to find the list of even numbers from the given list.\n",
    "    It takes a list as argument.\n",
    "    The datatype of elements in the list can be integer or floating-point.\n",
    "    \"\"\"\n",
    "    \n",
    "    if type(x) == list:\n",
    "        List = []\n",
    "        for i in range(len(x)):\n",
    "            if x[i]%2 == 0:\n",
    "                List.append(x[i])\n",
    "        print(\"The even numbers in the given list are: \",List)\n",
    "    \n",
    "\n",
    "List_Elements_Even([1234,23345,456,7])"
   ]
  },
  {
   "cell_type": "markdown",
   "id": "6ea570c0",
   "metadata": {},
   "source": []
  },
  {
   "cell_type": "markdown",
   "id": "2fe3b862",
   "metadata": {},
   "source": []
  },
  {
   "cell_type": "markdown",
   "id": "8a25ad89",
   "metadata": {},
   "source": [
    "### Question8.\n",
    "Write a Python program to print odd numbers in a List?\n",
    "\n",
    "Answer:\n"
   ]
  },
  {
   "cell_type": "code",
   "execution_count": 27,
   "id": "251a3701",
   "metadata": {},
   "outputs": [
    {
     "name": "stdout",
     "output_type": "stream",
     "text": [
      "The odd numbers in the given list are:  [23345, 7]\n"
     ]
    }
   ],
   "source": [
    "def List_Elements_Odd(x):\n",
    "    \n",
    "    \"\"\"\n",
    "    It is a function to find the list of odd numbers from the given list.\n",
    "    It takes a list as argument.\n",
    "    The datatype of elements in the list can be integer or floating-point.\n",
    "    \"\"\"\n",
    "    \n",
    "    if type(x) == list:\n",
    "        List = []\n",
    "        for i in range(len(x)):\n",
    "            if x[i]%2 != 0:\n",
    "                List.append(x[i])\n",
    "        print(\"The odd numbers in the given list are: \",List)\n",
    "    \n",
    "\n",
    "List_Elements_Odd([1234,23345,456,7])"
   ]
  },
  {
   "cell_type": "markdown",
   "id": "8947d5ac",
   "metadata": {},
   "source": []
  },
  {
   "cell_type": "markdown",
   "id": "47865bbb",
   "metadata": {},
   "source": []
  },
  {
   "cell_type": "markdown",
   "id": "1374e0a6",
   "metadata": {},
   "source": [
    "### Question9.\n",
    "Write a Python program to Remove empty List from List?\n",
    "\n",
    "Answer:\n"
   ]
  },
  {
   "cell_type": "code",
   "execution_count": 44,
   "id": "1217950f",
   "metadata": {},
   "outputs": [
    {
     "name": "stdout",
     "output_type": "stream",
     "text": [
      "The modified list is as:  [1234, 23345, 456, 7]\n"
     ]
    }
   ],
   "source": [
    "def List_Elements_Remove(x):\n",
    "    \n",
    "    \"\"\"\n",
    "    It is a function to remove empty list from the given list.\n",
    "    It takes a list as argument.\n",
    "    It returns the remaining list, i.e. the list after removing the empty list, as an output .\n",
    "    \"\"\"\n",
    "    \n",
    "    if type(x) == list:\n",
    "        Modified_List = []\n",
    "        for i in range(len(x)):\n",
    "            if x[i] != []:\n",
    "                Modified_List.append(x[i])\n",
    "        print(\"The modified list is as: \", Modified_List)\n",
    "    \n",
    "\n",
    "List_Elements_Remove([1234,23345,456,[],[],7])"
   ]
  },
  {
   "cell_type": "markdown",
   "id": "449d4027",
   "metadata": {},
   "source": []
  },
  {
   "cell_type": "markdown",
   "id": "68678e5b",
   "metadata": {},
   "source": []
  },
  {
   "cell_type": "markdown",
   "id": "79fe6f56",
   "metadata": {},
   "source": [
    "### Question10.\n",
    "Write a Python program to Cloning or Copying a list?\n",
    "\n",
    "Answer:\n",
    " "
   ]
  },
  {
   "cell_type": "code",
   "execution_count": 48,
   "id": "2a5fafe1",
   "metadata": {},
   "outputs": [
    {
     "name": "stdout",
     "output_type": "stream",
     "text": [
      "The cloned list is:  \n",
      " [1234, 23345, 456, [], [3245, 345, 34], 7]\n"
     ]
    }
   ],
   "source": [
    "def List_Cloning(x):\n",
    "    \n",
    "    \"\"\"\n",
    "    It is a unction to copy or clone a given list.\n",
    "    It takes a list as argument.\n",
    "    \"\"\"\n",
    "    if type(x) == list:\n",
    "        Cloned_List = x[:]\n",
    "    print(\"The cloned list is: \",\"\\n\",Cloned_List)\n",
    "\n",
    "List_Cloning([1234,23345,456,[],[3245,345,34],7])"
   ]
  },
  {
   "cell_type": "markdown",
   "id": "707d9a40",
   "metadata": {},
   "source": []
  },
  {
   "cell_type": "markdown",
   "id": "e697a77a",
   "metadata": {},
   "source": []
  },
  {
   "cell_type": "markdown",
   "id": "1744dd7d",
   "metadata": {},
   "source": [
    "### Question11.\n",
    "Write a Python program to Count occurrences of an element in a list?\n",
    "\n",
    "Answer:\n"
   ]
  },
  {
   "cell_type": "code",
   "execution_count": 51,
   "id": "610a8868",
   "metadata": {},
   "outputs": [
    {
     "name": "stdout",
     "output_type": "stream",
     "text": [
      "3 has occurred 5 number of times in the given list\n"
     ]
    }
   ],
   "source": [
    "def List_Count_Occurrence(x, element):\n",
    "    \n",
    "    \"\"\"\n",
    "    It is a function to count the number of occurences of a given element in the given list.\n",
    "    It takes two arguments.\n",
    "    First argument is the list.\n",
    "    Second argument is the element for which you want to find its number of occurences in the provided list.\n",
    "    \"\"\"\n",
    "    \n",
    "    if type(x) == list:\n",
    "        Count = 0\n",
    "        for i in x:\n",
    "            if i == element:\n",
    "                Count = Count + 1\n",
    "        print(element, \"has occurred\", Count, \"number of times in the given list\")\n",
    "        \n",
    "List_Count_Occurrence([31,2,3,12,3,3,45,34,5,5,6,67,68,3,3,2,4,44,54,65,67,56,23,4], 3)"
   ]
  }
 ],
 "metadata": {
  "kernelspec": {
   "display_name": "Python 3 (ipykernel)",
   "language": "python",
   "name": "python3"
  },
  "language_info": {
   "codemirror_mode": {
    "name": "ipython",
    "version": 3
   },
   "file_extension": ".py",
   "mimetype": "text/x-python",
   "name": "python",
   "nbconvert_exporter": "python",
   "pygments_lexer": "ipython3",
   "version": "3.9.7"
  }
 },
 "nbformat": 4,
 "nbformat_minor": 5
}
