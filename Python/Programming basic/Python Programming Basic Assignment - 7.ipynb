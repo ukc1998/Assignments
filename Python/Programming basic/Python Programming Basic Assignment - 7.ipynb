{
 "cells": [
  {
   "cell_type": "markdown",
   "id": "4db0682d",
   "metadata": {},
   "source": [
    "# Python Programming Basic Assignment - 7"
   ]
  },
  {
   "cell_type": "markdown",
   "id": "470de1be",
   "metadata": {},
   "source": []
  },
  {
   "cell_type": "markdown",
   "id": "a41cf95f",
   "metadata": {},
   "source": []
  },
  {
   "cell_type": "markdown",
   "id": "b5475496",
   "metadata": {},
   "source": [
    "### Question 1. \n",
    "##### Write a Python Program to find sum of array?\n",
    "\n",
    "#### Answer:\n"
   ]
  },
  {
   "cell_type": "code",
   "execution_count": 1,
   "id": "39de26a9",
   "metadata": {},
   "outputs": [
    {
     "name": "stdout",
     "output_type": "stream",
     "text": [
      "Enter the Array for which you want to find the sum of its elements: [1, 2, 3, 4, 5, 6, 7, 8, 9, 10]\n",
      "\n",
      "The sum of the elements in the array [1, 2, 3, 4, 5, 6, 7, 8, 9, 10] is 55\n"
     ]
    }
   ],
   "source": [
    "def SumOfArray():\n",
    "    input_array = eval(input(\"Enter the Array for which you want to find the sum of its elements: \"))\n",
    "    print()\n",
    "    print(f'The sum of the elements in the array {input_array} is {sum(input_array)}')\n",
    "\n",
    "SumOfArray()"
   ]
  },
  {
   "cell_type": "markdown",
   "id": "e404d444",
   "metadata": {},
   "source": []
  },
  {
   "cell_type": "markdown",
   "id": "88687e02",
   "metadata": {},
   "source": []
  },
  {
   "cell_type": "markdown",
   "id": "2b18b0b2",
   "metadata": {},
   "source": [
    "### Question 2. \n",
    "##### Write a Python Program to find largest element in an array?\n",
    "\n",
    "#### Answer:\n"
   ]
  },
  {
   "cell_type": "code",
   "execution_count": 2,
   "id": "6307790b",
   "metadata": {},
   "outputs": [
    {
     "name": "stdout",
     "output_type": "stream",
     "text": [
      "Enter the Array for which you want to find the largest of its elements: [1, 2, 3, 4, 5, 6, 7, 8, 9, 10]\n",
      "\n",
      "The largest of the elements in the array [1, 2, 3, 4, 5, 6, 7, 8, 9, 10] is 10\n"
     ]
    }
   ],
   "source": [
    "def Largest_Element():\n",
    "    input_array = eval(input(\"Enter the Array for which you want to find the largest of its elements: \"))\n",
    "    print()\n",
    "    print(f'The largest of the elements in the array {input_array} is {max(input_array)}')\n",
    "\n",
    "Largest_Element()"
   ]
  },
  {
   "cell_type": "markdown",
   "id": "dbe37155",
   "metadata": {},
   "source": []
  },
  {
   "cell_type": "markdown",
   "id": "f47023bf",
   "metadata": {},
   "source": []
  },
  {
   "cell_type": "markdown",
   "id": "8d6013ce",
   "metadata": {},
   "source": [
    "### Question 3. \n",
    "##### Write a Python Program for array rotation?\n",
    "\n",
    "#### Answer:\n"
   ]
  },
  {
   "cell_type": "code",
   "execution_count": 3,
   "id": "94d13538",
   "metadata": {},
   "outputs": [
    {
     "name": "stdout",
     "output_type": "stream",
     "text": [
      "Enter the Array you want to rotate: [1, 2, 3, 4, 5, 6, 7, 8, 9, 10]\n",
      "\n",
      "The array [1, 2, 3, 4, 5, 6, 7, 8, 9, 10] after a rotaion is [10, 9, 8, 7, 6, 5, 4, 3, 2, 1]\n"
     ]
    }
   ],
   "source": [
    "def array_Rotation():\n",
    "    input_array = eval(input(\"Enter the Array you want to rotate: \"))\n",
    "    print()\n",
    "    print(f'The array {input_array} after a rotaion is {(input_array)[::-1]}')\n",
    "\n",
    "array_Rotation()"
   ]
  },
  {
   "cell_type": "markdown",
   "id": "37941732",
   "metadata": {},
   "source": []
  },
  {
   "cell_type": "markdown",
   "id": "d2e2c74a",
   "metadata": {},
   "source": []
  },
  {
   "cell_type": "markdown",
   "id": "c40d2cca",
   "metadata": {},
   "source": [
    "### Question 4. \n",
    "##### Write a Python Program to Split the array and add the first part to the end?\n",
    "\n",
    "#### Answer:\n"
   ]
  },
  {
   "cell_type": "code",
   "execution_count": 4,
   "id": "ac1c10d5",
   "metadata": {},
   "outputs": [
    {
     "name": "stdout",
     "output_type": "stream",
     "text": [
      "Enter the array you want to split:  [1, 2, 3, 4, 5, 6, 7, 8, 9, 10]\n",
      "\n",
      "Enter the number of elements you want to split from the array \n",
      "and merge it to the end of the original array: 5\n",
      "\n",
      "The array [1, 2, 3, 4, 5, 6, 7, 8, 9, 10] after splitting and then merging is [6, 7, 8, 9, 10, 1, 2, 3, 4, 5]\n"
     ]
    }
   ],
   "source": [
    "def array_split_merger():\n",
    "    input_Array = eval(input(\"Enter the array you want to split:  \"))\n",
    "    print()\n",
    "    index_no = int(input(\"Enter the number of elements you want to split from the array \\nand merge it to the end of the original array: \"))\n",
    "    print()\n",
    "    output = input_Array[index_no:len(input_Array)]+ input_Array[:index_no]\n",
    "    print(f\"The array {input_Array} after splitting and then merging is {output}\")\n",
    "    \n",
    "array_split_merger()"
   ]
  },
  {
   "cell_type": "markdown",
   "id": "a3115f86",
   "metadata": {},
   "source": []
  },
  {
   "cell_type": "markdown",
   "id": "e18b4de3",
   "metadata": {},
   "source": []
  },
  {
   "cell_type": "markdown",
   "id": "5b98624f",
   "metadata": {},
   "source": [
    "### Question 5. \n",
    "##### Write a Python Program to check if given array is Monotonic?\n",
    "\n",
    "#### Answer:\n"
   ]
  },
  {
   "cell_type": "code",
   "execution_count": 5,
   "id": "edfcad80",
   "metadata": {},
   "outputs": [
    {
     "name": "stdout",
     "output_type": "stream",
     "text": [
      "Enter the Array you want to check if it is monotonic or not: [1, 2, 3, 4, 5, 6, 7, 8, 9, 10]\n",
      "\n",
      "Array [1, 2, 3, 4, 5, 6, 7, 8, 9, 10] is Monotonic\n",
      "Enter the Array you want to check if it is monotonic or not: [10, 9, 8, 7, 6, 5, 4, 3, 2, 1]\n",
      "\n",
      "Array [10, 9, 8, 7, 6, 5, 4, 3, 2, 1] is Monotonic\n",
      "Enter the Array you want to check if it is monotonic or not: [1, 2, 3, 4, 5, 6, 7, 8, 888889, 10]\n",
      "\n",
      "Array [1, 2, 3, 4, 5, 6, 7, 8, 888889, 10] is not Monotonic\n"
     ]
    }
   ],
   "source": [
    "def monotonic_Checker():\n",
    "    input_Array = eval(input(\"Enter the Array you want to check if it is monotonic or not: \"))\n",
    "    print()\n",
    "    if(all(input_Array[i] <= input_Array[i+1] for i in range(len(input_Array)-1)) or all(input_Array[i] >= input_Array[i+1] for i in range(len(input_Array)-1))):\n",
    "        print(f'Array {input_Array} is Monotonic')\n",
    "    else:\n",
    "        print(f'Array {input_Array} is not Monotonic')\n",
    "\n",
    "monotonic_Checker()\n",
    "monotonic_Checker()\n",
    "monotonic_Checker()"
   ]
  }
 ],
 "metadata": {
  "kernelspec": {
   "display_name": "Python 3 (ipykernel)",
   "language": "python",
   "name": "python3"
  },
  "language_info": {
   "codemirror_mode": {
    "name": "ipython",
    "version": 3
   },
   "file_extension": ".py",
   "mimetype": "text/x-python",
   "name": "python",
   "nbconvert_exporter": "python",
   "pygments_lexer": "ipython3",
   "version": "3.9.7"
  }
 },
 "nbformat": 4,
 "nbformat_minor": 5
}
