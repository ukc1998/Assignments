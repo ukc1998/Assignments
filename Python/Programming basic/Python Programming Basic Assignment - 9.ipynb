{
 "cells": [
  {
   "cell_type": "markdown",
   "id": "aea5b16f",
   "metadata": {},
   "source": [
    "# Python Programming Basic Assignment - 9"
   ]
  },
  {
   "cell_type": "markdown",
   "id": "8b89e09c",
   "metadata": {},
   "source": []
  },
  {
   "cell_type": "markdown",
   "id": "d54b407a",
   "metadata": {},
   "source": []
  },
  {
   "cell_type": "markdown",
   "id": "06f43419",
   "metadata": {},
   "source": [
    "### Question1.\n",
    "Write a Python program to check if the given number is a Disarium Number?\n",
    "\n",
    "Answer:\n"
   ]
  },
  {
   "cell_type": "code",
   "execution_count": 1,
   "id": "84873017",
   "metadata": {},
   "outputs": [
    {
     "name": "stdout",
     "output_type": "stream",
     "text": [
      "Enter the number you want to check if it is a Disarium Number or not:  175\n",
      "175  is a Disarium Number\n"
     ]
    }
   ],
   "source": [
    "def DisNum(x):\n",
    "    \n",
    "    \"\"\"\n",
    "    It is a function to check if a number is a Disarium Number or not.\n",
    "    \n",
    "    NOTE: A number is said to be the Disarium number when the sum of its digit raised to\n",
    "          the power of their respective positions becomes equal to the number itself.\n",
    "    \n",
    "    It takes positive integer as an input.\n",
    "    \"\"\"\n",
    "    \n",
    "    SUM = 0\n",
    "    count = 1\n",
    "    \n",
    "    for i in str(x):\n",
    "        SUM = SUM + ((int(i))**count)\n",
    "        count = count + 1 \n",
    "        \n",
    "    if SUM == x:\n",
    "        print(x, \" is a Disarium Number\")\n",
    "        \n",
    "    else:\n",
    "        print(x, \" is not a Disarium Number\")\n",
    "        \n",
    "x = int(input(\"Enter the number you want to check if it is a Disarium Number or not:  \"))\n",
    "DisNum(x)"
   ]
  },
  {
   "cell_type": "markdown",
   "id": "262fca8b",
   "metadata": {},
   "source": []
  },
  {
   "cell_type": "markdown",
   "id": "f5a6a72c",
   "metadata": {},
   "source": []
  },
  {
   "cell_type": "markdown",
   "id": "a412149a",
   "metadata": {},
   "source": [
    "### Question2.\n",
    "Write a Python program to print all disarium numbers between 1 to 100?\n",
    "\n",
    "Answer:\n"
   ]
  },
  {
   "cell_type": "code",
   "execution_count": 2,
   "id": "f24a452f",
   "metadata": {},
   "outputs": [
    {
     "name": "stdout",
     "output_type": "stream",
     "text": [
      "1\n",
      "2\n",
      "3\n",
      "4\n",
      "5\n",
      "6\n",
      "7\n",
      "8\n",
      "9\n",
      "89\n"
     ]
    }
   ],
   "source": [
    "def DisNum(x):\n",
    "    \n",
    "    \"\"\"\n",
    "    It is a function to print all Disarium numbers between 1 to 100.\n",
    "    \"\"\"\n",
    "    \n",
    "    SUM = 0\n",
    "    count = 1\n",
    "    \n",
    "    for i in str(x):\n",
    "        SUM = SUM + ((int(i))**count)\n",
    "        count = count + 1 \n",
    "        \n",
    "    if SUM == x:\n",
    "        return SUM\n",
    "\n",
    "CHECK = 0\n",
    "for i in range(1, 101):\n",
    "    CHECK =DisNum(i)\n",
    "    if CHECK == i:\n",
    "        print(i)"
   ]
  },
  {
   "cell_type": "markdown",
   "id": "7adc2134",
   "metadata": {},
   "source": []
  },
  {
   "cell_type": "markdown",
   "id": "95cf280d",
   "metadata": {},
   "source": []
  },
  {
   "cell_type": "markdown",
   "id": "dbfdddfa",
   "metadata": {},
   "source": [
    "### Question3.\n",
    "Write a Python program to check if the given number is Happy Number?\n",
    "\n",
    "Answer:\n"
   ]
  },
  {
   "cell_type": "code",
   "execution_count": 3,
   "id": "e642e90e",
   "metadata": {},
   "outputs": [
    {
     "name": "stdout",
     "output_type": "stream",
     "text": [
      "Enter the number you want to check if it is a Happy Number or not:  31\n",
      "31  is a Happy Number\n"
     ]
    }
   ],
   "source": [
    "def HapNum(x):\n",
    "    \n",
    "    \"\"\"\n",
    "    It is a function to check if the given number is Happy Number or not.\n",
    "    \n",
    "    NOTE: \n",
    "    A number is said to be happy if it yields 1 when replaced by the sum of squares of its digits repeatedly.\n",
    "    If this process results in an endless cycle of numbers containing 4, then the number will be an unhappy number.\n",
    "    \n",
    "    It takes poditive integer as an input. \n",
    "    \"\"\"\n",
    "    \n",
    "    SUM = 0\n",
    "    for i in str(x):\n",
    "        SUM = SUM + ((int(i))**2)\n",
    "    return SUM\n",
    "\n",
    "v = int(input(\"Enter the number you want to check if it is a Happy Number or not:  \"))\n",
    "CHECK = v\n",
    "\n",
    "while CHECK != 1 and CHECK != 4:\n",
    "    CHECK = HapNum(CHECK)\n",
    "\n",
    "if CHECK == 1:\n",
    "    print(v, \" is a Happy Number\")\n",
    "\n",
    "elif CHECK == 4:\n",
    "    print(v,\" is not a Nappy Number\")"
   ]
  },
  {
   "cell_type": "markdown",
   "id": "bb0ba419",
   "metadata": {},
   "source": []
  },
  {
   "cell_type": "markdown",
   "id": "852679cc",
   "metadata": {},
   "source": []
  },
  {
   "cell_type": "markdown",
   "id": "889df795",
   "metadata": {},
   "source": [
    "### Question4. \n",
    "Write a Python program to print all happy numbers between 1 and 100?\n",
    "\n",
    "Answer:\n"
   ]
  },
  {
   "cell_type": "code",
   "execution_count": 4,
   "id": "c9ff248d",
   "metadata": {},
   "outputs": [
    {
     "name": "stdout",
     "output_type": "stream",
     "text": [
      "List of happy numbers between 1 and 100: \n",
      "1\n",
      "7\n",
      "10\n",
      "13\n",
      "19\n",
      "23\n",
      "28\n",
      "31\n",
      "32\n",
      "44\n",
      "49\n",
      "68\n",
      "70\n",
      "79\n",
      "82\n",
      "86\n",
      "91\n",
      "94\n",
      "97\n",
      "100\n"
     ]
    }
   ],
   "source": [
    "def HapNum(x):\n",
    "    \n",
    "    \"\"\"\n",
    "    It is a function to print Happy Numbers between 1 and 100.\n",
    "    \"\"\"\n",
    "    \n",
    "    SUM = 0\n",
    "    for i in str(x):\n",
    "        SUM = SUM + ((int(i))**2)\n",
    "    return SUM\n",
    "\n",
    "print(\"List of happy numbers between 1 and 100: \")\n",
    "\n",
    "for i in range(1, 101):\n",
    "    CHECK = i\n",
    "\n",
    "    while CHECK != 1 and CHECK != 4:\n",
    "        CHECK = HapNum(CHECK)\n",
    "\n",
    "    if CHECK == 1:\n",
    "        print(i)"
   ]
  },
  {
   "cell_type": "markdown",
   "id": "8975c2e8",
   "metadata": {},
   "source": []
  },
  {
   "cell_type": "markdown",
   "id": "24178ab9",
   "metadata": {},
   "source": []
  },
  {
   "cell_type": "markdown",
   "id": "59626e52",
   "metadata": {},
   "source": [
    "### Question5.\n",
    "Write a Python program to determine whether the given number is a Harshad Number?\n",
    "\n",
    "Answer:\n"
   ]
  },
  {
   "cell_type": "code",
   "execution_count": 5,
   "id": "eac2f941",
   "metadata": {},
   "outputs": [
    {
     "name": "stdout",
     "output_type": "stream",
     "text": [
      "Enter the number you want to verify if it is a Harshad Number or not:  156\n",
      "156  is a Harshad Number\n"
     ]
    }
   ],
   "source": [
    "def HarNum(x):\n",
    "    \n",
    "    \"\"\"\n",
    "    It is a function to determine whether the given number is a Harshad Number, also called as Niven Number, or not.\n",
    "    It takes positive integer as an input\n",
    "    \"\"\"\n",
    "    \n",
    "    SUM = 0\n",
    "    for i in str(x):\n",
    "        SUM = SUM + int(i)\n",
    "    if x % SUM == 0:\n",
    "        print(x, \" is a Harshad Number\")\n",
    "    else:\n",
    "        print(x, \" is not a Harshad Number\")\n",
    "        \n",
    "x = int(input(\"Enter the number you want to verify if it is a Harshad Number or not:  \"))\n",
    "HarNum(x)"
   ]
  },
  {
   "cell_type": "markdown",
   "id": "629ad29b",
   "metadata": {},
   "source": []
  },
  {
   "cell_type": "markdown",
   "id": "36d862b2",
   "metadata": {},
   "source": []
  },
  {
   "cell_type": "markdown",
   "id": "6c8e2e70",
   "metadata": {},
   "source": [
    "### Question6.\n",
    "Write a Python program to print all pronic numbers between 1 and 100?\n",
    "\n",
    "Answer:\n"
   ]
  },
  {
   "cell_type": "code",
   "execution_count": 6,
   "id": "39d15bd2",
   "metadata": {},
   "outputs": [
    {
     "name": "stdout",
     "output_type": "stream",
     "text": [
      "2\n",
      "6\n",
      "12\n",
      "20\n",
      "30\n",
      "42\n",
      "56\n",
      "72\n",
      "90\n"
     ]
    }
   ],
   "source": [
    "def PronicPrint(x):\n",
    "    \n",
    "    \"\"\"\n",
    "    It is a function to print all pronic numbers between 1 and 100.\n",
    "    \"\"\"\n",
    "    \n",
    "    for i in range(1, 101):\n",
    "        if type(i*(i+1)) == int and (i*(i+1)) < 100:\n",
    "            print(i*(i+1))\n",
    "            \n",
    "PronicPrint(x)"
   ]
  }
 ],
 "metadata": {
  "kernelspec": {
   "display_name": "Python 3 (ipykernel)",
   "language": "python",
   "name": "python3"
  },
  "language_info": {
   "codemirror_mode": {
    "name": "ipython",
    "version": 3
   },
   "file_extension": ".py",
   "mimetype": "text/x-python",
   "name": "python",
   "nbconvert_exporter": "python",
   "pygments_lexer": "ipython3",
   "version": "3.9.7"
  }
 },
 "nbformat": 4,
 "nbformat_minor": 5
}
