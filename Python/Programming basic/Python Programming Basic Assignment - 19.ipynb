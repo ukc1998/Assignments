{
 "cells": [
  {
   "cell_type": "markdown",
   "id": "bc4124b9",
   "metadata": {},
   "source": [
    "# Python Programming Basic Assignment - 19"
   ]
  },
  {
   "cell_type": "markdown",
   "id": "e747f0af",
   "metadata": {},
   "source": []
  },
  {
   "cell_type": "markdown",
   "id": "678685f3",
   "metadata": {},
   "source": []
  },
  {
   "cell_type": "markdown",
   "id": "195c33d6",
   "metadata": {},
   "source": [
    "### Question 1.\n",
    "##### Create a function that takes a string and returns a string in which each character is repeated once.\n",
    "\n",
    "Examples:\n",
    "\n",
    "double_char(\"String\") ➞ \"SSttrriinngg\"\n",
    "<br>\n",
    "double_char(\"Hello World!\") ➞ \"HHeelllloo  WWoorrlldd!!\"\n",
    "<br>\n",
    "double_char(\"1234!_ \") ➞ \"11223344!!__  \"\n",
    "\n",
    "##### Answer:\n"
   ]
  },
  {
   "cell_type": "code",
   "execution_count": 1,
   "id": "9d3d3944",
   "metadata": {},
   "outputs": [
    {
     "name": "stdout",
     "output_type": "stream",
     "text": [
      "Enter a string:    String\n",
      "SSttrriinngg\n"
     ]
    }
   ],
   "source": [
    "def double_char():\n",
    "    \n",
    "    user_input = input(\"Enter a string:    \")\n",
    "    output = \"\"\n",
    "    for i in user_input:\n",
    "        output += i*2\n",
    "        \n",
    "    return output\n",
    "            \n",
    "print(double_char())"
   ]
  },
  {
   "cell_type": "markdown",
   "id": "b3c21042",
   "metadata": {},
   "source": []
  },
  {
   "cell_type": "markdown",
   "id": "e4549732",
   "metadata": {},
   "source": []
  },
  {
   "cell_type": "markdown",
   "id": "7c1bbf23",
   "metadata": {},
   "source": [
    "### Question 2.\n",
    "##### Create a function that reverses a boolean value and returns the string &quot;boolean expected&quot; if another variable type is given.\n",
    "\n",
    "Examples:\n",
    "\n",
    "reverse(True) ➞ False\n",
    "<br>\n",
    "reverse(False) ➞ True\n",
    "<br>\n",
    "reverse(0) ➞ \"boolean expected\"\n",
    "<br>\n",
    "reverse(None) ➞ \"boolean expected\"\n",
    "\n",
    "##### Answer:\n"
   ]
  },
  {
   "cell_type": "code",
   "execution_count": 2,
   "id": "18197622",
   "metadata": {},
   "outputs": [
    {
     "name": "stdout",
     "output_type": "stream",
     "text": [
      "reverse(True) ➞ False\n",
      "reverse(False) ➞ True\n",
      "reverse(0) ➞ boolean expected\n",
      "reverse(None) ➞ boolean expected\n"
     ]
    }
   ],
   "source": [
    "def reverse(user_input):\n",
    "    \n",
    "\n",
    "    if type(user_input) != bool:\n",
    "        return \"boolean expected\"\n",
    "    else:\n",
    "        return not user_input\n",
    "    \n",
    "print(f'reverse(True) ➞ {reverse(True)}')\n",
    "print(f'reverse(False) ➞ {reverse(False)}')\n",
    "print(f'reverse(0) ➞ {reverse(0)}')\n",
    "print(f'reverse(None) ➞ {reverse(None)}')"
   ]
  },
  {
   "cell_type": "markdown",
   "id": "60854401",
   "metadata": {},
   "source": []
  },
  {
   "cell_type": "markdown",
   "id": "034f96e8",
   "metadata": {},
   "source": []
  },
  {
   "cell_type": "markdown",
   "id": "bdc82b33",
   "metadata": {},
   "source": [
    "### Question 3.\n",
    "##### Create a function that returns the thickness (in meters) of a piece of paper after folding it n number of times. The paper starts off with a thickness of 0.5mm.\n",
    "\n",
    "Examples:\n",
    "\n",
    "num_layers(1) ➞ \"0.001m\"\n",
    "<br>\n",
    " Paper folded once is 1mm (equal to 0.001m)\n",
    "<br>\n",
    "num_layers(4) ➞ \"0.008m\"\n",
    "<br>\n",
    " Paper folded 4 times is 8mm (equal to 0.008m)\n",
    "<br>\n",
    "num_layers(21) ➞ \"1048.576m\"\n",
    "<br>\n",
    " Paper folded 21 times is 1048576mm (equal to 1048.576m)\n",
    "\n",
    "##### Answer:\n"
   ]
  },
  {
   "cell_type": "code",
   "execution_count": 3,
   "id": "7bc010bf",
   "metadata": {},
   "outputs": [
    {
     "name": "stdout",
     "output_type": "stream",
     "text": [
      "Enter the number of times paper has been folded:       21\n"
     ]
    },
    {
     "data": {
      "text/plain": [
       "'1048.576m'"
      ]
     },
     "execution_count": 3,
     "metadata": {},
     "output_type": "execute_result"
    }
   ],
   "source": [
    "def num_layers(x):\n",
    "    output = str((2**(x-1))/1000)+\"m\"\n",
    "    return output\n",
    "    \n",
    "user_input =int(input(\"Enter the number of times paper has been folded:       \"))\n",
    "num_layers(user_input)"
   ]
  },
  {
   "cell_type": "markdown",
   "id": "dce19578",
   "metadata": {},
   "source": []
  },
  {
   "cell_type": "markdown",
   "id": "12b0ab85",
   "metadata": {},
   "source": []
  },
  {
   "cell_type": "markdown",
   "id": "51dcc26b",
   "metadata": {},
   "source": [
    "### Question 4.\n",
    "##### Create a function that takes a single string as argument and returns an ordered list containing the indices of all capital letters in the string.\n",
    "\n",
    "Examples:\n",
    "\n",
    "index_of_caps(\"eDaBiT\") ➞ [1, 3, 5]\n",
    "<br>\n",
    "index_of_caps(\"eQuINoX\") ➞ [1, 3, 4, 6]\n",
    "<br>\n",
    "index_of_caps(\"determine\") ➞ []\n",
    "<br>\n",
    "index_of_caps(\"STRIKE\") ➞ [0, 1, 2, 3, 4, 5]\n",
    "<br>\n",
    "index_of_caps(\"sUn\") ➞ [1]\n",
    "\n",
    "##### Answer:\n"
   ]
  },
  {
   "cell_type": "code",
   "execution_count": 4,
   "id": "39e74e41",
   "metadata": {},
   "outputs": [
    {
     "name": "stdout",
     "output_type": "stream",
     "text": [
      "Enter a string:   eDaBiT\n"
     ]
    },
    {
     "data": {
      "text/plain": [
       "[1, 3, 5]"
      ]
     },
     "execution_count": 4,
     "metadata": {},
     "output_type": "execute_result"
    }
   ],
   "source": [
    "def index_of_caps(x):\n",
    "    \n",
    "    store_room = []\n",
    "    for i in range(len(x)):\n",
    "        if x[i].isupper():\n",
    "            store_room.append(i)\n",
    "            \n",
    "    return store_room\n",
    "user_input = input(\"Enter a string:   \")\n",
    "index_of_caps(user_input)"
   ]
  },
  {
   "cell_type": "markdown",
   "id": "7a8a4ec4",
   "metadata": {},
   "source": []
  },
  {
   "cell_type": "markdown",
   "id": "e9a9c04d",
   "metadata": {},
   "source": []
  },
  {
   "cell_type": "markdown",
   "id": "d08a178d",
   "metadata": {},
   "source": [
    "### Question 5.\n",
    "##### Using list comprehensions, create a function that finds all even numbers from 1 to the given number.\n",
    "\n",
    "Examples:\n",
    "\n",
    "find_even_nums(8) ➞ [2, 4, 6, 8]\n",
    "<br>\n",
    "find_even_nums(4) ➞ [2, 4]\n",
    "<br>\n",
    "find_even_nums(2) ➞ [2]\n",
    "\n",
    "##### Answer:\n"
   ]
  },
  {
   "cell_type": "code",
   "execution_count": 5,
   "id": "3066fadd",
   "metadata": {},
   "outputs": [
    {
     "name": "stdout",
     "output_type": "stream",
     "text": [
      "Enter a positive integer greater than 1:   8\n"
     ]
    },
    {
     "data": {
      "text/plain": [
       "[2, 4, 6, 8]"
      ]
     },
     "execution_count": 5,
     "metadata": {},
     "output_type": "execute_result"
    }
   ],
   "source": [
    "def find_even_nums(x):\n",
    "    \n",
    "    store_room = []\n",
    "    \n",
    "    if x >= 2:\n",
    "        for i in range(2,x+1):\n",
    "            if i%2 == 0:\n",
    "                store_room.append(i)\n",
    "    return store_room\n",
    "\n",
    "user_input = int(input(\"Enter a positive integer greater than 1:   \"))\n",
    "find_even_nums(user_input)"
   ]
  }
 ],
 "metadata": {
  "kernelspec": {
   "display_name": "Python 3 (ipykernel)",
   "language": "python",
   "name": "python3"
  },
  "language_info": {
   "codemirror_mode": {
    "name": "ipython",
    "version": 3
   },
   "file_extension": ".py",
   "mimetype": "text/x-python",
   "name": "python",
   "nbconvert_exporter": "python",
   "pygments_lexer": "ipython3",
   "version": "3.9.7"
  }
 },
 "nbformat": 4,
 "nbformat_minor": 5
}
