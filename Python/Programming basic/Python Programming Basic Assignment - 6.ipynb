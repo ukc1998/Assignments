{
 "cells": [
  {
   "cell_type": "markdown",
   "id": "65662f77",
   "metadata": {},
   "source": [
    "# Python Programming Basic Assignment - 6"
   ]
  },
  {
   "cell_type": "markdown",
   "id": "be5ba20f",
   "metadata": {},
   "source": []
  },
  {
   "cell_type": "markdown",
   "id": "7b5b15b4",
   "metadata": {},
   "source": []
  },
  {
   "cell_type": "markdown",
   "id": "8a9ca903",
   "metadata": {},
   "source": [
    "### Question1.\n",
    "Write a Python Program to Display Fibonacci Sequence Using Recursion?\n",
    "\n",
    "Answer:\n"
   ]
  },
  {
   "cell_type": "code",
   "execution_count": 1,
   "id": "48329b92",
   "metadata": {},
   "outputs": [
    {
     "name": "stdout",
     "output_type": "stream",
     "text": [
      "Enter number of terms for which you want to print Fibonacci sequence:  10\n",
      "Fibonacci sequence for the first  10  terms is: \n",
      "0\n",
      "1\n",
      "1\n",
      "2\n",
      "3\n",
      "5\n",
      "8\n",
      "13\n",
      "21\n",
      "34\n"
     ]
    }
   ],
   "source": [
    "def FSUR(n):\n",
    "    \n",
    "    \"\"\"\n",
    "    FSUR is a function to display Fibonacci Sequence Using Recursion.\n",
    "    It takes number of terms as an integer as input.\n",
    "    It gives a sequence of integers as an output.\n",
    "    \"\"\"\n",
    "    if n <= 1:\n",
    "        return n\n",
    "    else:\n",
    "        return(FSUR(n-1) + FSUR(n-2))\n",
    "\n",
    "Number_Of_Terms = int(input(\"Enter number of terms for which you want to print Fibonacci sequence:  \"))\n",
    "\n",
    "if Number_Of_Terms <= 0:\n",
    "    print(\"Enter positive number of terms\")\n",
    "    \n",
    "else:\n",
    "    print(\"Fibonacci sequence for the first \", Number_Of_Terms, \" terms is: \")\n",
    "    \n",
    "for i in range(Number_Of_Terms):\n",
    "    print(FSUR(i))"
   ]
  },
  {
   "cell_type": "markdown",
   "id": "9acaf984",
   "metadata": {},
   "source": []
  },
  {
   "cell_type": "markdown",
   "id": "8abc3660",
   "metadata": {},
   "source": []
  },
  {
   "cell_type": "markdown",
   "id": "d826d75b",
   "metadata": {},
   "source": [
    "### Question2.\n",
    "Write a Python Program to Find Factorial of Number Using Recursion?\n",
    "\n",
    "Answer:\n"
   ]
  },
  {
   "cell_type": "code",
   "execution_count": 2,
   "id": "4dde02ad",
   "metadata": {},
   "outputs": [
    {
     "name": "stdout",
     "output_type": "stream",
     "text": [
      "Enter the  number for which you have to find its factorial:   5\n",
      "The factorial of  5 is  120\n"
     ]
    }
   ],
   "source": [
    "def FNUR(n):\n",
    "    \n",
    "    \"\"\"\n",
    "    FSUR is a function to find Factorial of a Number Using Recursion.\n",
    "    It take integer as an input.\n",
    "    It gives integer as an output.\n",
    "    \"\"\"\n",
    "    if n == 0:\n",
    "        return 1\n",
    "    else:\n",
    "        return((FNUR(n-1)) * n)\n",
    "\n",
    "Number_Of_Terms = int(input(\"Enter the  number for which you have to find its factorial:   \"))\n",
    "\n",
    "if Number_Of_Terms < 0:\n",
    "    print(\"Warning !!! factorial does not exist for negative numbers\")\n",
    "    \n",
    "else:\n",
    "    print(\"The factorial of \", Number_Of_Terms, \"is \", FNUR(Number_Of_Terms))"
   ]
  },
  {
   "cell_type": "markdown",
   "id": "1ecc758f",
   "metadata": {},
   "source": []
  },
  {
   "cell_type": "markdown",
   "id": "128c09c0",
   "metadata": {},
   "source": []
  },
  {
   "cell_type": "markdown",
   "id": "919ac1c5",
   "metadata": {},
   "source": [
    "### Question3.\n",
    "Write a Python Program to calculate your Body Mass Index?\n",
    "\n",
    "Answer:\n"
   ]
  },
  {
   "cell_type": "code",
   "execution_count": 3,
   "id": "ebeeec97",
   "metadata": {},
   "outputs": [
    {
     "name": "stdout",
     "output_type": "stream",
     "text": [
      "Enter weight in kilograms:    60\n",
      "Enter height in metres:    1.7\n",
      "The Body Mass Index for the given Weight and Height is  20.761245674740486\n"
     ]
    }
   ],
   "source": [
    "def BMI(Weight, Height):\n",
    "    \n",
    "    \"\"\"\n",
    "    It is function to calculate Body Mass Index.\n",
    "    It takes two inputs, first Weight in kilograms, second Height in metres, both as floating point number or integer.\n",
    "    It gives BMI in the form of a floating point number as an output\n",
    "    \"\"\"\n",
    "    \n",
    "    bmi = Weight/(Height**2)\n",
    "    print(\"The Body Mass Index for the given Weight and Height is \", bmi)\n",
    "\n",
    "Weight = float(input(\"Enter weight in kilograms:    \"))\n",
    "Height = float(input(\"Enter height in metres:    \"))\n",
    "\n",
    "BMI(Weight, Height)"
   ]
  },
  {
   "cell_type": "markdown",
   "id": "d7b6ea7f",
   "metadata": {},
   "source": []
  },
  {
   "cell_type": "markdown",
   "id": "3e45ae0e",
   "metadata": {},
   "source": []
  },
  {
   "cell_type": "markdown",
   "id": "bf566127",
   "metadata": {},
   "source": [
    "### Question4.\n",
    "Write a Python Program to calculate the natural logarithm of any number?\n",
    "\n",
    "Answer:\n"
   ]
  },
  {
   "cell_type": "code",
   "execution_count": 4,
   "id": "a35b7a4d",
   "metadata": {},
   "outputs": [
    {
     "name": "stdout",
     "output_type": "stream",
     "text": [
      "Enter the number for which you want its natural logarithm:  2\n",
      "The natural logarithm of  2.0  is  0.6931471805599453\n"
     ]
    }
   ],
   "source": [
    "def NL(Number):\n",
    "    \n",
    "    \"\"\"\n",
    "    It is a function to calculate the natural logarith of any number.\n",
    "    Note:- The natural logarithm of any number is defined only for positive numbers.\n",
    "    It takes integer or floating point number as an input.\n",
    "    It gives output in the form of a floating point number.\n",
    "    \"\"\"\n",
    "    \n",
    "    import math\n",
    "    \n",
    "    if Number > 0:\n",
    "        print(\"The natural logarithm of \",Number, \" is \", math.log(Number))\n",
    "        \n",
    "    else:\n",
    "        print(\"The natural logarithm for any number less than or equal to zero is undefined.\")\n",
    "\n",
    "Number = float(input(\"Enter the number for which you want its natural logarithm:  \"))\n",
    "\n",
    "NL(Number)"
   ]
  },
  {
   "cell_type": "markdown",
   "id": "bd984c34",
   "metadata": {},
   "source": []
  },
  {
   "cell_type": "markdown",
   "id": "8a235919",
   "metadata": {},
   "source": []
  },
  {
   "cell_type": "markdown",
   "id": "f870a584",
   "metadata": {},
   "source": [
    "### Question5.\n",
    "Write a Python Program for cube sum of first n natural numbers?\n",
    "\n",
    "Answer:\n"
   ]
  },
  {
   "cell_type": "code",
   "execution_count": 5,
   "id": "5270deae",
   "metadata": {},
   "outputs": [
    {
     "name": "stdout",
     "output_type": "stream",
     "text": [
      "Enter the natural number upto which you want to find sum of cubes:  4\n",
      "The sum of cube of first 4 natural numbers is  100\n"
     ]
    }
   ],
   "source": [
    "def CUBE(x):\n",
    "    \n",
    "    \"\"\"\n",
    "    It is a function to find the sum of cube of first n natural numbers.\n",
    "    It takes Number_Of_Terms as n as input in the form of an integer.\n",
    "    It gies output in the form of an integer.\n",
    "    \"\"\"\n",
    "     \n",
    "    if x == 1:\n",
    "        return 1\n",
    "    else:\n",
    "        return (CUBE(x-1) + (x**3))\n",
    "\n",
    "        \n",
    "Number_Of_Terms = int(input(\"Enter the natural number upto which you want to find sum of cubes:  \"))\n",
    "\n",
    "if Number_Of_Terms < 1:\n",
    "        print(\"Sorry! given input is not a natural number\")\n",
    "        \n",
    "elif Number_Of_Terms == 1:\n",
    "    print(\"If you want to find sum, give input any natural number > 1\")\n",
    "    \n",
    "else:\n",
    "    print(\"The sum of cube of first\",Number_Of_Terms, \"natural numbers is \", CUBE(Number_Of_Terms))"
   ]
  }
 ],
 "metadata": {
  "kernelspec": {
   "display_name": "Python 3 (ipykernel)",
   "language": "python",
   "name": "python3"
  },
  "language_info": {
   "codemirror_mode": {
    "name": "ipython",
    "version": 3
   },
   "file_extension": ".py",
   "mimetype": "text/x-python",
   "name": "python",
   "nbconvert_exporter": "python",
   "pygments_lexer": "ipython3",
   "version": "3.9.7"
  }
 },
 "nbformat": 4,
 "nbformat_minor": 5
}
