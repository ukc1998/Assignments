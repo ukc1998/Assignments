{
 "cells": [
  {
   "cell_type": "markdown",
   "id": "b445a7ad",
   "metadata": {},
   "source": [
    "# Python Programming Basic Assignment - 8"
   ]
  },
  {
   "cell_type": "markdown",
   "id": "651f9b99",
   "metadata": {},
   "source": []
  },
  {
   "cell_type": "markdown",
   "id": "854229dc",
   "metadata": {},
   "source": []
  },
  {
   "cell_type": "markdown",
   "id": "e476e0ac",
   "metadata": {},
   "source": [
    "### Question 1. \n",
    "##### Write a Python Program to Add Two Matrices?\n",
    "\n",
    "#### Answer: \n"
   ]
  },
  {
   "cell_type": "code",
   "execution_count": 1,
   "id": "b63017de",
   "metadata": {},
   "outputs": [
    {
     "name": "stdout",
     "output_type": "stream",
     "text": [
      "The Sum of the matrices \n",
      "\n",
      "[[1 2 3]\n",
      " [4 5 6]\n",
      " [7 8 9]]  and \n",
      "\n",
      "[[9 8 7]\n",
      " [6 5 4]\n",
      " [3 2 1]]  is \n",
      "\n",
      "[[10 10 10]\n",
      " [10 10 10]\n",
      " [10 10 10]] \n"
     ]
    }
   ],
   "source": [
    "import numpy as np\n",
    "\n",
    "matrix1 = np.array([[1,2,3],\n",
    "        [4,5,6],\n",
    "        [7,8,9]])\n",
    "matrix2 = np.array([[9,8,7],\n",
    "        [6,5,4],\n",
    "        [3,2,1]])\n",
    "\n",
    "matrix_sum = np.add(matrix1,matrix2)\n",
    "print(\"The Sum of the matrices \\n\\n{}  and \\n\\n{}  is \\n\\n{} \".format(matrix1,matrix2,matrix_sum))"
   ]
  },
  {
   "cell_type": "markdown",
   "id": "9036010e",
   "metadata": {},
   "source": []
  },
  {
   "cell_type": "markdown",
   "id": "e6492455",
   "metadata": {},
   "source": []
  },
  {
   "cell_type": "markdown",
   "id": "9594fdaa",
   "metadata": {},
   "source": [
    "### Question 2. \n",
    "##### Write a Python Program to Multiply Two Matrices?\n",
    "\n",
    "#### Answer:\n"
   ]
  },
  {
   "cell_type": "code",
   "execution_count": 2,
   "id": "518f5f9b",
   "metadata": {},
   "outputs": [
    {
     "name": "stdout",
     "output_type": "stream",
     "text": [
      "The Product of the matrices \n",
      "\n",
      "[[1 2 3]\n",
      " [4 5 6]\n",
      " [7 8 9]]  and \n",
      "\n",
      "[[9 8 7]\n",
      " [6 5 4]\n",
      " [3 2 1]]  is \n",
      "\n",
      "[[ 30  24  18]\n",
      " [ 84  69  54]\n",
      " [138 114  90]] \n"
     ]
    }
   ],
   "source": [
    "import numpy as np\n",
    "\n",
    "matrix1 = np.array([[1,2,3],\n",
    "        [4,5,6],\n",
    "        [7,8,9]])\n",
    "matrix2 = np.array([[9,8,7],\n",
    "        [6,5,4],\n",
    "        [3,2,1]])\n",
    "\n",
    "matrix_product = np.dot(matrix1,matrix2)\n",
    "print(\"The Product of the matrices \\n\\n{}  and \\n\\n{}  is \\n\\n{} \".format(matrix1,matrix2,matrix_product))"
   ]
  },
  {
   "cell_type": "markdown",
   "id": "630a2d00",
   "metadata": {},
   "source": []
  },
  {
   "cell_type": "markdown",
   "id": "733be6e6",
   "metadata": {},
   "source": []
  },
  {
   "cell_type": "markdown",
   "id": "0fbaffd0",
   "metadata": {},
   "source": [
    "### Question 3. \n",
    "##### Write a Python Program to Transpose a Matrix?\n",
    "\n",
    "#### Answer:\n"
   ]
  },
  {
   "cell_type": "code",
   "execution_count": 3,
   "id": "d941be5d",
   "metadata": {},
   "outputs": [
    {
     "name": "stdout",
     "output_type": "stream",
     "text": [
      "The Transpose of the matrix \n",
      "\n",
      "[[1 2 3]\n",
      " [4 5 6]\n",
      " [7 8 9]] is \n",
      "\n",
      "[[1 4 7]\n",
      " [2 5 8]\n",
      " [3 6 9]] \n"
     ]
    }
   ],
   "source": [
    "import numpy as np\n",
    "\n",
    "matrix1 = np.array([[1,2,3],\n",
    "        [4,5,6],\n",
    "        [7,8,9]])\n",
    "\n",
    "\n",
    "matrix_transpose = np.transpose(matrix1)\n",
    "print(\"The Transpose of the matrix \\n\\n{} is \\n\\n{} \".format(matrix1,matrix_transpose))"
   ]
  },
  {
   "cell_type": "markdown",
   "id": "fd906548",
   "metadata": {},
   "source": []
  },
  {
   "cell_type": "markdown",
   "id": "ea04fcef",
   "metadata": {},
   "source": []
  },
  {
   "cell_type": "markdown",
   "id": "6d1372e9",
   "metadata": {},
   "source": [
    "### Question 4. \n",
    "##### Write a Python Program to Sort Words in Alphabetic Order?\n",
    "\n",
    "#### Answer:\n"
   ]
  },
  {
   "cell_type": "code",
   "execution_count": 4,
   "id": "3165f51e",
   "metadata": {},
   "outputs": [
    {
     "name": "stdout",
     "output_type": "stream",
     "text": [
      "Enter a string of words to sort them in alphabetical order:  Write a Python Program to Sort Words in Alphabetic Order\n",
      "\n",
      "a alphabetic in order program python sort to words write\n"
     ]
    }
   ],
   "source": [
    "def words_sorter():\n",
    "    \n",
    "    user_input = input(\"Enter a string of words to sort them in alphabetical order: \")\n",
    "    print()\n",
    "    sorted_list = sorted(user_input.lower().split())\n",
    "    print(' '.join(sorted_list))\n",
    "\n",
    "words_sorter()"
   ]
  },
  {
   "cell_type": "markdown",
   "id": "b0f2bd42",
   "metadata": {},
   "source": []
  },
  {
   "cell_type": "markdown",
   "id": "2bc5b18a",
   "metadata": {},
   "source": []
  },
  {
   "cell_type": "markdown",
   "id": "9c3e41ab",
   "metadata": {},
   "source": [
    "### Question 5. \n",
    "##### Write a Python Program to Remove Punctuation From a String?\n",
    "\n",
    "#### Answer:\n"
   ]
  },
  {
   "cell_type": "code",
   "execution_count": 5,
   "id": "9efde78a",
   "metadata": {},
   "outputs": [
    {
     "name": "stdout",
     "output_type": "stream",
     "text": [
      "Enter the string from which you want to remove the punctuation: Write a Python Program to Remove Punctuation From a String?~!@#$%^&*()_+|\n"
     ]
    },
    {
     "data": {
      "text/plain": [
       "'Write a Python Program to Remove Punctuation From a String'"
      ]
     },
     "execution_count": 5,
     "metadata": {},
     "output_type": "execute_result"
    }
   ],
   "source": [
    "def punctuation_remover():\n",
    "    import string\n",
    "    user_input = input(\"Enter the string from which you want to remove the punctuation: \")\n",
    "    output = ''.join([i for i in user_input if i not in string.punctuation])\n",
    "    return output\n",
    "\n",
    "punctuation_remover()"
   ]
  }
 ],
 "metadata": {
  "kernelspec": {
   "display_name": "Python 3 (ipykernel)",
   "language": "python",
   "name": "python3"
  },
  "language_info": {
   "codemirror_mode": {
    "name": "ipython",
    "version": 3
   },
   "file_extension": ".py",
   "mimetype": "text/x-python",
   "name": "python",
   "nbconvert_exporter": "python",
   "pygments_lexer": "ipython3",
   "version": "3.9.7"
  }
 },
 "nbformat": 4,
 "nbformat_minor": 5
}
