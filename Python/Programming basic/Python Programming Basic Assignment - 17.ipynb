{
 "cells": [
  {
   "cell_type": "markdown",
   "id": "a793e837",
   "metadata": {},
   "source": [
    "# Python Programming Basic Assignment - 17"
   ]
  },
  {
   "cell_type": "markdown",
   "id": "6ea9c1fd",
   "metadata": {},
   "source": []
  },
  {
   "cell_type": "markdown",
   "id": "193ae504",
   "metadata": {},
   "source": []
  },
  {
   "cell_type": "markdown",
   "id": "41597b16",
   "metadata": {},
   "source": [
    "### Question1. \n",
    "##### Create a function that takes three arguments a, b, c and returns the sum of the numbers that are evenly divided by c from the range a, b inclusive.\n",
    "\n",
    "Examples:\n",
    "\n",
    "evenly_divisible(1, 10, 20) ➞ 0\n",
    "<br>\n",
    " No number between 1 and 10 can be evenly divided by 20.\n",
    " \n",
    "evenly_divisible(1, 10, 2) ➞ 30\n",
    "<br>\n",
    " 2 + 4 + 6 + 8 + 10 = 30\n",
    " \n",
    "evenly_divisible(1, 10, 3) ➞ 18\n",
    "<br>\n",
    " 3 + 6 + 9 = 18\n",
    "\n",
    "### Answer:\n"
   ]
  },
  {
   "cell_type": "code",
   "execution_count": 1,
   "id": "f5933fbe",
   "metadata": {},
   "outputs": [
    {
     "data": {
      "text/plain": [
       "0"
      ]
     },
     "execution_count": 1,
     "metadata": {},
     "output_type": "execute_result"
    }
   ],
   "source": [
    "def evenly_divisible(a,b,c):\n",
    "    count = 0\n",
    "    for i in range(a,b+1):\n",
    "        if i%c == 0:\n",
    "            count +=i\n",
    "            \n",
    "        else:\n",
    "            count = count\n",
    "    return count\n",
    "            \n",
    "evenly_divisible(1,10,20)   \n",
    "    "
   ]
  },
  {
   "cell_type": "markdown",
   "id": "f188d457",
   "metadata": {},
   "source": []
  },
  {
   "cell_type": "markdown",
   "id": "9dcd5f3f",
   "metadata": {},
   "source": []
  },
  {
   "cell_type": "markdown",
   "id": "329386d1",
   "metadata": {},
   "source": [
    "### Question2. \n",
    "##### Create a function that returns True if a given inequality expression is correct and False otherwise.\n",
    "\n",
    "Examples:\n",
    "\n",
    "correct_signs(\"3 < 7 < 11\") ➞ True\n",
    "<br>\n",
    "correct_signs(\"13 > 44 > 33> 1\") ➞ False\n",
    "<br>\n",
    "correct_signs(\"1 < 2 < 6 < 9 > 3\") ➞ True\n",
    "\n",
    "### Answer:\n"
   ]
  },
  {
   "cell_type": "code",
   "execution_count": 2,
   "id": "7a110741",
   "metadata": {},
   "outputs": [
    {
     "name": "stdout",
     "output_type": "stream",
     "text": [
      "Enter the inequality:   13 > 44 > 33> 1\n",
      "13 > 44 > 33> 1 ➞ False\n",
      "\n",
      "Enter the inequality:   3 < 7 < 11\n",
      "3 < 7 < 11 ➞ True\n",
      "\n",
      "Enter the inequality:   1 < 2 < 6 < 9 > 3\n",
      "1 < 2 < 6 < 9 > 3 ➞ True\n",
      "\n"
     ]
    }
   ],
   "source": [
    "def correct_signs():\n",
    "    user_input = input(\"Enter the inequality:   \")\n",
    "    output = eval(user_input)\n",
    "    print(f'{user_input} ➞ {output}')\n",
    "    print()\n",
    "    \n",
    "for i in range(3):\n",
    "    correct_signs()"
   ]
  },
  {
   "cell_type": "markdown",
   "id": "5ab8052d",
   "metadata": {},
   "source": []
  },
  {
   "cell_type": "markdown",
   "id": "e88e8f5f",
   "metadata": {},
   "source": []
  },
  {
   "cell_type": "markdown",
   "id": "fb092b84",
   "metadata": {},
   "source": [
    "### Question3. \n",
    "##### Create a function that replaces all the vowels in a string with a specified character.\n",
    "\n",
    "Examples:\n",
    "\n",
    "replace_vowels(\"the aardvark\", \"#\") ➞ \"th# ##rdv#rk\"\n",
    "<br>\n",
    "replace_vowels(\"minnie mouse\", \"?\") ➞ \"m?nn?? m??s?\"\n",
    "<br>\n",
    "replace_vowels(\"shakespeare\", \"*\") ➞ \"sh*k*sp**r*\"\n",
    "\n",
    "### Answer:\n"
   ]
  },
  {
   "cell_type": "code",
   "execution_count": 3,
   "id": "0bb52958",
   "metadata": {},
   "outputs": [
    {
     "name": "stdout",
     "output_type": "stream",
     "text": [
      "Enter any string:    the aardvark\n",
      "Enter the special character:    #\n",
      "th# ##rdv#rk\n",
      "Enter any string:    minnie mouse\n",
      "Enter the special character:    ?\n",
      "m?nn?? m??s?\n",
      "Enter any string:    shakespeare\n",
      "Enter the special character:    *\n",
      "sh*k*sp**r*\n"
     ]
    }
   ],
   "source": [
    "def replace_vowels():\n",
    "    \n",
    "    user_input1 = input(\"Enter any string:    \")\n",
    "    user_input2 = input(\"Enter the special character:    \")\n",
    "    \n",
    "    user_input1_copy = user_input1\n",
    "    \n",
    "    vowels = ['a','e','i','o','u','A','E','I','O','U']\n",
    "    for i in user_input1:\n",
    "        if i in vowels:\n",
    "            user_input1 = user_input1.replace(i, user_input2)\n",
    "    return user_input1\n",
    "\n",
    "for i in range(3):\n",
    "    print(replace_vowels())"
   ]
  },
  {
   "cell_type": "markdown",
   "id": "485b629c",
   "metadata": {},
   "source": []
  },
  {
   "cell_type": "markdown",
   "id": "de85e1ed",
   "metadata": {},
   "source": []
  },
  {
   "cell_type": "markdown",
   "id": "d9d810fa",
   "metadata": {},
   "source": [
    "### Question4. \n",
    "##### Write a function that calculates the factorial of a number recursively.\n",
    "\n",
    "Examples:\n",
    "\n",
    "factorial(5) ➞ 120\n",
    "<br>\n",
    "factorial(3) ➞ 6\n",
    "<br>\n",
    "factorial(1) ➞ 1\n",
    "<br>\n",
    "factorial(0) ➞ 1\n",
    "\n",
    "### Answer:\n"
   ]
  },
  {
   "cell_type": "code",
   "execution_count": 4,
   "id": "f6a20f07",
   "metadata": {},
   "outputs": [
    {
     "name": "stdout",
     "output_type": "stream",
     "text": [
      "Enter the number for which you want to find its factorial:   5\n",
      "120\n",
      "Enter the number for which you want to find its factorial:   3\n",
      "6\n",
      "Enter the number for which you want to find its factorial:   1\n",
      "1\n",
      "Enter the number for which you want to find its factorial:   0\n",
      "1\n"
     ]
    }
   ],
   "source": [
    "def factorial(x):\n",
    "    \n",
    "    if x == 0 or x ==1:\n",
    "        output = 1\n",
    "    else:\n",
    "        output = (factorial(x-1))*x\n",
    "        \n",
    "    return output\n",
    "\n",
    "for i in range(4):\n",
    "    x = int(input(\"Enter the number for which you want to find its factorial:   \"))\n",
    "    print(factorial(x))"
   ]
  },
  {
   "cell_type": "markdown",
   "id": "2b931c4f",
   "metadata": {},
   "source": []
  },
  {
   "cell_type": "markdown",
   "id": "7108108a",
   "metadata": {},
   "source": []
  },
  {
   "cell_type": "markdown",
   "id": "158a30ef",
   "metadata": {},
   "source": [
    "### Question 5\n",
    "##### Hamming distance is the number of characters that differ between two strings.\n",
    "\n",
    "To illustrate:\n",
    "\n",
    "String1: \"abcbba\"\n",
    "<br>\n",
    "String2: \"abcbda\"\n",
    "<br>\n",
    "Hamming Distance: 1 - \"b\" vs. \"d\" is the only difference.\n",
    "\n",
    "##### Create a function that computes the hamming distance between two strings.\n",
    "\n",
    "Examples\n",
    "\n",
    "hamming_distance(\"abcde\", \"bcdef\") ➞ 5\n",
    "<br>\n",
    "hamming_distance(\"abcde\", \"abcde\") ➞ 0\n",
    "<br>\n",
    "hamming_distance(\"strong\", \"strung\") ➞ 1"
   ]
  },
  {
   "cell_type": "markdown",
   "id": "7db431be",
   "metadata": {},
   "source": []
  },
  {
   "cell_type": "markdown",
   "id": "220eb8e7",
   "metadata": {},
   "source": []
  },
  {
   "cell_type": "code",
   "execution_count": 1,
   "id": "d25d4549",
   "metadata": {},
   "outputs": [
    {
     "name": "stdout",
     "output_type": "stream",
     "text": [
      "Enter string 1:    abcde\n",
      "Enter string 2:    bcdef\n",
      "5\n",
      "Enter string 1:    abcde\n",
      "Enter string 2:    abcde\n",
      "0\n",
      "Enter string 1:    strong\n",
      "Enter string 2:    strung\n",
      "1\n"
     ]
    }
   ],
   "source": [
    "def hamming_distance(s1,s2):\n",
    "\n",
    "    count = 0\n",
    "    for i in range(min(len(s1),len(s2))) :\n",
    "            if s1[i] != s2[i]:\n",
    "                count += 1\n",
    "    return count\n",
    "\n",
    "for i in range(3):\n",
    "    s1 = input(\"Enter string 1:    \")\n",
    "    s2 = input(\"Enter string 2:    \")\n",
    "    \n",
    "    print(hamming_distance(s1,s2))"
   ]
  }
 ],
 "metadata": {
  "kernelspec": {
   "display_name": "Python 3 (ipykernel)",
   "language": "python",
   "name": "python3"
  },
  "language_info": {
   "codemirror_mode": {
    "name": "ipython",
    "version": 3
   },
   "file_extension": ".py",
   "mimetype": "text/x-python",
   "name": "python",
   "nbconvert_exporter": "python",
   "pygments_lexer": "ipython3",
   "version": "3.9.7"
  }
 },
 "nbformat": 4,
 "nbformat_minor": 5
}
