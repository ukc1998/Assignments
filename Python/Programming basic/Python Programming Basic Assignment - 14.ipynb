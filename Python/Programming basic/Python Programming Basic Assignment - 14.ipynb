{
 "cells": [
  {
   "cell_type": "markdown",
   "id": "d3754a54",
   "metadata": {},
   "source": [
    "# Python Programming Basic Assignment - 14"
   ]
  },
  {
   "cell_type": "markdown",
   "id": "167e87f8",
   "metadata": {},
   "source": []
  },
  {
   "cell_type": "markdown",
   "id": "03ce3580",
   "metadata": {},
   "source": []
  },
  {
   "cell_type": "markdown",
   "id": "09cecac7",
   "metadata": {},
   "source": [
    "### Question  1:\n",
    "##### Define a class with a generator which can iterate the numbers, which are divisible by 7, between a given range 0 and n.\n",
    "\n",
    "#### Answer:\n"
   ]
  },
  {
   "cell_type": "code",
   "execution_count": 1,
   "id": "c9f026d3",
   "metadata": {},
   "outputs": [
    {
     "name": "stdout",
     "output_type": "stream",
     "text": [
      "Enter the value of n: 100\n",
      "0 7 14 21 28 35 42 49 56 63 70 77 84 91 98 "
     ]
    }
   ],
   "source": [
    "class Multiples_Of_7:\n",
    "    def __init__(self):\n",
    "        number = int(input(\"Enter the value of n: \"))\n",
    "        self.select_Upper_bound_range = number\n",
    "    def generator(self):\n",
    "        for i in range(0, self.select_Upper_bound_range+1):\n",
    "            if i%7 == 0:\n",
    "                yield i\n",
    "                \n",
    "result = Multiples_Of_7()\n",
    "for j in result.generator():\n",
    "    print(j,end=' ')"
   ]
  },
  {
   "cell_type": "markdown",
   "id": "3c645648",
   "metadata": {},
   "source": []
  },
  {
   "cell_type": "markdown",
   "id": "03afeca6",
   "metadata": {},
   "source": []
  },
  {
   "cell_type": "markdown",
   "id": "ed149804",
   "metadata": {},
   "source": [
    "### Question  2:\n",
    "##### Write a program to compute the frequency of the words from the input. The output should output after sorting the key alphanumerically.\n",
    "\n",
    "##### Suppose the following input is supplied to the program:\n",
    "\n",
    "New to Python or choosing between Python 2 and Python 3? Read Python 2 or Python 3.\n",
    "\n",
    "Then, the output should be:\n",
    "\n",
    "2:2\n",
    "\n",
    "3.:1\n",
    "\n",
    "3?:1\n",
    "\n",
    "New:1\n",
    "\n",
    "Python:5\n",
    "\n",
    "Read:1\n",
    "\n",
    "and:1\n",
    "\n",
    "between:1\n",
    "\n",
    "choosing:1\n",
    "\n",
    "or:2\n",
    "\n",
    "to:1\n",
    "\n",
    "#### Answer:\n"
   ]
  },
  {
   "cell_type": "code",
   "execution_count": 2,
   "id": "63e2374b",
   "metadata": {},
   "outputs": [
    {
     "name": "stdout",
     "output_type": "stream",
     "text": [
      "Enter your sentence: New to Python or choosing between Python 2 and Python 3? Read Python 2 or Python 3.\n",
      "\n",
      "2:1\n",
      "\n",
      "3.:1\n",
      "\n",
      "3?:1\n",
      "\n",
      "New:1\n",
      "\n",
      "Python:1\n",
      "\n",
      "Read:1\n",
      "\n",
      "and:1\n",
      "\n",
      "between:1\n",
      "\n",
      "choosing:1\n",
      "\n",
      "or:1\n",
      "\n",
      "to:1\n",
      "\n"
     ]
    }
   ],
   "source": [
    "user_input = input(\"Enter your sentence: \")\n",
    "print()\n",
    "words_in_the_sentence = user_input.split(\" \")\n",
    "\n",
    "sorted_words = sorted(set(words_in_the_sentence))\n",
    "\n",
    "sorted_words_list = list(sorted_words)\n",
    "\n",
    "for i in sorted_words_list:\n",
    "    number = sorted_words_list.count(i)\n",
    "    print(f'{i}:{number}',end=\"\\n\\n\")"
   ]
  },
  {
   "cell_type": "markdown",
   "id": "fd4b91bb",
   "metadata": {},
   "source": []
  },
  {
   "cell_type": "markdown",
   "id": "00221677",
   "metadata": {},
   "source": []
  },
  {
   "cell_type": "markdown",
   "id": "c7884819",
   "metadata": {},
   "source": [
    "### Question 3:\n",
    "\n",
    "##### Define a class Person and its two child classes: Male and Female. All classes have a method \"getGender\" which can print \"Male\" for Male class and \"Female\" for Female class.\n",
    "\n",
    "#### Answer:\n"
   ]
  },
  {
   "cell_type": "code",
   "execution_count": 3,
   "id": "fd1ee6a0",
   "metadata": {},
   "outputs": [
    {
     "name": "stdout",
     "output_type": "stream",
     "text": [
      "Male\n",
      "Use a child class object of Person class to check gender type! \n",
      "Female\n"
     ]
    }
   ],
   "source": [
    "class Person():\n",
    "    def getGender(self):\n",
    "        return \"Use a child class object of Person class to check gender type! \"\n",
    "    \n",
    "class Male(Person):\n",
    "    def getGender(self):\n",
    "        return \"Male\"\n",
    "        \n",
    "class Female(Person):\n",
    "    def getGender(self):\n",
    "        return \"Female\" \n",
    "\n",
    "object_male = Male()\n",
    "object_Person = Person()\n",
    "object_female= Female()\n",
    "\n",
    "print(object_male.getGender())\n",
    "print(object_Person.getGender())\n",
    "print(object_female.getGender())"
   ]
  },
  {
   "cell_type": "markdown",
   "id": "823c69d6",
   "metadata": {},
   "source": []
  },
  {
   "cell_type": "markdown",
   "id": "c1a87642",
   "metadata": {},
   "source": []
  },
  {
   "cell_type": "markdown",
   "id": "3a13a69e",
   "metadata": {},
   "source": [
    "### Question 4:\n",
    "##### Please write a program to generate all sentences where subject is in [\"I\", \"You\"] and verb is in [\"Play\", \"Love\"] and the object is in [\"Hockey\", \"Football\"].\n",
    "\n",
    "#### Answer:\n"
   ]
  },
  {
   "cell_type": "code",
   "execution_count": 4,
   "id": "c0170852",
   "metadata": {},
   "outputs": [
    {
     "name": "stdout",
     "output_type": "stream",
     "text": [
      "I Play Hockey\n",
      "\n",
      "I Play Football\n",
      "\n",
      "I Love Hockey\n",
      "\n",
      "I Love Football\n",
      "\n",
      "You Play Hockey\n",
      "\n",
      "You Play Football\n",
      "\n",
      "You Love Hockey\n",
      "\n",
      "You Love Football\n",
      "\n"
     ]
    }
   ],
   "source": [
    "def sentence_generator():\n",
    "    \n",
    "    Subject = [\"I\", \"You\"]\n",
    "    Verb = [\"Play\", \"Love\"]\n",
    "    Object = [\"Hockey\", \"Football\"]\n",
    "    \n",
    "    for s in Subject:\n",
    "        for v in Verb:\n",
    "            for o in Object:\n",
    "                print(s,v,o, end = \"\\n\\n\")\n",
    "                \n",
    "sentence_generator()                "
   ]
  },
  {
   "cell_type": "markdown",
   "id": "a8079572",
   "metadata": {},
   "source": []
  },
  {
   "cell_type": "markdown",
   "id": "7ea74fbc",
   "metadata": {},
   "source": []
  },
  {
   "cell_type": "markdown",
   "id": "9e922657",
   "metadata": {},
   "source": [
    "### Question 5:\n",
    "##### Please write a program to compress and decompress the string \"hello world!hello world!hello world!hello world!\".\n",
    "\n",
    "#### Answer:\n"
   ]
  },
  {
   "cell_type": "code",
   "execution_count": 5,
   "id": "b86cb659",
   "metadata": {},
   "outputs": [
    {
     "name": "stdout",
     "output_type": "stream",
     "text": [
      "Enter the string you want to compress:  mmmmmaaaannnggo\n"
     ]
    },
    {
     "data": {
      "text/plain": [
       "'m5a4n3g2o'"
      ]
     },
     "execution_count": 5,
     "metadata": {},
     "output_type": "execute_result"
    }
   ],
   "source": [
    "def compressor():\n",
    "    string = input(\"Enter the string you want to compress:  \")\n",
    "    compressed_string_store_room = string[0]\n",
    "    count = 1\n",
    "    for i in range(len(string) - 1):\n",
    "        if string[i] == string[i+1]:\n",
    "            count = count + 1\n",
    "        else:\n",
    "            if count > 1:\n",
    "                compressed_string_store_room =  compressed_string_store_room + str(count)\n",
    "                compressed_string_store_room = compressed_string_store_room + string[i+1]\n",
    "                count = 1\n",
    "    if count > 1:\n",
    "        return compressed_string_store_room + str(count)\n",
    "    else:\n",
    "        return compressed_string_store_room\n",
    "\n",
    "compressor()    "
   ]
  },
  {
   "cell_type": "code",
   "execution_count": 6,
   "id": "2b4cd831",
   "metadata": {},
   "outputs": [
    {
     "name": "stdout",
     "output_type": "stream",
     "text": [
      "Enter the string you want to decompress:  m5a4n3g2o\n"
     ]
    },
    {
     "data": {
      "text/plain": [
       "'mmmmmaaaannnggo'"
      ]
     },
     "execution_count": 6,
     "metadata": {},
     "output_type": "execute_result"
    }
   ],
   "source": [
    "def decompressor():\n",
    "    string = input(\"Enter the string you want to decompress:  \")\n",
    "    decompressed_string = \"\"\n",
    "    for i in range(len(string)):\n",
    "        if string[i].isdigit():\n",
    "            decompressed_string = decompressed_string + decompressed_string[-1]*(int(string[i])-1)\n",
    "        else:\n",
    "            decompressed_string = decompressed_string + string[i]\n",
    "    return decompressed_string\n",
    "\n",
    "decompressor()"
   ]
  },
  {
   "cell_type": "markdown",
   "id": "018c9d82",
   "metadata": {},
   "source": []
  },
  {
   "cell_type": "markdown",
   "id": "20fb121e",
   "metadata": {},
   "source": []
  },
  {
   "cell_type": "markdown",
   "id": "c8ee3a49",
   "metadata": {},
   "source": [
    "### Question 6:\n",
    "##### Please write a binary search function which searches an item in a sorted list. The function should return the index of element to be searched in the list.\n",
    "\n",
    "#### Answer:\n"
   ]
  },
  {
   "cell_type": "code",
   "execution_count": 7,
   "id": "1f27c1e7",
   "metadata": {},
   "outputs": [
    {
     "name": "stdout",
     "output_type": "stream",
     "text": [
      "Enter any list: [34234,56456723,345456,234,456567,78,567234,345,234,356432,3456,4567,678,567,87,34546,67,67,78,3,34,6,9]\n",
      "Enter the element for which you to find its index in the list given you after sorting:  567\n",
      "567 is present at index 12 \n"
     ]
    }
   ],
   "source": [
    "List = eval(input(\"Enter any list: \"))\n",
    "Element = int(input(\"Enter the element for which you to find its index in the list given you after sorting:  \"))\n",
    "\n",
    "def Binary_Searcher():\n",
    "    Sorted_List = sorted(List)\n",
    "\n",
    "    lowest_index = 0\n",
    "    highest_index = len(Sorted_List) - 1\n",
    "    \n",
    "    while lowest_index <= highest_index:\n",
    "        \n",
    "        middle_index = (lowest_index + highest_index)//2\n",
    "        \n",
    "        if Sorted_List[middle_index] < Element:\n",
    "            lowest_index = middle_index + 1\n",
    "            \n",
    "        elif Sorted_List[middle_index] > Element:\n",
    "            highest_index = middle_index - 1\n",
    "            \n",
    "        else:\n",
    "            return middle_index\n",
    "    else:\n",
    "        return \"invalid\"\n",
    "    \n",
    "result = Binary_Searcher()\n",
    "\n",
    "\n",
    "if result != \"invalid\":\n",
    "    print(f'{Element} is present at index {result} ')\n",
    "    \n",
    "else:\n",
    "    print(\"The element for which you to find its index in not present in the list given by you\")"
   ]
  }
 ],
 "metadata": {
  "kernelspec": {
   "display_name": "Python 3 (ipykernel)",
   "language": "python",
   "name": "python3"
  },
  "language_info": {
   "codemirror_mode": {
    "name": "ipython",
    "version": 3
   },
   "file_extension": ".py",
   "mimetype": "text/x-python",
   "name": "python",
   "nbconvert_exporter": "python",
   "pygments_lexer": "ipython3",
   "version": "3.9.7"
  }
 },
 "nbformat": 4,
 "nbformat_minor": 5
}
