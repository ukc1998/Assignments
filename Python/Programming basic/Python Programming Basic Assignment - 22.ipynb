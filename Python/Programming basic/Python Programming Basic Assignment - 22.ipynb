{
 "cells": [
  {
   "cell_type": "markdown",
   "id": "c4caf92a",
   "metadata": {},
   "source": [
    "# Python Programming Basic Assignment - 22"
   ]
  },
  {
   "cell_type": "markdown",
   "id": "192a81c3",
   "metadata": {},
   "source": []
  },
  {
   "cell_type": "markdown",
   "id": "f280c7aa",
   "metadata": {},
   "source": []
  },
  {
   "cell_type": "markdown",
   "id": "eeeabd90",
   "metadata": {},
   "source": [
    "### Question 1.\n",
    "##### Create a function that takes three parameters where:\n",
    "\n",
    " x is the start of the range (inclusive).\n",
    " <br>\n",
    " y is the end of the range (inclusive).\n",
    " <br> \n",
    " n is the divisor to be checked against.\n",
    "\n",
    "##### Return an ordered list with numbers in the range that are divisible by the third parameter n. Return an empty list if there are no numbers that are divisible by n.\n",
    "\n",
    "Examples:\n",
    "\n",
    "list_operation(1, 10, 3) ➞ [3, 6, 9]\n",
    "<br>\n",
    "list_operation(7, 9, 2) ➞ [8]\n",
    "<br>\n",
    "list_operation(15, 20, 7) ➞ []\n",
    "\n",
    "### Answer:\n"
   ]
  },
  {
   "cell_type": "code",
   "execution_count": 1,
   "id": "85d8c3c0",
   "metadata": {},
   "outputs": [
    {
     "name": "stdout",
     "output_type": "stream",
     "text": [
      "[3, 6, 9]\n",
      "[8]\n",
      "[]\n"
     ]
    }
   ],
   "source": [
    "def list_operation(s,e,d):\n",
    "    \n",
    "    store_room = []\n",
    "    \n",
    "    for i in range(s,e+1):\n",
    "        if i%d == 0:\n",
    "            store_room.append(i)\n",
    "    return store_room\n",
    "\n",
    "print(list_operation(1, 10, 3))\n",
    "print(list_operation(7, 9, 2))\n",
    "print(list_operation(15, 20, 7))"
   ]
  },
  {
   "cell_type": "markdown",
   "id": "6ed1c2cf",
   "metadata": {},
   "source": []
  },
  {
   "cell_type": "markdown",
   "id": "365e5a3d",
   "metadata": {},
   "source": []
  },
  {
   "cell_type": "markdown",
   "id": "afe0258b",
   "metadata": {},
   "source": [
    "### Question 2.\n",
    "##### Create a function that takes in two lists and returns True if the second list follows the first list by one element, and False otherwise. In other words, determine if the second list is the first list shifted to the right by 1.\n",
    "\n",
    "Examples:\n",
    "\n",
    "simon_says([1, 2], [5, 1]) ➞ True\n",
    "<br>\n",
    "simon_says([1, 2], [5, 5]) ➞ False\n",
    "<br>\n",
    "simon_says([1, 2, 3, 4, 5], [0, 1, 2, 3, 4]) ➞ True\n",
    "<br>\n",
    "simon_says([1, 2, 3, 4, 5], [5, 5, 1, 2, 3]) ➞ False\n",
    "\n",
    "Notes:\n",
    "\n",
    " Both input lists will be of the same length, and will have a minimum length of 2.\n",
    " <br>\n",
    " The values of the 0-indexed element in the second list and the n-1th indexed element in the first list do not matter.\n",
    "\n",
    "### Answer:\n"
   ]
  },
  {
   "cell_type": "code",
   "execution_count": 2,
   "id": "c10c3667",
   "metadata": {},
   "outputs": [
    {
     "data": {
      "text/plain": [
       "True"
      ]
     },
     "execution_count": 2,
     "metadata": {},
     "output_type": "execute_result"
    }
   ],
   "source": [
    "def simon_says(l1,l2):\n",
    "    \n",
    "    if l1[0:len(l1)-1] == l2[1:len(l2)]:\n",
    "        return True\n",
    "    return False\n",
    "\n",
    "simon_says([1, 2], [5, 1])"
   ]
  },
  {
   "cell_type": "markdown",
   "id": "5eb9aee8",
   "metadata": {},
   "source": []
  },
  {
   "cell_type": "markdown",
   "id": "bd90c00a",
   "metadata": {},
   "source": []
  },
  {
   "cell_type": "markdown",
   "id": "ecacb2c7",
   "metadata": {},
   "source": [
    "### Question 3.\n",
    "##### A group of friends have decided to start a secret society. The name will be the first letter of each of their names, sorted in alphabetical order. Create a function that takes in a list of names and returns the name of the secret society.\n",
    "\n",
    "Examples:\n",
    "\n",
    "society_name([\"Adam\", \"Sarah\", \"Malcolm\"]) ➞ \"AMS\"\n",
    "<br>\n",
    "society_name([\"Harry\", \"Newt\", \"Luna\", \"Cho\"]) ➞ \"CHLN\"\n",
    "<br>\n",
    "society_name([\"Phoebe\", \"Chandler\", \"Rachel\", \"Ross\", \"Monica\", \"Joey\"]) ➞ \"CJMPRR\"\n",
    "\n",
    "### Answer:\n"
   ]
  },
  {
   "cell_type": "code",
   "execution_count": 3,
   "id": "4aeff30f",
   "metadata": {},
   "outputs": [
    {
     "data": {
      "text/plain": [
       "'CJMPRR'"
      ]
     },
     "execution_count": 3,
     "metadata": {},
     "output_type": "execute_result"
    }
   ],
   "source": [
    "def society_name(List):\n",
    "    \n",
    "    store_room = []\n",
    "    \n",
    "    for i in range(len(List)):\n",
    "        store_room.append(List[i][0])\n",
    "    output1 = sorted(store_room)\n",
    "    output2 = \"\".join(output1)\n",
    "    \n",
    "    return output2\n",
    "\n",
    "society_name([\"Phoebe\", \"Chandler\", \"Rachel\", \"Ross\", \"Monica\", \"Joey\"])"
   ]
  },
  {
   "cell_type": "markdown",
   "id": "632c22fd",
   "metadata": {},
   "source": []
  },
  {
   "cell_type": "markdown",
   "id": "abb1b23b",
   "metadata": {},
   "source": []
  },
  {
   "cell_type": "markdown",
   "id": "1a2fdc7b",
   "metadata": {},
   "source": [
    "### Question 4.\n",
    "##### An isogram is a word that has no duplicate letters. Create a function that takes a string and returns either True or False depending on whether or not it's an \"isogram\".\n",
    "\n",
    "Examples:\n",
    "\n",
    "is_isogram(\"Algorism\") ➞ True\n",
    "<br>\n",
    "is_isogram(\"PasSword\") ➞ False\n",
    "<br>\n",
    " Not case sensitive.\n",
    "<br>\n",
    "is_isogram(\"Consecutive\") ➞ False\n",
    "\n",
    "Notes:\n",
    "\n",
    " Ignore letter case (should not be case sensitive).\n",
    " <br>\n",
    " All test cases contain valid one word strings.\n",
    "\n",
    "### Answer:\n"
   ]
  },
  {
   "cell_type": "code",
   "execution_count": 4,
   "id": "e4b155ec",
   "metadata": {},
   "outputs": [
    {
     "data": {
      "text/plain": [
       "False"
      ]
     },
     "execution_count": 4,
     "metadata": {},
     "output_type": "execute_result"
    }
   ],
   "source": [
    "def is_isogram(String):\n",
    "    \n",
    "    String = String.upper()\n",
    "    if len(String) == len(set(String)):\n",
    "        return True\n",
    "    return False\n",
    "\n",
    "is_isogram(\"Consecutive\")"
   ]
  },
  {
   "cell_type": "markdown",
   "id": "8b7fd9a0",
   "metadata": {},
   "source": []
  },
  {
   "cell_type": "markdown",
   "id": "9ae2dd51",
   "metadata": {},
   "source": []
  },
  {
   "cell_type": "markdown",
   "id": "b0284735",
   "metadata": {},
   "source": [
    "### Question 5.\n",
    "##### Create a function that takes a string and returns True or False, depending on whether the characters are in order or not.\n",
    "\n",
    "Examples:\n",
    "\n",
    "is_in_order(\"abc\") ➞ True\n",
    "<br>\n",
    "is_in_order(\"edabit\") ➞ False\n",
    "<br>\n",
    "is_in_order(\"123\") ➞ True\n",
    "<br>\n",
    "is_in_order(\"xyzz\") ➞ True\n",
    "\n",
    "Notes:\n",
    "\n",
    " You don't have to handle empty strings.\n",
    " \n",
    "### Answer:\n"
   ]
  },
  {
   "cell_type": "code",
   "execution_count": 5,
   "id": "db9bf8a9",
   "metadata": {},
   "outputs": [
    {
     "data": {
      "text/plain": [
       "True"
      ]
     },
     "execution_count": 5,
     "metadata": {},
     "output_type": "execute_result"
    }
   ],
   "source": [
    "def is_in_order(String):\n",
    "    \n",
    "    if String == \"\".join(sorted(String)):\n",
    "        return True\n",
    "    else:\n",
    "        return False\n",
    "\n",
    "is_in_order(\"123abc\")"
   ]
  }
 ],
 "metadata": {
  "kernelspec": {
   "display_name": "Python 3 (ipykernel)",
   "language": "python",
   "name": "python3"
  },
  "language_info": {
   "codemirror_mode": {
    "name": "ipython",
    "version": 3
   },
   "file_extension": ".py",
   "mimetype": "text/x-python",
   "name": "python",
   "nbconvert_exporter": "python",
   "pygments_lexer": "ipython3",
   "version": "3.9.7"
  }
 },
 "nbformat": 4,
 "nbformat_minor": 5
}
