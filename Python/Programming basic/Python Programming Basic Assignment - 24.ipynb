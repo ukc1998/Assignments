{
 "cells": [
  {
   "cell_type": "markdown",
   "id": "b555c74e",
   "metadata": {},
   "source": [
    "# Python Programming Basic Assignment - 24"
   ]
  },
  {
   "cell_type": "markdown",
   "id": "63b1c9c5",
   "metadata": {},
   "source": []
  },
  {
   "cell_type": "markdown",
   "id": "d307524a",
   "metadata": {},
   "source": []
  },
  {
   "cell_type": "markdown",
   "id": "91f7f223",
   "metadata": {},
   "source": [
    "### Question 1.\n",
    "##### Create a function that takes an integer and returns a list from 1 to the given number, where:\n",
    "1. If the number can be divided evenly by 4, amplify it by 10 (i.e. return 10 times the number).\n",
    "<br>\n",
    "2. If the number cannot be divided evenly by 4, simply return the number.\n",
    "\n",
    "Examples:\n",
    "\n",
    "amplify(4) ➞ [1, 2, 3, 40]\n",
    "<br>\n",
    "amplify(3) ➞ [1, 2, 3]\n",
    "<br>\n",
    "amplify(25) ➞ [1, 2, 3, 40, 5, 6, 7, 80, 9, 10, 11, 120, 13, 14, 15, 160, 17, 18, 19, 200, 21, 22, 23, 240, 25]\n",
    "\n",
    "Notes:\n",
    "\n",
    " The given integer will always be equal to or greater than 1.\n",
    " <br>\n",
    " Include the number (see example above).\n",
    " <br>\n",
    " To perform this problem with its intended purpose, try doing it with list comprehensions. If that&#39;s too difficult, just solve the challenge any way you can.\n",
    "\n",
    "### Answer:\n"
   ]
  },
  {
   "cell_type": "code",
   "execution_count": 1,
   "id": "173a13a9",
   "metadata": {},
   "outputs": [
    {
     "data": {
      "text/plain": [
       "[1, 2, 3, 40, 5, 6, 7, 80, 9, 10, 11, 120, 13, 14, 15]"
      ]
     },
     "execution_count": 1,
     "metadata": {},
     "output_type": "execute_result"
    }
   ],
   "source": [
    "def amplify(number):\n",
    "    \n",
    "    store_room = []\n",
    "    for i in range(1,number+1):\n",
    "        if i%4 == 0:\n",
    "            store_room.append(10*i)\n",
    "        else:\n",
    "            store_room.append(i)\n",
    "            \n",
    "    return store_room\n",
    "\n",
    "amplify(15)"
   ]
  },
  {
   "cell_type": "markdown",
   "id": "a90cc802",
   "metadata": {},
   "source": []
  },
  {
   "cell_type": "markdown",
   "id": "e9ee8ffc",
   "metadata": {},
   "source": []
  },
  {
   "cell_type": "markdown",
   "id": "19db03c8",
   "metadata": {},
   "source": [
    "### Question 2.\n",
    "##### Create a function that takes a list of numbers and return the number that&#39;s unique.\n",
    "\n",
    "Examples:\n",
    "\n",
    "unique([3, 3, 3, 7, 3, 3]) ➞ 7\n",
    "<br>\n",
    "unique([0, 0, 0.77, 0, 0]) ➞ 0.77\n",
    "<br>\n",
    "unique([0, 1, 1, 1, 1, 1, 1, 1]) ➞ 0\n",
    "\n",
    "Notes:\n",
    "<br>\n",
    "Test cases will always have exactly one unique number while all others are the same.\n",
    "\n",
    "### Answer:\n"
   ]
  },
  {
   "cell_type": "code",
   "execution_count": 2,
   "id": "da65a0fb",
   "metadata": {},
   "outputs": [
    {
     "data": {
      "text/plain": [
       "7"
      ]
     },
     "execution_count": 2,
     "metadata": {},
     "output_type": "execute_result"
    }
   ],
   "source": [
    "def unique(List):\n",
    "    \n",
    "    for i in List:\n",
    "        if List.count(i) == 1:\n",
    "            element = i\n",
    "    return element\n",
    "\n",
    "unique([3, 3, 3, 7, 3, 3])"
   ]
  },
  {
   "cell_type": "markdown",
   "id": "f8767692",
   "metadata": {},
   "source": []
  },
  {
   "cell_type": "markdown",
   "id": "b6e65733",
   "metadata": {},
   "source": []
  },
  {
   "cell_type": "markdown",
   "id": "f596e739",
   "metadata": {},
   "source": [
    "### Question 3.\n",
    "##### Your task is to create a Circle constructor that creates a circle with a radius provided by an argument. The circles constructed must have two getters getArea() (PIr^2) and getPerimeter() (2PI*r) which give both respective areas and perimeter (circumference).\n",
    "\n",
    "For help with this class, I have provided you with a Rectangle constructor which you can use as a base example.\n",
    "\n",
    "Examples:\n",
    "\n",
    "circy = Circle(11)\n",
    "<br>\n",
    "circy.getArea()\n",
    "<br>\n",
    " Should return 380.132711084365\n",
    " \n",
    "circy = Circle(4.44)\n",
    "<br>\n",
    "circy.getPerimeter()\n",
    "<br>\n",
    " Should return 27.897342763877365\n",
    "\n",
    "Notes:\n",
    "<br>\n",
    "Round results up to the nearest integer.\n",
    "\n",
    "### Answer:\n"
   ]
  },
  {
   "cell_type": "code",
   "execution_count": 3,
   "id": "b19bb57a",
   "metadata": {},
   "outputs": [
    {
     "name": "stdout",
     "output_type": "stream",
     "text": [
      "380.132711084365\n",
      "\n",
      "27.897342763877365\n"
     ]
    }
   ],
   "source": [
    "import math\n",
    "\n",
    "class Circle:\n",
    "    \n",
    "    def __init__(self, radius):\n",
    "        self.radius = radius\n",
    "        \n",
    "    def getArea(self):\n",
    "        area = (math.pi)*(self.radius**2)\n",
    "        return area\n",
    "    \n",
    "    def getPerimeter(self):\n",
    "        perimeter = 2*(math.pi)*(self.radius)\n",
    "        return perimeter\n",
    "    \n",
    "circy = Circle(11)\n",
    "print(circy.getArea())\n",
    "print()\n",
    "circy = Circle(4.44)\n",
    "print(circy.getPerimeter())"
   ]
  },
  {
   "cell_type": "markdown",
   "id": "a7b7a216",
   "metadata": {},
   "source": []
  },
  {
   "cell_type": "markdown",
   "id": "337b1a9a",
   "metadata": {},
   "source": []
  },
  {
   "cell_type": "markdown",
   "id": "a2f6cf10",
   "metadata": {},
   "source": [
    "### Question4\n",
    "##### Create a function that takes a list of strings and return a list, sorted from shortest to longest.\n",
    "\n",
    "Examples:\n",
    "\n",
    "sort_by_length([\"Google\", \"Apple\", \"Microsoft\"]) ➞ [\"Apple\", \"Google\", \"Microsoft\"]\n",
    "<br>\n",
    "sort_by_length([\"Leonardo\", \"Michelangelo\", \"Raphael\", \"Donatello\"]) ➞ [\"Raphael\", \"Leonardo\", \"Donatello\", \"Michelangelo\"]\n",
    "<br>\n",
    "sort_by_length([\"Turing\", \"Einstein\", \"Jung\"]) ➞ [\"Jung\", \"Turing\", \"Einstein\"]\n",
    "\n",
    "Notes:\n",
    "<br>\n",
    "All test cases contain lists with strings of different lengths, so you won&#39;t have to deal with multiple strings of the same length.\n",
    "\n",
    "### Answer:\n"
   ]
  },
  {
   "cell_type": "code",
   "execution_count": 4,
   "id": "d9bbac74",
   "metadata": {},
   "outputs": [
    {
     "data": {
      "text/plain": [
       "['Raphael', 'Leonardo', 'Donatello', 'Michelangelo']"
      ]
     },
     "execution_count": 4,
     "metadata": {},
     "output_type": "execute_result"
    }
   ],
   "source": [
    "def sort_by_length(List):\n",
    "    \n",
    "    sorted_list = sorted(List, key = len)\n",
    "    \n",
    "    return sorted_list\n",
    "\n",
    "sort_by_length([\"Leonardo\", \"Michelangelo\", \"Raphael\", \"Donatello\"])"
   ]
  },
  {
   "cell_type": "markdown",
   "id": "0328b556",
   "metadata": {},
   "source": []
  },
  {
   "cell_type": "markdown",
   "id": "1c6a3171",
   "metadata": {},
   "source": []
  },
  {
   "cell_type": "markdown",
   "id": "d1f9aeb1",
   "metadata": {},
   "source": [
    "### Question 5.\n",
    "##### Create a function that validates whether three given integers form a Pythagorean triplet. The sum of the squares of the two smallest integers must equal the square of the largest number to be validated.\n",
    "\n",
    "Examples:\n",
    "\n",
    "is_triplet(3, 4, 5) ➞ True\n",
    "<br>\n",
    " 3² + 4² = 25\n",
    "<br>\n",
    " 5² = 25\n",
    " \n",
    "is_triplet(13, 5, 12) ➞ True\n",
    "<br>\n",
    " 5² + 12² = 169\n",
    "<br>\n",
    " 13² = 169\n",
    " \n",
    "is_triplet(1, 2, 3) ➞ False\n",
    "<br>\n",
    " 1² + 2² = 5\n",
    "<br>\n",
    " 3² = 9\n",
    " \n",
    "Notes:\n",
    "<br>\n",
    "Numbers may not be given in a sorted order.\n",
    "\n",
    "### Answer:\n"
   ]
  },
  {
   "cell_type": "code",
   "execution_count": 5,
   "id": "9fa90996",
   "metadata": {},
   "outputs": [
    {
     "data": {
      "text/plain": [
       "False"
      ]
     },
     "execution_count": 5,
     "metadata": {},
     "output_type": "execute_result"
    }
   ],
   "source": [
    "def is_triplet(x,y,z):\n",
    "    \n",
    "    List = []\n",
    "    List.extend((x,y,z))\n",
    "    Sorted_List = sorted(List)\n",
    "    \n",
    "        \n",
    "    if Sorted_List[0]**2 + Sorted_List[1]**2 == Sorted_List[2]**2:\n",
    "        return True\n",
    "        \n",
    "    else:\n",
    "        return False\n",
    "        \n",
    "is_triplet(13, 6, 12)"
   ]
  }
 ],
 "metadata": {
  "kernelspec": {
   "display_name": "Python 3 (ipykernel)",
   "language": "python",
   "name": "python3"
  },
  "language_info": {
   "codemirror_mode": {
    "name": "ipython",
    "version": 3
   },
   "file_extension": ".py",
   "mimetype": "text/x-python",
   "name": "python",
   "nbconvert_exporter": "python",
   "pygments_lexer": "ipython3",
   "version": "3.9.7"
  }
 },
 "nbformat": 4,
 "nbformat_minor": 5
}
