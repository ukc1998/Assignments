{
 "cells": [
  {
   "cell_type": "markdown",
   "id": "45cb47aa",
   "metadata": {},
   "source": [
    "# Python Programming Basic Assignment - 1"
   ]
  },
  {
   "cell_type": "markdown",
   "id": "f7f9ec32",
   "metadata": {},
   "source": []
  },
  {
   "cell_type": "markdown",
   "id": "103ec0f4",
   "metadata": {},
   "source": []
  },
  {
   "cell_type": "markdown",
   "id": "1e253ecf",
   "metadata": {},
   "source": [
    "### Question1.\n",
    "Write a Python program to print \"Hello Python\" ?\n",
    "\n",
    "Answer:"
   ]
  },
  {
   "cell_type": "code",
   "execution_count": 1,
   "id": "eb9d012b",
   "metadata": {
    "scrolled": true
   },
   "outputs": [
    {
     "name": "stdout",
     "output_type": "stream",
     "text": [
      "Hello Python\n"
     ]
    }
   ],
   "source": [
    "print(\"Hello Python\")"
   ]
  },
  {
   "cell_type": "markdown",
   "id": "590d1516",
   "metadata": {},
   "source": []
  },
  {
   "cell_type": "markdown",
   "id": "b6a73807",
   "metadata": {},
   "source": []
  },
  {
   "cell_type": "markdown",
   "id": "e059d53a",
   "metadata": {},
   "source": [
    "### Question2.\n",
    "Write a Python program to do arithmetical operations addition and division.?\n",
    "\n",
    "Answer:\n"
   ]
  },
  {
   "cell_type": "code",
   "execution_count": 2,
   "id": "2e2145db",
   "metadata": {},
   "outputs": [
    {
     "name": "stdout",
     "output_type": "stream",
     "text": [
      "Enter the first number:  4.5\n",
      "Enter the second number:  1.5\n",
      "The sum of  4.5  and  1.5  is  6.0\n",
      "When  4.5  is divided by  1.5 , we get:  3.0\n"
     ]
    }
   ],
   "source": [
    "First_Number = float(input(\"Enter the first number:  \"))\n",
    "Second_Number = float(input(\"Enter the second number:  \"))\n",
    "\n",
    "Summation = First_Number + Second_Number\n",
    "Division = First_Number / Second_Number\n",
    "\n",
    "print(\"The sum of \", First_Number, \" and \", Second_Number, \" is \", Summation)\n",
    "print(\"When \", First_Number, \" is divided by \", Second_Number,\", we get: \", Division)"
   ]
  },
  {
   "cell_type": "markdown",
   "id": "6ca01d31",
   "metadata": {},
   "source": []
  },
  {
   "cell_type": "markdown",
   "id": "d750ee91",
   "metadata": {},
   "source": []
  },
  {
   "cell_type": "markdown",
   "id": "c341e4fa",
   "metadata": {},
   "source": [
    "### Question3.\n",
    "Write a Python program to find the area of a triangle?\n",
    "\n",
    "Answer:\n"
   ]
  },
  {
   "cell_type": "code",
   "execution_count": 3,
   "id": "5930c1e8",
   "metadata": {},
   "outputs": [
    {
     "name": "stdout",
     "output_type": "stream",
     "text": [
      "Enter the length of the first side of the triangle:  3\n",
      "Enter the length of the second side of the triangle:  4\n",
      "Enter the length of the third side of the triangle:  5\n",
      "The area of the triangle for the given length of the sides =  6.0\n"
     ]
    }
   ],
   "source": [
    "a = float(input(\"Enter the length of the first side of the triangle:  \"))\n",
    "b = float(input(\"Enter the length of the second side of the triangle:  \"))\n",
    "c = float(input(\"Enter the length of the third side of the triangle:  \"))\n",
    "\n",
    "if (a+b)>c and (a+c)>b and (b+c)>a:\n",
    "    s = ((a + b + c)/2)\n",
    "    Area = (s*(s - a)*(s - b)*(s - c))**(0.5)\n",
    "    print(\"The area of the triangle for the given length of the sides = \", Area)\n",
    "\n",
    "else:\n",
    "    print(\"WARNING!!!   Enter the length of the sides of the triangle such that the sum \\nof the length of any two sides of the triangle is greater than the third side.\")"
   ]
  },
  {
   "cell_type": "markdown",
   "id": "0a7ed4df",
   "metadata": {},
   "source": []
  },
  {
   "cell_type": "markdown",
   "id": "c4b72aed",
   "metadata": {},
   "source": []
  },
  {
   "cell_type": "markdown",
   "id": "d4060790",
   "metadata": {},
   "source": [
    "### Question4.\n",
    "Write a Python program to swap two variables?\n",
    "\n",
    "Answer:\n"
   ]
  },
  {
   "cell_type": "code",
   "execution_count": 4,
   "id": "ab99f523",
   "metadata": {},
   "outputs": [
    {
     "name": "stdout",
     "output_type": "stream",
     "text": [
      "Enter the first variable: Onenuron\n",
      "Enter the second variable: Ineuron\n",
      "First variable after swapping =  Ineuron\n",
      "Second variable after swapping =  Onenuron\n"
     ]
    }
   ],
   "source": [
    "Variable1 = input(\"Enter the first variable: \")\n",
    "Variable2 = input(\"Enter the second variable: \")\n",
    "\n",
    "Temporary_variable = Variable1\n",
    "Variable1 = Variable2\n",
    "Variable2 = Temporary_variable\n",
    "\n",
    "print(\"First variable after swapping = \", Variable1)\n",
    "print(\"Second variable after swapping = \", Variable2)"
   ]
  },
  {
   "cell_type": "markdown",
   "id": "110f7b97",
   "metadata": {},
   "source": []
  },
  {
   "cell_type": "markdown",
   "id": "8b534fda",
   "metadata": {},
   "source": []
  },
  {
   "cell_type": "markdown",
   "id": "102fd826",
   "metadata": {},
   "source": [
    "### Question5.\n",
    "Write a Python program to generate a random number?\n",
    "\n",
    "Answer:\n"
   ]
  },
  {
   "cell_type": "code",
   "execution_count": 5,
   "id": "94821767",
   "metadata": {},
   "outputs": [
    {
     "name": "stdout",
     "output_type": "stream",
     "text": [
      "Random Number = 0.18376040940155192\n"
     ]
    }
   ],
   "source": [
    "import random\n",
    "\n",
    "Random_Number = random.random()\n",
    "print(\"Random Number =\", Random_Number)"
   ]
  }
 ],
 "metadata": {
  "kernelspec": {
   "display_name": "Python 3 (ipykernel)",
   "language": "python",
   "name": "python3"
  },
  "language_info": {
   "codemirror_mode": {
    "name": "ipython",
    "version": 3
   },
   "file_extension": ".py",
   "mimetype": "text/x-python",
   "name": "python",
   "nbconvert_exporter": "python",
   "pygments_lexer": "ipython3",
   "version": "3.9.7"
  }
 },
 "nbformat": 4,
 "nbformat_minor": 5
}
