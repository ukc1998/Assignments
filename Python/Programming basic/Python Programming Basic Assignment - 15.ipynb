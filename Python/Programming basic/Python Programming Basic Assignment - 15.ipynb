{
 "cells": [
  {
   "cell_type": "markdown",
   "id": "9bb77cfc",
   "metadata": {},
   "source": [
    "# Python Programming Basic Assignment - 15"
   ]
  },
  {
   "cell_type": "markdown",
   "id": "7e995584",
   "metadata": {},
   "source": []
  },
  {
   "cell_type": "markdown",
   "id": "f0b3e519",
   "metadata": {},
   "source": []
  },
  {
   "cell_type": "markdown",
   "id": "0e7cd36a",
   "metadata": {},
   "source": [
    "### Question 1:\n",
    "##### Please write a program using generator to print the numbers which can be divisible by 5 and 7 between 0 and n in comma separated form while n is input by console.\n",
    "\n",
    "Example:\n",
    "<br>\n",
    "If the following n is given as input to the program:\n",
    "<br>\n",
    "100\n",
    "<br>\n",
    "Then, the output of the program should be:\n",
    "<br>\n",
    "0,35,70\n",
    "\n",
    "### Answer: \n"
   ]
  },
  {
   "cell_type": "code",
   "execution_count": 1,
   "id": "3e54f9a7",
   "metadata": {},
   "outputs": [
    {
     "name": "stdout",
     "output_type": "stream",
     "text": [
      "Enter the value of n :      100\n",
      "0,35,70\n"
     ]
    }
   ],
   "source": [
    "n = int(input(\"Enter the value of n :      \"))\n",
    "\n",
    "def Multiples_of_Both_5_And_7(x):\n",
    "    \n",
    "    for i in range(0,x+1):\n",
    "        if i%5 == 0 and i%7 == 0:\n",
    "            yield i\n",
    "\n",
    "store_room = []\n",
    "for i in Multiples_of_Both_5_And_7 (n):\n",
    "    store_room.append(str(i))\n",
    "print(\",\".join(store_room))"
   ]
  },
  {
   "cell_type": "markdown",
   "id": "91e71f98",
   "metadata": {},
   "source": []
  },
  {
   "cell_type": "markdown",
   "id": "82b9d045",
   "metadata": {},
   "source": []
  },
  {
   "cell_type": "markdown",
   "id": "83c145b3",
   "metadata": {},
   "source": [
    "### Question 2:\n",
    "##### Please write a program using generator to print the even numbers between 0 and n in comma separated form while n is input by console.\n",
    "\n",
    "Example:\n",
    "<br>\n",
    "If the following n is given as input to the program:\n",
    "<br>\n",
    "10\n",
    "<br>\n",
    "Then, the output of the program should be:\n",
    "<br>\n",
    "0,2,4,6,8,10\n",
    "\n",
    "### Answer: \n"
   ]
  },
  {
   "cell_type": "code",
   "execution_count": 2,
   "id": "98032930",
   "metadata": {},
   "outputs": [
    {
     "name": "stdout",
     "output_type": "stream",
     "text": [
      "Enter the value of n :      20\n",
      "0,2,4,6,8,10,12,14,16,18,20\n"
     ]
    }
   ],
   "source": [
    "n = int(input(\"Enter the value of n :      \"))\n",
    "\n",
    "def Even_Printer(x):\n",
    "    \n",
    "    for i in range(0,x+1):\n",
    "        if i%2 == 0:\n",
    "            yield i\n",
    "\n",
    "store_room = []\n",
    "for i in Even_Printer (n):\n",
    "    store_room.append(str(i))\n",
    "print(\",\".join(store_room))"
   ]
  },
  {
   "cell_type": "markdown",
   "id": "e64a08d1",
   "metadata": {},
   "source": []
  },
  {
   "cell_type": "markdown",
   "id": "e3956e1a",
   "metadata": {},
   "source": []
  },
  {
   "cell_type": "markdown",
   "id": "08d2c9b7",
   "metadata": {},
   "source": [
    "### Question 3:\n",
    "##### The Fibonacci Sequence is computed based on the following formula:\n",
    "##### f(n)=0 if n=0\n",
    "##### f(n)=1 if n=1\n",
    "##### f(n)=f(n-1)+f(n-2) if n>1\n",
    "##### Please write a program using list comprehension to print the Fibonacci Sequence in comma separated form with a given n input by console.\n",
    "\n",
    "Example:\n",
    "<br>\n",
    "If the following n is given as input to the program:\n",
    "<br>\n",
    "7\n",
    "\n",
    "\n",
    "Then, the output of the program should be:\n",
    "<br>\n",
    "0,1,1,2,3,5,8,13\n",
    "\n",
    "### Answer: \n"
   ]
  },
  {
   "cell_type": "code",
   "execution_count": 3,
   "id": "999b9391",
   "metadata": {},
   "outputs": [
    {
     "name": "stdout",
     "output_type": "stream",
     "text": [
      "Enter any positive value of n:   10\n",
      "0,1,1,2,3,5,8,13,21,34,55\n"
     ]
    }
   ],
   "source": [
    "n = int(input(\"Enter any positive value of n:   \"))\n",
    "\n",
    "def fibonaci_generator(x):\n",
    "    \n",
    "    if x >= 0:\n",
    "        if x == 0:\n",
    "            return 0\n",
    "        elif x == 1:\n",
    "            return 1\n",
    "        else:\n",
    "            return fibonaci_generator(x-1) + fibonaci_generator(x-2)\n",
    "            \n",
    "store_room = [str(fibonaci_generator(i)) for i in range(n + 1)]         \n",
    "print(\",\".join(store_room))"
   ]
  },
  {
   "cell_type": "markdown",
   "id": "b5a14266",
   "metadata": {},
   "source": []
  },
  {
   "cell_type": "markdown",
   "id": "2d9b46be",
   "metadata": {},
   "source": []
  },
  {
   "cell_type": "markdown",
   "id": "18ccb38c",
   "metadata": {},
   "source": [
    "### Question 4:\n",
    "##### Assuming that we have some email addresses in the \"username@companyname.com\" format, please write program to print the user name of a given email address. Both user names and company names are composed of letters only.\n",
    "\n",
    "Example:\n",
    "<br>\n",
    "If the following email address is given as input to the program:\n",
    "<br>\n",
    "john@google.com\n",
    "<br>\n",
    "Then, the output of the program should be:\n",
    "<br>\n",
    "john\n",
    "\n",
    "### Answer: \n"
   ]
  },
  {
   "cell_type": "code",
   "execution_count": 4,
   "id": "5c36c6de",
   "metadata": {},
   "outputs": [
    {
     "name": "stdout",
     "output_type": "stream",
     "text": [
      "Enter your email address:      utkarshchoubey5@gmail.com\n",
      "utkarshchoubey5\n"
     ]
    }
   ],
   "source": [
    "userinput = input(\"Enter your email address:      \")\n",
    "\n",
    "print(userinput[0:userinput.index(\"@\")])"
   ]
  },
  {
   "cell_type": "markdown",
   "id": "2251f9c3",
   "metadata": {},
   "source": []
  },
  {
   "cell_type": "markdown",
   "id": "17cf2975",
   "metadata": {},
   "source": []
  },
  {
   "cell_type": "markdown",
   "id": "5f6c3b02",
   "metadata": {},
   "source": [
    "### Question 5:\n",
    "##### Define a class named Shape and its subclass Square. The Square class has an init function which takes a length as argument. Both classes have a area function which can print the area of the shape where Shape's area is 0 by default.\n",
    "\n",
    "### Answer: \n"
   ]
  },
  {
   "cell_type": "code",
   "execution_count": 5,
   "id": "5d948716",
   "metadata": {},
   "outputs": [
    {
     "name": "stdout",
     "output_type": "stream",
     "text": [
      "Enter the length of each side of the Square:  44\n",
      "The area of the Square is 1936\n"
     ]
    }
   ],
   "source": [
    "class Shape:\n",
    "    def area(self):\n",
    "        return 0\n",
    "        \n",
    "class Square(Shape):\n",
    "    \n",
    "    def __init__(self, side_length):\n",
    "        self.side_length = side_length\n",
    "    def area(self):\n",
    "        print(f\"The area of the Square is {(self.side_length)**2}\")\n",
    "        \n",
    "Object = Square(int(input(\"Enter the length of each side of the Square:  \")))\n",
    "Object.area()"
   ]
  }
 ],
 "metadata": {
  "kernelspec": {
   "display_name": "Python 3 (ipykernel)",
   "language": "python",
   "name": "python3"
  },
  "language_info": {
   "codemirror_mode": {
    "name": "ipython",
    "version": 3
   },
   "file_extension": ".py",
   "mimetype": "text/x-python",
   "name": "python",
   "nbconvert_exporter": "python",
   "pygments_lexer": "ipython3",
   "version": "3.9.7"
  }
 },
 "nbformat": 4,
 "nbformat_minor": 5
}
