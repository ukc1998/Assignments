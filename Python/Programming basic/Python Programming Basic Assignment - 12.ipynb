{
 "cells": [
  {
   "cell_type": "markdown",
   "id": "ff41238f",
   "metadata": {},
   "source": [
    "# Python Programming Basic Assignment - 12"
   ]
  },
  {
   "cell_type": "markdown",
   "id": "4dcc038b",
   "metadata": {},
   "source": []
  },
  {
   "cell_type": "markdown",
   "id": "55db3302",
   "metadata": {},
   "source": []
  },
  {
   "cell_type": "markdown",
   "id": "4eee270b",
   "metadata": {},
   "source": [
    "### Question1. \n",
    "Write a Python program to Extract Unique values dictionary values?\n",
    "\n",
    "Answer:\n"
   ]
  },
  {
   "cell_type": "code",
   "execution_count": 1,
   "id": "1cd8bdc4",
   "metadata": {},
   "outputs": [
    {
     "name": "stdout",
     "output_type": "stream",
     "text": [
      "The unique  values from the values of the given dictionary are:  \n"
     ]
    },
    {
     "data": {
      "text/plain": [
       "{0, 1, 2, 3, 4, 5, 6, 7, 8, 9, 10, 11, 12, 13, 14}"
      ]
     },
     "execution_count": 1,
     "metadata": {},
     "output_type": "execute_result"
    }
   ],
   "source": [
    "def Extractor(d):\n",
    "    \n",
    "    \"\"\"\n",
    "    It is a function to extract to extract Unique values from dictionary values.\n",
    "    It takes a dictionary as an argument.\n",
    "    It gives a set of unique values as an output.\n",
    "    \"\"\"\n",
    "    \n",
    "    Store_Room = []\n",
    "    for i in d.values():\n",
    "        for j in i:\n",
    "            Store_Room.append(j)\n",
    "    return set(Store_Room)\n",
    "\n",
    "print(\"The unique  values from the values of the given dictionary are:  \")\n",
    "Extractor({'a' : [0,1,2,3,4,5], 'b' : [3,4,5,6,7,8], 'c' : [6,7,8,9,10,11], 'd' : [9,10,11,12,13,14]})         "
   ]
  },
  {
   "cell_type": "markdown",
   "id": "38f3f9c7",
   "metadata": {},
   "source": []
  },
  {
   "cell_type": "markdown",
   "id": "6772ae58",
   "metadata": {},
   "source": []
  },
  {
   "cell_type": "markdown",
   "id": "d50e460e",
   "metadata": {},
   "source": [
    "### Question2. \n",
    "Write a Python program to find the sum of all items in a dictionary?\n",
    "\n",
    "Answer:\n"
   ]
  },
  {
   "cell_type": "code",
   "execution_count": 2,
   "id": "ef5df4e0",
   "metadata": {},
   "outputs": [
    {
     "name": "stdout",
     "output_type": "stream",
     "text": [
      "The summation of all the values of the given dictionary is given below: \n"
     ]
    },
    {
     "data": {
      "text/plain": [
       "18258"
      ]
     },
     "execution_count": 2,
     "metadata": {},
     "output_type": "execute_result"
    }
   ],
   "source": [
    "def SUMMER(d):\n",
    "    \n",
    "    \"\"\"\n",
    "    It is a function to find the sum of all values in a dictionary.\n",
    "    It takes dictionary as argument.\n",
    "    \"\"\"\n",
    "    \n",
    "    SUM = 0\n",
    "    for i in d.values():\n",
    "        SUM = SUM + i\n",
    "    return SUM\n",
    "\n",
    "print(\"The summation of all the values of the given dictionary is given below: \")\n",
    "SUMMER({'a' : 1234, 'b' : 3456, 'c' : 5678, 'd' : 7890})"
   ]
  },
  {
   "cell_type": "markdown",
   "id": "8571fddb",
   "metadata": {},
   "source": []
  },
  {
   "cell_type": "markdown",
   "id": "c8091bc9",
   "metadata": {},
   "source": []
  },
  {
   "cell_type": "markdown",
   "id": "38e8a088",
   "metadata": {},
   "source": [
    "### Question3. \n",
    "Write a Python program to Merging two Dictionaries?\n",
    "\n",
    "Answer:\n"
   ]
  },
  {
   "cell_type": "code",
   "execution_count": 3,
   "id": "1d4ac456",
   "metadata": {},
   "outputs": [
    {
     "name": "stdout",
     "output_type": "stream",
     "text": [
      "The Merged dictionary is as:   {'a': 123, 'b': 234, 'c': 345, 'd': 456, 'e': 567, 'f': 678}\n"
     ]
    }
   ],
   "source": [
    "def DICTIONARY_MERGER(d1, d2):\n",
    "    \n",
    "    \"\"\"\n",
    "    It is a function to to merge two Dictionaries.\n",
    "    It takes two dictionaries, both of which can be a dictionay.\n",
    "    It returns a dictionary as an output.\n",
    "    \"\"\"\n",
    "    \n",
    "    d = d1.update(d2)\n",
    "    return d\n",
    "\n",
    "\n",
    "d1 = {\"a\" : 123,  \"b\" : 234, \"c\" : 345}\n",
    "d2 = {\"d\" : 456,  \"e\" : 567, \"f\" : 678}\n",
    "\n",
    "DICTIONARY_MERGER(d1, d2)\n",
    "print(\"The Merged dictionary is as:  \", d1)"
   ]
  },
  {
   "cell_type": "markdown",
   "id": "8ca25900",
   "metadata": {},
   "source": []
  },
  {
   "cell_type": "markdown",
   "id": "0e74ceea",
   "metadata": {},
   "source": []
  },
  {
   "cell_type": "markdown",
   "id": "5d2e8c77",
   "metadata": {},
   "source": [
    "### Question4. \n",
    "Write a Python program to convert key-values list to flat dictionary?\n",
    "\n",
    "Answer:\n"
   ]
  },
  {
   "cell_type": "code",
   "execution_count": 4,
   "id": "0da283fb",
   "metadata": {},
   "outputs": [
    {
     "name": "stdout",
     "output_type": "stream",
     "text": [
      "The Flattened dictionary is as:   {'Physics': 80, 'Chemistry': 85, 'Mathematics': 90}\n"
     ]
    }
   ],
   "source": [
    "def DICT_FLATTERER(d):\n",
    "    \n",
    "    \"\"\"\n",
    "    It is a function to convert key-values list to flat dictionary.\n",
    "    It takes dictionary as an argument.\n",
    "    It returns a dictionary as an output.\n",
    "    \n",
    "    \"\"\"\n",
    "    \n",
    "    Flattened_Dictionary = dict(zip(d[\"Subject\"], d[\"Marks Obtained out of 100\"]))\n",
    "    return Flattened_Dictionary\n",
    "\n",
    "\n",
    "d = {\"Subject\" : [\"Physics\", \"Chemistry\", \"Mathematics\"],  \"Marks Obtained out of 100\" : [80, 85, 90]}\n",
    "\n",
    "\n",
    "print(\"The Flattened dictionary is as:  \", DICT_FLATTERER(d))"
   ]
  },
  {
   "cell_type": "markdown",
   "id": "dc335321",
   "metadata": {},
   "source": []
  },
  {
   "cell_type": "markdown",
   "id": "aafac173",
   "metadata": {},
   "source": []
  },
  {
   "cell_type": "markdown",
   "id": "274839bb",
   "metadata": {},
   "source": [
    "### Question5. \n",
    "Write a Python program to insertion at the beginning in OrderedDict?\n",
    "\n",
    "Answer:\n"
   ]
  },
  {
   "cell_type": "code",
   "execution_count": 5,
   "id": "4506c936",
   "metadata": {},
   "outputs": [
    {
     "name": "stdout",
     "output_type": "stream",
     "text": [
      "Final Dictionary : OrderedDict([('Sanskrit', 100), ('Physics', 80), ('Chemistry', 85), ('Mathematics', 90)])\n"
     ]
    }
   ],
   "source": [
    "def INSERT(x,y):\n",
    "    \n",
    "    \"\"\"\n",
    "     It is a function to insert an item at the beginning of a dictionary in its OrderedDict form.\n",
    "     It takes two arguments.\n",
    "     First argument should be a dictionary in which the item is to be added.\n",
    "     Second argument should be a dictionary containing the item to be added.\n",
    "     It gives an orderedDict as an output\n",
    "    \"\"\"\n",
    "    \n",
    "    from collections import OrderedDict as OD\n",
    "    \n",
    "    Previous_Dictionary = OD(x)\n",
    "    Item_To_Be_Inserted = OD(y)\n",
    "    \n",
    "    Final_Dictionary = OD(list(Item_To_Be_Inserted.items()) + list(Previous_Dictionary.items()))\n",
    "    \n",
    "    return Final_Dictionary\n",
    "\n",
    "x ={'Physics': 80, 'Chemistry': 85,  'Mathematics': 90}\n",
    "y = {'Sanskrit': 100}\n",
    "\n",
    "print(\"Final Dictionary :\", INSERT(x,y))"
   ]
  },
  {
   "cell_type": "markdown",
   "id": "b13b2e19",
   "metadata": {},
   "source": []
  },
  {
   "cell_type": "markdown",
   "id": "8bf1ba24",
   "metadata": {},
   "source": []
  },
  {
   "cell_type": "markdown",
   "id": "194e9a70",
   "metadata": {},
   "source": [
    "### Question6. \n",
    "Write a Python program to check order of character in string using OrderedDict()?\n",
    "\n",
    "Answer:\n"
   ]
  },
  {
   "cell_type": "code",
   "execution_count": 6,
   "id": "22c44451",
   "metadata": {},
   "outputs": [
    {
     "name": "stdout",
     "output_type": "stream",
     "text": [
      "Enter the string:  prerajulisation\n",
      "Enter the pattern for you which you want to check its order in the string:  juli\n"
     ]
    },
    {
     "data": {
      "text/plain": [
       "'The order of pattern is correct'"
      ]
     },
     "execution_count": 6,
     "metadata": {},
     "output_type": "execute_result"
    }
   ],
   "source": [
    "def CHECK_ORDER(s, p):\n",
    "    \n",
    "    \"\"\"\n",
    "    It is a function to check order of character in string using OrderedDict().\n",
    "    It takes two arguments.\n",
    "    First argument should be the string in which a particular order may be checked if required.\n",
    "    Second argument is also a string of characters for which the order is to be checked.\n",
    "    \"\"\"\n",
    "    \n",
    "    from collections import OrderedDict\n",
    "    \n",
    "    Dictionary_Created = OrderedDict.fromkeys(s)\n",
    "    \n",
    "    Pattern_Length = 0\n",
    "    for i,j in Dictionary_Created.items():\n",
    "        \n",
    "        if i == p[Pattern_Length]:\n",
    "            Pattern_Length = Pattern_Length + 1\n",
    "\n",
    "        if Pattern_Length == len(p):\n",
    "            return \"The order of pattern is correct\"\n",
    "\n",
    "    return \"The order of pattern is incorrect\"\n",
    "\n",
    "s = input(\"Enter the string:  \")\n",
    "p = input(\"Enter the pattern for you which you want to check its order in the string:  \")\n",
    "\n",
    "CHECK_ORDER(s,p)"
   ]
  },
  {
   "cell_type": "markdown",
   "id": "85223dcf",
   "metadata": {},
   "source": []
  },
  {
   "cell_type": "markdown",
   "id": "884b1d03",
   "metadata": {},
   "source": []
  },
  {
   "cell_type": "markdown",
   "id": "1a26025e",
   "metadata": {},
   "source": [
    "### Question7. \n",
    "Write a Python program to sort Python Dictionaries by Key or Value?\n",
    "\n",
    "Answer:\n"
   ]
  },
  {
   "cell_type": "markdown",
   "id": "881e2d02",
   "metadata": {},
   "source": [
    "##### SORTING BY KEY:"
   ]
  },
  {
   "cell_type": "code",
   "execution_count": 7,
   "id": "8f0370d8",
   "metadata": {},
   "outputs": [
    {
     "name": "stdout",
     "output_type": "stream",
     "text": [
      "The original dictionary is :\n",
      "{'Physics': 80, 'Chemistry': 85, 'Mathematics': 90, 'Sanskrit': 100}\n",
      "The modified dictionary when sorted by key is: \n",
      "[('Chemistry', 85), ('Mathematics', 90), ('Physics', 80), ('Sanskrit', 100)]\n"
     ]
    }
   ],
   "source": [
    "def SORT_BY_KEY(d):\n",
    "    \n",
    "    \"\"\"\n",
    "    It is a function to sort a dictionary by its keys.\n",
    "    It takes a dictionary as argument.\n",
    "    It gives a dictionary as an output.\n",
    "    \"\"\"\n",
    "    \n",
    "    from collections import OrderedDict as OD\n",
    "    \n",
    "    print(\"The original dictionary is :\")\n",
    "    print(d)\n",
    "    \n",
    "    print(\"The modified dictionary when sorted by key is: \")\n",
    "    print(sorted(list(d.items())))\n",
    "    \n",
    "\n",
    "d = {'Physics': 80, 'Chemistry': 85, 'Mathematics': 90, 'Sanskrit': 100}\n",
    "SORT_BY_KEY(d)"
   ]
  },
  {
   "cell_type": "markdown",
   "id": "4a62d1a5",
   "metadata": {},
   "source": []
  },
  {
   "cell_type": "markdown",
   "id": "7cd15487",
   "metadata": {},
   "source": []
  },
  {
   "cell_type": "markdown",
   "id": "716527bb",
   "metadata": {},
   "source": [
    "##### SORTING BY VALUE:"
   ]
  },
  {
   "cell_type": "code",
   "execution_count": 8,
   "id": "86cde3f3",
   "metadata": {},
   "outputs": [
    {
     "name": "stdout",
     "output_type": "stream",
     "text": [
      "The original dictionary is :\n",
      "{'Chemistry': 85, 'Physics': 80, 'Mathematics': 90, 'Sanskrit': 100}\n",
      "The modified dictionary when sorted by value is: \n",
      "{'Physics': 80, 'Chemistry': 85, 'Mathematics': 90, 'Sanskrit': 100}\n"
     ]
    }
   ],
   "source": [
    "def SORT_BY_VALUE(d):\n",
    "    \n",
    "    \"\"\"\n",
    "    It is a function to sort a dictionary by its values.\n",
    "    It takes a dictionary as argument.\n",
    "    It gives a dictionary as an output.\n",
    "    \"\"\"\n",
    "    \n",
    "    print(\"The original dictionary is :\")\n",
    "    print(d)\n",
    "    \n",
    "    sorted_values = sorted(d.values()) \n",
    "    sorted_dict_by_value = {}\n",
    "\n",
    "    for i in sorted_values:\n",
    "        for k in d.keys():\n",
    "            if d[k] == i:\n",
    "                sorted_dict_by_value[k] = d[k]\n",
    "                break\n",
    "    print(\"The modified dictionary when sorted by value is: \")\n",
    "    print(sorted_dict_by_value)\n",
    "\n",
    "          \n",
    "d = {'Chemistry': 85, 'Physics': 80, 'Mathematics': 90, 'Sanskrit': 100}\n",
    "SORT_BY_VALUE(d)"
   ]
  }
 ],
 "metadata": {
  "kernelspec": {
   "display_name": "Python 3 (ipykernel)",
   "language": "python",
   "name": "python3"
  },
  "language_info": {
   "codemirror_mode": {
    "name": "ipython",
    "version": 3
   },
   "file_extension": ".py",
   "mimetype": "text/x-python",
   "name": "python",
   "nbconvert_exporter": "python",
   "pygments_lexer": "ipython3",
   "version": "3.9.7"
  }
 },
 "nbformat": 4,
 "nbformat_minor": 5
}
