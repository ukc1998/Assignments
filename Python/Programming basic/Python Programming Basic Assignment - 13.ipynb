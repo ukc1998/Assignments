{
 "cells": [
  {
   "cell_type": "markdown",
   "id": "7d5ca331",
   "metadata": {},
   "source": [
    "# Python Programming Basic Assignment - 13"
   ]
  },
  {
   "cell_type": "markdown",
   "id": "9fc88702",
   "metadata": {},
   "source": []
  },
  {
   "cell_type": "markdown",
   "id": "4c8fcd0d",
   "metadata": {},
   "source": []
  },
  {
   "cell_type": "markdown",
   "id": "3e573520",
   "metadata": {},
   "source": [
    "### Question 1:\n",
    "Write a program that calculates and prints the value according to the given formula:\n",
    "<br>\n",
    "Q = Square root of [(2 * C * D)/H]\n",
    "<br>\n",
    "Following are the fixed values of C and H:\n",
    "<br>\n",
    "C is 50. H is 30.\n",
    "<br>\n",
    "D is the variable whose values should be input to your program in a comma-separated sequence.\n",
    "\n",
    "Example\n",
    "<br>\n",
    "Let us assume the following comma separated input sequence is given to the program:\n",
    "<br>\n",
    "100,150,180\n",
    "<br>\n",
    "The output of the program should be:\n",
    "<br>\n",
    "18,22,24\n",
    "\n",
    "Answer:\n"
   ]
  },
  {
   "cell_type": "code",
   "execution_count": 1,
   "id": "f00e228b",
   "metadata": {},
   "outputs": [
    {
     "name": "stdout",
     "output_type": "stream",
     "text": [
      "Enter different values of D:  100,150,180\n",
      "The respective values of Q are:  \n",
      "18,22,24\n"
     ]
    }
   ],
   "source": [
    "def EOQ(C,D,H):\n",
    "    \n",
    "    \"\"\"\n",
    "    It is a function that calculates and prints the value of Q according to the given formula:\n",
    "    Q = Square root of [(2 * C * D)/H] \n",
    "    It takes thre arguments, out of which the value of first argument,c and\n",
    "    the third argument, H has been predefined respectively as 50 and 30.\n",
    "    You can give different values for the third argument, separated with a comma to get different values of Q.\n",
    "    It gives\n",
    "    \"\"\"\n",
    "    \n",
    "    import math\n",
    "    \n",
    "    D = D.split(\",\")\n",
    "\n",
    "    \n",
    "    Store_Room = []\n",
    "    for i in D:\n",
    "        Q = int(round(math.sqrt(2*C*float(i)/H)))\n",
    "        Store_Room.append(str(Q))\n",
    "    \n",
    "    print(\"The respective values of Q are:  \")\n",
    "    print(','.join(Store_Room))\n",
    "\n",
    "C = 50\n",
    "H = 30\n",
    "    \n",
    "D = input(\"Enter different values of D:  \")\n",
    "\n",
    " \n",
    "EOQ(C,D,H)"
   ]
  },
  {
   "cell_type": "markdown",
   "id": "ea61d22c",
   "metadata": {},
   "source": []
  },
  {
   "cell_type": "markdown",
   "id": "fbb99838",
   "metadata": {},
   "source": []
  },
  {
   "cell_type": "markdown",
   "id": "1d630cc2",
   "metadata": {},
   "source": [
    "### Question 2:\n",
    "Write a program which takes 2 digits, X,Y as input and generates a 2-dimensional array. The element value in the i-th row and j-th column of the array should be i*j.\n",
    "Note: i=0,1.., X-1; j=0,1,¡Y-1.\n",
    "Example\n",
    "Suppose the following inputs are given to the program:\n",
    "3,5\n",
    "Then, the output of the program should be:\n",
    "[[0, 0, 0, 0, 0], [0, 1, 2, 3, 4], [0, 2, 4, 6, 8]]\n",
    "\n",
    "Answer:\n"
   ]
  },
  {
   "cell_type": "code",
   "execution_count": 2,
   "id": "1df69a0c",
   "metadata": {},
   "outputs": [
    {
     "name": "stdout",
     "output_type": "stream",
     "text": [
      "Enter values for row and column number. (Ex.- 4,5): 7,5\n",
      "[[0, 0, 0, 0, 0], [0, 1, 2, 3, 4], [0, 2, 4, 6, 8], [0, 3, 6, 9, 12], [0, 4, 8, 12, 16], [0, 5, 10, 15, 20], [0, 6, 12, 18, 24]]\n"
     ]
    }
   ],
   "source": [
    "def TwoD_Array_generator():\n",
    "    user_input = input(\"Enter values for row and column number. (Ex.- 4,5): \")\n",
    "    rows, cols = user_input.split(\",\")\n",
    "    rows = int(rows)\n",
    "    cols = int(cols)\n",
    "\n",
    "    grid_list = []\n",
    "    for i in range(rows):\n",
    "        row = []\n",
    "        for j in range(cols):\n",
    "            row.append(i * j)\n",
    "        grid_list.append(row)\n",
    "    print(grid_list)\n",
    "\n",
    "TwoD_Array_generator()"
   ]
  },
  {
   "cell_type": "markdown",
   "id": "6fa00779",
   "metadata": {},
   "source": []
  },
  {
   "cell_type": "markdown",
   "id": "4497296e",
   "metadata": {},
   "source": []
  },
  {
   "cell_type": "markdown",
   "id": "050e103c",
   "metadata": {},
   "source": [
    "### Question 3:\n",
    "Write a program that accepts a comma separated sequence of words as input and prints the\n",
    "words in a comma-separated sequence after sorting them alphabetically.\n",
    "Suppose the following input is supplied to the program:\n",
    "without,hello,bag,world\n",
    "Then, the output should be:\n",
    "bag,hello,without,world\n",
    "\n",
    "Answer:\n"
   ]
  },
  {
   "cell_type": "code",
   "execution_count": 3,
   "id": "a52ecb11",
   "metadata": {},
   "outputs": [
    {
     "name": "stdout",
     "output_type": "stream",
     "text": [
      "Input words: aserg,dsgh,drth,rtf,awer,dfgh,drtywe,rdfsg\n"
     ]
    },
    {
     "data": {
      "text/plain": [
       "'aserg,awer,dfgh,drth,drtywe,dsgh,rdfsg,rtf'"
      ]
     },
     "execution_count": 3,
     "metadata": {},
     "output_type": "execute_result"
    }
   ],
   "source": [
    "def sorter():\n",
    "    user_input = input(\"Input words: \")\n",
    "    list_of_words = user_input.split(\",\")\n",
    "    list_of_words.sort()\n",
    "    return (',').join(list_of_words)\n",
    "\n",
    "sorter()"
   ]
  },
  {
   "cell_type": "markdown",
   "id": "a4752345",
   "metadata": {},
   "source": []
  },
  {
   "cell_type": "markdown",
   "id": "294a9f3e",
   "metadata": {},
   "source": []
  },
  {
   "cell_type": "markdown",
   "id": "fe7a0f67",
   "metadata": {},
   "source": [
    "### Question 4:\n",
    "Write a program that accepts a sequence of whitespace separated words as input and prints\n",
    "the words after removing all duplicate words and sorting them alphanumerically.\n",
    "Suppose the following input is supplied to the program:\n",
    "hello world and practice makes perfect and hello world again\n",
    "Then, the output should be:\n",
    "again and hello makes perfect practice world\n",
    "\n",
    "Answer:\n"
   ]
  },
  {
   "cell_type": "code",
   "execution_count": 4,
   "id": "1e0fb930",
   "metadata": {},
   "outputs": [
    {
     "name": "stdout",
     "output_type": "stream",
     "text": [
      "Input words: eag sdfg drtfghty uer tsdfgh ghrd awert rtdy\n",
      "awert drtfghty eag ghrd rtdy sdfg tsdfgh uer\n"
     ]
    }
   ],
   "source": [
    "user_input = input(\"Input words: \")\n",
    "list_of_words = user_input.split(\" \")\n",
    "sett = set(list_of_words)\n",
    "listt = list(sett)\n",
    "listt.sort()\n",
    "\n",
    "\n",
    "print((' ').join(listt))"
   ]
  },
  {
   "cell_type": "markdown",
   "id": "4c561338",
   "metadata": {},
   "source": []
  },
  {
   "cell_type": "markdown",
   "id": "08a8bc2f",
   "metadata": {},
   "source": []
  },
  {
   "cell_type": "markdown",
   "id": "6fc35f1a",
   "metadata": {},
   "source": [
    "### Question 5:\n",
    "Write a program that accepts a sentence and calculate the number of letters and digits.\n",
    "Suppose the following input is supplied to the program:\n",
    "hello world! 123\n",
    "Then, the output should be:\n",
    "LETTERS 10\n",
    "\n",
    "DIGITS 3\n",
    "\n",
    "Answer:\n"
   ]
  },
  {
   "cell_type": "code",
   "execution_count": 5,
   "id": "457b1ab3",
   "metadata": {},
   "outputs": [
    {
     "name": "stdout",
     "output_type": "stream",
     "text": [
      "Input sentence:  hello world! 123\n",
      "Number of letters in the given sentence is  10\n",
      "Number of digits in the given sentence is  3\n"
     ]
    }
   ],
   "source": [
    "user_input = input(\"Input sentence: \")\n",
    "letters = 0\n",
    "digits = 0\n",
    "\n",
    "\n",
    "for i in user_input:\n",
    "    \n",
    "    if i.isalpha():\n",
    "        letters += 1\n",
    "        \n",
    "    elif i.isdigit():\n",
    "        digits += 1\n",
    "        \n",
    "    else:\n",
    "        pass\n",
    "\n",
    "print(\"Number of letters in the given sentence is \", letters)\n",
    "print(\"Number of digits in the given sentence is \", digits)"
   ]
  },
  {
   "cell_type": "markdown",
   "id": "92a2c803",
   "metadata": {},
   "source": []
  },
  {
   "cell_type": "markdown",
   "id": "df95e9f1",
   "metadata": {},
   "source": []
  },
  {
   "cell_type": "markdown",
   "id": "bcc7f0b9",
   "metadata": {},
   "source": [
    "### Question 6:\n",
    "A website requires the users to input username and password to register. Write a program to\n",
    "check the validity of password input by users.\n",
    "Following are the criteria for checking the password:\n",
    "1. At least 1 letter between [a-z]\n",
    "2. At least 1 number between [0-9]\n",
    "1. At least 1 letter between [A-Z]\n",
    "3. At least 1 character from [$#@]\n",
    "4. Minimum length of transaction password: 6\n",
    "5. Maximum length of transaction password: 12\n",
    "Your program should accept a sequence of comma separated passwords and will check them\n",
    "according to the above criteria. Passwords that match the criteria are to be printed, each\n",
    "separated by a comma.\n",
    "Example\n",
    "If the following passwords are given as input to the program:\n",
    "ABd1234@1,a F1#,2w3E*,2We3345\n",
    "Then, the output of the program should be:\n",
    "ABd1234@1\n",
    "\n",
    "Answer:\n"
   ]
  },
  {
   "cell_type": "code",
   "execution_count": 6,
   "id": "9e767a7d",
   "metadata": {},
   "outputs": [
    {
     "name": "stdout",
     "output_type": "stream",
     "text": [
      "Enter your password: ABd1234@1,a F1#,2w3E*,2We3345\n",
      "ABd1234@1  is a valid password. You may proceed ahead.\n"
     ]
    }
   ],
   "source": [
    "user_input = input(\"Enter your password: \")\n",
    "\n",
    "List_Of_passwords = user_input.split(\",\")\n",
    "\n",
    "for i in List_Of_passwords:\n",
    "    if len(i) >=6 and len(i) <= 13:\n",
    "        if any(j.islower() for j in i):\n",
    "            if any(j.isupper() for j in i):\n",
    "                if any(j.isdigit() for j in i):\n",
    "                    if any(j in \"$,#,@\" for j in i):\n",
    "                        print(i, \" is a valid password. You may proceed ahead.\")"
   ]
  }
 ],
 "metadata": {
  "kernelspec": {
   "display_name": "Python 3 (ipykernel)",
   "language": "python",
   "name": "python3"
  },
  "language_info": {
   "codemirror_mode": {
    "name": "ipython",
    "version": 3
   },
   "file_extension": ".py",
   "mimetype": "text/x-python",
   "name": "python",
   "nbconvert_exporter": "python",
   "pygments_lexer": "ipython3",
   "version": "3.9.7"
  }
 },
 "nbformat": 4,
 "nbformat_minor": 5
}
