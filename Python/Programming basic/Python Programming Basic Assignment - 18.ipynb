{
 "cells": [
  {
   "cell_type": "markdown",
   "id": "0fdd5bc8",
   "metadata": {},
   "source": [
    "# Python Programming Basic Assignment - 18"
   ]
  },
  {
   "cell_type": "markdown",
   "id": "067b2f13",
   "metadata": {},
   "source": []
  },
  {
   "cell_type": "markdown",
   "id": "6f59ede7",
   "metadata": {},
   "source": []
  },
  {
   "cell_type": "markdown",
   "id": "6d20ef1f",
   "metadata": {},
   "source": [
    "### Question 1\n",
    "##### Create a function that takes a list of non-negative integers and strings and return a new list without the strings.\n",
    "\n",
    "Examples:\n",
    "\n",
    "filter_list([1, 2, \"a\", \"b\"]) ➞ [1, 2]\n",
    "<br>\n",
    "filter_list([1, \"a\", \"b\", 0, 15]) ➞ [1, 0, 15]\n",
    "<br>\n",
    "filter_list([1, 2, \"aasf\", \"1\", \"123\", 123]) ➞ [1, 2, 123]\n",
    "\n",
    "##### Answer:\n"
   ]
  },
  {
   "cell_type": "code",
   "execution_count": 1,
   "id": "530da2dd",
   "metadata": {},
   "outputs": [
    {
     "name": "stdout",
     "output_type": "stream",
     "text": [
      "Enter the list which you want to filter:   [1, 2, \"aasf\", \"1\", \"123\", 123]\n",
      "[1, 2, 123]\n",
      "Enter the list which you want to filter:   [1, 2, \"a\", \"b\"]\n",
      "[1, 2]\n",
      "Enter the list which you want to filter:   [1, \"a\", \"b\", 0, 15]\n",
      "[1, 0, 15]\n"
     ]
    }
   ],
   "source": [
    "def filter_list():\n",
    "    \n",
    "    user_input = eval(input(\"Enter the list which you want to filter:   \"))\n",
    "    \n",
    "    new_list = []\n",
    "    \n",
    "    if type(user_input) != list:\n",
    "        return \"Please input a list!\", filter_list\n",
    "    else:\n",
    "        for i in user_input:\n",
    "            if type(i) == str or  type(i) == int:\n",
    "                if type(i) == int:\n",
    "                    if i >= 0:\n",
    "                        new_list.append(i)\n",
    "                    else:\n",
    "                        return \"The list input by you cannot contain negative integers\"\n",
    "                else:\n",
    "                    new_list = new_list\n",
    "            else:\n",
    "                return \"The list input by you can contain only non-negative integers and strings\"\n",
    "    return new_list\n",
    "\n",
    "for i in range(3):\n",
    "    print(filter_list())"
   ]
  },
  {
   "cell_type": "markdown",
   "id": "07f1b298",
   "metadata": {},
   "source": []
  },
  {
   "cell_type": "markdown",
   "id": "d2f323bf",
   "metadata": {},
   "source": []
  },
  {
   "cell_type": "markdown",
   "id": "e92cc6d2",
   "metadata": {},
   "source": [
    "### Question 2\n",
    "##### The \"Reverser\" takes a string as input and returns that string in reverse order, with the opposite case.\n",
    "\n",
    "Examples\n",
    "\n",
    "reverse(\"Hello World\") ➞ \"DLROw OLLEh\"\n",
    "<br>\n",
    "reverse(\"ReVeRsE\") ➞ \"eSrEvEr\"\n",
    "<br>\n",
    "reverse(\"Radar\") ➞ \"RADAr\"\n",
    "\n",
    "##### Answer:\n"
   ]
  },
  {
   "cell_type": "code",
   "execution_count": 2,
   "id": "3b6b9241",
   "metadata": {},
   "outputs": [
    {
     "name": "stdout",
     "output_type": "stream",
     "text": [
      "Enter a string:     ReVeRsE\n"
     ]
    },
    {
     "data": {
      "text/plain": [
       "'eSrEvEr'"
      ]
     },
     "execution_count": 2,
     "metadata": {},
     "output_type": "execute_result"
    }
   ],
   "source": [
    "def reverse():\n",
    "    user_input = input(\"Enter a string:     \")\n",
    "    reversed_string = user_input[::-1]\n",
    "    swapped_string = reversed_string.swapcase()\n",
    "    \n",
    "    return swapped_string\n",
    "reverse()"
   ]
  },
  {
   "cell_type": "markdown",
   "id": "648fc10e",
   "metadata": {},
   "source": []
  },
  {
   "cell_type": "markdown",
   "id": "58b30c55",
   "metadata": {},
   "source": []
  },
  {
   "cell_type": "markdown",
   "id": "a1581280",
   "metadata": {},
   "source": [
    "### Question 3\n",
    "##### You can assign variables from lists like this:\n",
    "lst = [1, 2, 3, 4, 5, 6]\n",
    "<br>\n",
    "first = lst[0]\n",
    "<br>\n",
    "middle = lst[1:-1]\n",
    "<br>\n",
    "last = lst[-1]\n",
    "\n",
    "print(first) ➞ outputs 1\n",
    "<br>\n",
    "print(middle) ➞ outputs [2, 3, 4, 5]\n",
    "<br>\n",
    "print(last) ➞ outputs 6\n",
    "\n",
    "\n",
    "##### With Python 3, you can assign variables from lists in a much more succinct way. Create variables first, middle and last from the given list using destructuring assignment (check the Resources tab for some examples), where:\n",
    "\n",
    "first ➞ 1\n",
    "<br>\n",
    "middle ➞ [2, 3, 4, 5]\n",
    "<br>\n",
    "last ➞ 6\n",
    "\n",
    "##### Your task is to unpack the list writeyourcodehere into three variables, being first, middle, and last, with middle being everything in between the first and last element. Then print all three variables.\n",
    "\n",
    "##### Answer:\n"
   ]
  },
  {
   "cell_type": "code",
   "execution_count": 3,
   "id": "3c008b61",
   "metadata": {},
   "outputs": [
    {
     "name": "stdout",
     "output_type": "stream",
     "text": [
      "Enter a list:    [1, 2, 3, 4, 5, 6]\n",
      "\n",
      "first ➞ 1\n",
      "\n",
      "middle ➞ [2, 3, 4, 5]\n",
      "\n",
      "last ➞ 6\n"
     ]
    }
   ],
   "source": [
    "def unpacker():\n",
    "    lst = eval(input(\"Enter a list:    \"))\n",
    "    print()\n",
    "    first, *middle, last = lst\n",
    "    print(f'first ➞ {first}')\n",
    "    print()\n",
    "    print(f'middle ➞ {middle}')\n",
    "    print()\n",
    "    print(f'last ➞ {last}')\n",
    "    \n",
    "unpacker()"
   ]
  },
  {
   "cell_type": "markdown",
   "id": "a26e9d3b",
   "metadata": {},
   "source": []
  },
  {
   "cell_type": "markdown",
   "id": "edefd53e",
   "metadata": {},
   "source": []
  },
  {
   "cell_type": "markdown",
   "id": "9c273b8f",
   "metadata": {},
   "source": [
    "### Question 4\n",
    "##### Write a function that calculates the factorial of a number recursively.\n",
    "\n",
    "Examples:\n",
    "\n",
    "factorial(5) ➞ 120\n",
    "<br>\n",
    "factorial(3) ➞ 6\n",
    "<br>\n",
    "factorial(1) ➞ 1\n",
    "<br>\n",
    "factorial(0) ➞ 1\n",
    "\n",
    "##### Answer:\n"
   ]
  },
  {
   "cell_type": "code",
   "execution_count": 4,
   "id": "aaf184f8",
   "metadata": {},
   "outputs": [
    {
     "name": "stdout",
     "output_type": "stream",
     "text": [
      "Enter the number for which you want to find its factorial:   7\n",
      "5040\n",
      "Enter the number for which you want to find its factorial:   5\n",
      "120\n",
      "Enter the number for which you want to find its factorial:   0\n",
      "1\n",
      "Enter the number for which you want to find its factorial:   1\n",
      "1\n"
     ]
    }
   ],
   "source": [
    "def factorial(x):\n",
    "    \n",
    "    if x == 0 :\n",
    "        output = 1\n",
    "    else:\n",
    "        output = (factorial(x-1))*x\n",
    "        \n",
    "    return output\n",
    "\n",
    "for i in range(4):\n",
    "    x = int(input(\"Enter the number for which you want to find its factorial:   \"))\n",
    "    print(factorial(x))"
   ]
  },
  {
   "cell_type": "markdown",
   "id": "46edab48",
   "metadata": {},
   "source": []
  },
  {
   "cell_type": "markdown",
   "id": "53e2fd7b",
   "metadata": {},
   "source": []
  },
  {
   "cell_type": "markdown",
   "id": "250bc134",
   "metadata": {},
   "source": [
    "### Question 5\n",
    "##### Write a function that moves all elements of one type to the end of the list.\n",
    "\n",
    "Examples:\n",
    "\n",
    "move_to_end([1, 3, 2, 4, 4, 1], 1) ➞ [3, 2, 4, 4, 1, 1]\n",
    "<br>\n",
    " Move all the 1s to the end of the array.\n",
    " <br>\n",
    "move_to_end([7, 8, 9, 1, 2, 3, 4], 9) ➞ [7, 8, 1, 2, 3, 4, 9]\n",
    "<br>\n",
    "move_to_end([\"a\", \"a\", \"a\", \"b\"], \"a\") ➞ [\"b\", \"a\", \"a\", \"a\"]\n",
    "\n",
    "##### Answer:\n"
   ]
  },
  {
   "cell_type": "code",
   "execution_count": 5,
   "id": "fd6ca465",
   "metadata": {},
   "outputs": [
    {
     "name": "stdout",
     "output_type": "stream",
     "text": [
      "Enter the list:    [7, 8, 9, 1, 2, 3, 4]\n",
      "Enter the element:    9\n"
     ]
    },
    {
     "data": {
      "text/plain": [
       "[7, 8, 1, 2, 3, 4, 9]"
      ]
     },
     "execution_count": 5,
     "metadata": {},
     "output_type": "execute_result"
    }
   ],
   "source": [
    "def move_to_end(lst, element):\n",
    "    \n",
    "    occurence = lst.count(element)\n",
    "    \n",
    "    store_room =[]\n",
    "    for i in lst:\n",
    "        if i != element:\n",
    "            store_room.append(i)\n",
    "    for i in range(occurence):\n",
    "        store_room.append(element)\n",
    "    \n",
    "    return store_room\n",
    "            \n",
    "    \n",
    "lst = eval(input(\"Enter the list:    \"))\n",
    "element = eval(input(\"Enter the element:    \"))\n",
    "move_to_end(lst, element)"
   ]
  }
 ],
 "metadata": {
  "kernelspec": {
   "display_name": "Python 3 (ipykernel)",
   "language": "python",
   "name": "python3"
  },
  "language_info": {
   "codemirror_mode": {
    "name": "ipython",
    "version": 3
   },
   "file_extension": ".py",
   "mimetype": "text/x-python",
   "name": "python",
   "nbconvert_exporter": "python",
   "pygments_lexer": "ipython3",
   "version": "3.9.7"
  }
 },
 "nbformat": 4,
 "nbformat_minor": 5
}
