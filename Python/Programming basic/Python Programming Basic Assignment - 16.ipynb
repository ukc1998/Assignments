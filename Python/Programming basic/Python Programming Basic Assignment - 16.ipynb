{
 "cells": [
  {
   "cell_type": "markdown",
   "id": "8ac3a9ec",
   "metadata": {},
   "source": [
    "# Python Programming Basic Assignment - 16"
   ]
  },
  {
   "cell_type": "markdown",
   "id": "bcbe6708",
   "metadata": {},
   "source": []
  },
  {
   "cell_type": "markdown",
   "id": "0bf82ee0",
   "metadata": {},
   "source": []
  },
  {
   "cell_type": "markdown",
   "id": "265b2e80",
   "metadata": {},
   "source": [
    "### Question1. \n",
    "##### Write a function that stutters a word as if someone is struggling to read it. The first two letters are repeated twice with an ellipsis ... and space after each, and then the word is pronounced with a question mark ?.\n",
    "\n",
    "Examples\n",
    "\n",
    "stutter(\"incredible\") ➞ \"in... in... incredible?\"\n",
    "<br>\n",
    "stutter(\"enthusiastic\") ➞ \"en... en... enthusiastic?\"\n",
    "<br>\n",
    "stutter(\"outstanding\") ➞ \"ou... ou... outstanding?\"\n",
    "\n",
    "Hint :- Assume all input is in lower case and at least two characters long.\n",
    "\n",
    "### Answer:\n"
   ]
  },
  {
   "cell_type": "code",
   "execution_count": 1,
   "id": "6620e74e",
   "metadata": {},
   "outputs": [
    {
     "name": "stdout",
     "output_type": "stream",
     "text": [
      "Enter any word:   Bilingual\n",
      "Bi... Bi... Bilingual?\n"
     ]
    }
   ],
   "source": [
    "def stutterer():\n",
    "    user_input = input(\"Enter any word:   \")\n",
    "    output = (user_input[:2]+\"...\"+\" \")*2 + user_input+ \"?\"\n",
    "    print(output) \n",
    "stutterer()    "
   ]
  },
  {
   "cell_type": "markdown",
   "id": "db4e28ae",
   "metadata": {},
   "source": []
  },
  {
   "cell_type": "markdown",
   "id": "2dc2ac7c",
   "metadata": {},
   "source": []
  },
  {
   "cell_type": "markdown",
   "id": "1b628e10",
   "metadata": {},
   "source": [
    "### Question 2.\n",
    "##### Create a function that takes an angle in radians and returns the corresponding angle in degrees rounded to one decimal place.\n",
    "\n",
    "Examples\n",
    "\n",
    "radians_to_degrees(1) ➞ 57.3\n",
    "\n",
    "radians_to_degrees(20) ➞ 1145.9\n",
    "\n",
    "radians_to_degrees(50) ➞ 2864.8\n",
    "\n",
    "### Answer:\n"
   ]
  },
  {
   "cell_type": "code",
   "execution_count": 2,
   "id": "29b8b0d6",
   "metadata": {},
   "outputs": [
    {
     "name": "stdout",
     "output_type": "stream",
     "text": [
      "Enter the angle in radian:   10\n"
     ]
    },
    {
     "data": {
      "text/plain": [
       "573.0"
      ]
     },
     "execution_count": 2,
     "metadata": {},
     "output_type": "execute_result"
    }
   ],
   "source": [
    "def radTOdegree():\n",
    "    import math\n",
    "    user_input = int(input(\"Enter the angle in radian:   \"))\n",
    "    output=round((user_input*180/math.pi), ndigits=1)\n",
    "    return output\n",
    "radTOdegree()   "
   ]
  },
  {
   "cell_type": "markdown",
   "id": "f5d76df4",
   "metadata": {},
   "source": []
  },
  {
   "cell_type": "markdown",
   "id": "5724ff76",
   "metadata": {},
   "source": []
  },
  {
   "cell_type": "markdown",
   "id": "00c520c3",
   "metadata": {},
   "source": [
    "### Question 3. \n",
    "##### In this challenge, establish if a given integer num is a Curzon number. If 1 plus 2 elevated to num is exactly divisible by 1 plus 2 multiplied by num, then num is a Curzon number. Given a non-negative integer num, implement a function that returns True if num is a Curzon number, or False otherwise.\n",
    "\n",
    "Examples\n",
    "\n",
    "is_curzon(5) ➞ True\n",
    "<br>\n",
    " 2 ** 5 + 1 = 33\n",
    " <br>\n",
    " 2 * 5 + 1 = 11\n",
    " <br>\n",
    " 33 is a multiple of 11\n",
    "\n",
    "is_curzon(10) ➞ False\n",
    "<br>\n",
    " 2 ** 10 + 1 = 1025\n",
    " <br>\n",
    " 2 * 10 + 1 = 21\n",
    " <br>\n",
    " 1025 is not a multiple of 21\n",
    " \n",
    "is_curzon(14) ➞ True\n",
    "<br>\n",
    " 2 ** 14 + 1 = 16385\n",
    " <br>\n",
    " 2 * 14 + 1 = 29\n",
    " <br>\n",
    " 16385 is a multiple of 29\n",
    "\n",
    "### Answer:\n"
   ]
  },
  {
   "cell_type": "code",
   "execution_count": 3,
   "id": "2b05827b",
   "metadata": {},
   "outputs": [
    {
     "name": "stdout",
     "output_type": "stream",
     "text": [
      "Enter the number you want to check: 14\n",
      "True---->14 is a curzon number\n"
     ]
    }
   ],
   "source": [
    "def curzon_checker():\n",
    "    user_input = int(input(\"Enter the number you want to check: \"))\n",
    "    store1 = (2**user_input) + 1\n",
    "    store2 = (2*user_input) + 1\n",
    "    if store1%store2 == 0:\n",
    "        print(f\"True---->{user_input} is a curzon number\")\n",
    "    else:\n",
    "        print(f\"False--->{user_input} is not a curzon number\")\n",
    "curzon_checker()"
   ]
  },
  {
   "cell_type": "markdown",
   "id": "aa1bc303",
   "metadata": {},
   "source": []
  },
  {
   "cell_type": "markdown",
   "id": "2ca65b5f",
   "metadata": {},
   "source": [
    "#"
   ]
  },
  {
   "cell_type": "markdown",
   "id": "b14e2f5b",
   "metadata": {},
   "source": [
    "### Question 4.Given the side length x find the area of a hexagon.\n",
    "\n",
    "Examples\n",
    "\n",
    "area_of_hexagon(1) ➞ 2.6\n",
    "<br>\n",
    "area_of_hexagon(2) ➞ 10.4\n",
    "<br>\n",
    "area_of_hexagon(3) ➞ 23.4\n",
    "\n",
    "### Answer:\n"
   ]
  },
  {
   "cell_type": "code",
   "execution_count": 4,
   "id": "2dade8bf",
   "metadata": {},
   "outputs": [
    {
     "name": "stdout",
     "output_type": "stream",
     "text": [
      "Enter the side length of the hexagon:   3\n"
     ]
    },
    {
     "data": {
      "text/plain": [
       "23.4"
      ]
     },
     "execution_count": 4,
     "metadata": {},
     "output_type": "execute_result"
    }
   ],
   "source": [
    "def hexarea():\n",
    "    import math\n",
    "    user_input = int(input(\"Enter the side length of the hexagon:   \"))\n",
    "    output = round(6*(math.sqrt(3)/4)*(user_input**2), ndigits=1)\n",
    "    return output\n",
    "\n",
    "hexarea()"
   ]
  },
  {
   "cell_type": "markdown",
   "id": "1f85acef",
   "metadata": {},
   "source": []
  },
  {
   "cell_type": "markdown",
   "id": "9e9f4c7d",
   "metadata": {},
   "source": []
  },
  {
   "cell_type": "markdown",
   "id": "336453d7",
   "metadata": {},
   "source": [
    "### Question 5. \n",
    "##### Create a function that returns a base-2 (binary) representation of a base-10 (decimal) string number. To convert is simple: ((2) means base-2 and (10) means base-10)\n",
    "##### 010101001(2) = 1 + 8 + 32 + 128.\n",
    "##### Going from right to left, the value of the most right bit is 1, now from that every bit to the left will be x2 the value, value of an 8 bit binary numbers are (256, 128, 64, 32, 16, 8, 4, 2, 1).\n",
    "\n",
    "Examples\n",
    "\n",
    "binary(1) ➞ \"1\"\n",
    "<br>\n",
    " 1*1 = 1\n",
    " \n",
    "binary(5) ➞ \"101\"\n",
    "<br>\n",
    " 1*1 + 1*4 = 5\n",
    " \n",
    "binary(10) ➞ \"1010\"\n",
    "<br>\n",
    " 1*2 + 1*8 = 10\n",
    " \n",
    "### Answer:\n"
   ]
  },
  {
   "cell_type": "code",
   "execution_count": 5,
   "id": "7ea956e1",
   "metadata": {},
   "outputs": [
    {
     "name": "stdout",
     "output_type": "stream",
     "text": [
      "Enter a Number: 10\n",
      "Binary of 10 ➞ 1010\n"
     ]
    }
   ],
   "source": [
    "def getBinary():\n",
    "    user_input = int(input(\"Enter a Number: \"))\n",
    "    output = bin(user_input).replace('0b','') \n",
    "    print(f'Binary of {user_input} ➞ {output}')\n",
    "\n",
    "\n",
    "getBinary()"
   ]
  }
 ],
 "metadata": {
  "kernelspec": {
   "display_name": "Python 3 (ipykernel)",
   "language": "python",
   "name": "python3"
  },
  "language_info": {
   "codemirror_mode": {
    "name": "ipython",
    "version": 3
   },
   "file_extension": ".py",
   "mimetype": "text/x-python",
   "name": "python",
   "nbconvert_exporter": "python",
   "pygments_lexer": "ipython3",
   "version": "3.9.7"
  }
 },
 "nbformat": 4,
 "nbformat_minor": 5
}
